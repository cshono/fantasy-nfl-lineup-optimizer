{
 "metadata": {
  "language_info": {
   "codemirror_mode": {
    "name": "ipython",
    "version": 3
   },
   "file_extension": ".py",
   "mimetype": "text/x-python",
   "name": "python",
   "nbconvert_exporter": "python",
   "pygments_lexer": "ipython3",
   "version": "3.8.3-final"
  },
  "orig_nbformat": 2,
  "kernelspec": {
   "name": "Python 3.8.3 64-bit ('base': conda)",
   "display_name": "Python 3.8.3 64-bit ('base': conda)",
   "metadata": {
    "interpreter": {
     "hash": "a4841eeb86f7d837670793275e227623a560700939cb6e34c015832bd2c85e9e"
    }
   }
  }
 },
 "nbformat": 4,
 "nbformat_minor": 2,
 "cells": [
  {
   "cell_type": "code",
   "execution_count": 23,
   "metadata": {},
   "outputs": [],
   "source": [
    "# Data handling\n",
    "import pandas as pd\n",
    "import numpy as np\n",
    "import matplotlib.pyplot as plt"
   ]
  },
  {
   "cell_type": "code",
   "execution_count": 24,
   "metadata": {},
   "outputs": [],
   "source": [
    "# Bokeh libraries\n",
    "from bokeh.io import output_file, output_notebook\n",
    "from bokeh.plotting import figure, show\n",
    "from bokeh.models import ColumnDataSource\n",
    "from bokeh.layouts import row, column, gridplot\n",
    "from bokeh.models.widgets import Tabs, Panel\n",
    "from bokeh.models import ColumnDataSource, HoverTool, CategoricalColorMapper, LinearColorMapper, ColorBar\n",
    "from bokeh.palettes import Spectral5, Magma, Inferno, Plasma, Viridis, Cividis \n",
    "from bokeh.transform import factor_cmap, transform"
   ]
  },
  {
   "cell_type": "code",
   "execution_count": 25,
   "metadata": {},
   "outputs": [
    {
     "output_type": "execute_result",
     "data": {
      "text/plain": [
       "           Name Team Pos  Wk  Opp  Year Status  TeamScore  OppScore  PassYds  \\\n",
       "0   Aaron Jones   GB  RB   2  DET  2020      0         42        21        0   \n",
       "1  Dak Prescott  DAL  QB   2  ATL  2020      0         40        39      450   \n",
       "2  Alvin Kamara   NO  RB   2   LV  2020      0         24        34        0   \n",
       "3    Cam Newton   NE  QB   2  SEA  2020      0         30        35      397   \n",
       "4    Josh Allen  BUF  QB   2  MIA  2020      0         31        28      415   \n",
       "\n",
       "   ...  PassingAtt  Cmp  RushingAtt  RushingYds  RushingTD  Rec  Tgs  \\\n",
       "0  ...           0    0          18         168          2    4    8   \n",
       "1  ...          47   34           5          18          3    0    0   \n",
       "2  ...           0    0          13          79          2    9    9   \n",
       "3  ...          44   30          11          47          2    0    0   \n",
       "4  ...          35   24           4          19          0    0    0   \n",
       "\n",
       "   ReceivingYds  ReceivingTD  FL  \n",
       "0            68            1   0  \n",
       "1             0            0   1  \n",
       "2            95            0   0  \n",
       "3             0            0   0  \n",
       "4             0            0   0  \n",
       "\n",
       "[5 rows x 22 columns]"
      ],
      "text/html": "<div>\n<style scoped>\n    .dataframe tbody tr th:only-of-type {\n        vertical-align: middle;\n    }\n\n    .dataframe tbody tr th {\n        vertical-align: top;\n    }\n\n    .dataframe thead th {\n        text-align: right;\n    }\n</style>\n<table border=\"1\" class=\"dataframe\">\n  <thead>\n    <tr style=\"text-align: right;\">\n      <th></th>\n      <th>Name</th>\n      <th>Team</th>\n      <th>Pos</th>\n      <th>Wk</th>\n      <th>Opp</th>\n      <th>Year</th>\n      <th>Status</th>\n      <th>TeamScore</th>\n      <th>OppScore</th>\n      <th>PassYds</th>\n      <th>...</th>\n      <th>PassingAtt</th>\n      <th>Cmp</th>\n      <th>RushingAtt</th>\n      <th>RushingYds</th>\n      <th>RushingTD</th>\n      <th>Rec</th>\n      <th>Tgs</th>\n      <th>ReceivingYds</th>\n      <th>ReceivingTD</th>\n      <th>FL</th>\n    </tr>\n  </thead>\n  <tbody>\n    <tr>\n      <th>0</th>\n      <td>Aaron Jones</td>\n      <td>GB</td>\n      <td>RB</td>\n      <td>2</td>\n      <td>DET</td>\n      <td>2020</td>\n      <td>0</td>\n      <td>42</td>\n      <td>21</td>\n      <td>0</td>\n      <td>...</td>\n      <td>0</td>\n      <td>0</td>\n      <td>18</td>\n      <td>168</td>\n      <td>2</td>\n      <td>4</td>\n      <td>8</td>\n      <td>68</td>\n      <td>1</td>\n      <td>0</td>\n    </tr>\n    <tr>\n      <th>1</th>\n      <td>Dak Prescott</td>\n      <td>DAL</td>\n      <td>QB</td>\n      <td>2</td>\n      <td>ATL</td>\n      <td>2020</td>\n      <td>0</td>\n      <td>40</td>\n      <td>39</td>\n      <td>450</td>\n      <td>...</td>\n      <td>47</td>\n      <td>34</td>\n      <td>5</td>\n      <td>18</td>\n      <td>3</td>\n      <td>0</td>\n      <td>0</td>\n      <td>0</td>\n      <td>0</td>\n      <td>1</td>\n    </tr>\n    <tr>\n      <th>2</th>\n      <td>Alvin Kamara</td>\n      <td>NO</td>\n      <td>RB</td>\n      <td>2</td>\n      <td>LV</td>\n      <td>2020</td>\n      <td>0</td>\n      <td>24</td>\n      <td>34</td>\n      <td>0</td>\n      <td>...</td>\n      <td>0</td>\n      <td>0</td>\n      <td>13</td>\n      <td>79</td>\n      <td>2</td>\n      <td>9</td>\n      <td>9</td>\n      <td>95</td>\n      <td>0</td>\n      <td>0</td>\n    </tr>\n    <tr>\n      <th>3</th>\n      <td>Cam Newton</td>\n      <td>NE</td>\n      <td>QB</td>\n      <td>2</td>\n      <td>SEA</td>\n      <td>2020</td>\n      <td>0</td>\n      <td>30</td>\n      <td>35</td>\n      <td>397</td>\n      <td>...</td>\n      <td>44</td>\n      <td>30</td>\n      <td>11</td>\n      <td>47</td>\n      <td>2</td>\n      <td>0</td>\n      <td>0</td>\n      <td>0</td>\n      <td>0</td>\n      <td>0</td>\n    </tr>\n    <tr>\n      <th>4</th>\n      <td>Josh Allen</td>\n      <td>BUF</td>\n      <td>QB</td>\n      <td>2</td>\n      <td>MIA</td>\n      <td>2020</td>\n      <td>0</td>\n      <td>31</td>\n      <td>28</td>\n      <td>415</td>\n      <td>...</td>\n      <td>35</td>\n      <td>24</td>\n      <td>4</td>\n      <td>19</td>\n      <td>0</td>\n      <td>0</td>\n      <td>0</td>\n      <td>0</td>\n      <td>0</td>\n      <td>0</td>\n    </tr>\n  </tbody>\n</table>\n<p>5 rows × 22 columns</p>\n</div>"
     },
     "metadata": {},
     "execution_count": 25
    }
   ],
   "source": [
    "# Reading data\n",
    "df = pd.read_csv('C:/Users/isabe/Documents/player_weekly_data.csv')\n",
    "df.head()"
   ]
  },
  {
   "cell_type": "code",
   "execution_count": 26,
   "metadata": {},
   "outputs": [],
   "source": [
    "# Removing NaN \n",
    "df = df.dropna()"
   ]
  },
  {
   "cell_type": "code",
   "execution_count": 27,
   "metadata": {},
   "outputs": [],
   "source": [
    "# Removing K and DST positions\n",
    "remove_pos = df['Pos'] != 'K'\n",
    "remove_pos = df['Pos'] != 'DST'\n",
    "df = df[remove_pos]"
   ]
  },
  {
   "cell_type": "code",
   "execution_count": 28,
   "metadata": {},
   "outputs": [
    {
     "output_type": "execute_result",
     "data": {
      "text/plain": [
       "           Wk    Year    TeamScore     OppScore      PassYds    PassingTD  \\\n",
       "count  1209.0  1209.0  1209.000000  1209.000000  1209.000000  1209.000000   \n",
       "mean      2.0  2020.0    26.683209    26.646816     7.248966     0.047974   \n",
       "std       0.0     0.0     8.448895     8.498159    45.189301     0.356140   \n",
       "min       2.0  2020.0    11.000000    11.000000     0.000000     0.000000   \n",
       "25%       2.0  2020.0    20.000000    19.000000     0.000000     0.000000   \n",
       "50%       2.0  2020.0    30.000000    28.000000     0.000000     0.000000   \n",
       "75%       2.0  2020.0    33.000000    33.000000     0.000000     0.000000   \n",
       "max       2.0  2020.0    42.000000    42.000000   450.000000     5.000000   \n",
       "\n",
       "               Int   PassingAtt          Cmp   RushingAtt   RushingYds  \\\n",
       "count  1209.000000  1209.000000  1209.000000  1209.000000  1209.000000   \n",
       "mean      0.020678     0.948718     0.628619     0.739454     3.427626   \n",
       "std       0.142364     5.862583     3.898150     3.009495    14.656156   \n",
       "min       0.000000     0.000000     0.000000     0.000000    -5.000000   \n",
       "25%       0.000000     0.000000     0.000000     0.000000     0.000000   \n",
       "50%       0.000000     0.000000     0.000000     0.000000     0.000000   \n",
       "75%       0.000000     0.000000     0.000000     0.000000     0.000000   \n",
       "max       1.000000    61.000000    37.000000    27.000000   168.000000   \n",
       "\n",
       "         RushingTD          Rec          Tgs  ReceivingYds  ReceivingTD  \\\n",
       "count  1209.000000  1209.000000  1209.000000   1209.000000  1209.000000   \n",
       "mean      0.030604     0.627792     0.911497      7.245658     0.047974   \n",
       "std       0.215054     1.592227     2.245218     20.277341     0.235889   \n",
       "min       0.000000     0.000000     0.000000     -6.000000     0.000000   \n",
       "25%       0.000000     0.000000     0.000000      0.000000     0.000000   \n",
       "50%       0.000000     0.000000     0.000000      0.000000     0.000000   \n",
       "75%       0.000000     0.000000     0.000000      0.000000     0.000000   \n",
       "max       3.000000    12.000000    16.000000    179.000000     3.000000   \n",
       "\n",
       "                FL  \n",
       "count  1209.000000  \n",
       "mean      0.025641  \n",
       "std       0.177839  \n",
       "min       0.000000  \n",
       "25%       0.000000  \n",
       "50%       0.000000  \n",
       "75%       0.000000  \n",
       "max       2.000000  "
      ],
      "text/html": "<div>\n<style scoped>\n    .dataframe tbody tr th:only-of-type {\n        vertical-align: middle;\n    }\n\n    .dataframe tbody tr th {\n        vertical-align: top;\n    }\n\n    .dataframe thead th {\n        text-align: right;\n    }\n</style>\n<table border=\"1\" class=\"dataframe\">\n  <thead>\n    <tr style=\"text-align: right;\">\n      <th></th>\n      <th>Wk</th>\n      <th>Year</th>\n      <th>TeamScore</th>\n      <th>OppScore</th>\n      <th>PassYds</th>\n      <th>PassingTD</th>\n      <th>Int</th>\n      <th>PassingAtt</th>\n      <th>Cmp</th>\n      <th>RushingAtt</th>\n      <th>RushingYds</th>\n      <th>RushingTD</th>\n      <th>Rec</th>\n      <th>Tgs</th>\n      <th>ReceivingYds</th>\n      <th>ReceivingTD</th>\n      <th>FL</th>\n    </tr>\n  </thead>\n  <tbody>\n    <tr>\n      <th>count</th>\n      <td>1209.0</td>\n      <td>1209.0</td>\n      <td>1209.000000</td>\n      <td>1209.000000</td>\n      <td>1209.000000</td>\n      <td>1209.000000</td>\n      <td>1209.000000</td>\n      <td>1209.000000</td>\n      <td>1209.000000</td>\n      <td>1209.000000</td>\n      <td>1209.000000</td>\n      <td>1209.000000</td>\n      <td>1209.000000</td>\n      <td>1209.000000</td>\n      <td>1209.000000</td>\n      <td>1209.000000</td>\n      <td>1209.000000</td>\n    </tr>\n    <tr>\n      <th>mean</th>\n      <td>2.0</td>\n      <td>2020.0</td>\n      <td>26.683209</td>\n      <td>26.646816</td>\n      <td>7.248966</td>\n      <td>0.047974</td>\n      <td>0.020678</td>\n      <td>0.948718</td>\n      <td>0.628619</td>\n      <td>0.739454</td>\n      <td>3.427626</td>\n      <td>0.030604</td>\n      <td>0.627792</td>\n      <td>0.911497</td>\n      <td>7.245658</td>\n      <td>0.047974</td>\n      <td>0.025641</td>\n    </tr>\n    <tr>\n      <th>std</th>\n      <td>0.0</td>\n      <td>0.0</td>\n      <td>8.448895</td>\n      <td>8.498159</td>\n      <td>45.189301</td>\n      <td>0.356140</td>\n      <td>0.142364</td>\n      <td>5.862583</td>\n      <td>3.898150</td>\n      <td>3.009495</td>\n      <td>14.656156</td>\n      <td>0.215054</td>\n      <td>1.592227</td>\n      <td>2.245218</td>\n      <td>20.277341</td>\n      <td>0.235889</td>\n      <td>0.177839</td>\n    </tr>\n    <tr>\n      <th>min</th>\n      <td>2.0</td>\n      <td>2020.0</td>\n      <td>11.000000</td>\n      <td>11.000000</td>\n      <td>0.000000</td>\n      <td>0.000000</td>\n      <td>0.000000</td>\n      <td>0.000000</td>\n      <td>0.000000</td>\n      <td>0.000000</td>\n      <td>-5.000000</td>\n      <td>0.000000</td>\n      <td>0.000000</td>\n      <td>0.000000</td>\n      <td>-6.000000</td>\n      <td>0.000000</td>\n      <td>0.000000</td>\n    </tr>\n    <tr>\n      <th>25%</th>\n      <td>2.0</td>\n      <td>2020.0</td>\n      <td>20.000000</td>\n      <td>19.000000</td>\n      <td>0.000000</td>\n      <td>0.000000</td>\n      <td>0.000000</td>\n      <td>0.000000</td>\n      <td>0.000000</td>\n      <td>0.000000</td>\n      <td>0.000000</td>\n      <td>0.000000</td>\n      <td>0.000000</td>\n      <td>0.000000</td>\n      <td>0.000000</td>\n      <td>0.000000</td>\n      <td>0.000000</td>\n    </tr>\n    <tr>\n      <th>50%</th>\n      <td>2.0</td>\n      <td>2020.0</td>\n      <td>30.000000</td>\n      <td>28.000000</td>\n      <td>0.000000</td>\n      <td>0.000000</td>\n      <td>0.000000</td>\n      <td>0.000000</td>\n      <td>0.000000</td>\n      <td>0.000000</td>\n      <td>0.000000</td>\n      <td>0.000000</td>\n      <td>0.000000</td>\n      <td>0.000000</td>\n      <td>0.000000</td>\n      <td>0.000000</td>\n      <td>0.000000</td>\n    </tr>\n    <tr>\n      <th>75%</th>\n      <td>2.0</td>\n      <td>2020.0</td>\n      <td>33.000000</td>\n      <td>33.000000</td>\n      <td>0.000000</td>\n      <td>0.000000</td>\n      <td>0.000000</td>\n      <td>0.000000</td>\n      <td>0.000000</td>\n      <td>0.000000</td>\n      <td>0.000000</td>\n      <td>0.000000</td>\n      <td>0.000000</td>\n      <td>0.000000</td>\n      <td>0.000000</td>\n      <td>0.000000</td>\n      <td>0.000000</td>\n    </tr>\n    <tr>\n      <th>max</th>\n      <td>2.0</td>\n      <td>2020.0</td>\n      <td>42.000000</td>\n      <td>42.000000</td>\n      <td>450.000000</td>\n      <td>5.000000</td>\n      <td>1.000000</td>\n      <td>61.000000</td>\n      <td>37.000000</td>\n      <td>27.000000</td>\n      <td>168.000000</td>\n      <td>3.000000</td>\n      <td>12.000000</td>\n      <td>16.000000</td>\n      <td>179.000000</td>\n      <td>3.000000</td>\n      <td>2.000000</td>\n    </tr>\n  </tbody>\n</table>\n</div>"
     },
     "metadata": {},
     "execution_count": 28
    }
   ],
   "source": [
    "df.describe()"
   ]
  },
  {
   "cell_type": "code",
   "execution_count": 30,
   "metadata": {},
   "outputs": [
    {
     "output_type": "execute_result",
     "data": {
      "text/plain": [
       "                    PassingTD\n",
       "Name                         \n",
       "Russell Wilson              5\n",
       "Josh Allen                  4\n",
       "Ryan Tannehill              4\n",
       "Matt Ryan                   4\n",
       "Gardner Minshew II          3"
      ],
      "text/html": "<div>\n<style scoped>\n    .dataframe tbody tr th:only-of-type {\n        vertical-align: middle;\n    }\n\n    .dataframe tbody tr th {\n        vertical-align: top;\n    }\n\n    .dataframe thead th {\n        text-align: right;\n    }\n</style>\n<table border=\"1\" class=\"dataframe\">\n  <thead>\n    <tr style=\"text-align: right;\">\n      <th></th>\n      <th>PassingTD</th>\n    </tr>\n    <tr>\n      <th>Name</th>\n      <th></th>\n    </tr>\n  </thead>\n  <tbody>\n    <tr>\n      <th>Russell Wilson</th>\n      <td>5</td>\n    </tr>\n    <tr>\n      <th>Josh Allen</th>\n      <td>4</td>\n    </tr>\n    <tr>\n      <th>Ryan Tannehill</th>\n      <td>4</td>\n    </tr>\n    <tr>\n      <th>Matt Ryan</th>\n      <td>4</td>\n    </tr>\n    <tr>\n      <th>Gardner Minshew II</th>\n      <td>3</td>\n    </tr>\n  </tbody>\n</table>\n</div>"
     },
     "metadata": {},
     "execution_count": 30
    }
   ],
   "source": [
    "# Top 5 Players with the most Passing TD (all weeks combined)\n",
    "top_5_assists_overall = df.groupby('Name')[['PassingTD']].sum()\n",
    "top_5_assists_overall = top_5_assists_overall.sort_values(by='PassingTD', ascending=False).head(5)\n",
    "top_5_assists_overall"
   ]
  },
  {
   "cell_type": "code",
   "execution_count": 31,
   "metadata": {},
   "outputs": [
    {
     "output_type": "execute_result",
     "data": {
      "text/plain": [
       "                     Int\n",
       "Name                    \n",
       "Nicholas Morrow        1\n",
       "William Jackson III    1\n",
       "Pierre Desir           1\n",
       "Deon Bush              1\n",
       "Julian Love            1"
      ],
      "text/html": "<div>\n<style scoped>\n    .dataframe tbody tr th:only-of-type {\n        vertical-align: middle;\n    }\n\n    .dataframe tbody tr th {\n        vertical-align: top;\n    }\n\n    .dataframe thead th {\n        text-align: right;\n    }\n</style>\n<table border=\"1\" class=\"dataframe\">\n  <thead>\n    <tr style=\"text-align: right;\">\n      <th></th>\n      <th>Int</th>\n    </tr>\n    <tr>\n      <th>Name</th>\n      <th></th>\n    </tr>\n  </thead>\n  <tbody>\n    <tr>\n      <th>Nicholas Morrow</th>\n      <td>1</td>\n    </tr>\n    <tr>\n      <th>William Jackson III</th>\n      <td>1</td>\n    </tr>\n    <tr>\n      <th>Pierre Desir</th>\n      <td>1</td>\n    </tr>\n    <tr>\n      <th>Deon Bush</th>\n      <td>1</td>\n    </tr>\n    <tr>\n      <th>Julian Love</th>\n      <td>1</td>\n    </tr>\n  </tbody>\n</table>\n</div>"
     },
     "metadata": {},
     "execution_count": 31
    }
   ],
   "source": [
    "# Top 5 Players With Most Interceptions (all weeks combined)\n",
    "top_5_interceptions = df.groupby('Name')[['Int']].sum()\n",
    "top_5_interceptions = top_5_interceptions.sort_values(by='Int', ascending=False).head(5)\n",
    "top_5_interceptions"
   ]
  },
  {
   "cell_type": "code",
   "execution_count": 32,
   "metadata": {},
   "outputs": [
    {
     "output_type": "execute_result",
     "data": {
      "text/plain": [
       "                 FL\n",
       "Name               \n",
       "Joe Burrow        2\n",
       "Ezekiel Elliott   2\n",
       "Nick Mullens      2\n",
       "Derek Carr        2\n",
       "Dak Prescott      1"
      ],
      "text/html": "<div>\n<style scoped>\n    .dataframe tbody tr th:only-of-type {\n        vertical-align: middle;\n    }\n\n    .dataframe tbody tr th {\n        vertical-align: top;\n    }\n\n    .dataframe thead th {\n        text-align: right;\n    }\n</style>\n<table border=\"1\" class=\"dataframe\">\n  <thead>\n    <tr style=\"text-align: right;\">\n      <th></th>\n      <th>FL</th>\n    </tr>\n    <tr>\n      <th>Name</th>\n      <th></th>\n    </tr>\n  </thead>\n  <tbody>\n    <tr>\n      <th>Joe Burrow</th>\n      <td>2</td>\n    </tr>\n    <tr>\n      <th>Ezekiel Elliott</th>\n      <td>2</td>\n    </tr>\n    <tr>\n      <th>Nick Mullens</th>\n      <td>2</td>\n    </tr>\n    <tr>\n      <th>Derek Carr</th>\n      <td>2</td>\n    </tr>\n    <tr>\n      <th>Dak Prescott</th>\n      <td>1</td>\n    </tr>\n  </tbody>\n</table>\n</div>"
     },
     "metadata": {},
     "execution_count": 32
    }
   ],
   "source": [
    "# Top 5 Players With Most Fumbles (all weeks combined)\n",
    "top_5_fumbles = df.groupby('Name')[['FL']].sum()\n",
    "top_5_fumbles = top_5_fumbles.sort_values(by='FL', ascending=False).head(5)\n",
    "top_5_fumbles"
   ]
  },
  {
   "cell_type": "code",
   "execution_count": 33,
   "metadata": {},
   "outputs": [
    {
     "output_type": "execute_result",
     "data": {
      "text/plain": [
       "Team\n",
       "CIN    37\n",
       "DAL    34\n",
       "CAR    33\n",
       "MIA    31\n",
       "NE     30\n",
       "JAX    30\n",
       "PIT    29\n",
       "LV     28\n",
       "KC     27\n",
       "ARI    26\n",
       "NO     26\n",
       "PHI    26\n",
       "NYG    25\n",
       "HOU    25\n",
       "ATL    24\n",
       "BUF    24\n",
       "TB     23\n",
       "LAC    22\n",
       "SF     22\n",
       "SEA    21\n",
       "NYJ    21\n",
       "DET    20\n",
       "LAR    20\n",
       "DEN    19\n",
       "IND    19\n",
       "WAS    19\n",
       "GB     18\n",
       "CHI    18\n",
       "TEN    18\n",
       "BAL    18\n",
       "CLE    16\n",
       "MIN    11\n",
       "Name: Cmp, dtype: int64"
      ]
     },
     "metadata": {},
     "execution_count": 33
    }
   ],
   "source": [
    "# Teams ith the most pass completion \n",
    "teams_completion = df.groupby('Team').Cmp.sum()\n",
    "teams_completion = teams_completion.sort_values(ascending=False)\n",
    "teams_completion"
   ]
  },
  {
   "cell_type": "code",
   "execution_count": 34,
   "metadata": {},
   "outputs": [
    {
     "output_type": "execute_result",
     "data": {
      "text/plain": [
       "       Wk    Year  TeamScore  OppScore    PassYds  PassingTD       Int  \\\n",
       "Team                                                                     \n",
       "ARI   2.0  2020.0       30.0      15.0   7.333333   0.025641  0.000000   \n",
       "ATL   2.0  2020.0       39.0      40.0   7.184211   0.105263  0.000000   \n",
       "BAL   2.0  2020.0       33.0      16.0   5.368421   0.026316  0.026316   \n",
       "BUF   2.0  2020.0       31.0      28.0  10.921053   0.105263  0.000000   \n",
       "CAR   2.0  2020.0       17.0      31.0   9.657895   0.000000  0.026316   \n",
       "CHI   2.0  2020.0       17.0      13.0   5.000000   0.052632  0.026316   \n",
       "CIN   2.0  2020.0       30.0      35.0   8.540541   0.081081  0.027027   \n",
       "CLE   2.0  2020.0       35.0      30.0   5.918919   0.054054  0.000000   \n",
       "DAL   2.0  2020.0       40.0      39.0  11.842105   0.026316  0.000000   \n",
       "DEN   2.0  2020.0       21.0      26.0   7.076923   0.051282  0.025641   \n",
       "DET   2.0  2020.0       21.0      42.0   6.421053   0.052632  0.000000   \n",
       "GB    2.0  2020.0       42.0      21.0   6.315789   0.052632  0.026316   \n",
       "HOU   2.0  2020.0       16.0      33.0   7.236842   0.026316  0.000000   \n",
       "IND   2.0  2020.0       28.0      11.0   5.631579   0.026316  0.078947   \n",
       "JAX   2.0  2020.0       30.0      33.0   8.921053   0.078947  0.000000   \n",
       "KC    2.0  2020.0       23.0      20.0   8.388889   0.055556  0.027778   \n",
       "LAC   2.0  2020.0       20.0      23.0   8.184211   0.026316  0.000000   \n",
       "LAR   2.0  2020.0       37.0      19.0   7.026316   0.078947  0.052632   \n",
       "LV    2.0  2020.0       34.0      24.0   7.473684   0.078947  0.026316   \n",
       "MIA   2.0  2020.0       28.0      31.0   8.631579   0.052632  0.000000   \n",
       "MIN   2.0  2020.0       11.0      28.0   3.138889   0.000000  0.027778   \n",
       "NE    2.0  2020.0       30.0      35.0  10.447368   0.026316  0.026316   \n",
       "NO    2.0  2020.0       24.0      34.0   8.210526   0.026316  0.000000   \n",
       "NYG   2.0  2020.0       13.0      17.0   6.513514   0.000000  0.054054   \n",
       "NYJ   2.0  2020.0       13.0      31.0   4.710526   0.026316  0.026316   \n",
       "PHI   2.0  2020.0       19.0      37.0   6.205128   0.000000  0.000000   \n",
       "PIT   2.0  2020.0       26.0      21.0   8.405405   0.054054  0.027027   \n",
       "SEA   2.0  2020.0       35.0      30.0   7.783784   0.135135  0.027027   \n",
       "SF    2.0  2020.0       31.0      13.0   5.179487   0.051282  0.000000   \n",
       "TB    2.0  2020.0       31.0      17.0   5.710526   0.026316  0.052632   \n",
       "TEN   2.0  2020.0       33.0      30.0   6.459459   0.108108  0.054054   \n",
       "WAS   2.0  2020.0       15.0      30.0   6.027027   0.027027  0.027027   \n",
       "\n",
       "      PassingAtt       Cmp  RushingAtt  RushingYds  RushingTD       Rec  \\\n",
       "Team                                                                      \n",
       "ARI     0.974359  0.666667    0.820513    4.102564   0.051282  0.666667   \n",
       "ATL     0.973684  0.631579    0.894737    2.973684   0.000000  0.631579   \n",
       "BAL     0.631579  0.473684    0.973684    6.052632   0.026316  0.473684   \n",
       "BUF     0.921053  0.631579    0.605263    2.947368   0.000000  0.631579   \n",
       "CAR     1.105263  0.868421    0.631579    2.289474   0.052632  0.868421   \n",
       "CHI     0.736842  0.473684    0.842105    3.552632   0.000000  0.447368   \n",
       "CIN     1.648649  1.000000    0.648649    1.837838   0.000000  1.000000   \n",
       "CLE     0.621622  0.432432    0.945946    5.810811   0.081081  0.432432   \n",
       "DAL     1.263158  0.894737    0.815789    3.289474   0.105263  0.894737   \n",
       "DEN     1.000000  0.487179    0.641026    2.666667   0.000000  0.487179   \n",
       "DET     0.868421  0.526316    0.552632    2.342105   0.026316  0.526316   \n",
       "GB      0.789474  0.473684    0.921053    6.815789   0.052632  0.473684   \n",
       "HOU     0.947368  0.657895    0.447368    1.342105   0.000000  0.657895   \n",
       "IND     0.657895  0.500000    1.052632    3.973684   0.026316  0.500000   \n",
       "JAX     1.184211  0.789474    0.710526    4.342105   0.026316  0.789474   \n",
       "KC      1.305556  0.750000    0.611111    3.472222   0.000000  0.750000   \n",
       "LAC     0.868421  0.578947    1.157895    4.815789   0.026316  0.578947   \n",
       "LAR     0.710526  0.526316    1.026316    5.026316   0.052632  0.526316   \n",
       "LV      1.000000  0.736842    0.921053    3.052632   0.026316  0.736842   \n",
       "MIA     1.236842  0.815789    0.578947    2.605263   0.026316  0.815789   \n",
       "MIN     0.722222  0.305556    0.500000    2.222222   0.027778  0.305556   \n",
       "NE      1.157895  0.789474    0.657895    1.763158   0.052632  0.789474   \n",
       "NO      1.000000  0.684211    0.500000    2.947368   0.052632  0.684211   \n",
       "NYG     1.081081  0.675676    0.486486    2.027027   0.027027  0.675676   \n",
       "NYJ     0.842105  0.552632    0.763158    2.736842   0.000000  0.552632   \n",
       "PHI     1.102564  0.666667    0.666667    3.102564   0.051282  0.666667   \n",
       "PIT     1.108108  0.783784    0.594595    2.945946   0.027027  0.783784   \n",
       "SEA     0.756757  0.567568    0.810811    4.162162   0.000000  0.567568   \n",
       "SF      0.692308  0.564103    0.743590    4.666667   0.051282  0.564103   \n",
       "TB      0.921053  0.605263    0.578947    3.210526   0.078947  0.605263   \n",
       "TEN     0.648649  0.486486    0.918919    3.324324   0.000000  0.486486   \n",
       "WAS     0.891892  0.513514    0.621622    3.162162   0.027027  0.513514   \n",
       "\n",
       "           Tgs  ReceivingYds  ReceivingTD        FL  \n",
       "Team                                                 \n",
       "ARI   0.871795      7.333333     0.025641  0.025641  \n",
       "ATL   0.947368      7.184211     0.105263  0.000000  \n",
       "BAL   0.605263      5.368421     0.026316  0.000000  \n",
       "BUF   0.921053     10.921053     0.105263  0.026316  \n",
       "CAR   1.052632      9.657895     0.000000  0.078947  \n",
       "CHI   0.710526      4.894737     0.052632  0.026316  \n",
       "CIN   1.594595      8.540541     0.081081  0.054054  \n",
       "CLE   0.567568      5.918919     0.054054  0.000000  \n",
       "DAL   1.236842     11.842105     0.026316  0.105263  \n",
       "DEN   0.974359      7.076923     0.051282  0.025641  \n",
       "DET   0.789474      6.421053     0.052632  0.000000  \n",
       "GB    0.789474      6.315789     0.052632  0.000000  \n",
       "HOU   0.894737      7.236842     0.026316  0.026316  \n",
       "IND   0.657895      5.631579     0.026316  0.026316  \n",
       "JAX   1.157895      8.921053     0.078947  0.052632  \n",
       "KC    1.250000      8.388889     0.055556  0.000000  \n",
       "LAC   0.789474      8.184211     0.026316  0.026316  \n",
       "LAR   0.684211      7.026316     0.078947  0.026316  \n",
       "LV    0.894737      7.473684     0.078947  0.052632  \n",
       "MIA   1.210526      8.631579     0.052632  0.026316  \n",
       "MIN   0.638889      3.138889     0.000000  0.000000  \n",
       "NE    1.131579     10.447368     0.026316  0.000000  \n",
       "NO    0.973684      8.210526     0.026316  0.000000  \n",
       "NYG   0.972973      6.513514     0.000000  0.027027  \n",
       "NYJ   0.842105      4.710526     0.026316  0.000000  \n",
       "PHI   1.051282      6.205128     0.000000  0.025641  \n",
       "PIT   1.108108      8.405405     0.054054  0.054054  \n",
       "SEA   0.675676      7.783784     0.135135  0.000000  \n",
       "SF    0.692308      5.179487     0.051282  0.051282  \n",
       "TB    0.921053      5.710526     0.026316  0.026316  \n",
       "TEN   0.648649      6.459459     0.108108  0.000000  \n",
       "WAS   0.918919      6.027027     0.027027  0.054054  "
      ],
      "text/html": "<div>\n<style scoped>\n    .dataframe tbody tr th:only-of-type {\n        vertical-align: middle;\n    }\n\n    .dataframe tbody tr th {\n        vertical-align: top;\n    }\n\n    .dataframe thead th {\n        text-align: right;\n    }\n</style>\n<table border=\"1\" class=\"dataframe\">\n  <thead>\n    <tr style=\"text-align: right;\">\n      <th></th>\n      <th>Wk</th>\n      <th>Year</th>\n      <th>TeamScore</th>\n      <th>OppScore</th>\n      <th>PassYds</th>\n      <th>PassingTD</th>\n      <th>Int</th>\n      <th>PassingAtt</th>\n      <th>Cmp</th>\n      <th>RushingAtt</th>\n      <th>RushingYds</th>\n      <th>RushingTD</th>\n      <th>Rec</th>\n      <th>Tgs</th>\n      <th>ReceivingYds</th>\n      <th>ReceivingTD</th>\n      <th>FL</th>\n    </tr>\n    <tr>\n      <th>Team</th>\n      <th></th>\n      <th></th>\n      <th></th>\n      <th></th>\n      <th></th>\n      <th></th>\n      <th></th>\n      <th></th>\n      <th></th>\n      <th></th>\n      <th></th>\n      <th></th>\n      <th></th>\n      <th></th>\n      <th></th>\n      <th></th>\n      <th></th>\n    </tr>\n  </thead>\n  <tbody>\n    <tr>\n      <th>ARI</th>\n      <td>2.0</td>\n      <td>2020.0</td>\n      <td>30.0</td>\n      <td>15.0</td>\n      <td>7.333333</td>\n      <td>0.025641</td>\n      <td>0.000000</td>\n      <td>0.974359</td>\n      <td>0.666667</td>\n      <td>0.820513</td>\n      <td>4.102564</td>\n      <td>0.051282</td>\n      <td>0.666667</td>\n      <td>0.871795</td>\n      <td>7.333333</td>\n      <td>0.025641</td>\n      <td>0.025641</td>\n    </tr>\n    <tr>\n      <th>ATL</th>\n      <td>2.0</td>\n      <td>2020.0</td>\n      <td>39.0</td>\n      <td>40.0</td>\n      <td>7.184211</td>\n      <td>0.105263</td>\n      <td>0.000000</td>\n      <td>0.973684</td>\n      <td>0.631579</td>\n      <td>0.894737</td>\n      <td>2.973684</td>\n      <td>0.000000</td>\n      <td>0.631579</td>\n      <td>0.947368</td>\n      <td>7.184211</td>\n      <td>0.105263</td>\n      <td>0.000000</td>\n    </tr>\n    <tr>\n      <th>BAL</th>\n      <td>2.0</td>\n      <td>2020.0</td>\n      <td>33.0</td>\n      <td>16.0</td>\n      <td>5.368421</td>\n      <td>0.026316</td>\n      <td>0.026316</td>\n      <td>0.631579</td>\n      <td>0.473684</td>\n      <td>0.973684</td>\n      <td>6.052632</td>\n      <td>0.026316</td>\n      <td>0.473684</td>\n      <td>0.605263</td>\n      <td>5.368421</td>\n      <td>0.026316</td>\n      <td>0.000000</td>\n    </tr>\n    <tr>\n      <th>BUF</th>\n      <td>2.0</td>\n      <td>2020.0</td>\n      <td>31.0</td>\n      <td>28.0</td>\n      <td>10.921053</td>\n      <td>0.105263</td>\n      <td>0.000000</td>\n      <td>0.921053</td>\n      <td>0.631579</td>\n      <td>0.605263</td>\n      <td>2.947368</td>\n      <td>0.000000</td>\n      <td>0.631579</td>\n      <td>0.921053</td>\n      <td>10.921053</td>\n      <td>0.105263</td>\n      <td>0.026316</td>\n    </tr>\n    <tr>\n      <th>CAR</th>\n      <td>2.0</td>\n      <td>2020.0</td>\n      <td>17.0</td>\n      <td>31.0</td>\n      <td>9.657895</td>\n      <td>0.000000</td>\n      <td>0.026316</td>\n      <td>1.105263</td>\n      <td>0.868421</td>\n      <td>0.631579</td>\n      <td>2.289474</td>\n      <td>0.052632</td>\n      <td>0.868421</td>\n      <td>1.052632</td>\n      <td>9.657895</td>\n      <td>0.000000</td>\n      <td>0.078947</td>\n    </tr>\n    <tr>\n      <th>CHI</th>\n      <td>2.0</td>\n      <td>2020.0</td>\n      <td>17.0</td>\n      <td>13.0</td>\n      <td>5.000000</td>\n      <td>0.052632</td>\n      <td>0.026316</td>\n      <td>0.736842</td>\n      <td>0.473684</td>\n      <td>0.842105</td>\n      <td>3.552632</td>\n      <td>0.000000</td>\n      <td>0.447368</td>\n      <td>0.710526</td>\n      <td>4.894737</td>\n      <td>0.052632</td>\n      <td>0.026316</td>\n    </tr>\n    <tr>\n      <th>CIN</th>\n      <td>2.0</td>\n      <td>2020.0</td>\n      <td>30.0</td>\n      <td>35.0</td>\n      <td>8.540541</td>\n      <td>0.081081</td>\n      <td>0.027027</td>\n      <td>1.648649</td>\n      <td>1.000000</td>\n      <td>0.648649</td>\n      <td>1.837838</td>\n      <td>0.000000</td>\n      <td>1.000000</td>\n      <td>1.594595</td>\n      <td>8.540541</td>\n      <td>0.081081</td>\n      <td>0.054054</td>\n    </tr>\n    <tr>\n      <th>CLE</th>\n      <td>2.0</td>\n      <td>2020.0</td>\n      <td>35.0</td>\n      <td>30.0</td>\n      <td>5.918919</td>\n      <td>0.054054</td>\n      <td>0.000000</td>\n      <td>0.621622</td>\n      <td>0.432432</td>\n      <td>0.945946</td>\n      <td>5.810811</td>\n      <td>0.081081</td>\n      <td>0.432432</td>\n      <td>0.567568</td>\n      <td>5.918919</td>\n      <td>0.054054</td>\n      <td>0.000000</td>\n    </tr>\n    <tr>\n      <th>DAL</th>\n      <td>2.0</td>\n      <td>2020.0</td>\n      <td>40.0</td>\n      <td>39.0</td>\n      <td>11.842105</td>\n      <td>0.026316</td>\n      <td>0.000000</td>\n      <td>1.263158</td>\n      <td>0.894737</td>\n      <td>0.815789</td>\n      <td>3.289474</td>\n      <td>0.105263</td>\n      <td>0.894737</td>\n      <td>1.236842</td>\n      <td>11.842105</td>\n      <td>0.026316</td>\n      <td>0.105263</td>\n    </tr>\n    <tr>\n      <th>DEN</th>\n      <td>2.0</td>\n      <td>2020.0</td>\n      <td>21.0</td>\n      <td>26.0</td>\n      <td>7.076923</td>\n      <td>0.051282</td>\n      <td>0.025641</td>\n      <td>1.000000</td>\n      <td>0.487179</td>\n      <td>0.641026</td>\n      <td>2.666667</td>\n      <td>0.000000</td>\n      <td>0.487179</td>\n      <td>0.974359</td>\n      <td>7.076923</td>\n      <td>0.051282</td>\n      <td>0.025641</td>\n    </tr>\n    <tr>\n      <th>DET</th>\n      <td>2.0</td>\n      <td>2020.0</td>\n      <td>21.0</td>\n      <td>42.0</td>\n      <td>6.421053</td>\n      <td>0.052632</td>\n      <td>0.000000</td>\n      <td>0.868421</td>\n      <td>0.526316</td>\n      <td>0.552632</td>\n      <td>2.342105</td>\n      <td>0.026316</td>\n      <td>0.526316</td>\n      <td>0.789474</td>\n      <td>6.421053</td>\n      <td>0.052632</td>\n      <td>0.000000</td>\n    </tr>\n    <tr>\n      <th>GB</th>\n      <td>2.0</td>\n      <td>2020.0</td>\n      <td>42.0</td>\n      <td>21.0</td>\n      <td>6.315789</td>\n      <td>0.052632</td>\n      <td>0.026316</td>\n      <td>0.789474</td>\n      <td>0.473684</td>\n      <td>0.921053</td>\n      <td>6.815789</td>\n      <td>0.052632</td>\n      <td>0.473684</td>\n      <td>0.789474</td>\n      <td>6.315789</td>\n      <td>0.052632</td>\n      <td>0.000000</td>\n    </tr>\n    <tr>\n      <th>HOU</th>\n      <td>2.0</td>\n      <td>2020.0</td>\n      <td>16.0</td>\n      <td>33.0</td>\n      <td>7.236842</td>\n      <td>0.026316</td>\n      <td>0.000000</td>\n      <td>0.947368</td>\n      <td>0.657895</td>\n      <td>0.447368</td>\n      <td>1.342105</td>\n      <td>0.000000</td>\n      <td>0.657895</td>\n      <td>0.894737</td>\n      <td>7.236842</td>\n      <td>0.026316</td>\n      <td>0.026316</td>\n    </tr>\n    <tr>\n      <th>IND</th>\n      <td>2.0</td>\n      <td>2020.0</td>\n      <td>28.0</td>\n      <td>11.0</td>\n      <td>5.631579</td>\n      <td>0.026316</td>\n      <td>0.078947</td>\n      <td>0.657895</td>\n      <td>0.500000</td>\n      <td>1.052632</td>\n      <td>3.973684</td>\n      <td>0.026316</td>\n      <td>0.500000</td>\n      <td>0.657895</td>\n      <td>5.631579</td>\n      <td>0.026316</td>\n      <td>0.026316</td>\n    </tr>\n    <tr>\n      <th>JAX</th>\n      <td>2.0</td>\n      <td>2020.0</td>\n      <td>30.0</td>\n      <td>33.0</td>\n      <td>8.921053</td>\n      <td>0.078947</td>\n      <td>0.000000</td>\n      <td>1.184211</td>\n      <td>0.789474</td>\n      <td>0.710526</td>\n      <td>4.342105</td>\n      <td>0.026316</td>\n      <td>0.789474</td>\n      <td>1.157895</td>\n      <td>8.921053</td>\n      <td>0.078947</td>\n      <td>0.052632</td>\n    </tr>\n    <tr>\n      <th>KC</th>\n      <td>2.0</td>\n      <td>2020.0</td>\n      <td>23.0</td>\n      <td>20.0</td>\n      <td>8.388889</td>\n      <td>0.055556</td>\n      <td>0.027778</td>\n      <td>1.305556</td>\n      <td>0.750000</td>\n      <td>0.611111</td>\n      <td>3.472222</td>\n      <td>0.000000</td>\n      <td>0.750000</td>\n      <td>1.250000</td>\n      <td>8.388889</td>\n      <td>0.055556</td>\n      <td>0.000000</td>\n    </tr>\n    <tr>\n      <th>LAC</th>\n      <td>2.0</td>\n      <td>2020.0</td>\n      <td>20.0</td>\n      <td>23.0</td>\n      <td>8.184211</td>\n      <td>0.026316</td>\n      <td>0.000000</td>\n      <td>0.868421</td>\n      <td>0.578947</td>\n      <td>1.157895</td>\n      <td>4.815789</td>\n      <td>0.026316</td>\n      <td>0.578947</td>\n      <td>0.789474</td>\n      <td>8.184211</td>\n      <td>0.026316</td>\n      <td>0.026316</td>\n    </tr>\n    <tr>\n      <th>LAR</th>\n      <td>2.0</td>\n      <td>2020.0</td>\n      <td>37.0</td>\n      <td>19.0</td>\n      <td>7.026316</td>\n      <td>0.078947</td>\n      <td>0.052632</td>\n      <td>0.710526</td>\n      <td>0.526316</td>\n      <td>1.026316</td>\n      <td>5.026316</td>\n      <td>0.052632</td>\n      <td>0.526316</td>\n      <td>0.684211</td>\n      <td>7.026316</td>\n      <td>0.078947</td>\n      <td>0.026316</td>\n    </tr>\n    <tr>\n      <th>LV</th>\n      <td>2.0</td>\n      <td>2020.0</td>\n      <td>34.0</td>\n      <td>24.0</td>\n      <td>7.473684</td>\n      <td>0.078947</td>\n      <td>0.026316</td>\n      <td>1.000000</td>\n      <td>0.736842</td>\n      <td>0.921053</td>\n      <td>3.052632</td>\n      <td>0.026316</td>\n      <td>0.736842</td>\n      <td>0.894737</td>\n      <td>7.473684</td>\n      <td>0.078947</td>\n      <td>0.052632</td>\n    </tr>\n    <tr>\n      <th>MIA</th>\n      <td>2.0</td>\n      <td>2020.0</td>\n      <td>28.0</td>\n      <td>31.0</td>\n      <td>8.631579</td>\n      <td>0.052632</td>\n      <td>0.000000</td>\n      <td>1.236842</td>\n      <td>0.815789</td>\n      <td>0.578947</td>\n      <td>2.605263</td>\n      <td>0.026316</td>\n      <td>0.815789</td>\n      <td>1.210526</td>\n      <td>8.631579</td>\n      <td>0.052632</td>\n      <td>0.026316</td>\n    </tr>\n    <tr>\n      <th>MIN</th>\n      <td>2.0</td>\n      <td>2020.0</td>\n      <td>11.0</td>\n      <td>28.0</td>\n      <td>3.138889</td>\n      <td>0.000000</td>\n      <td>0.027778</td>\n      <td>0.722222</td>\n      <td>0.305556</td>\n      <td>0.500000</td>\n      <td>2.222222</td>\n      <td>0.027778</td>\n      <td>0.305556</td>\n      <td>0.638889</td>\n      <td>3.138889</td>\n      <td>0.000000</td>\n      <td>0.000000</td>\n    </tr>\n    <tr>\n      <th>NE</th>\n      <td>2.0</td>\n      <td>2020.0</td>\n      <td>30.0</td>\n      <td>35.0</td>\n      <td>10.447368</td>\n      <td>0.026316</td>\n      <td>0.026316</td>\n      <td>1.157895</td>\n      <td>0.789474</td>\n      <td>0.657895</td>\n      <td>1.763158</td>\n      <td>0.052632</td>\n      <td>0.789474</td>\n      <td>1.131579</td>\n      <td>10.447368</td>\n      <td>0.026316</td>\n      <td>0.000000</td>\n    </tr>\n    <tr>\n      <th>NO</th>\n      <td>2.0</td>\n      <td>2020.0</td>\n      <td>24.0</td>\n      <td>34.0</td>\n      <td>8.210526</td>\n      <td>0.026316</td>\n      <td>0.000000</td>\n      <td>1.000000</td>\n      <td>0.684211</td>\n      <td>0.500000</td>\n      <td>2.947368</td>\n      <td>0.052632</td>\n      <td>0.684211</td>\n      <td>0.973684</td>\n      <td>8.210526</td>\n      <td>0.026316</td>\n      <td>0.000000</td>\n    </tr>\n    <tr>\n      <th>NYG</th>\n      <td>2.0</td>\n      <td>2020.0</td>\n      <td>13.0</td>\n      <td>17.0</td>\n      <td>6.513514</td>\n      <td>0.000000</td>\n      <td>0.054054</td>\n      <td>1.081081</td>\n      <td>0.675676</td>\n      <td>0.486486</td>\n      <td>2.027027</td>\n      <td>0.027027</td>\n      <td>0.675676</td>\n      <td>0.972973</td>\n      <td>6.513514</td>\n      <td>0.000000</td>\n      <td>0.027027</td>\n    </tr>\n    <tr>\n      <th>NYJ</th>\n      <td>2.0</td>\n      <td>2020.0</td>\n      <td>13.0</td>\n      <td>31.0</td>\n      <td>4.710526</td>\n      <td>0.026316</td>\n      <td>0.026316</td>\n      <td>0.842105</td>\n      <td>0.552632</td>\n      <td>0.763158</td>\n      <td>2.736842</td>\n      <td>0.000000</td>\n      <td>0.552632</td>\n      <td>0.842105</td>\n      <td>4.710526</td>\n      <td>0.026316</td>\n      <td>0.000000</td>\n    </tr>\n    <tr>\n      <th>PHI</th>\n      <td>2.0</td>\n      <td>2020.0</td>\n      <td>19.0</td>\n      <td>37.0</td>\n      <td>6.205128</td>\n      <td>0.000000</td>\n      <td>0.000000</td>\n      <td>1.102564</td>\n      <td>0.666667</td>\n      <td>0.666667</td>\n      <td>3.102564</td>\n      <td>0.051282</td>\n      <td>0.666667</td>\n      <td>1.051282</td>\n      <td>6.205128</td>\n      <td>0.000000</td>\n      <td>0.025641</td>\n    </tr>\n    <tr>\n      <th>PIT</th>\n      <td>2.0</td>\n      <td>2020.0</td>\n      <td>26.0</td>\n      <td>21.0</td>\n      <td>8.405405</td>\n      <td>0.054054</td>\n      <td>0.027027</td>\n      <td>1.108108</td>\n      <td>0.783784</td>\n      <td>0.594595</td>\n      <td>2.945946</td>\n      <td>0.027027</td>\n      <td>0.783784</td>\n      <td>1.108108</td>\n      <td>8.405405</td>\n      <td>0.054054</td>\n      <td>0.054054</td>\n    </tr>\n    <tr>\n      <th>SEA</th>\n      <td>2.0</td>\n      <td>2020.0</td>\n      <td>35.0</td>\n      <td>30.0</td>\n      <td>7.783784</td>\n      <td>0.135135</td>\n      <td>0.027027</td>\n      <td>0.756757</td>\n      <td>0.567568</td>\n      <td>0.810811</td>\n      <td>4.162162</td>\n      <td>0.000000</td>\n      <td>0.567568</td>\n      <td>0.675676</td>\n      <td>7.783784</td>\n      <td>0.135135</td>\n      <td>0.000000</td>\n    </tr>\n    <tr>\n      <th>SF</th>\n      <td>2.0</td>\n      <td>2020.0</td>\n      <td>31.0</td>\n      <td>13.0</td>\n      <td>5.179487</td>\n      <td>0.051282</td>\n      <td>0.000000</td>\n      <td>0.692308</td>\n      <td>0.564103</td>\n      <td>0.743590</td>\n      <td>4.666667</td>\n      <td>0.051282</td>\n      <td>0.564103</td>\n      <td>0.692308</td>\n      <td>5.179487</td>\n      <td>0.051282</td>\n      <td>0.051282</td>\n    </tr>\n    <tr>\n      <th>TB</th>\n      <td>2.0</td>\n      <td>2020.0</td>\n      <td>31.0</td>\n      <td>17.0</td>\n      <td>5.710526</td>\n      <td>0.026316</td>\n      <td>0.052632</td>\n      <td>0.921053</td>\n      <td>0.605263</td>\n      <td>0.578947</td>\n      <td>3.210526</td>\n      <td>0.078947</td>\n      <td>0.605263</td>\n      <td>0.921053</td>\n      <td>5.710526</td>\n      <td>0.026316</td>\n      <td>0.026316</td>\n    </tr>\n    <tr>\n      <th>TEN</th>\n      <td>2.0</td>\n      <td>2020.0</td>\n      <td>33.0</td>\n      <td>30.0</td>\n      <td>6.459459</td>\n      <td>0.108108</td>\n      <td>0.054054</td>\n      <td>0.648649</td>\n      <td>0.486486</td>\n      <td>0.918919</td>\n      <td>3.324324</td>\n      <td>0.000000</td>\n      <td>0.486486</td>\n      <td>0.648649</td>\n      <td>6.459459</td>\n      <td>0.108108</td>\n      <td>0.000000</td>\n    </tr>\n    <tr>\n      <th>WAS</th>\n      <td>2.0</td>\n      <td>2020.0</td>\n      <td>15.0</td>\n      <td>30.0</td>\n      <td>6.027027</td>\n      <td>0.027027</td>\n      <td>0.027027</td>\n      <td>0.891892</td>\n      <td>0.513514</td>\n      <td>0.621622</td>\n      <td>3.162162</td>\n      <td>0.027027</td>\n      <td>0.513514</td>\n      <td>0.918919</td>\n      <td>6.027027</td>\n      <td>0.027027</td>\n      <td>0.054054</td>\n    </tr>\n  </tbody>\n</table>\n</div>"
     },
     "metadata": {},
     "execution_count": 34
    }
   ],
   "source": [
    "# AVGS by Team \n",
    "avg_teams = df.groupby('Team').mean()\n",
    "avg_teams"
   ]
  },
  {
   "cell_type": "code",
   "execution_count": 35,
   "metadata": {},
   "outputs": [
    {
     "output_type": "display_data",
     "data": {
      "text/html": "\n    <div class=\"bk-root\">\n        <a href=\"https://bokeh.org\" target=\"_blank\" class=\"bk-logo bk-logo-small bk-logo-notebook\"></a>\n        <span id=\"1512\">Loading BokehJS ...</span>\n    </div>"
     },
     "metadata": {}
    },
    {
     "output_type": "display_data",
     "data": {
      "application/javascript": "\n(function(root) {\n  function now() {\n    return new Date();\n  }\n\n  var force = true;\n\n  if (typeof root._bokeh_onload_callbacks === \"undefined\" || force === true) {\n    root._bokeh_onload_callbacks = [];\n    root._bokeh_is_loading = undefined;\n  }\n\n  var JS_MIME_TYPE = 'application/javascript';\n  var HTML_MIME_TYPE = 'text/html';\n  var EXEC_MIME_TYPE = 'application/vnd.bokehjs_exec.v0+json';\n  var CLASS_NAME = 'output_bokeh rendered_html';\n\n  /**\n   * Render data to the DOM node\n   */\n  function render(props, node) {\n    var script = document.createElement(\"script\");\n    node.appendChild(script);\n  }\n\n  /**\n   * Handle when an output is cleared or removed\n   */\n  function handleClearOutput(event, handle) {\n    var cell = handle.cell;\n\n    var id = cell.output_area._bokeh_element_id;\n    var server_id = cell.output_area._bokeh_server_id;\n    // Clean up Bokeh references\n    if (id != null && id in Bokeh.index) {\n      Bokeh.index[id].model.document.clear();\n      delete Bokeh.index[id];\n    }\n\n    if (server_id !== undefined) {\n      // Clean up Bokeh references\n      var cmd = \"from bokeh.io.state import curstate; print(curstate().uuid_to_server['\" + server_id + \"'].get_sessions()[0].document.roots[0]._id)\";\n      cell.notebook.kernel.execute(cmd, {\n        iopub: {\n          output: function(msg) {\n            var id = msg.content.text.trim();\n            if (id in Bokeh.index) {\n              Bokeh.index[id].model.document.clear();\n              delete Bokeh.index[id];\n            }\n          }\n        }\n      });\n      // Destroy server and session\n      var cmd = \"import bokeh.io.notebook as ion; ion.destroy_server('\" + server_id + \"')\";\n      cell.notebook.kernel.execute(cmd);\n    }\n  }\n\n  /**\n   * Handle when a new output is added\n   */\n  function handleAddOutput(event, handle) {\n    var output_area = handle.output_area;\n    var output = handle.output;\n\n    // limit handleAddOutput to display_data with EXEC_MIME_TYPE content only\n    if ((output.output_type != \"display_data\") || (!output.data.hasOwnProperty(EXEC_MIME_TYPE))) {\n      return\n    }\n\n    var toinsert = output_area.element.find(\".\" + CLASS_NAME.split(' ')[0]);\n\n    if (output.metadata[EXEC_MIME_TYPE][\"id\"] !== undefined) {\n      toinsert[toinsert.length - 1].firstChild.textContent = output.data[JS_MIME_TYPE];\n      // store reference to embed id on output_area\n      output_area._bokeh_element_id = output.metadata[EXEC_MIME_TYPE][\"id\"];\n    }\n    if (output.metadata[EXEC_MIME_TYPE][\"server_id\"] !== undefined) {\n      var bk_div = document.createElement(\"div\");\n      bk_div.innerHTML = output.data[HTML_MIME_TYPE];\n      var script_attrs = bk_div.children[0].attributes;\n      for (var i = 0; i < script_attrs.length; i++) {\n        toinsert[toinsert.length - 1].firstChild.setAttribute(script_attrs[i].name, script_attrs[i].value);\n        toinsert[toinsert.length - 1].firstChild.textContent = bk_div.children[0].textContent\n      }\n      // store reference to server id on output_area\n      output_area._bokeh_server_id = output.metadata[EXEC_MIME_TYPE][\"server_id\"];\n    }\n  }\n\n  function register_renderer(events, OutputArea) {\n\n    function append_mime(data, metadata, element) {\n      // create a DOM node to render to\n      var toinsert = this.create_output_subarea(\n        metadata,\n        CLASS_NAME,\n        EXEC_MIME_TYPE\n      );\n      this.keyboard_manager.register_events(toinsert);\n      // Render to node\n      var props = {data: data, metadata: metadata[EXEC_MIME_TYPE]};\n      render(props, toinsert[toinsert.length - 1]);\n      element.append(toinsert);\n      return toinsert\n    }\n\n    /* Handle when an output is cleared or removed */\n    events.on('clear_output.CodeCell', handleClearOutput);\n    events.on('delete.Cell', handleClearOutput);\n\n    /* Handle when a new output is added */\n    events.on('output_added.OutputArea', handleAddOutput);\n\n    /**\n     * Register the mime type and append_mime function with output_area\n     */\n    OutputArea.prototype.register_mime_type(EXEC_MIME_TYPE, append_mime, {\n      /* Is output safe? */\n      safe: true,\n      /* Index of renderer in `output_area.display_order` */\n      index: 0\n    });\n  }\n\n  // register the mime type if in Jupyter Notebook environment and previously unregistered\n  if (root.Jupyter !== undefined) {\n    var events = require('base/js/events');\n    var OutputArea = require('notebook/js/outputarea').OutputArea;\n\n    if (OutputArea.prototype.mime_types().indexOf(EXEC_MIME_TYPE) == -1) {\n      register_renderer(events, OutputArea);\n    }\n  }\n\n  \n  if (typeof (root._bokeh_timeout) === \"undefined\" || force === true) {\n    root._bokeh_timeout = Date.now() + 5000;\n    root._bokeh_failed_load = false;\n  }\n\n  var NB_LOAD_WARNING = {'data': {'text/html':\n     \"<div style='background-color: #fdd'>\\n\"+\n     \"<p>\\n\"+\n     \"BokehJS does not appear to have successfully loaded. If loading BokehJS from CDN, this \\n\"+\n     \"may be due to a slow or bad network connection. Possible fixes:\\n\"+\n     \"</p>\\n\"+\n     \"<ul>\\n\"+\n     \"<li>re-rerun `output_notebook()` to attempt to load from CDN again, or</li>\\n\"+\n     \"<li>use INLINE resources instead, as so:</li>\\n\"+\n     \"</ul>\\n\"+\n     \"<code>\\n\"+\n     \"from bokeh.resources import INLINE\\n\"+\n     \"output_notebook(resources=INLINE)\\n\"+\n     \"</code>\\n\"+\n     \"</div>\"}};\n\n  function display_loaded() {\n    var el = document.getElementById(\"1512\");\n    if (el != null) {\n      el.textContent = \"BokehJS is loading...\";\n    }\n    if (root.Bokeh !== undefined) {\n      if (el != null) {\n        el.textContent = \"BokehJS \" + root.Bokeh.version + \" successfully loaded.\";\n      }\n    } else if (Date.now() < root._bokeh_timeout) {\n      setTimeout(display_loaded, 100)\n    }\n  }\n\n\n  function run_callbacks() {\n    try {\n      root._bokeh_onload_callbacks.forEach(function(callback) {\n        if (callback != null)\n          callback();\n      });\n    } finally {\n      delete root._bokeh_onload_callbacks\n    }\n    console.debug(\"Bokeh: all callbacks have finished\");\n  }\n\n  function load_libs(css_urls, js_urls, callback) {\n    if (css_urls == null) css_urls = [];\n    if (js_urls == null) js_urls = [];\n\n    root._bokeh_onload_callbacks.push(callback);\n    if (root._bokeh_is_loading > 0) {\n      console.debug(\"Bokeh: BokehJS is being loaded, scheduling callback at\", now());\n      return null;\n    }\n    if (js_urls == null || js_urls.length === 0) {\n      run_callbacks();\n      return null;\n    }\n    console.debug(\"Bokeh: BokehJS not loaded, scheduling load and callback at\", now());\n    root._bokeh_is_loading = css_urls.length + js_urls.length;\n\n    function on_load() {\n      root._bokeh_is_loading--;\n      if (root._bokeh_is_loading === 0) {\n        console.debug(\"Bokeh: all BokehJS libraries/stylesheets loaded\");\n        run_callbacks()\n      }\n    }\n\n    function on_error() {\n      console.error(\"failed to load \" + url);\n    }\n\n    for (var i = 0; i < css_urls.length; i++) {\n      var url = css_urls[i];\n      const element = document.createElement(\"link\");\n      element.onload = on_load;\n      element.onerror = on_error;\n      element.rel = \"stylesheet\";\n      element.type = \"text/css\";\n      element.href = url;\n      console.debug(\"Bokeh: injecting link tag for BokehJS stylesheet: \", url);\n      document.body.appendChild(element);\n    }\n\n    const hashes = {\"https://cdn.bokeh.org/bokeh/release/bokeh-2.1.1.min.js\": \"kLr4fYcqcSpbuI95brIH3vnnYCquzzSxHPU6XGQCIkQRGJwhg0StNbj1eegrHs12\", \"https://cdn.bokeh.org/bokeh/release/bokeh-widgets-2.1.1.min.js\": \"xIGPmVtaOm+z0BqfSOMn4lOR6ciex448GIKG4eE61LsAvmGj48XcMQZtKcE/UXZe\", \"https://cdn.bokeh.org/bokeh/release/bokeh-tables-2.1.1.min.js\": \"Dc9u1wF/0zApGIWoBbH77iWEHtdmkuYWG839Uzmv8y8yBLXebjO9ZnERsde5Ln/P\", \"https://cdn.bokeh.org/bokeh/release/bokeh-gl-2.1.1.min.js\": \"cT9JaBz7GiRXdENrJLZNSC6eMNF3nh3fa5fTF51Svp+ukxPdwcU5kGXGPBgDCa2j\"};\n\n    for (var i = 0; i < js_urls.length; i++) {\n      var url = js_urls[i];\n      var element = document.createElement('script');\n      element.onload = on_load;\n      element.onerror = on_error;\n      element.async = false;\n      element.src = url;\n      if (url in hashes) {\n        element.crossOrigin = \"anonymous\";\n        element.integrity = \"sha384-\" + hashes[url];\n      }\n      console.debug(\"Bokeh: injecting script tag for BokehJS library: \", url);\n      document.head.appendChild(element);\n    }\n  };\n\n  function inject_raw_css(css) {\n    const element = document.createElement(\"style\");\n    element.appendChild(document.createTextNode(css));\n    document.body.appendChild(element);\n  }\n\n  \n  var js_urls = [\"https://cdn.bokeh.org/bokeh/release/bokeh-2.1.1.min.js\", \"https://cdn.bokeh.org/bokeh/release/bokeh-widgets-2.1.1.min.js\", \"https://cdn.bokeh.org/bokeh/release/bokeh-tables-2.1.1.min.js\", \"https://cdn.bokeh.org/bokeh/release/bokeh-gl-2.1.1.min.js\"];\n  var css_urls = [];\n  \n\n  var inline_js = [\n    function(Bokeh) {\n      Bokeh.set_log_level(\"info\");\n    },\n    function(Bokeh) {\n    \n    \n    }\n  ];\n\n  function run_inline_js() {\n    \n    if (root.Bokeh !== undefined || force === true) {\n      \n    for (var i = 0; i < inline_js.length; i++) {\n      inline_js[i].call(root, root.Bokeh);\n    }\n    if (force === true) {\n        display_loaded();\n      }} else if (Date.now() < root._bokeh_timeout) {\n      setTimeout(run_inline_js, 100);\n    } else if (!root._bokeh_failed_load) {\n      console.log(\"Bokeh: BokehJS failed to load within specified timeout.\");\n      root._bokeh_failed_load = true;\n    } else if (force !== true) {\n      var cell = $(document.getElementById(\"1512\")).parents('.cell').data().cell;\n      cell.output_area.append_execute_result(NB_LOAD_WARNING)\n    }\n\n  }\n\n  if (root._bokeh_is_loading === 0) {\n    console.debug(\"Bokeh: BokehJS loaded, going straight to plotting\");\n    run_inline_js();\n  } else {\n    load_libs(css_urls, js_urls, function() {\n      console.debug(\"Bokeh: BokehJS plotting callback run at\", now());\n      run_inline_js();\n    });\n  }\n}(window));",
      "application/vnd.bokehjs_load.v0+json": "\n(function(root) {\n  function now() {\n    return new Date();\n  }\n\n  var force = true;\n\n  if (typeof root._bokeh_onload_callbacks === \"undefined\" || force === true) {\n    root._bokeh_onload_callbacks = [];\n    root._bokeh_is_loading = undefined;\n  }\n\n  \n\n  \n  if (typeof (root._bokeh_timeout) === \"undefined\" || force === true) {\n    root._bokeh_timeout = Date.now() + 5000;\n    root._bokeh_failed_load = false;\n  }\n\n  var NB_LOAD_WARNING = {'data': {'text/html':\n     \"<div style='background-color: #fdd'>\\n\"+\n     \"<p>\\n\"+\n     \"BokehJS does not appear to have successfully loaded. If loading BokehJS from CDN, this \\n\"+\n     \"may be due to a slow or bad network connection. Possible fixes:\\n\"+\n     \"</p>\\n\"+\n     \"<ul>\\n\"+\n     \"<li>re-rerun `output_notebook()` to attempt to load from CDN again, or</li>\\n\"+\n     \"<li>use INLINE resources instead, as so:</li>\\n\"+\n     \"</ul>\\n\"+\n     \"<code>\\n\"+\n     \"from bokeh.resources import INLINE\\n\"+\n     \"output_notebook(resources=INLINE)\\n\"+\n     \"</code>\\n\"+\n     \"</div>\"}};\n\n  function display_loaded() {\n    var el = document.getElementById(\"1512\");\n    if (el != null) {\n      el.textContent = \"BokehJS is loading...\";\n    }\n    if (root.Bokeh !== undefined) {\n      if (el != null) {\n        el.textContent = \"BokehJS \" + root.Bokeh.version + \" successfully loaded.\";\n      }\n    } else if (Date.now() < root._bokeh_timeout) {\n      setTimeout(display_loaded, 100)\n    }\n  }\n\n\n  function run_callbacks() {\n    try {\n      root._bokeh_onload_callbacks.forEach(function(callback) {\n        if (callback != null)\n          callback();\n      });\n    } finally {\n      delete root._bokeh_onload_callbacks\n    }\n    console.debug(\"Bokeh: all callbacks have finished\");\n  }\n\n  function load_libs(css_urls, js_urls, callback) {\n    if (css_urls == null) css_urls = [];\n    if (js_urls == null) js_urls = [];\n\n    root._bokeh_onload_callbacks.push(callback);\n    if (root._bokeh_is_loading > 0) {\n      console.debug(\"Bokeh: BokehJS is being loaded, scheduling callback at\", now());\n      return null;\n    }\n    if (js_urls == null || js_urls.length === 0) {\n      run_callbacks();\n      return null;\n    }\n    console.debug(\"Bokeh: BokehJS not loaded, scheduling load and callback at\", now());\n    root._bokeh_is_loading = css_urls.length + js_urls.length;\n\n    function on_load() {\n      root._bokeh_is_loading--;\n      if (root._bokeh_is_loading === 0) {\n        console.debug(\"Bokeh: all BokehJS libraries/stylesheets loaded\");\n        run_callbacks()\n      }\n    }\n\n    function on_error() {\n      console.error(\"failed to load \" + url);\n    }\n\n    for (var i = 0; i < css_urls.length; i++) {\n      var url = css_urls[i];\n      const element = document.createElement(\"link\");\n      element.onload = on_load;\n      element.onerror = on_error;\n      element.rel = \"stylesheet\";\n      element.type = \"text/css\";\n      element.href = url;\n      console.debug(\"Bokeh: injecting link tag for BokehJS stylesheet: \", url);\n      document.body.appendChild(element);\n    }\n\n    const hashes = {\"https://cdn.bokeh.org/bokeh/release/bokeh-2.1.1.min.js\": \"kLr4fYcqcSpbuI95brIH3vnnYCquzzSxHPU6XGQCIkQRGJwhg0StNbj1eegrHs12\", \"https://cdn.bokeh.org/bokeh/release/bokeh-widgets-2.1.1.min.js\": \"xIGPmVtaOm+z0BqfSOMn4lOR6ciex448GIKG4eE61LsAvmGj48XcMQZtKcE/UXZe\", \"https://cdn.bokeh.org/bokeh/release/bokeh-tables-2.1.1.min.js\": \"Dc9u1wF/0zApGIWoBbH77iWEHtdmkuYWG839Uzmv8y8yBLXebjO9ZnERsde5Ln/P\", \"https://cdn.bokeh.org/bokeh/release/bokeh-gl-2.1.1.min.js\": \"cT9JaBz7GiRXdENrJLZNSC6eMNF3nh3fa5fTF51Svp+ukxPdwcU5kGXGPBgDCa2j\"};\n\n    for (var i = 0; i < js_urls.length; i++) {\n      var url = js_urls[i];\n      var element = document.createElement('script');\n      element.onload = on_load;\n      element.onerror = on_error;\n      element.async = false;\n      element.src = url;\n      if (url in hashes) {\n        element.crossOrigin = \"anonymous\";\n        element.integrity = \"sha384-\" + hashes[url];\n      }\n      console.debug(\"Bokeh: injecting script tag for BokehJS library: \", url);\n      document.head.appendChild(element);\n    }\n  };\n\n  function inject_raw_css(css) {\n    const element = document.createElement(\"style\");\n    element.appendChild(document.createTextNode(css));\n    document.body.appendChild(element);\n  }\n\n  \n  var js_urls = [\"https://cdn.bokeh.org/bokeh/release/bokeh-2.1.1.min.js\", \"https://cdn.bokeh.org/bokeh/release/bokeh-widgets-2.1.1.min.js\", \"https://cdn.bokeh.org/bokeh/release/bokeh-tables-2.1.1.min.js\", \"https://cdn.bokeh.org/bokeh/release/bokeh-gl-2.1.1.min.js\"];\n  var css_urls = [];\n  \n\n  var inline_js = [\n    function(Bokeh) {\n      Bokeh.set_log_level(\"info\");\n    },\n    function(Bokeh) {\n    \n    \n    }\n  ];\n\n  function run_inline_js() {\n    \n    if (root.Bokeh !== undefined || force === true) {\n      \n    for (var i = 0; i < inline_js.length; i++) {\n      inline_js[i].call(root, root.Bokeh);\n    }\n    if (force === true) {\n        display_loaded();\n      }} else if (Date.now() < root._bokeh_timeout) {\n      setTimeout(run_inline_js, 100);\n    } else if (!root._bokeh_failed_load) {\n      console.log(\"Bokeh: BokehJS failed to load within specified timeout.\");\n      root._bokeh_failed_load = true;\n    } else if (force !== true) {\n      var cell = $(document.getElementById(\"1512\")).parents('.cell').data().cell;\n      cell.output_area.append_execute_result(NB_LOAD_WARNING)\n    }\n\n  }\n\n  if (root._bokeh_is_loading === 0) {\n    console.debug(\"Bokeh: BokehJS loaded, going straight to plotting\");\n    run_inline_js();\n  } else {\n    load_libs(css_urls, js_urls, function() {\n      console.debug(\"Bokeh: BokehJS plotting callback run at\", now());\n      run_inline_js();\n    });\n  }\n}(window));"
     },
     "metadata": {}
    }
   ],
   "source": [
    "# The figure will be rendered inline a my Jupyter Notebook\n",
    "output_notebook()"
   ]
  },
  {
   "cell_type": "code",
   "execution_count": 36,
   "metadata": {},
   "outputs": [
    {
     "output_type": "display_data",
     "data": {
      "text/html": "\n\n\n\n\n\n  <div class=\"bk-root\" id=\"f383b3a5-1fa5-48dd-a57b-ebe4b1a850a0\" data-root-id=\"1514\"></div>\n"
     },
     "metadata": {}
    },
    {
     "output_type": "display_data",
     "data": {
      "application/javascript": "(function(root) {\n  function embed_document(root) {\n    \n  var docs_json = {\"c8f2dc4e-f644-4c16-bfbf-3a219083bd39\":{\"roots\":{\"references\":[{\"attributes\":{\"below\":[{\"id\":\"1525\"}],\"center\":[{\"id\":\"1528\"},{\"id\":\"1531\"}],\"left\":[{\"id\":\"1529\"}],\"plot_height\":500,\"renderers\":[{\"id\":\"1550\"}],\"sizing_mode\":\"stretch_width\",\"title\":{\"id\":\"1515\"},\"toolbar\":{\"id\":\"1539\"},\"toolbar_location\":null,\"x_range\":{\"id\":\"1517\"},\"x_scale\":{\"id\":\"1521\"},\"y_range\":{\"id\":\"1519\"},\"y_scale\":{\"id\":\"1523\"}},\"id\":\"1514\",\"subtype\":\"Figure\",\"type\":\"Plot\"},{\"attributes\":{\"factors\":[\"Russell Wilson\",\"Josh Allen\",\"Ryan Tannehill\",\"Matt Ryan\",\"Gardner Minshew II\"]},\"id\":\"1519\",\"type\":\"FactorRange\"},{\"attributes\":{},\"id\":\"1535\",\"type\":\"SaveTool\"},{\"attributes\":{},\"id\":\"1526\",\"type\":\"BasicTicker\"},{\"attributes\":{},\"id\":\"1536\",\"type\":\"ResetTool\"},{\"attributes\":{},\"id\":\"1537\",\"type\":\"HelpTool\"},{\"attributes\":{},\"id\":\"1606\",\"type\":\"UnionRenderers\"},{\"attributes\":{},\"id\":\"1532\",\"type\":\"PanTool\"},{\"attributes\":{},\"id\":\"1533\",\"type\":\"WheelZoomTool\"},{\"attributes\":{\"data\":{\"Name\":[\"Russell Wilson\",\"Josh Allen\",\"Ryan Tannehill\",\"Matt Ryan\",\"Gardner Minshew II\"],\"PassingTD\":[5,4,4,4,3]},\"selected\":{\"id\":\"1607\"},\"selection_policy\":{\"id\":\"1606\"}},\"id\":\"1513\",\"type\":\"ColumnDataSource\"},{\"attributes\":{\"align\":\"center\",\"text\":\"Top 5 Passers\",\"text_color\":{\"value\":\"#4D5656\"},\"text_font_size\":{\"value\":\"16px\"}},\"id\":\"1515\",\"type\":\"Title\"},{\"attributes\":{\"overlay\":{\"id\":\"1538\"}},\"id\":\"1534\",\"type\":\"BoxZoomTool\"},{\"attributes\":{\"axis_label\":\"Passing TouchDowns\",\"formatter\":{\"id\":\"1601\"},\"ticker\":{\"id\":\"1526\"}},\"id\":\"1525\",\"type\":\"LinearAxis\"},{\"attributes\":{},\"id\":\"1603\",\"type\":\"CategoricalTickFormatter\"},{\"attributes\":{\"factors\":[\"Russell Wilson\",\"Josh Allen\",\"Ryan Tannehill\",\"Matt Ryan\",\"Gardner Minshew II\"],\"palette\":[\"#440154\",\"#3B518A\",\"#208F8C\",\"#5BC862\",\"#FDE724\"]},\"id\":\"1546\",\"type\":\"CategoricalColorMapper\"},{\"attributes\":{\"axis\":{\"id\":\"1525\"},\"ticker\":null},\"id\":\"1528\",\"type\":\"Grid\"},{\"attributes\":{\"source\":{\"id\":\"1513\"}},\"id\":\"1551\",\"type\":\"CDSView\"},{\"attributes\":{\"bottom_units\":\"screen\",\"fill_alpha\":0.5,\"fill_color\":\"lightgrey\",\"left_units\":\"screen\",\"level\":\"overlay\",\"line_alpha\":1.0,\"line_color\":\"black\",\"line_dash\":[4,4],\"line_width\":2,\"right_units\":\"screen\",\"top_units\":\"screen\"},\"id\":\"1538\",\"type\":\"BoxAnnotation\"},{\"attributes\":{},\"id\":\"1523\",\"type\":\"CategoricalScale\"},{\"attributes\":{\"fill_alpha\":{\"value\":0.1},\"fill_color\":{\"field\":\"Name\",\"transform\":{\"id\":\"1546\"}},\"height\":{\"value\":0.4},\"line_alpha\":{\"value\":0.1},\"line_color\":{\"value\":\"#1f77b4\"},\"right\":{\"field\":\"PassingTD\"},\"y\":{\"field\":\"Name\"}},\"id\":\"1549\",\"type\":\"HBar\"},{\"attributes\":{},\"id\":\"1601\",\"type\":\"BasicTickFormatter\"},{\"attributes\":{},\"id\":\"1530\",\"type\":\"CategoricalTicker\"},{\"attributes\":{},\"id\":\"1517\",\"type\":\"DataRange1d\"},{\"attributes\":{\"axis\":{\"id\":\"1529\"},\"dimension\":1,\"ticker\":null},\"id\":\"1531\",\"type\":\"Grid\"},{\"attributes\":{},\"id\":\"1521\",\"type\":\"LinearScale\"},{\"attributes\":{\"data_source\":{\"id\":\"1513\"},\"glyph\":{\"id\":\"1548\"},\"hover_glyph\":null,\"muted_glyph\":null,\"nonselection_glyph\":{\"id\":\"1549\"},\"selection_glyph\":null,\"view\":{\"id\":\"1551\"}},\"id\":\"1550\",\"type\":\"GlyphRenderer\"},{\"attributes\":{},\"id\":\"1607\",\"type\":\"Selection\"},{\"attributes\":{\"formatter\":{\"id\":\"1603\"},\"ticker\":{\"id\":\"1530\"}},\"id\":\"1529\",\"type\":\"CategoricalAxis\"},{\"attributes\":{\"active_drag\":\"auto\",\"active_inspect\":\"auto\",\"active_multi\":null,\"active_scroll\":\"auto\",\"active_tap\":\"auto\",\"tools\":[{\"id\":\"1532\"},{\"id\":\"1533\"},{\"id\":\"1534\"},{\"id\":\"1535\"},{\"id\":\"1536\"},{\"id\":\"1537\"}]},\"id\":\"1539\",\"type\":\"Toolbar\"},{\"attributes\":{\"fill_alpha\":{\"value\":0.8},\"fill_color\":{\"field\":\"Name\",\"transform\":{\"id\":\"1546\"}},\"height\":{\"value\":0.4},\"line_alpha\":{\"value\":0.8},\"line_color\":{\"value\":\"#1f77b4\"},\"right\":{\"field\":\"PassingTD\"},\"y\":{\"field\":\"Name\"}},\"id\":\"1548\",\"type\":\"HBar\"}],\"root_ids\":[\"1514\"]},\"title\":\"Bokeh Application\",\"version\":\"2.1.1\"}};\n  var render_items = [{\"docid\":\"c8f2dc4e-f644-4c16-bfbf-3a219083bd39\",\"root_ids\":[\"1514\"],\"roots\":{\"1514\":\"f383b3a5-1fa5-48dd-a57b-ebe4b1a850a0\"}}];\n  root.Bokeh.embed.embed_items_notebook(docs_json, render_items);\n\n  }\n  if (root.Bokeh !== undefined) {\n    embed_document(root);\n  } else {\n    var attempts = 0;\n    var timer = setInterval(function(root) {\n      if (root.Bokeh !== undefined) {\n        clearInterval(timer);\n        embed_document(root);\n      } else {\n        attempts++;\n        if (attempts > 100) {\n          clearInterval(timer);\n          console.log(\"Bokeh: ERROR: Unable to run BokehJS code because BokehJS library is missing\");\n        }\n      }\n    }, 10, root)\n  }\n})(window);",
      "application/vnd.bokehjs_exec.v0+json": ""
     },
     "metadata": {
      "application/vnd.bokehjs_exec.v0+json": {
       "id": "1514"
      }
     }
    }
   ],
   "source": [
    "# Plot - Top 5 Passers Overall \n",
    "\n",
    "top_5_assists_overall = pd.DataFrame(top_5_assists_overall)\n",
    "source = ColumnDataSource(top_5_assists_overall)\n",
    "\n",
    "names_list = source.data['Name'].tolist()\n",
    "p1 = figure(\n",
    "       y_range = names_list,\n",
    "       title='Top 5 Passers',\n",
    "       x_axis_label = 'Passing TouchDowns',\n",
    "       y_axis_label = '',\n",
    "       plot_height=500,\n",
    "       sizing_mode=\"stretch_width\",\n",
    "       toolbar_location=None\n",
    ")\n",
    "\n",
    "p1.hbar(y='Name', \n",
    "       right='PassingTD', \n",
    "       height=0.4, \n",
    "       fill_color=factor_cmap(\n",
    "              'Name',\n",
    "              palette=Viridis[5],\n",
    "              factors=names_list\n",
    "       ),\n",
    "       alpha=0.8,\n",
    "       source=source\n",
    ")\n",
    "\n",
    "p1.title.text_font_size='16px'\n",
    "p1.title.align='center'\n",
    "p1.title.text_color='#4D5656'\n",
    "\n",
    "show(p1)"
   ]
  },
  {
   "cell_type": "code",
   "execution_count": 37,
   "metadata": {},
   "outputs": [
    {
     "output_type": "display_data",
     "data": {
      "text/html": "\n\n\n\n\n\n  <div class=\"bk-root\" id=\"75d3a332-ea39-43fb-b487-fd9d821334a4\" data-root-id=\"1657\"></div>\n"
     },
     "metadata": {}
    },
    {
     "output_type": "display_data",
     "data": {
      "application/javascript": "(function(root) {\n  function embed_document(root) {\n    \n  var docs_json = {\"3a23552c-5198-464a-9637-21cdc91ef7db\":{\"roots\":{\"references\":[{\"attributes\":{\"below\":[{\"id\":\"1668\"}],\"center\":[{\"id\":\"1671\"},{\"id\":\"1674\"}],\"left\":[{\"id\":\"1672\"}],\"plot_height\":500,\"renderers\":[{\"id\":\"1693\"}],\"sizing_mode\":\"stretch_width\",\"title\":{\"id\":\"1658\"},\"toolbar\":{\"id\":\"1682\"},\"toolbar_location\":null,\"x_range\":{\"id\":\"1660\"},\"x_scale\":{\"id\":\"1664\"},\"y_range\":{\"id\":\"1662\"},\"y_scale\":{\"id\":\"1666\"}},\"id\":\"1657\",\"subtype\":\"Figure\",\"type\":\"Plot\"},{\"attributes\":{\"data\":{\"Int\":[1,1,1,1,1],\"Name\":[\"Nicholas Morrow\",\"William Jackson III\",\"Pierre Desir\",\"Deon Bush\",\"Julian Love\"]},\"selected\":{\"id\":\"1758\"},\"selection_policy\":{\"id\":\"1757\"}},\"id\":\"1656\",\"type\":\"ColumnDataSource\"},{\"attributes\":{},\"id\":\"1673\",\"type\":\"CategoricalTicker\"},{\"attributes\":{},\"id\":\"1666\",\"type\":\"CategoricalScale\"},{\"attributes\":{},\"id\":\"1679\",\"type\":\"ResetTool\"},{\"attributes\":{\"formatter\":{\"id\":\"1754\"},\"ticker\":{\"id\":\"1673\"}},\"id\":\"1672\",\"type\":\"CategoricalAxis\"},{\"attributes\":{},\"id\":\"1757\",\"type\":\"UnionRenderers\"},{\"attributes\":{\"axis\":{\"id\":\"1672\"},\"dimension\":1,\"ticker\":null},\"id\":\"1674\",\"type\":\"Grid\"},{\"attributes\":{\"factors\":[\"Nicholas Morrow\",\"William Jackson III\",\"Pierre Desir\",\"Deon Bush\",\"Julian Love\"]},\"id\":\"1662\",\"type\":\"FactorRange\"},{\"attributes\":{\"active_drag\":\"auto\",\"active_inspect\":\"auto\",\"active_multi\":null,\"active_scroll\":\"auto\",\"active_tap\":\"auto\",\"tools\":[{\"id\":\"1675\"},{\"id\":\"1676\"},{\"id\":\"1677\"},{\"id\":\"1678\"},{\"id\":\"1679\"},{\"id\":\"1680\"}]},\"id\":\"1682\",\"type\":\"Toolbar\"},{\"attributes\":{\"axis\":{\"id\":\"1668\"},\"ticker\":null},\"id\":\"1671\",\"type\":\"Grid\"},{\"attributes\":{},\"id\":\"1754\",\"type\":\"CategoricalTickFormatter\"},{\"attributes\":{\"data_source\":{\"id\":\"1656\"},\"glyph\":{\"id\":\"1691\"},\"hover_glyph\":null,\"muted_glyph\":null,\"nonselection_glyph\":{\"id\":\"1692\"},\"selection_glyph\":null,\"view\":{\"id\":\"1694\"}},\"id\":\"1693\",\"type\":\"GlyphRenderer\"},{\"attributes\":{\"bottom_units\":\"screen\",\"fill_alpha\":0.5,\"fill_color\":\"lightgrey\",\"left_units\":\"screen\",\"level\":\"overlay\",\"line_alpha\":1.0,\"line_color\":\"black\",\"line_dash\":[4,4],\"line_width\":2,\"right_units\":\"screen\",\"top_units\":\"screen\"},\"id\":\"1681\",\"type\":\"BoxAnnotation\"},{\"attributes\":{},\"id\":\"1669\",\"type\":\"BasicTicker\"},{\"attributes\":{},\"id\":\"1676\",\"type\":\"WheelZoomTool\"},{\"attributes\":{},\"id\":\"1660\",\"type\":\"DataRange1d\"},{\"attributes\":{\"source\":{\"id\":\"1656\"}},\"id\":\"1694\",\"type\":\"CDSView\"},{\"attributes\":{},\"id\":\"1664\",\"type\":\"LinearScale\"},{\"attributes\":{\"fill_alpha\":{\"value\":0.8},\"fill_color\":{\"field\":\"Name\",\"transform\":{\"id\":\"1689\"}},\"height\":{\"value\":0.4},\"line_alpha\":{\"value\":0.8},\"line_color\":{\"value\":\"#1f77b4\"},\"right\":{\"field\":\"Int\"},\"y\":{\"field\":\"Name\"}},\"id\":\"1691\",\"type\":\"HBar\"},{\"attributes\":{},\"id\":\"1678\",\"type\":\"SaveTool\"},{\"attributes\":{\"axis_label\":\"Interceptions\",\"formatter\":{\"id\":\"1752\"},\"ticker\":{\"id\":\"1669\"}},\"id\":\"1668\",\"type\":\"LinearAxis\"},{\"attributes\":{},\"id\":\"1680\",\"type\":\"HelpTool\"},{\"attributes\":{},\"id\":\"1758\",\"type\":\"Selection\"},{\"attributes\":{\"factors\":[\"Nicholas Morrow\",\"William Jackson III\",\"Pierre Desir\",\"Deon Bush\",\"Julian Love\"],\"palette\":[\"#440154\",\"#3B518A\",\"#208F8C\",\"#5BC862\",\"#FDE724\"]},\"id\":\"1689\",\"type\":\"CategoricalColorMapper\"},{\"attributes\":{\"align\":\"center\",\"text\":\"Top 5 Interceptors\",\"text_color\":{\"value\":\"#4D5656\"},\"text_font_size\":{\"value\":\"16px\"}},\"id\":\"1658\",\"type\":\"Title\"},{\"attributes\":{},\"id\":\"1752\",\"type\":\"BasicTickFormatter\"},{\"attributes\":{},\"id\":\"1675\",\"type\":\"PanTool\"},{\"attributes\":{\"fill_alpha\":{\"value\":0.1},\"fill_color\":{\"field\":\"Name\",\"transform\":{\"id\":\"1689\"}},\"height\":{\"value\":0.4},\"line_alpha\":{\"value\":0.1},\"line_color\":{\"value\":\"#1f77b4\"},\"right\":{\"field\":\"Int\"},\"y\":{\"field\":\"Name\"}},\"id\":\"1692\",\"type\":\"HBar\"},{\"attributes\":{\"overlay\":{\"id\":\"1681\"}},\"id\":\"1677\",\"type\":\"BoxZoomTool\"}],\"root_ids\":[\"1657\"]},\"title\":\"Bokeh Application\",\"version\":\"2.1.1\"}};\n  var render_items = [{\"docid\":\"3a23552c-5198-464a-9637-21cdc91ef7db\",\"root_ids\":[\"1657\"],\"roots\":{\"1657\":\"75d3a332-ea39-43fb-b487-fd9d821334a4\"}}];\n  root.Bokeh.embed.embed_items_notebook(docs_json, render_items);\n\n  }\n  if (root.Bokeh !== undefined) {\n    embed_document(root);\n  } else {\n    var attempts = 0;\n    var timer = setInterval(function(root) {\n      if (root.Bokeh !== undefined) {\n        clearInterval(timer);\n        embed_document(root);\n      } else {\n        attempts++;\n        if (attempts > 100) {\n          clearInterval(timer);\n          console.log(\"Bokeh: ERROR: Unable to run BokehJS code because BokehJS library is missing\");\n        }\n      }\n    }, 10, root)\n  }\n})(window);",
      "application/vnd.bokehjs_exec.v0+json": ""
     },
     "metadata": {
      "application/vnd.bokehjs_exec.v0+json": {
       "id": "1657"
      }
     }
    }
   ],
   "source": [
    "# Plot - Top 5 Passers Overall \n",
    "\n",
    "top_5_interceptions = pd.DataFrame(top_5_interceptions)\n",
    "source = ColumnDataSource(top_5_interceptions)\n",
    "\n",
    "names_list = source.data['Name'].tolist()\n",
    "p2 = figure(\n",
    "       y_range = names_list,\n",
    "       title='Top 5 Interceptors',\n",
    "       x_axis_label = 'Interceptions',\n",
    "       y_axis_label = '',\n",
    "       plot_height=500,\n",
    "       sizing_mode=\"stretch_width\",\n",
    "       toolbar_location=None\n",
    ")\n",
    "\n",
    "p2.hbar(y='Name', \n",
    "       right='Int', \n",
    "       height=0.4, \n",
    "       fill_color=factor_cmap(\n",
    "              'Name',\n",
    "              palette=Viridis[5],\n",
    "              factors=names_list\n",
    "       ),\n",
    "       alpha=0.8,\n",
    "       source=source\n",
    ")\n",
    "\n",
    "p2.title.text_font_size='16px'\n",
    "p2.title.align='center'\n",
    "p2.title.text_color='#4D5656'\n",
    "\n",
    "show(p2)"
   ]
  },
  {
   "cell_type": "code",
   "execution_count": 39,
   "metadata": {},
   "outputs": [
    {
     "output_type": "display_data",
     "data": {
      "text/html": "\n\n\n\n\n\n  <div class=\"bk-root\" id=\"3c547dba-dcc4-4dc5-ac57-3e3de1e1ec51\" data-root-id=\"1812\"></div>\n"
     },
     "metadata": {}
    },
    {
     "output_type": "display_data",
     "data": {
      "application/javascript": "(function(root) {\n  function embed_document(root) {\n    \n  var docs_json = {\"277c5d44-385a-415b-b57d-1cf061ec8dae\":{\"roots\":{\"references\":[{\"attributes\":{\"below\":[{\"id\":\"1823\"}],\"center\":[{\"id\":\"1826\"},{\"id\":\"1829\"}],\"left\":[{\"id\":\"1827\"}],\"plot_height\":500,\"renderers\":[{\"id\":\"1848\"}],\"sizing_mode\":\"stretch_width\",\"title\":{\"id\":\"1813\"},\"toolbar\":{\"id\":\"1837\"},\"toolbar_location\":null,\"x_range\":{\"id\":\"1815\"},\"x_scale\":{\"id\":\"1819\"},\"y_range\":{\"id\":\"1817\"},\"y_scale\":{\"id\":\"1821\"}},\"id\":\"1812\",\"subtype\":\"Figure\",\"type\":\"Plot\"},{\"attributes\":{},\"id\":\"1828\",\"type\":\"CategoricalTicker\"},{\"attributes\":{\"axis_label\":\"Fumbles\",\"formatter\":{\"id\":\"1915\"},\"ticker\":{\"id\":\"1824\"}},\"id\":\"1823\",\"type\":\"LinearAxis\"},{\"attributes\":{\"bottom_units\":\"screen\",\"fill_alpha\":0.5,\"fill_color\":\"lightgrey\",\"left_units\":\"screen\",\"level\":\"overlay\",\"line_alpha\":1.0,\"line_color\":\"black\",\"line_dash\":[4,4],\"line_width\":2,\"right_units\":\"screen\",\"top_units\":\"screen\"},\"id\":\"1836\",\"type\":\"BoxAnnotation\"},{\"attributes\":{\"axis\":{\"id\":\"1823\"},\"ticker\":null},\"id\":\"1826\",\"type\":\"Grid\"},{\"attributes\":{},\"id\":\"1915\",\"type\":\"BasicTickFormatter\"},{\"attributes\":{\"align\":\"center\",\"text\":\"Top 5 Fumbles\",\"text_color\":{\"value\":\"#4D5656\"},\"text_font_size\":{\"value\":\"16px\"}},\"id\":\"1813\",\"type\":\"Title\"},{\"attributes\":{},\"id\":\"1830\",\"type\":\"PanTool\"},{\"attributes\":{\"formatter\":{\"id\":\"1917\"},\"ticker\":{\"id\":\"1828\"}},\"id\":\"1827\",\"type\":\"CategoricalAxis\"},{\"attributes\":{},\"id\":\"1831\",\"type\":\"WheelZoomTool\"},{\"attributes\":{\"overlay\":{\"id\":\"1836\"}},\"id\":\"1832\",\"type\":\"BoxZoomTool\"},{\"attributes\":{\"data_source\":{\"id\":\"1811\"},\"glyph\":{\"id\":\"1846\"},\"hover_glyph\":null,\"muted_glyph\":null,\"nonselection_glyph\":{\"id\":\"1847\"},\"selection_glyph\":null,\"view\":{\"id\":\"1849\"}},\"id\":\"1848\",\"type\":\"GlyphRenderer\"},{\"attributes\":{},\"id\":\"1834\",\"type\":\"ResetTool\"},{\"attributes\":{\"fill_alpha\":{\"value\":0.8},\"fill_color\":{\"field\":\"Name\",\"transform\":{\"id\":\"1844\"}},\"height\":{\"value\":0.4},\"line_alpha\":{\"value\":0.8},\"line_color\":{\"value\":\"#1f77b4\"},\"right\":{\"field\":\"FL\"},\"y\":{\"field\":\"Name\"}},\"id\":\"1846\",\"type\":\"HBar\"},{\"attributes\":{},\"id\":\"1819\",\"type\":\"LinearScale\"},{\"attributes\":{\"axis\":{\"id\":\"1827\"},\"dimension\":1,\"ticker\":null},\"id\":\"1829\",\"type\":\"Grid\"},{\"attributes\":{},\"id\":\"1833\",\"type\":\"SaveTool\"},{\"attributes\":{\"factors\":[\"Joe Burrow\",\"Ezekiel Elliott\",\"Nick Mullens\",\"Derek Carr\",\"Dak Prescott\"],\"palette\":[\"#440154\",\"#3B518A\",\"#208F8C\",\"#5BC862\",\"#FDE724\"]},\"id\":\"1844\",\"type\":\"CategoricalColorMapper\"},{\"attributes\":{\"data\":{\"FL\":[2,2,2,2,1],\"Name\":[\"Joe Burrow\",\"Ezekiel Elliott\",\"Nick Mullens\",\"Derek Carr\",\"Dak Prescott\"]},\"selected\":{\"id\":\"1921\"},\"selection_policy\":{\"id\":\"1920\"}},\"id\":\"1811\",\"type\":\"ColumnDataSource\"},{\"attributes\":{},\"id\":\"1815\",\"type\":\"DataRange1d\"},{\"attributes\":{\"fill_alpha\":{\"value\":0.1},\"fill_color\":{\"field\":\"Name\",\"transform\":{\"id\":\"1844\"}},\"height\":{\"value\":0.4},\"line_alpha\":{\"value\":0.1},\"line_color\":{\"value\":\"#1f77b4\"},\"right\":{\"field\":\"FL\"},\"y\":{\"field\":\"Name\"}},\"id\":\"1847\",\"type\":\"HBar\"},{\"attributes\":{},\"id\":\"1921\",\"type\":\"Selection\"},{\"attributes\":{},\"id\":\"1920\",\"type\":\"UnionRenderers\"},{\"attributes\":{},\"id\":\"1824\",\"type\":\"BasicTicker\"},{\"attributes\":{},\"id\":\"1835\",\"type\":\"HelpTool\"},{\"attributes\":{},\"id\":\"1821\",\"type\":\"CategoricalScale\"},{\"attributes\":{\"source\":{\"id\":\"1811\"}},\"id\":\"1849\",\"type\":\"CDSView\"},{\"attributes\":{\"active_drag\":\"auto\",\"active_inspect\":\"auto\",\"active_multi\":null,\"active_scroll\":\"auto\",\"active_tap\":\"auto\",\"tools\":[{\"id\":\"1830\"},{\"id\":\"1831\"},{\"id\":\"1832\"},{\"id\":\"1833\"},{\"id\":\"1834\"},{\"id\":\"1835\"}]},\"id\":\"1837\",\"type\":\"Toolbar\"},{\"attributes\":{},\"id\":\"1917\",\"type\":\"CategoricalTickFormatter\"},{\"attributes\":{\"factors\":[\"Joe Burrow\",\"Ezekiel Elliott\",\"Nick Mullens\",\"Derek Carr\",\"Dak Prescott\"]},\"id\":\"1817\",\"type\":\"FactorRange\"}],\"root_ids\":[\"1812\"]},\"title\":\"Bokeh Application\",\"version\":\"2.1.1\"}};\n  var render_items = [{\"docid\":\"277c5d44-385a-415b-b57d-1cf061ec8dae\",\"root_ids\":[\"1812\"],\"roots\":{\"1812\":\"3c547dba-dcc4-4dc5-ac57-3e3de1e1ec51\"}}];\n  root.Bokeh.embed.embed_items_notebook(docs_json, render_items);\n\n  }\n  if (root.Bokeh !== undefined) {\n    embed_document(root);\n  } else {\n    var attempts = 0;\n    var timer = setInterval(function(root) {\n      if (root.Bokeh !== undefined) {\n        clearInterval(timer);\n        embed_document(root);\n      } else {\n        attempts++;\n        if (attempts > 100) {\n          clearInterval(timer);\n          console.log(\"Bokeh: ERROR: Unable to run BokehJS code because BokehJS library is missing\");\n        }\n      }\n    }, 10, root)\n  }\n})(window);",
      "application/vnd.bokehjs_exec.v0+json": ""
     },
     "metadata": {
      "application/vnd.bokehjs_exec.v0+json": {
       "id": "1812"
      }
     }
    }
   ],
   "source": [
    "# Plot - Top 5 Fumbles\n",
    "\n",
    "top_5_fumbles = pd.DataFrame(top_5_fumbles)\n",
    "source = ColumnDataSource(top_5_fumbles)\n",
    "\n",
    "names_list = source.data['Name'].tolist()\n",
    "p3 = figure(\n",
    "       y_range = names_list,\n",
    "       title='Top 5 Fumbles',\n",
    "       x_axis_label = 'Fumbles',\n",
    "       y_axis_label = '',\n",
    "       plot_height=500,\n",
    "       sizing_mode=\"stretch_width\",\n",
    "       toolbar_location=None\n",
    ")\n",
    "\n",
    "p3.hbar(y='Name', \n",
    "       right='FL', \n",
    "       height=0.4, \n",
    "       fill_color=factor_cmap(\n",
    "              'Name',\n",
    "              palette=Viridis[5],\n",
    "              factors=names_list\n",
    "       ),\n",
    "       alpha=0.8,\n",
    "       source=source\n",
    ")\n",
    "\n",
    "p3.title.text_font_size='16px'\n",
    "p3.title.align='center'\n",
    "p3.title.text_color='#4D5656'\n",
    "\n",
    "show(p3)"
   ]
  },
  {
   "cell_type": "code",
   "execution_count": 17,
   "metadata": {},
   "outputs": [
    {
     "output_type": "display_data",
     "data": {
      "text/html": "\n\n\n\n\n\n  <div class=\"bk-root\" id=\"c6729da5-f20e-48ca-a337-b11446640165\" data-root-id=\"1314\"></div>\n"
     },
     "metadata": {}
    },
    {
     "output_type": "display_data",
     "data": {
      "application/javascript": "(function(root) {\n  function embed_document(root) {\n    \n  var docs_json = {\"8213c877-98e1-4ecd-ae94-36e3aa33f257\":{\"roots\":{\"references\":[{\"attributes\":{\"tabs\":[{\"id\":\"1311\"},{\"id\":\"1312\"},{\"id\":\"1313\"}]},\"id\":\"1314\",\"type\":\"Tabs\"},{\"attributes\":{\"axis\":{\"id\":\"1212\"},\"ticker\":null},\"id\":\"1215\",\"type\":\"Grid\"},{\"attributes\":{},\"id\":\"1217\",\"type\":\"CategoricalTicker\"},{\"attributes\":{},\"id\":\"1261\",\"type\":\"UnionRenderers\"},{\"attributes\":{},\"id\":\"1262\",\"type\":\"Selection\"},{\"attributes\":{\"axis\":{\"id\":\"1216\"},\"dimension\":1,\"ticker\":null},\"id\":\"1218\",\"type\":\"Grid\"},{\"attributes\":{\"axis_label\":\"Interceptions\",\"formatter\":{\"id\":\"1145\"},\"ticker\":{\"id\":\"1110\"}},\"id\":\"1109\",\"type\":\"LinearAxis\"},{\"attributes\":{},\"id\":\"1219\",\"type\":\"PanTool\"},{\"attributes\":{},\"id\":\"1220\",\"type\":\"WheelZoomTool\"},{\"attributes\":{},\"id\":\"1105\",\"type\":\"LinearScale\"},{\"attributes\":{},\"id\":\"1224\",\"type\":\"HelpTool\"},{\"attributes\":{\"overlay\":{\"id\":\"1225\"}},\"id\":\"1221\",\"type\":\"BoxZoomTool\"},{\"attributes\":{},\"id\":\"1222\",\"type\":\"SaveTool\"},{\"attributes\":{},\"id\":\"1223\",\"type\":\"ResetTool\"},{\"attributes\":{},\"id\":\"1101\",\"type\":\"DataRange1d\"},{\"attributes\":{\"factors\":[\"Nicholas Morrow\",\"William Jackson III\",\"Pierre Desir\",\"Deon Bush\",\"Julian Love\"]},\"id\":\"1103\",\"type\":\"FactorRange\"},{\"attributes\":{\"formatter\":{\"id\":\"1147\"},\"ticker\":{\"id\":\"1114\"}},\"id\":\"1113\",\"type\":\"CategoricalAxis\"},{\"attributes\":{\"data\":{\"Int\":[1,1,1,1,1],\"Name\":[\"Nicholas Morrow\",\"William Jackson III\",\"Pierre Desir\",\"Deon Bush\",\"Julian Love\"]},\"selected\":{\"id\":\"1151\"},\"selection_policy\":{\"id\":\"1150\"}},\"id\":\"1097\",\"type\":\"ColumnDataSource\"},{\"attributes\":{\"fill_alpha\":{\"value\":0.8},\"fill_color\":{\"field\":\"Name\",\"transform\":{\"id\":\"1130\"}},\"height\":{\"value\":0.4},\"line_alpha\":{\"value\":0.8},\"line_color\":{\"value\":\"#1f77b4\"},\"right\":{\"field\":\"Int\"},\"y\":{\"field\":\"Name\"}},\"id\":\"1132\",\"type\":\"HBar\"},{\"attributes\":{\"bottom_units\":\"screen\",\"fill_alpha\":0.5,\"fill_color\":\"lightgrey\",\"left_units\":\"screen\",\"level\":\"overlay\",\"line_alpha\":1.0,\"line_color\":\"black\",\"line_dash\":[4,4],\"line_width\":2,\"right_units\":\"screen\",\"top_units\":\"screen\"},\"id\":\"1225\",\"type\":\"BoxAnnotation\"},{\"attributes\":{\"factors\":[\"Nicholas Morrow\",\"William Jackson III\",\"Pierre Desir\",\"Deon Bush\",\"Julian Love\"],\"palette\":[\"#440154\",\"#3B518A\",\"#208F8C\",\"#5BC862\",\"#FDE724\"]},\"id\":\"1130\",\"type\":\"CategoricalColorMapper\"},{\"attributes\":{\"below\":[{\"id\":\"1109\"}],\"center\":[{\"id\":\"1112\"},{\"id\":\"1115\"}],\"left\":[{\"id\":\"1113\"}],\"plot_height\":500,\"renderers\":[{\"id\":\"1134\"}],\"sizing_mode\":\"stretch_width\",\"title\":{\"id\":\"1099\"},\"toolbar\":{\"id\":\"1123\"},\"toolbar_location\":null,\"x_range\":{\"id\":\"1101\"},\"x_scale\":{\"id\":\"1105\"},\"y_range\":{\"id\":\"1103\"},\"y_scale\":{\"id\":\"1107\"}},\"id\":\"1098\",\"subtype\":\"Figure\",\"type\":\"Plot\"},{\"attributes\":{},\"id\":\"1110\",\"type\":\"BasicTicker\"},{\"attributes\":{},\"id\":\"1107\",\"type\":\"CategoricalScale\"},{\"attributes\":{},\"id\":\"1114\",\"type\":\"CategoricalTicker\"},{\"attributes\":{\"active_drag\":\"auto\",\"active_inspect\":\"auto\",\"active_multi\":null,\"active_scroll\":\"auto\",\"active_tap\":\"auto\",\"tools\":[{\"id\":\"1219\"},{\"id\":\"1220\"},{\"id\":\"1221\"},{\"id\":\"1222\"},{\"id\":\"1223\"},{\"id\":\"1224\"}]},\"id\":\"1226\",\"type\":\"Toolbar\"},{\"attributes\":{\"align\":\"center\",\"text\":\"Top 5 Interceptors\",\"text_color\":{\"value\":\"#4D5656\"},\"text_font_size\":{\"value\":\"16px\"}},\"id\":\"1099\",\"type\":\"Title\"},{\"attributes\":{},\"id\":\"1150\",\"type\":\"UnionRenderers\"},{\"attributes\":{\"child\":{\"id\":\"1098\"},\"title\":\"Top 5  Interceptors\"},\"id\":\"1312\",\"type\":\"Panel\"},{\"attributes\":{\"axis\":{\"id\":\"1109\"},\"ticker\":null},\"id\":\"1112\",\"type\":\"Grid\"},{\"attributes\":{\"child\":{\"id\":\"1003\"},\"title\":\"Top 5 Passers\"},\"id\":\"1311\",\"type\":\"Panel\"},{\"attributes\":{\"child\":{\"id\":\"1201\"},\"title\":\"Top 5 Fumbles\"},\"id\":\"1313\",\"type\":\"Panel\"},{\"attributes\":{\"axis\":{\"id\":\"1113\"},\"dimension\":1,\"ticker\":null},\"id\":\"1115\",\"type\":\"Grid\"},{\"attributes\":{\"active_drag\":\"auto\",\"active_inspect\":\"auto\",\"active_multi\":null,\"active_scroll\":\"auto\",\"active_tap\":\"auto\",\"tools\":[{\"id\":\"1116\"},{\"id\":\"1117\"},{\"id\":\"1118\"},{\"id\":\"1119\"},{\"id\":\"1120\"},{\"id\":\"1121\"}]},\"id\":\"1123\",\"type\":\"Toolbar\"},{\"attributes\":{},\"id\":\"1116\",\"type\":\"PanTool\"},{\"attributes\":{},\"id\":\"1117\",\"type\":\"WheelZoomTool\"},{\"attributes\":{},\"id\":\"1121\",\"type\":\"HelpTool\"},{\"attributes\":{\"overlay\":{\"id\":\"1122\"}},\"id\":\"1118\",\"type\":\"BoxZoomTool\"},{\"attributes\":{},\"id\":\"1119\",\"type\":\"SaveTool\"},{\"attributes\":{},\"id\":\"1120\",\"type\":\"ResetTool\"},{\"attributes\":{\"source\":{\"id\":\"1200\"}},\"id\":\"1238\",\"type\":\"CDSView\"},{\"attributes\":{\"fill_alpha\":{\"value\":0.1},\"fill_color\":{\"field\":\"Name\",\"transform\":{\"id\":\"1233\"}},\"height\":{\"value\":0.4},\"line_alpha\":{\"value\":0.1},\"line_color\":{\"value\":\"#1f77b4\"},\"right\":{\"field\":\"FL\"},\"y\":{\"field\":\"Name\"}},\"id\":\"1236\",\"type\":\"HBar\"},{\"attributes\":{},\"id\":\"1151\",\"type\":\"Selection\"},{\"attributes\":{},\"id\":\"1256\",\"type\":\"BasicTickFormatter\"},{\"attributes\":{\"data_source\":{\"id\":\"1200\"},\"glyph\":{\"id\":\"1235\"},\"hover_glyph\":null,\"muted_glyph\":null,\"nonselection_glyph\":{\"id\":\"1236\"},\"selection_glyph\":null,\"view\":{\"id\":\"1238\"}},\"id\":\"1237\",\"type\":\"GlyphRenderer\"},{\"attributes\":{},\"id\":\"1258\",\"type\":\"CategoricalTickFormatter\"},{\"attributes\":{\"formatter\":{\"id\":\"1258\"},\"ticker\":{\"id\":\"1217\"}},\"id\":\"1216\",\"type\":\"CategoricalAxis\"},{\"attributes\":{\"bottom_units\":\"screen\",\"fill_alpha\":0.5,\"fill_color\":\"lightgrey\",\"left_units\":\"screen\",\"level\":\"overlay\",\"line_alpha\":1.0,\"line_color\":\"black\",\"line_dash\":[4,4],\"line_width\":2,\"right_units\":\"screen\",\"top_units\":\"screen\"},\"id\":\"1122\",\"type\":\"BoxAnnotation\"},{\"attributes\":{\"factors\":[\"Russell Wilson\",\"Josh Allen\",\"Ryan Tannehill\",\"Matt Ryan\",\"Gardner Minshew II\"],\"palette\":[\"#440154\",\"#3B518A\",\"#208F8C\",\"#5BC862\",\"#FDE724\"]},\"id\":\"1035\",\"type\":\"CategoricalColorMapper\"},{\"attributes\":{\"below\":[{\"id\":\"1014\"}],\"center\":[{\"id\":\"1017\"},{\"id\":\"1020\"}],\"left\":[{\"id\":\"1018\"}],\"plot_height\":500,\"renderers\":[{\"id\":\"1039\"}],\"sizing_mode\":\"stretch_width\",\"title\":{\"id\":\"1004\"},\"toolbar\":{\"id\":\"1028\"},\"toolbar_location\":null,\"x_range\":{\"id\":\"1006\"},\"x_scale\":{\"id\":\"1010\"},\"y_range\":{\"id\":\"1008\"},\"y_scale\":{\"id\":\"1012\"}},\"id\":\"1003\",\"subtype\":\"Figure\",\"type\":\"Plot\"},{\"attributes\":{},\"id\":\"1012\",\"type\":\"CategoricalScale\"},{\"attributes\":{\"bottom_units\":\"screen\",\"fill_alpha\":0.5,\"fill_color\":\"lightgrey\",\"left_units\":\"screen\",\"level\":\"overlay\",\"line_alpha\":1.0,\"line_color\":\"black\",\"line_dash\":[4,4],\"line_width\":2,\"right_units\":\"screen\",\"top_units\":\"screen\"},\"id\":\"1027\",\"type\":\"BoxAnnotation\"},{\"attributes\":{\"fill_alpha\":{\"value\":0.8},\"fill_color\":{\"field\":\"Name\",\"transform\":{\"id\":\"1233\"}},\"height\":{\"value\":0.4},\"line_alpha\":{\"value\":0.8},\"line_color\":{\"value\":\"#1f77b4\"},\"right\":{\"field\":\"FL\"},\"y\":{\"field\":\"Name\"}},\"id\":\"1235\",\"type\":\"HBar\"},{\"attributes\":{\"fill_alpha\":{\"value\":0.1},\"fill_color\":{\"field\":\"Name\",\"transform\":{\"id\":\"1035\"}},\"height\":{\"value\":0.4},\"line_alpha\":{\"value\":0.1},\"line_color\":{\"value\":\"#1f77b4\"},\"right\":{\"field\":\"PassingTD\"},\"y\":{\"field\":\"Name\"}},\"id\":\"1038\",\"type\":\"HBar\"},{\"attributes\":{\"axis\":{\"id\":\"1014\"},\"ticker\":null},\"id\":\"1017\",\"type\":\"Grid\"},{\"attributes\":{\"align\":\"center\",\"text\":\"Top 5 Passers\",\"text_color\":{\"value\":\"#4D5656\"},\"text_font_size\":{\"value\":\"16px\"}},\"id\":\"1004\",\"type\":\"Title\"},{\"attributes\":{\"data_source\":{\"id\":\"1097\"},\"glyph\":{\"id\":\"1132\"},\"hover_glyph\":null,\"muted_glyph\":null,\"nonselection_glyph\":{\"id\":\"1133\"},\"selection_glyph\":null,\"view\":{\"id\":\"1135\"}},\"id\":\"1134\",\"type\":\"GlyphRenderer\"},{\"attributes\":{\"data\":{\"Name\":[\"Russell Wilson\",\"Josh Allen\",\"Ryan Tannehill\",\"Matt Ryan\",\"Gardner Minshew II\"],\"PassingTD\":[5,4,4,4,3]},\"selected\":{\"id\":\"1048\"},\"selection_policy\":{\"id\":\"1047\"}},\"id\":\"1002\",\"type\":\"ColumnDataSource\"},{\"attributes\":{},\"id\":\"1145\",\"type\":\"BasicTickFormatter\"},{\"attributes\":{},\"id\":\"1025\",\"type\":\"ResetTool\"},{\"attributes\":{\"active_drag\":\"auto\",\"active_inspect\":\"auto\",\"active_multi\":null,\"active_scroll\":\"auto\",\"active_tap\":\"auto\",\"tools\":[{\"id\":\"1021\"},{\"id\":\"1022\"},{\"id\":\"1023\"},{\"id\":\"1024\"},{\"id\":\"1025\"},{\"id\":\"1026\"}]},\"id\":\"1028\",\"type\":\"Toolbar\"},{\"attributes\":{\"formatter\":{\"id\":\"1044\"},\"ticker\":{\"id\":\"1019\"}},\"id\":\"1018\",\"type\":\"CategoricalAxis\"},{\"attributes\":{},\"id\":\"1147\",\"type\":\"CategoricalTickFormatter\"},{\"attributes\":{},\"id\":\"1024\",\"type\":\"SaveTool\"},{\"attributes\":{},\"id\":\"1044\",\"type\":\"CategoricalTickFormatter\"},{\"attributes\":{},\"id\":\"1019\",\"type\":\"CategoricalTicker\"},{\"attributes\":{\"fill_alpha\":{\"value\":0.8},\"fill_color\":{\"field\":\"Name\",\"transform\":{\"id\":\"1035\"}},\"height\":{\"value\":0.4},\"line_alpha\":{\"value\":0.8},\"line_color\":{\"value\":\"#1f77b4\"},\"right\":{\"field\":\"PassingTD\"},\"y\":{\"field\":\"Name\"}},\"id\":\"1037\",\"type\":\"HBar\"},{\"attributes\":{},\"id\":\"1042\",\"type\":\"BasicTickFormatter\"},{\"attributes\":{\"fill_alpha\":{\"value\":0.1},\"fill_color\":{\"field\":\"Name\",\"transform\":{\"id\":\"1130\"}},\"height\":{\"value\":0.4},\"line_alpha\":{\"value\":0.1},\"line_color\":{\"value\":\"#1f77b4\"},\"right\":{\"field\":\"Int\"},\"y\":{\"field\":\"Name\"}},\"id\":\"1133\",\"type\":\"HBar\"},{\"attributes\":{\"source\":{\"id\":\"1002\"}},\"id\":\"1040\",\"type\":\"CDSView\"},{\"attributes\":{},\"id\":\"1213\",\"type\":\"BasicTicker\"},{\"attributes\":{},\"id\":\"1015\",\"type\":\"BasicTicker\"},{\"attributes\":{},\"id\":\"1006\",\"type\":\"DataRange1d\"},{\"attributes\":{\"axis\":{\"id\":\"1018\"},\"dimension\":1,\"ticker\":null},\"id\":\"1020\",\"type\":\"Grid\"},{\"attributes\":{},\"id\":\"1026\",\"type\":\"HelpTool\"},{\"attributes\":{\"source\":{\"id\":\"1097\"}},\"id\":\"1135\",\"type\":\"CDSView\"},{\"attributes\":{\"axis_label\":\"Passing TouchDowns\",\"formatter\":{\"id\":\"1042\"},\"ticker\":{\"id\":\"1015\"}},\"id\":\"1014\",\"type\":\"LinearAxis\"},{\"attributes\":{},\"id\":\"1208\",\"type\":\"LinearScale\"},{\"attributes\":{\"data\":{\"FL\":[2,2,2,2,1],\"Name\":[\"Joe Burrow\",\"Ezekiel Elliott\",\"Nick Mullens\",\"Derek Carr\",\"Dak Prescott\"]},\"selected\":{\"id\":\"1262\"},\"selection_policy\":{\"id\":\"1261\"}},\"id\":\"1200\",\"type\":\"ColumnDataSource\"},{\"attributes\":{},\"id\":\"1048\",\"type\":\"Selection\"},{\"attributes\":{\"factors\":[\"Russell Wilson\",\"Josh Allen\",\"Ryan Tannehill\",\"Matt Ryan\",\"Gardner Minshew II\"]},\"id\":\"1008\",\"type\":\"FactorRange\"},{\"attributes\":{\"overlay\":{\"id\":\"1027\"}},\"id\":\"1023\",\"type\":\"BoxZoomTool\"},{\"attributes\":{},\"id\":\"1021\",\"type\":\"PanTool\"},{\"attributes\":{\"factors\":[\"Joe Burrow\",\"Ezekiel Elliott\",\"Nick Mullens\",\"Derek Carr\",\"Dak Prescott\"],\"palette\":[\"#440154\",\"#3B518A\",\"#208F8C\",\"#5BC862\",\"#FDE724\"]},\"id\":\"1233\",\"type\":\"CategoricalColorMapper\"},{\"attributes\":{\"data_source\":{\"id\":\"1002\"},\"glyph\":{\"id\":\"1037\"},\"hover_glyph\":null,\"muted_glyph\":null,\"nonselection_glyph\":{\"id\":\"1038\"},\"selection_glyph\":null,\"view\":{\"id\":\"1040\"}},\"id\":\"1039\",\"type\":\"GlyphRenderer\"},{\"attributes\":{\"axis_label\":\"Fumbles\",\"formatter\":{\"id\":\"1256\"},\"ticker\":{\"id\":\"1213\"}},\"id\":\"1212\",\"type\":\"LinearAxis\"},{\"attributes\":{\"below\":[{\"id\":\"1212\"}],\"center\":[{\"id\":\"1215\"},{\"id\":\"1218\"}],\"left\":[{\"id\":\"1216\"}],\"plot_height\":500,\"renderers\":[{\"id\":\"1237\"}],\"sizing_mode\":\"stretch_width\",\"title\":{\"id\":\"1202\"},\"toolbar\":{\"id\":\"1226\"},\"toolbar_location\":null,\"x_range\":{\"id\":\"1204\"},\"x_scale\":{\"id\":\"1208\"},\"y_range\":{\"id\":\"1206\"},\"y_scale\":{\"id\":\"1210\"}},\"id\":\"1201\",\"subtype\":\"Figure\",\"type\":\"Plot\"},{\"attributes\":{},\"id\":\"1210\",\"type\":\"CategoricalScale\"},{\"attributes\":{},\"id\":\"1022\",\"type\":\"WheelZoomTool\"},{\"attributes\":{\"factors\":[\"Joe Burrow\",\"Ezekiel Elliott\",\"Nick Mullens\",\"Derek Carr\",\"Dak Prescott\"]},\"id\":\"1206\",\"type\":\"FactorRange\"},{\"attributes\":{},\"id\":\"1047\",\"type\":\"UnionRenderers\"},{\"attributes\":{},\"id\":\"1204\",\"type\":\"DataRange1d\"},{\"attributes\":{\"align\":\"center\",\"text\":\"Top 5 Fumbles\",\"text_color\":{\"value\":\"#4D5656\"},\"text_font_size\":{\"value\":\"16px\"}},\"id\":\"1202\",\"type\":\"Title\"},{\"attributes\":{},\"id\":\"1010\",\"type\":\"LinearScale\"}],\"root_ids\":[\"1314\"]},\"title\":\"Bokeh Application\",\"version\":\"2.1.1\"}};\n  var render_items = [{\"docid\":\"8213c877-98e1-4ecd-ae94-36e3aa33f257\",\"root_ids\":[\"1314\"],\"roots\":{\"1314\":\"c6729da5-f20e-48ca-a337-b11446640165\"}}];\n  root.Bokeh.embed.embed_items_notebook(docs_json, render_items);\n\n  }\n  if (root.Bokeh !== undefined) {\n    embed_document(root);\n  } else {\n    var attempts = 0;\n    var timer = setInterval(function(root) {\n      if (root.Bokeh !== undefined) {\n        clearInterval(timer);\n        embed_document(root);\n      } else {\n        attempts++;\n        if (attempts > 100) {\n          clearInterval(timer);\n          console.log(\"Bokeh: ERROR: Unable to run BokehJS code because BokehJS library is missing\");\n        }\n      }\n    }, 10, root)\n  }\n})(window);",
      "application/vnd.bokehjs_exec.v0+json": ""
     },
     "metadata": {
      "application/vnd.bokehjs_exec.v0+json": {
       "id": "1314"
      }
     }
    }
   ],
   "source": [
    "# Creating Panel\n",
    "\n",
    "tab1 = Panel(child=p1, title=\"Top 5 Passers\")\n",
    "tab2 = Panel(child=p2, title=\"Top 5  Interceptors\")\n",
    "tab3 = Panel(child=p3, title=\"Top 5 Fumbles\")\n",
    "\n",
    "show(Tabs(tabs=[tab1, tab2, tab3]))"
   ]
  },
  {
   "cell_type": "code",
   "execution_count": null,
   "metadata": {},
   "outputs": [],
   "source": []
  }
 ]
}