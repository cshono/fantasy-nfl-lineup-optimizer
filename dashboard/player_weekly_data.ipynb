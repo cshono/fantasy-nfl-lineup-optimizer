{
 "metadata": {
  "language_info": {
   "codemirror_mode": {
    "name": "ipython",
    "version": 3
   },
   "file_extension": ".py",
   "mimetype": "text/x-python",
   "name": "python",
   "nbconvert_exporter": "python",
   "pygments_lexer": "ipython3",
   "version": "3.8.3-final"
  },
  "orig_nbformat": 2,
  "kernelspec": {
   "name": "Python 3.8.3 64-bit ('base': conda)",
   "display_name": "Python 3.8.3 64-bit ('base': conda)",
   "metadata": {
    "interpreter": {
     "hash": "a4841eeb86f7d837670793275e227623a560700939cb6e34c015832bd2c85e9e"
    }
   }
  }
 },
 "nbformat": 4,
 "nbformat_minor": 2,
 "cells": [
  {
   "cell_type": "code",
   "execution_count": 1,
   "metadata": {},
   "outputs": [],
   "source": [
    "# Data handling\n",
    "import pandas as pd\n",
    "import numpy as np\n",
    "import matplotlib.pyplot as plt"
   ]
  },
  {
   "cell_type": "code",
   "execution_count": 41,
   "metadata": {},
   "outputs": [],
   "source": [
    "# Bokeh libraries\n",
    "from bokeh.io import output_file, output_notebook\n",
    "from bokeh.plotting import figure, show\n",
    "from bokeh.models import ColumnDataSource\n",
    "from bokeh.layouts import row, column, gridplot\n",
    "from bokeh.models.widgets import Tabs, Panel\n",
    "from bokeh.models import ColumnDataSource, HoverTool, CategoricalColorMapper, LinearColorMapper, ColorBar, Slider\n",
    "from bokeh.palettes import Spectral5, Category20b, Viridis, Cividis, Viridis256\n",
    "from bokeh.transform import factor_cmap, transform"
   ]
  },
  {
   "cell_type": "code",
   "execution_count": 26,
   "metadata": {},
   "outputs": [
    {
     "output_type": "display_data",
     "data": {
      "text/html": "\n    <div class=\"bk-root\">\n        <a href=\"https://bokeh.org\" target=\"_blank\" class=\"bk-logo bk-logo-small bk-logo-notebook\"></a>\n        <span id=\"2254\">Loading BokehJS ...</span>\n    </div>"
     },
     "metadata": {}
    },
    {
     "output_type": "display_data",
     "data": {
      "application/javascript": "\n(function(root) {\n  function now() {\n    return new Date();\n  }\n\n  var force = true;\n\n  if (typeof root._bokeh_onload_callbacks === \"undefined\" || force === true) {\n    root._bokeh_onload_callbacks = [];\n    root._bokeh_is_loading = undefined;\n  }\n\n  var JS_MIME_TYPE = 'application/javascript';\n  var HTML_MIME_TYPE = 'text/html';\n  var EXEC_MIME_TYPE = 'application/vnd.bokehjs_exec.v0+json';\n  var CLASS_NAME = 'output_bokeh rendered_html';\n\n  /**\n   * Render data to the DOM node\n   */\n  function render(props, node) {\n    var script = document.createElement(\"script\");\n    node.appendChild(script);\n  }\n\n  /**\n   * Handle when an output is cleared or removed\n   */\n  function handleClearOutput(event, handle) {\n    var cell = handle.cell;\n\n    var id = cell.output_area._bokeh_element_id;\n    var server_id = cell.output_area._bokeh_server_id;\n    // Clean up Bokeh references\n    if (id != null && id in Bokeh.index) {\n      Bokeh.index[id].model.document.clear();\n      delete Bokeh.index[id];\n    }\n\n    if (server_id !== undefined) {\n      // Clean up Bokeh references\n      var cmd = \"from bokeh.io.state import curstate; print(curstate().uuid_to_server['\" + server_id + \"'].get_sessions()[0].document.roots[0]._id)\";\n      cell.notebook.kernel.execute(cmd, {\n        iopub: {\n          output: function(msg) {\n            var id = msg.content.text.trim();\n            if (id in Bokeh.index) {\n              Bokeh.index[id].model.document.clear();\n              delete Bokeh.index[id];\n            }\n          }\n        }\n      });\n      // Destroy server and session\n      var cmd = \"import bokeh.io.notebook as ion; ion.destroy_server('\" + server_id + \"')\";\n      cell.notebook.kernel.execute(cmd);\n    }\n  }\n\n  /**\n   * Handle when a new output is added\n   */\n  function handleAddOutput(event, handle) {\n    var output_area = handle.output_area;\n    var output = handle.output;\n\n    // limit handleAddOutput to display_data with EXEC_MIME_TYPE content only\n    if ((output.output_type != \"display_data\") || (!output.data.hasOwnProperty(EXEC_MIME_TYPE))) {\n      return\n    }\n\n    var toinsert = output_area.element.find(\".\" + CLASS_NAME.split(' ')[0]);\n\n    if (output.metadata[EXEC_MIME_TYPE][\"id\"] !== undefined) {\n      toinsert[toinsert.length - 1].firstChild.textContent = output.data[JS_MIME_TYPE];\n      // store reference to embed id on output_area\n      output_area._bokeh_element_id = output.metadata[EXEC_MIME_TYPE][\"id\"];\n    }\n    if (output.metadata[EXEC_MIME_TYPE][\"server_id\"] !== undefined) {\n      var bk_div = document.createElement(\"div\");\n      bk_div.innerHTML = output.data[HTML_MIME_TYPE];\n      var script_attrs = bk_div.children[0].attributes;\n      for (var i = 0; i < script_attrs.length; i++) {\n        toinsert[toinsert.length - 1].firstChild.setAttribute(script_attrs[i].name, script_attrs[i].value);\n        toinsert[toinsert.length - 1].firstChild.textContent = bk_div.children[0].textContent\n      }\n      // store reference to server id on output_area\n      output_area._bokeh_server_id = output.metadata[EXEC_MIME_TYPE][\"server_id\"];\n    }\n  }\n\n  function register_renderer(events, OutputArea) {\n\n    function append_mime(data, metadata, element) {\n      // create a DOM node to render to\n      var toinsert = this.create_output_subarea(\n        metadata,\n        CLASS_NAME,\n        EXEC_MIME_TYPE\n      );\n      this.keyboard_manager.register_events(toinsert);\n      // Render to node\n      var props = {data: data, metadata: metadata[EXEC_MIME_TYPE]};\n      render(props, toinsert[toinsert.length - 1]);\n      element.append(toinsert);\n      return toinsert\n    }\n\n    /* Handle when an output is cleared or removed */\n    events.on('clear_output.CodeCell', handleClearOutput);\n    events.on('delete.Cell', handleClearOutput);\n\n    /* Handle when a new output is added */\n    events.on('output_added.OutputArea', handleAddOutput);\n\n    /**\n     * Register the mime type and append_mime function with output_area\n     */\n    OutputArea.prototype.register_mime_type(EXEC_MIME_TYPE, append_mime, {\n      /* Is output safe? */\n      safe: true,\n      /* Index of renderer in `output_area.display_order` */\n      index: 0\n    });\n  }\n\n  // register the mime type if in Jupyter Notebook environment and previously unregistered\n  if (root.Jupyter !== undefined) {\n    var events = require('base/js/events');\n    var OutputArea = require('notebook/js/outputarea').OutputArea;\n\n    if (OutputArea.prototype.mime_types().indexOf(EXEC_MIME_TYPE) == -1) {\n      register_renderer(events, OutputArea);\n    }\n  }\n\n  \n  if (typeof (root._bokeh_timeout) === \"undefined\" || force === true) {\n    root._bokeh_timeout = Date.now() + 5000;\n    root._bokeh_failed_load = false;\n  }\n\n  var NB_LOAD_WARNING = {'data': {'text/html':\n     \"<div style='background-color: #fdd'>\\n\"+\n     \"<p>\\n\"+\n     \"BokehJS does not appear to have successfully loaded. If loading BokehJS from CDN, this \\n\"+\n     \"may be due to a slow or bad network connection. Possible fixes:\\n\"+\n     \"</p>\\n\"+\n     \"<ul>\\n\"+\n     \"<li>re-rerun `output_notebook()` to attempt to load from CDN again, or</li>\\n\"+\n     \"<li>use INLINE resources instead, as so:</li>\\n\"+\n     \"</ul>\\n\"+\n     \"<code>\\n\"+\n     \"from bokeh.resources import INLINE\\n\"+\n     \"output_notebook(resources=INLINE)\\n\"+\n     \"</code>\\n\"+\n     \"</div>\"}};\n\n  function display_loaded() {\n    var el = document.getElementById(\"2254\");\n    if (el != null) {\n      el.textContent = \"BokehJS is loading...\";\n    }\n    if (root.Bokeh !== undefined) {\n      if (el != null) {\n        el.textContent = \"BokehJS \" + root.Bokeh.version + \" successfully loaded.\";\n      }\n    } else if (Date.now() < root._bokeh_timeout) {\n      setTimeout(display_loaded, 100)\n    }\n  }\n\n\n  function run_callbacks() {\n    try {\n      root._bokeh_onload_callbacks.forEach(function(callback) {\n        if (callback != null)\n          callback();\n      });\n    } finally {\n      delete root._bokeh_onload_callbacks\n    }\n    console.debug(\"Bokeh: all callbacks have finished\");\n  }\n\n  function load_libs(css_urls, js_urls, callback) {\n    if (css_urls == null) css_urls = [];\n    if (js_urls == null) js_urls = [];\n\n    root._bokeh_onload_callbacks.push(callback);\n    if (root._bokeh_is_loading > 0) {\n      console.debug(\"Bokeh: BokehJS is being loaded, scheduling callback at\", now());\n      return null;\n    }\n    if (js_urls == null || js_urls.length === 0) {\n      run_callbacks();\n      return null;\n    }\n    console.debug(\"Bokeh: BokehJS not loaded, scheduling load and callback at\", now());\n    root._bokeh_is_loading = css_urls.length + js_urls.length;\n\n    function on_load() {\n      root._bokeh_is_loading--;\n      if (root._bokeh_is_loading === 0) {\n        console.debug(\"Bokeh: all BokehJS libraries/stylesheets loaded\");\n        run_callbacks()\n      }\n    }\n\n    function on_error() {\n      console.error(\"failed to load \" + url);\n    }\n\n    for (var i = 0; i < css_urls.length; i++) {\n      var url = css_urls[i];\n      const element = document.createElement(\"link\");\n      element.onload = on_load;\n      element.onerror = on_error;\n      element.rel = \"stylesheet\";\n      element.type = \"text/css\";\n      element.href = url;\n      console.debug(\"Bokeh: injecting link tag for BokehJS stylesheet: \", url);\n      document.body.appendChild(element);\n    }\n\n    const hashes = {\"https://cdn.bokeh.org/bokeh/release/bokeh-2.1.1.min.js\": \"kLr4fYcqcSpbuI95brIH3vnnYCquzzSxHPU6XGQCIkQRGJwhg0StNbj1eegrHs12\", \"https://cdn.bokeh.org/bokeh/release/bokeh-widgets-2.1.1.min.js\": \"xIGPmVtaOm+z0BqfSOMn4lOR6ciex448GIKG4eE61LsAvmGj48XcMQZtKcE/UXZe\", \"https://cdn.bokeh.org/bokeh/release/bokeh-tables-2.1.1.min.js\": \"Dc9u1wF/0zApGIWoBbH77iWEHtdmkuYWG839Uzmv8y8yBLXebjO9ZnERsde5Ln/P\", \"https://cdn.bokeh.org/bokeh/release/bokeh-gl-2.1.1.min.js\": \"cT9JaBz7GiRXdENrJLZNSC6eMNF3nh3fa5fTF51Svp+ukxPdwcU5kGXGPBgDCa2j\"};\n\n    for (var i = 0; i < js_urls.length; i++) {\n      var url = js_urls[i];\n      var element = document.createElement('script');\n      element.onload = on_load;\n      element.onerror = on_error;\n      element.async = false;\n      element.src = url;\n      if (url in hashes) {\n        element.crossOrigin = \"anonymous\";\n        element.integrity = \"sha384-\" + hashes[url];\n      }\n      console.debug(\"Bokeh: injecting script tag for BokehJS library: \", url);\n      document.head.appendChild(element);\n    }\n  };\n\n  function inject_raw_css(css) {\n    const element = document.createElement(\"style\");\n    element.appendChild(document.createTextNode(css));\n    document.body.appendChild(element);\n  }\n\n  \n  var js_urls = [\"https://cdn.bokeh.org/bokeh/release/bokeh-2.1.1.min.js\", \"https://cdn.bokeh.org/bokeh/release/bokeh-widgets-2.1.1.min.js\", \"https://cdn.bokeh.org/bokeh/release/bokeh-tables-2.1.1.min.js\", \"https://cdn.bokeh.org/bokeh/release/bokeh-gl-2.1.1.min.js\"];\n  var css_urls = [];\n  \n\n  var inline_js = [\n    function(Bokeh) {\n      Bokeh.set_log_level(\"info\");\n    },\n    function(Bokeh) {\n    \n    \n    }\n  ];\n\n  function run_inline_js() {\n    \n    if (root.Bokeh !== undefined || force === true) {\n      \n    for (var i = 0; i < inline_js.length; i++) {\n      inline_js[i].call(root, root.Bokeh);\n    }\n    if (force === true) {\n        display_loaded();\n      }} else if (Date.now() < root._bokeh_timeout) {\n      setTimeout(run_inline_js, 100);\n    } else if (!root._bokeh_failed_load) {\n      console.log(\"Bokeh: BokehJS failed to load within specified timeout.\");\n      root._bokeh_failed_load = true;\n    } else if (force !== true) {\n      var cell = $(document.getElementById(\"2254\")).parents('.cell').data().cell;\n      cell.output_area.append_execute_result(NB_LOAD_WARNING)\n    }\n\n  }\n\n  if (root._bokeh_is_loading === 0) {\n    console.debug(\"Bokeh: BokehJS loaded, going straight to plotting\");\n    run_inline_js();\n  } else {\n    load_libs(css_urls, js_urls, function() {\n      console.debug(\"Bokeh: BokehJS plotting callback run at\", now());\n      run_inline_js();\n    });\n  }\n}(window));",
      "application/vnd.bokehjs_load.v0+json": "\n(function(root) {\n  function now() {\n    return new Date();\n  }\n\n  var force = true;\n\n  if (typeof root._bokeh_onload_callbacks === \"undefined\" || force === true) {\n    root._bokeh_onload_callbacks = [];\n    root._bokeh_is_loading = undefined;\n  }\n\n  \n\n  \n  if (typeof (root._bokeh_timeout) === \"undefined\" || force === true) {\n    root._bokeh_timeout = Date.now() + 5000;\n    root._bokeh_failed_load = false;\n  }\n\n  var NB_LOAD_WARNING = {'data': {'text/html':\n     \"<div style='background-color: #fdd'>\\n\"+\n     \"<p>\\n\"+\n     \"BokehJS does not appear to have successfully loaded. If loading BokehJS from CDN, this \\n\"+\n     \"may be due to a slow or bad network connection. Possible fixes:\\n\"+\n     \"</p>\\n\"+\n     \"<ul>\\n\"+\n     \"<li>re-rerun `output_notebook()` to attempt to load from CDN again, or</li>\\n\"+\n     \"<li>use INLINE resources instead, as so:</li>\\n\"+\n     \"</ul>\\n\"+\n     \"<code>\\n\"+\n     \"from bokeh.resources import INLINE\\n\"+\n     \"output_notebook(resources=INLINE)\\n\"+\n     \"</code>\\n\"+\n     \"</div>\"}};\n\n  function display_loaded() {\n    var el = document.getElementById(\"2254\");\n    if (el != null) {\n      el.textContent = \"BokehJS is loading...\";\n    }\n    if (root.Bokeh !== undefined) {\n      if (el != null) {\n        el.textContent = \"BokehJS \" + root.Bokeh.version + \" successfully loaded.\";\n      }\n    } else if (Date.now() < root._bokeh_timeout) {\n      setTimeout(display_loaded, 100)\n    }\n  }\n\n\n  function run_callbacks() {\n    try {\n      root._bokeh_onload_callbacks.forEach(function(callback) {\n        if (callback != null)\n          callback();\n      });\n    } finally {\n      delete root._bokeh_onload_callbacks\n    }\n    console.debug(\"Bokeh: all callbacks have finished\");\n  }\n\n  function load_libs(css_urls, js_urls, callback) {\n    if (css_urls == null) css_urls = [];\n    if (js_urls == null) js_urls = [];\n\n    root._bokeh_onload_callbacks.push(callback);\n    if (root._bokeh_is_loading > 0) {\n      console.debug(\"Bokeh: BokehJS is being loaded, scheduling callback at\", now());\n      return null;\n    }\n    if (js_urls == null || js_urls.length === 0) {\n      run_callbacks();\n      return null;\n    }\n    console.debug(\"Bokeh: BokehJS not loaded, scheduling load and callback at\", now());\n    root._bokeh_is_loading = css_urls.length + js_urls.length;\n\n    function on_load() {\n      root._bokeh_is_loading--;\n      if (root._bokeh_is_loading === 0) {\n        console.debug(\"Bokeh: all BokehJS libraries/stylesheets loaded\");\n        run_callbacks()\n      }\n    }\n\n    function on_error() {\n      console.error(\"failed to load \" + url);\n    }\n\n    for (var i = 0; i < css_urls.length; i++) {\n      var url = css_urls[i];\n      const element = document.createElement(\"link\");\n      element.onload = on_load;\n      element.onerror = on_error;\n      element.rel = \"stylesheet\";\n      element.type = \"text/css\";\n      element.href = url;\n      console.debug(\"Bokeh: injecting link tag for BokehJS stylesheet: \", url);\n      document.body.appendChild(element);\n    }\n\n    const hashes = {\"https://cdn.bokeh.org/bokeh/release/bokeh-2.1.1.min.js\": \"kLr4fYcqcSpbuI95brIH3vnnYCquzzSxHPU6XGQCIkQRGJwhg0StNbj1eegrHs12\", \"https://cdn.bokeh.org/bokeh/release/bokeh-widgets-2.1.1.min.js\": \"xIGPmVtaOm+z0BqfSOMn4lOR6ciex448GIKG4eE61LsAvmGj48XcMQZtKcE/UXZe\", \"https://cdn.bokeh.org/bokeh/release/bokeh-tables-2.1.1.min.js\": \"Dc9u1wF/0zApGIWoBbH77iWEHtdmkuYWG839Uzmv8y8yBLXebjO9ZnERsde5Ln/P\", \"https://cdn.bokeh.org/bokeh/release/bokeh-gl-2.1.1.min.js\": \"cT9JaBz7GiRXdENrJLZNSC6eMNF3nh3fa5fTF51Svp+ukxPdwcU5kGXGPBgDCa2j\"};\n\n    for (var i = 0; i < js_urls.length; i++) {\n      var url = js_urls[i];\n      var element = document.createElement('script');\n      element.onload = on_load;\n      element.onerror = on_error;\n      element.async = false;\n      element.src = url;\n      if (url in hashes) {\n        element.crossOrigin = \"anonymous\";\n        element.integrity = \"sha384-\" + hashes[url];\n      }\n      console.debug(\"Bokeh: injecting script tag for BokehJS library: \", url);\n      document.head.appendChild(element);\n    }\n  };\n\n  function inject_raw_css(css) {\n    const element = document.createElement(\"style\");\n    element.appendChild(document.createTextNode(css));\n    document.body.appendChild(element);\n  }\n\n  \n  var js_urls = [\"https://cdn.bokeh.org/bokeh/release/bokeh-2.1.1.min.js\", \"https://cdn.bokeh.org/bokeh/release/bokeh-widgets-2.1.1.min.js\", \"https://cdn.bokeh.org/bokeh/release/bokeh-tables-2.1.1.min.js\", \"https://cdn.bokeh.org/bokeh/release/bokeh-gl-2.1.1.min.js\"];\n  var css_urls = [];\n  \n\n  var inline_js = [\n    function(Bokeh) {\n      Bokeh.set_log_level(\"info\");\n    },\n    function(Bokeh) {\n    \n    \n    }\n  ];\n\n  function run_inline_js() {\n    \n    if (root.Bokeh !== undefined || force === true) {\n      \n    for (var i = 0; i < inline_js.length; i++) {\n      inline_js[i].call(root, root.Bokeh);\n    }\n    if (force === true) {\n        display_loaded();\n      }} else if (Date.now() < root._bokeh_timeout) {\n      setTimeout(run_inline_js, 100);\n    } else if (!root._bokeh_failed_load) {\n      console.log(\"Bokeh: BokehJS failed to load within specified timeout.\");\n      root._bokeh_failed_load = true;\n    } else if (force !== true) {\n      var cell = $(document.getElementById(\"2254\")).parents('.cell').data().cell;\n      cell.output_area.append_execute_result(NB_LOAD_WARNING)\n    }\n\n  }\n\n  if (root._bokeh_is_loading === 0) {\n    console.debug(\"Bokeh: BokehJS loaded, going straight to plotting\");\n    run_inline_js();\n  } else {\n    load_libs(css_urls, js_urls, function() {\n      console.debug(\"Bokeh: BokehJS plotting callback run at\", now());\n      run_inline_js();\n    });\n  }\n}(window));"
     },
     "metadata": {}
    }
   ],
   "source": [
    "# The figure will be rendered inline a my Jupyter Notebook\n",
    "output_notebook()"
   ]
  },
  {
   "cell_type": "code",
   "execution_count": 27,
   "metadata": {},
   "outputs": [
    {
     "output_type": "execute_result",
     "data": {
      "text/plain": [
       "            Player Pos Team  PassingYds  PassingTD  Int  PassingAtt   Cmp  \\\n",
       "0    Lamar Jackson  QB  BAL       324.0        5.0  0.0        20.0  17.0   \n",
       "1     Dak Prescott  QB  DAL       405.0        4.0  0.0        32.0  25.0   \n",
       "2   Robert Griffin  QB  BAL        55.0        1.0  0.0         6.0   6.0   \n",
       "3  Patrick Mahomes  QB  KAN       378.0        3.0  0.0        33.0  25.0   \n",
       "4     Kirk Cousins  QB  MIN        98.0        1.0  0.0        10.0   8.0   \n",
       "\n",
       "   RushingAtt  RushingYds  ...  Rec  Tgt  ReceivingYds  ReceivingTD   FL  \\\n",
       "0         3.0         6.0  ...  0.0  0.0           0.0          0.0  0.0   \n",
       "1         4.0        12.0  ...  0.0  0.0           0.0          0.0  0.0   \n",
       "2         4.0         9.0  ...  0.0  0.0           0.0          0.0  0.0   \n",
       "3         1.0         2.0  ...  0.0  0.0           0.0          0.0  0.0   \n",
       "4         6.0         4.0  ...  0.0  0.0           0.0          0.0  0.0   \n",
       "\n",
       "   PPRFantasyPoints  StandardFantasyPoints  HalfPPRFantasyPoints  Week  Year  \n",
       "0             33.56                  33.56                 33.56     1  2019  \n",
       "1             33.40                  33.40                 33.40     1  2019  \n",
       "2              7.10                   7.10                  7.10     1  2019  \n",
       "3             27.32                  27.32                 27.32     1  2019  \n",
       "4             14.32                  14.32                 14.32     1  2019  \n",
       "\n",
       "[5 rows x 21 columns]"
      ],
      "text/html": "<div>\n<style scoped>\n    .dataframe tbody tr th:only-of-type {\n        vertical-align: middle;\n    }\n\n    .dataframe tbody tr th {\n        vertical-align: top;\n    }\n\n    .dataframe thead th {\n        text-align: right;\n    }\n</style>\n<table border=\"1\" class=\"dataframe\">\n  <thead>\n    <tr style=\"text-align: right;\">\n      <th></th>\n      <th>Player</th>\n      <th>Pos</th>\n      <th>Team</th>\n      <th>PassingYds</th>\n      <th>PassingTD</th>\n      <th>Int</th>\n      <th>PassingAtt</th>\n      <th>Cmp</th>\n      <th>RushingAtt</th>\n      <th>RushingYds</th>\n      <th>...</th>\n      <th>Rec</th>\n      <th>Tgt</th>\n      <th>ReceivingYds</th>\n      <th>ReceivingTD</th>\n      <th>FL</th>\n      <th>PPRFantasyPoints</th>\n      <th>StandardFantasyPoints</th>\n      <th>HalfPPRFantasyPoints</th>\n      <th>Week</th>\n      <th>Year</th>\n    </tr>\n  </thead>\n  <tbody>\n    <tr>\n      <th>0</th>\n      <td>Lamar Jackson</td>\n      <td>QB</td>\n      <td>BAL</td>\n      <td>324.0</td>\n      <td>5.0</td>\n      <td>0.0</td>\n      <td>20.0</td>\n      <td>17.0</td>\n      <td>3.0</td>\n      <td>6.0</td>\n      <td>...</td>\n      <td>0.0</td>\n      <td>0.0</td>\n      <td>0.0</td>\n      <td>0.0</td>\n      <td>0.0</td>\n      <td>33.56</td>\n      <td>33.56</td>\n      <td>33.56</td>\n      <td>1</td>\n      <td>2019</td>\n    </tr>\n    <tr>\n      <th>1</th>\n      <td>Dak Prescott</td>\n      <td>QB</td>\n      <td>DAL</td>\n      <td>405.0</td>\n      <td>4.0</td>\n      <td>0.0</td>\n      <td>32.0</td>\n      <td>25.0</td>\n      <td>4.0</td>\n      <td>12.0</td>\n      <td>...</td>\n      <td>0.0</td>\n      <td>0.0</td>\n      <td>0.0</td>\n      <td>0.0</td>\n      <td>0.0</td>\n      <td>33.40</td>\n      <td>33.40</td>\n      <td>33.40</td>\n      <td>1</td>\n      <td>2019</td>\n    </tr>\n    <tr>\n      <th>2</th>\n      <td>Robert Griffin</td>\n      <td>QB</td>\n      <td>BAL</td>\n      <td>55.0</td>\n      <td>1.0</td>\n      <td>0.0</td>\n      <td>6.0</td>\n      <td>6.0</td>\n      <td>4.0</td>\n      <td>9.0</td>\n      <td>...</td>\n      <td>0.0</td>\n      <td>0.0</td>\n      <td>0.0</td>\n      <td>0.0</td>\n      <td>0.0</td>\n      <td>7.10</td>\n      <td>7.10</td>\n      <td>7.10</td>\n      <td>1</td>\n      <td>2019</td>\n    </tr>\n    <tr>\n      <th>3</th>\n      <td>Patrick Mahomes</td>\n      <td>QB</td>\n      <td>KAN</td>\n      <td>378.0</td>\n      <td>3.0</td>\n      <td>0.0</td>\n      <td>33.0</td>\n      <td>25.0</td>\n      <td>1.0</td>\n      <td>2.0</td>\n      <td>...</td>\n      <td>0.0</td>\n      <td>0.0</td>\n      <td>0.0</td>\n      <td>0.0</td>\n      <td>0.0</td>\n      <td>27.32</td>\n      <td>27.32</td>\n      <td>27.32</td>\n      <td>1</td>\n      <td>2019</td>\n    </tr>\n    <tr>\n      <th>4</th>\n      <td>Kirk Cousins</td>\n      <td>QB</td>\n      <td>MIN</td>\n      <td>98.0</td>\n      <td>1.0</td>\n      <td>0.0</td>\n      <td>10.0</td>\n      <td>8.0</td>\n      <td>6.0</td>\n      <td>4.0</td>\n      <td>...</td>\n      <td>0.0</td>\n      <td>0.0</td>\n      <td>0.0</td>\n      <td>0.0</td>\n      <td>0.0</td>\n      <td>14.32</td>\n      <td>14.32</td>\n      <td>14.32</td>\n      <td>1</td>\n      <td>2019</td>\n    </tr>\n  </tbody>\n</table>\n<p>5 rows × 21 columns</p>\n</div>"
     },
     "metadata": {},
     "execution_count": 27
    }
   ],
   "source": [
    "# Reading data\n",
    "df = pd.read_csv('../data/dash_sample_weekly_2019.csv')\n",
    "df.head()"
   ]
  },
  {
   "cell_type": "code",
   "execution_count": 28,
   "metadata": {},
   "outputs": [],
   "source": [
    "# Removing NaN \n",
    "df = df.dropna()"
   ]
  },
  {
   "cell_type": "code",
   "execution_count": 29,
   "metadata": {},
   "outputs": [
    {
     "output_type": "execute_result",
     "data": {
      "text/plain": [
       "        PassingYds    PassingTD          Int   PassingAtt          Cmp  \\\n",
       "count  4779.000000  4779.000000  4779.000000  4779.000000  4779.000000   \n",
       "mean     26.974472     0.166771     0.085792     3.735719     2.370998   \n",
       "std      80.650203     0.616856     0.396939    10.933560     6.993437   \n",
       "min      -2.000000     0.000000     0.000000     0.000000     0.000000   \n",
       "25%       0.000000     0.000000     0.000000     0.000000     0.000000   \n",
       "50%       0.000000     0.000000     0.000000     0.000000     0.000000   \n",
       "75%       0.000000     0.000000     0.000000     0.000000     0.000000   \n",
       "max     517.000000     5.000000     5.000000    68.000000    45.000000   \n",
       "\n",
       "        RushingAtt   RushingYds    RushingTD          Rec          Tgt  \\\n",
       "count  4779.000000  4779.000000  4779.000000  4779.000000  4779.000000   \n",
       "mean      2.801214    12.093116     0.093534     2.370998     3.467880   \n",
       "std       5.254732    25.969117     0.349966     2.357767     3.370824   \n",
       "min       0.000000   -10.000000     0.000000     0.000000     0.000000   \n",
       "25%       0.000000     0.000000     0.000000     1.000000     1.000000   \n",
       "50%       0.000000     0.000000     0.000000     2.000000     3.000000   \n",
       "75%       3.000000    11.000000     0.000000     4.000000     5.000000   \n",
       "max      32.000000   225.000000     4.000000    15.000000    20.000000   \n",
       "\n",
       "       ReceivingYds  ReceivingTD           FL  PPRFantasyPoints  \\\n",
       "count   4779.000000  4779.000000  4779.000000       4779.000000   \n",
       "mean      26.973635     0.166771     0.062984          9.288018   \n",
       "std       32.372313     0.433063     0.261224          8.185389   \n",
       "min       -9.000000     0.000000     0.000000         -6.660000   \n",
       "25%        1.000000     0.000000     0.000000          2.800000   \n",
       "50%       15.000000     0.000000     0.000000          7.100000   \n",
       "75%       40.000000     0.000000     0.000000         13.600000   \n",
       "max      226.000000     4.000000     3.000000         53.700000   \n",
       "\n",
       "       StandardFantasyPoints  HalfPPRFantasyPoints         Week    Year  \n",
       "count            4779.000000           4779.000000  4779.000000  4779.0  \n",
       "mean                6.917020              8.102519     9.071354  2019.0  \n",
       "std                 7.235407              7.634533     5.021275     0.0  \n",
       "min                -6.660000             -6.660000     1.000000  2019.0  \n",
       "25%                 1.400000              2.100000     5.000000  2019.0  \n",
       "50%                 4.400000              5.900000     9.000000  2019.0  \n",
       "75%                10.300000             12.000000    14.000000  2019.0  \n",
       "max                43.760000             46.700000    17.000000  2019.0  "
      ],
      "text/html": "<div>\n<style scoped>\n    .dataframe tbody tr th:only-of-type {\n        vertical-align: middle;\n    }\n\n    .dataframe tbody tr th {\n        vertical-align: top;\n    }\n\n    .dataframe thead th {\n        text-align: right;\n    }\n</style>\n<table border=\"1\" class=\"dataframe\">\n  <thead>\n    <tr style=\"text-align: right;\">\n      <th></th>\n      <th>PassingYds</th>\n      <th>PassingTD</th>\n      <th>Int</th>\n      <th>PassingAtt</th>\n      <th>Cmp</th>\n      <th>RushingAtt</th>\n      <th>RushingYds</th>\n      <th>RushingTD</th>\n      <th>Rec</th>\n      <th>Tgt</th>\n      <th>ReceivingYds</th>\n      <th>ReceivingTD</th>\n      <th>FL</th>\n      <th>PPRFantasyPoints</th>\n      <th>StandardFantasyPoints</th>\n      <th>HalfPPRFantasyPoints</th>\n      <th>Week</th>\n      <th>Year</th>\n    </tr>\n  </thead>\n  <tbody>\n    <tr>\n      <th>count</th>\n      <td>4779.000000</td>\n      <td>4779.000000</td>\n      <td>4779.000000</td>\n      <td>4779.000000</td>\n      <td>4779.000000</td>\n      <td>4779.000000</td>\n      <td>4779.000000</td>\n      <td>4779.000000</td>\n      <td>4779.000000</td>\n      <td>4779.000000</td>\n      <td>4779.000000</td>\n      <td>4779.000000</td>\n      <td>4779.000000</td>\n      <td>4779.000000</td>\n      <td>4779.000000</td>\n      <td>4779.000000</td>\n      <td>4779.000000</td>\n      <td>4779.0</td>\n    </tr>\n    <tr>\n      <th>mean</th>\n      <td>26.974472</td>\n      <td>0.166771</td>\n      <td>0.085792</td>\n      <td>3.735719</td>\n      <td>2.370998</td>\n      <td>2.801214</td>\n      <td>12.093116</td>\n      <td>0.093534</td>\n      <td>2.370998</td>\n      <td>3.467880</td>\n      <td>26.973635</td>\n      <td>0.166771</td>\n      <td>0.062984</td>\n      <td>9.288018</td>\n      <td>6.917020</td>\n      <td>8.102519</td>\n      <td>9.071354</td>\n      <td>2019.0</td>\n    </tr>\n    <tr>\n      <th>std</th>\n      <td>80.650203</td>\n      <td>0.616856</td>\n      <td>0.396939</td>\n      <td>10.933560</td>\n      <td>6.993437</td>\n      <td>5.254732</td>\n      <td>25.969117</td>\n      <td>0.349966</td>\n      <td>2.357767</td>\n      <td>3.370824</td>\n      <td>32.372313</td>\n      <td>0.433063</td>\n      <td>0.261224</td>\n      <td>8.185389</td>\n      <td>7.235407</td>\n      <td>7.634533</td>\n      <td>5.021275</td>\n      <td>0.0</td>\n    </tr>\n    <tr>\n      <th>min</th>\n      <td>-2.000000</td>\n      <td>0.000000</td>\n      <td>0.000000</td>\n      <td>0.000000</td>\n      <td>0.000000</td>\n      <td>0.000000</td>\n      <td>-10.000000</td>\n      <td>0.000000</td>\n      <td>0.000000</td>\n      <td>0.000000</td>\n      <td>-9.000000</td>\n      <td>0.000000</td>\n      <td>0.000000</td>\n      <td>-6.660000</td>\n      <td>-6.660000</td>\n      <td>-6.660000</td>\n      <td>1.000000</td>\n      <td>2019.0</td>\n    </tr>\n    <tr>\n      <th>25%</th>\n      <td>0.000000</td>\n      <td>0.000000</td>\n      <td>0.000000</td>\n      <td>0.000000</td>\n      <td>0.000000</td>\n      <td>0.000000</td>\n      <td>0.000000</td>\n      <td>0.000000</td>\n      <td>1.000000</td>\n      <td>1.000000</td>\n      <td>1.000000</td>\n      <td>0.000000</td>\n      <td>0.000000</td>\n      <td>2.800000</td>\n      <td>1.400000</td>\n      <td>2.100000</td>\n      <td>5.000000</td>\n      <td>2019.0</td>\n    </tr>\n    <tr>\n      <th>50%</th>\n      <td>0.000000</td>\n      <td>0.000000</td>\n      <td>0.000000</td>\n      <td>0.000000</td>\n      <td>0.000000</td>\n      <td>0.000000</td>\n      <td>0.000000</td>\n      <td>0.000000</td>\n      <td>2.000000</td>\n      <td>3.000000</td>\n      <td>15.000000</td>\n      <td>0.000000</td>\n      <td>0.000000</td>\n      <td>7.100000</td>\n      <td>4.400000</td>\n      <td>5.900000</td>\n      <td>9.000000</td>\n      <td>2019.0</td>\n    </tr>\n    <tr>\n      <th>75%</th>\n      <td>0.000000</td>\n      <td>0.000000</td>\n      <td>0.000000</td>\n      <td>0.000000</td>\n      <td>0.000000</td>\n      <td>3.000000</td>\n      <td>11.000000</td>\n      <td>0.000000</td>\n      <td>4.000000</td>\n      <td>5.000000</td>\n      <td>40.000000</td>\n      <td>0.000000</td>\n      <td>0.000000</td>\n      <td>13.600000</td>\n      <td>10.300000</td>\n      <td>12.000000</td>\n      <td>14.000000</td>\n      <td>2019.0</td>\n    </tr>\n    <tr>\n      <th>max</th>\n      <td>517.000000</td>\n      <td>5.000000</td>\n      <td>5.000000</td>\n      <td>68.000000</td>\n      <td>45.000000</td>\n      <td>32.000000</td>\n      <td>225.000000</td>\n      <td>4.000000</td>\n      <td>15.000000</td>\n      <td>20.000000</td>\n      <td>226.000000</td>\n      <td>4.000000</td>\n      <td>3.000000</td>\n      <td>53.700000</td>\n      <td>43.760000</td>\n      <td>46.700000</td>\n      <td>17.000000</td>\n      <td>2019.0</td>\n    </tr>\n  </tbody>\n</table>\n</div>"
     },
     "metadata": {},
     "execution_count": 29
    }
   ],
   "source": [
    "df.describe()"
   ]
  },
  {
   "cell_type": "code",
   "execution_count": 30,
   "metadata": {},
   "outputs": [
    {
     "output_type": "execute_result",
     "data": {
      "text/plain": [
       "                 PassingTD\n",
       "Player                    \n",
       "Lamar Jackson         36.0\n",
       "Jameis Winston        33.0\n",
       "Russell Wilson        31.0\n",
       "Dak Prescott          30.0\n",
       "Jimmy Garoppolo       27.0"
      ],
      "text/html": "<div>\n<style scoped>\n    .dataframe tbody tr th:only-of-type {\n        vertical-align: middle;\n    }\n\n    .dataframe tbody tr th {\n        vertical-align: top;\n    }\n\n    .dataframe thead th {\n        text-align: right;\n    }\n</style>\n<table border=\"1\" class=\"dataframe\">\n  <thead>\n    <tr style=\"text-align: right;\">\n      <th></th>\n      <th>PassingTD</th>\n    </tr>\n    <tr>\n      <th>Player</th>\n      <th></th>\n    </tr>\n  </thead>\n  <tbody>\n    <tr>\n      <th>Lamar Jackson</th>\n      <td>36.0</td>\n    </tr>\n    <tr>\n      <th>Jameis Winston</th>\n      <td>33.0</td>\n    </tr>\n    <tr>\n      <th>Russell Wilson</th>\n      <td>31.0</td>\n    </tr>\n    <tr>\n      <th>Dak Prescott</th>\n      <td>30.0</td>\n    </tr>\n    <tr>\n      <th>Jimmy Garoppolo</th>\n      <td>27.0</td>\n    </tr>\n  </tbody>\n</table>\n</div>"
     },
     "metadata": {},
     "execution_count": 30
    }
   ],
   "source": [
    "# Top 5 Players with the most Passing TD (all weeks combined)\n",
    "top_5_assists_overall = df.groupby('Player')[['PassingTD']].sum()\n",
    "top_5_assists_overall = top_5_assists_overall.sort_values(by='PassingTD', ascending=False).head(5)\n",
    "top_5_assists_overall"
   ]
  },
  {
   "cell_type": "code",
   "execution_count": 31,
   "metadata": {},
   "outputs": [
    {
     "output_type": "display_data",
     "data": {
      "text/html": "\n\n\n\n\n\n  <div class=\"bk-root\" id=\"7ec1d5c9-5d9f-408d-aeac-beaf1b5f7daa\" data-root-id=\"2257\"></div>\n"
     },
     "metadata": {}
    },
    {
     "output_type": "display_data",
     "data": {
      "application/javascript": "(function(root) {\n  function embed_document(root) {\n    \n  var docs_json = {\"03c35274-88df-4934-8e7b-324b325d99bb\":{\"roots\":{\"references\":[{\"attributes\":{\"below\":[{\"id\":\"2268\"}],\"center\":[{\"id\":\"2271\"},{\"id\":\"2274\"}],\"left\":[{\"id\":\"2272\"}],\"plot_height\":500,\"renderers\":[{\"id\":\"2281\"}],\"sizing_mode\":\"stretch_width\",\"title\":{\"id\":\"2258\"},\"toolbar\":{\"id\":\"2275\"},\"x_range\":{\"id\":\"2260\"},\"x_scale\":{\"id\":\"2264\"},\"y_range\":{\"id\":\"2262\"},\"y_scale\":{\"id\":\"2266\"}},\"id\":\"2257\",\"subtype\":\"Figure\",\"type\":\"Plot\"},{\"attributes\":{\"fill_alpha\":{\"value\":0.8},\"fill_color\":{\"field\":\"Player\",\"transform\":{\"id\":\"2277\"}},\"height\":{\"value\":0.4},\"line_alpha\":{\"value\":0.8},\"line_color\":{\"value\":\"#1f77b4\"},\"right\":{\"field\":\"PassingTD\"},\"y\":{\"field\":\"Player\"}},\"id\":\"2279\",\"type\":\"HBar\"},{\"attributes\":{},\"id\":\"2365\",\"type\":\"UnionRenderers\"},{\"attributes\":{\"axis\":{\"id\":\"2268\"},\"grid_line_color\":null,\"ticker\":null},\"id\":\"2271\",\"type\":\"Grid\"},{\"attributes\":{\"data\":{\"PassingTD\":{\"__ndarray__\":\"AAAAAAAAQkAAAAAAAIBAQAAAAAAAAD9AAAAAAAAAPkAAAAAAAAA7QA==\",\"dtype\":\"float64\",\"order\":\"little\",\"shape\":[5]},\"Player\":[\"Lamar Jackson\",\"Jameis Winston\",\"Russell Wilson\",\"Dak Prescott\",\"Jimmy Garoppolo\"]},\"selected\":{\"id\":\"2366\"},\"selection_policy\":{\"id\":\"2365\"}},\"id\":\"2255\",\"type\":\"ColumnDataSource\"},{\"attributes\":{},\"id\":\"2366\",\"type\":\"Selection\"},{\"attributes\":{},\"id\":\"2363\",\"type\":\"CategoricalTickFormatter\"},{\"attributes\":{},\"id\":\"2260\",\"type\":\"DataRange1d\"},{\"attributes\":{},\"id\":\"2266\",\"type\":\"CategoricalScale\"},{\"attributes\":{\"active_drag\":\"auto\",\"active_inspect\":\"auto\",\"active_multi\":null,\"active_scroll\":\"auto\",\"active_tap\":\"auto\",\"tools\":[{\"id\":\"2256\"}]},\"id\":\"2275\",\"type\":\"Toolbar\"},{\"attributes\":{\"axis\":{\"id\":\"2272\"},\"dimension\":1,\"ticker\":null},\"id\":\"2274\",\"type\":\"Grid\"},{\"attributes\":{},\"id\":\"2361\",\"type\":\"BasicTickFormatter\"},{\"attributes\":{},\"id\":\"2273\",\"type\":\"CategoricalTicker\"},{\"attributes\":{\"callback\":null,\"tooltips\":[[\"Player\",\"@Player\"],[\"Passing TD\",\"@PassingTD\"]]},\"id\":\"2256\",\"type\":\"HoverTool\"},{\"attributes\":{},\"id\":\"2269\",\"type\":\"BasicTicker\"},{\"attributes\":{\"factors\":[\"Lamar Jackson\",\"Jameis Winston\",\"Russell Wilson\",\"Dak Prescott\",\"Jimmy Garoppolo\"]},\"id\":\"2262\",\"type\":\"FactorRange\"},{\"attributes\":{\"formatter\":{\"id\":\"2363\"},\"ticker\":{\"id\":\"2273\"}},\"id\":\"2272\",\"type\":\"CategoricalAxis\"},{\"attributes\":{\"factors\":[\"Lamar Jackson\",\"Jameis Winston\",\"Russell Wilson\",\"Dak Prescott\",\"Jimmy Garoppolo\"],\"palette\":[\"#440154\",\"#3B518A\",\"#208F8C\",\"#5BC862\",\"#FDE724\"]},\"id\":\"2277\",\"type\":\"CategoricalColorMapper\"},{\"attributes\":{\"align\":\"center\",\"text\":\"TOP 5 PASSERS\",\"text_color\":{\"value\":\"#2e3333\"},\"text_font_size\":{\"value\":\"28px\"}},\"id\":\"2258\",\"type\":\"Title\"},{\"attributes\":{},\"id\":\"2264\",\"type\":\"LinearScale\"},{\"attributes\":{\"source\":{\"id\":\"2255\"}},\"id\":\"2282\",\"type\":\"CDSView\"},{\"attributes\":{\"fill_alpha\":{\"value\":0.1},\"fill_color\":{\"field\":\"Player\",\"transform\":{\"id\":\"2277\"}},\"height\":{\"value\":0.4},\"line_alpha\":{\"value\":0.1},\"line_color\":{\"value\":\"#1f77b4\"},\"right\":{\"field\":\"PassingTD\"},\"y\":{\"field\":\"Player\"}},\"id\":\"2280\",\"type\":\"HBar\"},{\"attributes\":{\"axis_label\":\"Passing TouchDowns\",\"formatter\":{\"id\":\"2361\"},\"ticker\":{\"id\":\"2269\"}},\"id\":\"2268\",\"type\":\"LinearAxis\"},{\"attributes\":{\"data_source\":{\"id\":\"2255\"},\"glyph\":{\"id\":\"2279\"},\"hover_glyph\":null,\"muted_glyph\":null,\"nonselection_glyph\":{\"id\":\"2280\"},\"selection_glyph\":null,\"view\":{\"id\":\"2282\"}},\"id\":\"2281\",\"type\":\"GlyphRenderer\"}],\"root_ids\":[\"2257\"]},\"title\":\"Bokeh Application\",\"version\":\"2.1.1\"}};\n  var render_items = [{\"docid\":\"03c35274-88df-4934-8e7b-324b325d99bb\",\"root_ids\":[\"2257\"],\"roots\":{\"2257\":\"7ec1d5c9-5d9f-408d-aeac-beaf1b5f7daa\"}}];\n  root.Bokeh.embed.embed_items_notebook(docs_json, render_items);\n\n  }\n  if (root.Bokeh !== undefined) {\n    embed_document(root);\n  } else {\n    var attempts = 0;\n    var timer = setInterval(function(root) {\n      if (root.Bokeh !== undefined) {\n        clearInterval(timer);\n        embed_document(root);\n      } else {\n        attempts++;\n        if (attempts > 100) {\n          clearInterval(timer);\n          console.log(\"Bokeh: ERROR: Unable to run BokehJS code because BokehJS library is missing\");\n        }\n      }\n    }, 10, root)\n  }\n})(window);",
      "application/vnd.bokehjs_exec.v0+json": ""
     },
     "metadata": {
      "application/vnd.bokehjs_exec.v0+json": {
       "id": "2257"
      }
     }
    }
   ],
   "source": [
    "# Plot - Top 5 Passers Overall \n",
    "\n",
    "top_5_assists_overall = pd.DataFrame(top_5_assists_overall)\n",
    "source = ColumnDataSource(top_5_assists_overall)\n",
    "\n",
    "hover = HoverTool(tooltips = [(\"Player\", \"@Player\"), (\"Passing TD\", \"@PassingTD\")])\n",
    "\n",
    "names_list = source.data['Player'].tolist()\n",
    "p1 = figure(\n",
    "       y_range = names_list,\n",
    "       title='TOP 5 PASSERS',\n",
    "       x_axis_label = 'Passing TouchDowns',\n",
    "       y_axis_label = '',\n",
    "       plot_height=500,\n",
    "       sizing_mode=\"stretch_width\",\n",
    "       tools=[hover]\n",
    ")\n",
    "\n",
    "p1.hbar(y='Player', \n",
    "       right='PassingTD', \n",
    "       height=0.4, \n",
    "       fill_color=factor_cmap(\n",
    "              'Player',\n",
    "              palette=Viridis[5],\n",
    "              factors=names_list\n",
    "       ),\n",
    "       alpha=0.8,\n",
    "       source=source\n",
    ")\n",
    "\n",
    "p1.title.text_font_size='28px'\n",
    "p1.title.align='center'\n",
    "p1.title.text_color='#2e3333'\n",
    "p1.xgrid.grid_line_color = None\n",
    "\n",
    "show(p1)"
   ]
  },
  {
   "cell_type": "code",
   "execution_count": 32,
   "metadata": {},
   "outputs": [
    {
     "output_type": "execute_result",
     "data": {
      "text/plain": [
       "                 Int\n",
       "Player              \n",
       "Jameis Winston  30.0\n",
       "Baker Mayfield  21.0\n",
       "Philip Rivers   20.0\n",
       "Jared Goff      16.0\n",
       "Kyle Allen      16.0"
      ],
      "text/html": "<div>\n<style scoped>\n    .dataframe tbody tr th:only-of-type {\n        vertical-align: middle;\n    }\n\n    .dataframe tbody tr th {\n        vertical-align: top;\n    }\n\n    .dataframe thead th {\n        text-align: right;\n    }\n</style>\n<table border=\"1\" class=\"dataframe\">\n  <thead>\n    <tr style=\"text-align: right;\">\n      <th></th>\n      <th>Int</th>\n    </tr>\n    <tr>\n      <th>Player</th>\n      <th></th>\n    </tr>\n  </thead>\n  <tbody>\n    <tr>\n      <th>Jameis Winston</th>\n      <td>30.0</td>\n    </tr>\n    <tr>\n      <th>Baker Mayfield</th>\n      <td>21.0</td>\n    </tr>\n    <tr>\n      <th>Philip Rivers</th>\n      <td>20.0</td>\n    </tr>\n    <tr>\n      <th>Jared Goff</th>\n      <td>16.0</td>\n    </tr>\n    <tr>\n      <th>Kyle Allen</th>\n      <td>16.0</td>\n    </tr>\n  </tbody>\n</table>\n</div>"
     },
     "metadata": {},
     "execution_count": 32
    }
   ],
   "source": [
    "# Top 5 Players With Most Interceptions (all weeks combined)\n",
    "top_5_interceptions = df.groupby('Player')[['Int']].sum()\n",
    "top_5_interceptions = top_5_interceptions.sort_values(by='Int', ascending=False).head(5)\n",
    "top_5_interceptions"
   ]
  },
  {
   "cell_type": "code",
   "execution_count": 33,
   "metadata": {},
   "outputs": [
    {
     "output_type": "display_data",
     "data": {
      "text/html": "\n\n\n\n\n\n  <div class=\"bk-root\" id=\"57d001ea-653a-4c8e-8eae-a5251d5afd88\" data-root-id=\"2411\"></div>\n"
     },
     "metadata": {}
    },
    {
     "output_type": "display_data",
     "data": {
      "application/javascript": "(function(root) {\n  function embed_document(root) {\n    \n  var docs_json = {\"e040c6ea-d8f8-4c65-9e6d-f6d81b8cfa4f\":{\"roots\":{\"references\":[{\"attributes\":{\"below\":[{\"id\":\"2422\"}],\"center\":[{\"id\":\"2425\"},{\"id\":\"2428\"}],\"left\":[{\"id\":\"2426\"}],\"plot_height\":500,\"renderers\":[{\"id\":\"2435\"}],\"sizing_mode\":\"stretch_width\",\"title\":{\"id\":\"2412\"},\"toolbar\":{\"id\":\"2429\"},\"x_range\":{\"id\":\"2414\"},\"x_scale\":{\"id\":\"2418\"},\"y_range\":{\"id\":\"2416\"},\"y_scale\":{\"id\":\"2420\"}},\"id\":\"2411\",\"subtype\":\"Figure\",\"type\":\"Plot\"},{\"attributes\":{\"factors\":[\"Jameis Winston\",\"Baker Mayfield\",\"Philip Rivers\",\"Jared Goff\",\"Kyle Allen\"]},\"id\":\"2416\",\"type\":\"FactorRange\"},{\"attributes\":{\"axis\":{\"id\":\"2422\"},\"grid_line_color\":null,\"ticker\":null},\"id\":\"2425\",\"type\":\"Grid\"},{\"attributes\":{\"callback\":null,\"tooltips\":[[\"Player\",\"@Player\"],[\"Interceptions\",\"@Int\"]]},\"id\":\"2410\",\"type\":\"HoverTool\"},{\"attributes\":{\"active_drag\":\"auto\",\"active_inspect\":\"auto\",\"active_multi\":null,\"active_scroll\":\"auto\",\"active_tap\":\"auto\",\"tools\":[{\"id\":\"2410\"}]},\"id\":\"2429\",\"type\":\"Toolbar\"},{\"attributes\":{},\"id\":\"2524\",\"type\":\"CategoricalTickFormatter\"},{\"attributes\":{\"formatter\":{\"id\":\"2524\"},\"ticker\":{\"id\":\"2427\"}},\"id\":\"2426\",\"type\":\"CategoricalAxis\"},{\"attributes\":{},\"id\":\"2522\",\"type\":\"BasicTickFormatter\"},{\"attributes\":{\"fill_alpha\":{\"value\":0.1},\"fill_color\":{\"field\":\"Player\",\"transform\":{\"id\":\"2431\"}},\"height\":{\"value\":0.4},\"line_alpha\":{\"value\":0.1},\"line_color\":{\"value\":\"#1f77b4\"},\"right\":{\"field\":\"Int\"},\"y\":{\"field\":\"Player\"}},\"id\":\"2434\",\"type\":\"HBar\"},{\"attributes\":{},\"id\":\"2420\",\"type\":\"CategoricalScale\"},{\"attributes\":{},\"id\":\"2427\",\"type\":\"CategoricalTicker\"},{\"attributes\":{\"data_source\":{\"id\":\"2409\"},\"glyph\":{\"id\":\"2433\"},\"hover_glyph\":null,\"muted_glyph\":null,\"nonselection_glyph\":{\"id\":\"2434\"},\"selection_glyph\":null,\"view\":{\"id\":\"2436\"}},\"id\":\"2435\",\"type\":\"GlyphRenderer\"},{\"attributes\":{\"axis_label\":\"Interceptions\",\"formatter\":{\"id\":\"2522\"},\"ticker\":{\"id\":\"2423\"}},\"id\":\"2422\",\"type\":\"LinearAxis\"},{\"attributes\":{\"align\":\"center\",\"text\":\"TOP 5 INTERCEPTORS\",\"text_color\":{\"value\":\"#2e3333\"},\"text_font_size\":{\"value\":\"28px\"}},\"id\":\"2412\",\"type\":\"Title\"},{\"attributes\":{\"factors\":[\"Jameis Winston\",\"Baker Mayfield\",\"Philip Rivers\",\"Jared Goff\",\"Kyle Allen\"],\"palette\":[\"#440154\",\"#3B518A\",\"#208F8C\",\"#5BC862\",\"#FDE724\"]},\"id\":\"2431\",\"type\":\"CategoricalColorMapper\"},{\"attributes\":{\"data\":{\"Int\":{\"__ndarray__\":\"AAAAAAAAPkAAAAAAAAA1QAAAAAAAADRAAAAAAAAAMEAAAAAAAAAwQA==\",\"dtype\":\"float64\",\"order\":\"little\",\"shape\":[5]},\"Player\":[\"Jameis Winston\",\"Baker Mayfield\",\"Philip Rivers\",\"Jared Goff\",\"Kyle Allen\"]},\"selected\":{\"id\":\"2527\"},\"selection_policy\":{\"id\":\"2526\"}},\"id\":\"2409\",\"type\":\"ColumnDataSource\"},{\"attributes\":{},\"id\":\"2414\",\"type\":\"DataRange1d\"},{\"attributes\":{},\"id\":\"2423\",\"type\":\"BasicTicker\"},{\"attributes\":{},\"id\":\"2526\",\"type\":\"UnionRenderers\"},{\"attributes\":{\"fill_alpha\":{\"value\":0.8},\"fill_color\":{\"field\":\"Player\",\"transform\":{\"id\":\"2431\"}},\"height\":{\"value\":0.4},\"line_alpha\":{\"value\":0.8},\"line_color\":{\"value\":\"#1f77b4\"},\"right\":{\"field\":\"Int\"},\"y\":{\"field\":\"Player\"}},\"id\":\"2433\",\"type\":\"HBar\"},{\"attributes\":{\"source\":{\"id\":\"2409\"}},\"id\":\"2436\",\"type\":\"CDSView\"},{\"attributes\":{\"axis\":{\"id\":\"2426\"},\"dimension\":1,\"ticker\":null},\"id\":\"2428\",\"type\":\"Grid\"},{\"attributes\":{},\"id\":\"2527\",\"type\":\"Selection\"},{\"attributes\":{},\"id\":\"2418\",\"type\":\"LinearScale\"}],\"root_ids\":[\"2411\"]},\"title\":\"Bokeh Application\",\"version\":\"2.1.1\"}};\n  var render_items = [{\"docid\":\"e040c6ea-d8f8-4c65-9e6d-f6d81b8cfa4f\",\"root_ids\":[\"2411\"],\"roots\":{\"2411\":\"57d001ea-653a-4c8e-8eae-a5251d5afd88\"}}];\n  root.Bokeh.embed.embed_items_notebook(docs_json, render_items);\n\n  }\n  if (root.Bokeh !== undefined) {\n    embed_document(root);\n  } else {\n    var attempts = 0;\n    var timer = setInterval(function(root) {\n      if (root.Bokeh !== undefined) {\n        clearInterval(timer);\n        embed_document(root);\n      } else {\n        attempts++;\n        if (attempts > 100) {\n          clearInterval(timer);\n          console.log(\"Bokeh: ERROR: Unable to run BokehJS code because BokehJS library is missing\");\n        }\n      }\n    }, 10, root)\n  }\n})(window);",
      "application/vnd.bokehjs_exec.v0+json": ""
     },
     "metadata": {
      "application/vnd.bokehjs_exec.v0+json": {
       "id": "2411"
      }
     }
    }
   ],
   "source": [
    "# Plot - Top 5 Passers Overall \n",
    "\n",
    "top_5_interceptions = pd.DataFrame(top_5_interceptions)\n",
    "source = ColumnDataSource(top_5_interceptions)\n",
    "\n",
    "hover = HoverTool(tooltips = [(\"Player\", \"@Player\"), (\"Interceptions\", \"@Int\")])\n",
    "\n",
    "names_list = source.data['Player'].tolist()\n",
    "p2 = figure(\n",
    "       y_range = names_list,\n",
    "       title='TOP 5 INTERCEPTORS',\n",
    "       x_axis_label = 'Interceptions',\n",
    "       y_axis_label = '',\n",
    "       plot_height=500,\n",
    "       sizing_mode=\"stretch_width\",\n",
    "       tools=[hover]\n",
    ")\n",
    "\n",
    "p2.hbar(y='Player', \n",
    "       right='Int', \n",
    "       height=0.4, \n",
    "       fill_color=factor_cmap(\n",
    "              'Player',\n",
    "              palette=Viridis[5],\n",
    "              factors=names_list\n",
    "       ),\n",
    "       alpha=0.8,\n",
    "       source=source\n",
    ")\n",
    "\n",
    "p2.title.text_font_size='28px'\n",
    "p2.title.align='center'\n",
    "p2.title.text_color='#2e3333'\n",
    "p2.xgrid.grid_line_color = None\n",
    "\n",
    "show(p2)"
   ]
  },
  {
   "cell_type": "code",
   "execution_count": 34,
   "metadata": {},
   "outputs": [
    {
     "output_type": "execute_result",
     "data": {
      "text/plain": [
       "                   FL\n",
       "Player               \n",
       "Daniel Jones     11.0\n",
       "Kyle Allen        7.0\n",
       "Carson Wentz      7.0\n",
       "Gardner Minshew   7.0\n",
       "Jameis Winston    5.0"
      ],
      "text/html": "<div>\n<style scoped>\n    .dataframe tbody tr th:only-of-type {\n        vertical-align: middle;\n    }\n\n    .dataframe tbody tr th {\n        vertical-align: top;\n    }\n\n    .dataframe thead th {\n        text-align: right;\n    }\n</style>\n<table border=\"1\" class=\"dataframe\">\n  <thead>\n    <tr style=\"text-align: right;\">\n      <th></th>\n      <th>FL</th>\n    </tr>\n    <tr>\n      <th>Player</th>\n      <th></th>\n    </tr>\n  </thead>\n  <tbody>\n    <tr>\n      <th>Daniel Jones</th>\n      <td>11.0</td>\n    </tr>\n    <tr>\n      <th>Kyle Allen</th>\n      <td>7.0</td>\n    </tr>\n    <tr>\n      <th>Carson Wentz</th>\n      <td>7.0</td>\n    </tr>\n    <tr>\n      <th>Gardner Minshew</th>\n      <td>7.0</td>\n    </tr>\n    <tr>\n      <th>Jameis Winston</th>\n      <td>5.0</td>\n    </tr>\n  </tbody>\n</table>\n</div>"
     },
     "metadata": {},
     "execution_count": 34
    }
   ],
   "source": [
    "# Top 5 Players With Most Fumbles (all weeks combined)\n",
    "top_5_fumbles = df.groupby('Player')[['FL']].sum()\n",
    "top_5_fumbles = top_5_fumbles.sort_values(by='FL', ascending=False).head(5)\n",
    "top_5_fumbles"
   ]
  },
  {
   "cell_type": "code",
   "execution_count": 35,
   "metadata": {},
   "outputs": [
    {
     "output_type": "display_data",
     "data": {
      "text/html": "\n\n\n\n\n\n  <div class=\"bk-root\" id=\"841ce048-181a-427d-9f22-9365a7fb0867\" data-root-id=\"2572\"></div>\n"
     },
     "metadata": {}
    },
    {
     "output_type": "display_data",
     "data": {
      "application/javascript": "(function(root) {\n  function embed_document(root) {\n    \n  var docs_json = {\"1a1623ea-54f9-454e-8e9d-eadc7c186968\":{\"roots\":{\"references\":[{\"attributes\":{\"below\":[{\"id\":\"2583\"}],\"center\":[{\"id\":\"2586\"},{\"id\":\"2589\"}],\"left\":[{\"id\":\"2587\"}],\"plot_height\":500,\"renderers\":[{\"id\":\"2596\"}],\"sizing_mode\":\"stretch_width\",\"title\":{\"id\":\"2573\"},\"toolbar\":{\"id\":\"2590\"},\"x_range\":{\"id\":\"2575\"},\"x_scale\":{\"id\":\"2579\"},\"y_range\":{\"id\":\"2577\"},\"y_scale\":{\"id\":\"2581\"}},\"id\":\"2572\",\"subtype\":\"Figure\",\"type\":\"Plot\"},{\"attributes\":{},\"id\":\"2579\",\"type\":\"LinearScale\"},{\"attributes\":{\"align\":\"center\",\"text\":\"TOP 5 FUMBLES\",\"text_color\":{\"value\":\"#2e3333\"},\"text_font_size\":{\"value\":\"28px\"}},\"id\":\"2573\",\"type\":\"Title\"},{\"attributes\":{},\"id\":\"2692\",\"type\":\"CategoricalTickFormatter\"},{\"attributes\":{\"axis_label\":\"Fumbles\",\"formatter\":{\"id\":\"2690\"},\"ticker\":{\"id\":\"2584\"}},\"id\":\"2583\",\"type\":\"LinearAxis\"},{\"attributes\":{\"fill_alpha\":{\"value\":0.1},\"fill_color\":{\"field\":\"Player\",\"transform\":{\"id\":\"2592\"}},\"height\":{\"value\":0.4},\"line_alpha\":{\"value\":0.1},\"line_color\":{\"value\":\"#1f77b4\"},\"right\":{\"field\":\"FL\"},\"y\":{\"field\":\"Player\"}},\"id\":\"2595\",\"type\":\"HBar\"},{\"attributes\":{\"active_drag\":\"auto\",\"active_inspect\":\"auto\",\"active_multi\":null,\"active_scroll\":\"auto\",\"active_tap\":\"auto\",\"tools\":[{\"id\":\"2571\"}]},\"id\":\"2590\",\"type\":\"Toolbar\"},{\"attributes\":{\"data_source\":{\"id\":\"2570\"},\"glyph\":{\"id\":\"2594\"},\"hover_glyph\":null,\"muted_glyph\":null,\"nonselection_glyph\":{\"id\":\"2595\"},\"selection_glyph\":null,\"view\":{\"id\":\"2597\"}},\"id\":\"2596\",\"type\":\"GlyphRenderer\"},{\"attributes\":{\"data\":{\"FL\":{\"__ndarray__\":\"AAAAAAAAJkAAAAAAAAAcQAAAAAAAABxAAAAAAAAAHEAAAAAAAAAUQA==\",\"dtype\":\"float64\",\"order\":\"little\",\"shape\":[5]},\"Player\":[\"Daniel Jones\",\"Kyle Allen\",\"Carson Wentz\",\"Gardner Minshew\",\"Jameis Winston\"]},\"selected\":{\"id\":\"2695\"},\"selection_policy\":{\"id\":\"2694\"}},\"id\":\"2570\",\"type\":\"ColumnDataSource\"},{\"attributes\":{\"factors\":[\"Daniel Jones\",\"Kyle Allen\",\"Carson Wentz\",\"Gardner Minshew\",\"Jameis Winston\"],\"palette\":[\"#440154\",\"#3B518A\",\"#208F8C\",\"#5BC862\",\"#FDE724\"]},\"id\":\"2592\",\"type\":\"CategoricalColorMapper\"},{\"attributes\":{},\"id\":\"2694\",\"type\":\"UnionRenderers\"},{\"attributes\":{\"formatter\":{\"id\":\"2692\"},\"ticker\":{\"id\":\"2588\"}},\"id\":\"2587\",\"type\":\"CategoricalAxis\"},{\"attributes\":{},\"id\":\"2575\",\"type\":\"DataRange1d\"},{\"attributes\":{\"source\":{\"id\":\"2570\"}},\"id\":\"2597\",\"type\":\"CDSView\"},{\"attributes\":{\"factors\":[\"Daniel Jones\",\"Kyle Allen\",\"Carson Wentz\",\"Gardner Minshew\",\"Jameis Winston\"]},\"id\":\"2577\",\"type\":\"FactorRange\"},{\"attributes\":{\"fill_alpha\":{\"value\":0.8},\"fill_color\":{\"field\":\"Player\",\"transform\":{\"id\":\"2592\"}},\"height\":{\"value\":0.4},\"line_alpha\":{\"value\":0.8},\"line_color\":{\"value\":\"#1f77b4\"},\"right\":{\"field\":\"FL\"},\"y\":{\"field\":\"Player\"}},\"id\":\"2594\",\"type\":\"HBar\"},{\"attributes\":{},\"id\":\"2581\",\"type\":\"CategoricalScale\"},{\"attributes\":{},\"id\":\"2690\",\"type\":\"BasicTickFormatter\"},{\"attributes\":{},\"id\":\"2584\",\"type\":\"BasicTicker\"},{\"attributes\":{},\"id\":\"2588\",\"type\":\"CategoricalTicker\"},{\"attributes\":{\"axis\":{\"id\":\"2583\"},\"grid_line_color\":null,\"ticker\":null},\"id\":\"2586\",\"type\":\"Grid\"},{\"attributes\":{},\"id\":\"2695\",\"type\":\"Selection\"},{\"attributes\":{\"axis\":{\"id\":\"2587\"},\"dimension\":1,\"ticker\":null},\"id\":\"2589\",\"type\":\"Grid\"},{\"attributes\":{\"callback\":null,\"tooltips\":[[\"Player\",\"@Player\"],[\"Fumbles\",\"@FL\"]]},\"id\":\"2571\",\"type\":\"HoverTool\"}],\"root_ids\":[\"2572\"]},\"title\":\"Bokeh Application\",\"version\":\"2.1.1\"}};\n  var render_items = [{\"docid\":\"1a1623ea-54f9-454e-8e9d-eadc7c186968\",\"root_ids\":[\"2572\"],\"roots\":{\"2572\":\"841ce048-181a-427d-9f22-9365a7fb0867\"}}];\n  root.Bokeh.embed.embed_items_notebook(docs_json, render_items);\n\n  }\n  if (root.Bokeh !== undefined) {\n    embed_document(root);\n  } else {\n    var attempts = 0;\n    var timer = setInterval(function(root) {\n      if (root.Bokeh !== undefined) {\n        clearInterval(timer);\n        embed_document(root);\n      } else {\n        attempts++;\n        if (attempts > 100) {\n          clearInterval(timer);\n          console.log(\"Bokeh: ERROR: Unable to run BokehJS code because BokehJS library is missing\");\n        }\n      }\n    }, 10, root)\n  }\n})(window);",
      "application/vnd.bokehjs_exec.v0+json": ""
     },
     "metadata": {
      "application/vnd.bokehjs_exec.v0+json": {
       "id": "2572"
      }
     }
    }
   ],
   "source": [
    "# Plot - Top 5 Fumbles\n",
    "\n",
    "top_5_fumbles = pd.DataFrame(top_5_fumbles)\n",
    "source = ColumnDataSource(top_5_fumbles)\n",
    "\n",
    "hover = HoverTool(tooltips = [(\"Player\", \"@Player\"), (\"Fumbles\", \"@FL\")])\n",
    "\n",
    "names_list = source.data['Player'].tolist()\n",
    "p3 = figure(\n",
    "       y_range = names_list,\n",
    "       title='TOP 5 FUMBLES',\n",
    "       x_axis_label = 'Fumbles',\n",
    "       y_axis_label = '',\n",
    "       plot_height=500,\n",
    "       sizing_mode=\"stretch_width\",\n",
    "       tools=[hover]\n",
    ")\n",
    "\n",
    "p3.hbar(y='Player', \n",
    "       right='FL', \n",
    "       height=0.4, \n",
    "       fill_color=factor_cmap(\n",
    "              'Player',\n",
    "              palette=Viridis[5],\n",
    "              factors=names_list\n",
    "       ),\n",
    "       alpha=0.8,\n",
    "       source=source\n",
    ")\n",
    "\n",
    "p3.title.text_font_size='28px'\n",
    "p3.title.align='center'\n",
    "p3.title.text_color='#2e3333'\n",
    "p3.xgrid.grid_line_color = None\n",
    "\n",
    "\n",
    "show(p3)"
   ]
  },
  {
   "cell_type": "code",
   "execution_count": 36,
   "metadata": {},
   "outputs": [
    {
     "output_type": "execute_result",
     "data": {
      "text/plain": [
       "        Cmp\n",
       "Team       \n",
       "ATL   459.0\n",
       "NOR   418.0\n",
       "LAR   397.0\n",
       "LAC   394.0\n",
       "PHI   391.0\n",
       "DAL   388.0\n",
       "CAR   382.0\n",
       "TAM   382.0\n",
       "NWE   378.0\n",
       "KAN   378.0\n",
       "NYG   376.0\n",
       "CHI   371.0\n",
       "MIA   371.0\n",
       "OAK   367.0\n",
       "JAX   364.0\n",
       "CIN   356.0\n",
       "GNB   356.0\n",
       "ARI   355.0\n",
       "HOU   355.0\n",
       "DET   344.0\n",
       "SEA   341.0\n",
       "SFO   331.0\n",
       "NYJ   323.0\n",
       "MIN   319.0\n",
       "CLE   318.0\n",
       "PIT   315.0\n",
       "DEN   312.0\n",
       "IND   307.0\n",
       "BUF   299.0\n",
       "WAS   298.0\n",
       "TEN   297.0\n",
       "BAL   289.0"
      ],
      "text/html": "<div>\n<style scoped>\n    .dataframe tbody tr th:only-of-type {\n        vertical-align: middle;\n    }\n\n    .dataframe tbody tr th {\n        vertical-align: top;\n    }\n\n    .dataframe thead th {\n        text-align: right;\n    }\n</style>\n<table border=\"1\" class=\"dataframe\">\n  <thead>\n    <tr style=\"text-align: right;\">\n      <th></th>\n      <th>Cmp</th>\n    </tr>\n    <tr>\n      <th>Team</th>\n      <th></th>\n    </tr>\n  </thead>\n  <tbody>\n    <tr>\n      <th>ATL</th>\n      <td>459.0</td>\n    </tr>\n    <tr>\n      <th>NOR</th>\n      <td>418.0</td>\n    </tr>\n    <tr>\n      <th>LAR</th>\n      <td>397.0</td>\n    </tr>\n    <tr>\n      <th>LAC</th>\n      <td>394.0</td>\n    </tr>\n    <tr>\n      <th>PHI</th>\n      <td>391.0</td>\n    </tr>\n    <tr>\n      <th>DAL</th>\n      <td>388.0</td>\n    </tr>\n    <tr>\n      <th>CAR</th>\n      <td>382.0</td>\n    </tr>\n    <tr>\n      <th>TAM</th>\n      <td>382.0</td>\n    </tr>\n    <tr>\n      <th>NWE</th>\n      <td>378.0</td>\n    </tr>\n    <tr>\n      <th>KAN</th>\n      <td>378.0</td>\n    </tr>\n    <tr>\n      <th>NYG</th>\n      <td>376.0</td>\n    </tr>\n    <tr>\n      <th>CHI</th>\n      <td>371.0</td>\n    </tr>\n    <tr>\n      <th>MIA</th>\n      <td>371.0</td>\n    </tr>\n    <tr>\n      <th>OAK</th>\n      <td>367.0</td>\n    </tr>\n    <tr>\n      <th>JAX</th>\n      <td>364.0</td>\n    </tr>\n    <tr>\n      <th>CIN</th>\n      <td>356.0</td>\n    </tr>\n    <tr>\n      <th>GNB</th>\n      <td>356.0</td>\n    </tr>\n    <tr>\n      <th>ARI</th>\n      <td>355.0</td>\n    </tr>\n    <tr>\n      <th>HOU</th>\n      <td>355.0</td>\n    </tr>\n    <tr>\n      <th>DET</th>\n      <td>344.0</td>\n    </tr>\n    <tr>\n      <th>SEA</th>\n      <td>341.0</td>\n    </tr>\n    <tr>\n      <th>SFO</th>\n      <td>331.0</td>\n    </tr>\n    <tr>\n      <th>NYJ</th>\n      <td>323.0</td>\n    </tr>\n    <tr>\n      <th>MIN</th>\n      <td>319.0</td>\n    </tr>\n    <tr>\n      <th>CLE</th>\n      <td>318.0</td>\n    </tr>\n    <tr>\n      <th>PIT</th>\n      <td>315.0</td>\n    </tr>\n    <tr>\n      <th>DEN</th>\n      <td>312.0</td>\n    </tr>\n    <tr>\n      <th>IND</th>\n      <td>307.0</td>\n    </tr>\n    <tr>\n      <th>BUF</th>\n      <td>299.0</td>\n    </tr>\n    <tr>\n      <th>WAS</th>\n      <td>298.0</td>\n    </tr>\n    <tr>\n      <th>TEN</th>\n      <td>297.0</td>\n    </tr>\n    <tr>\n      <th>BAL</th>\n      <td>289.0</td>\n    </tr>\n  </tbody>\n</table>\n</div>"
     },
     "metadata": {},
     "execution_count": 36
    }
   ],
   "source": [
    "# Teams ith the most pass completion \n",
    "teams_completion = df.groupby('Team')[['Cmp']].sum()\n",
    "teams_completion = teams_completion.sort_values(by='Cmp', ascending=False)\n",
    "teams_completion"
   ]
  },
  {
   "cell_type": "code",
   "execution_count": 70,
   "metadata": {},
   "outputs": [
    {
     "output_type": "display_data",
     "data": {
      "text/html": "\n\n\n\n\n\n  <div class=\"bk-root\" id=\"cc75e0e4-cbf2-4533-a060-2bf1bf0c3092\" data-root-id=\"7447\"></div>\n"
     },
     "metadata": {}
    },
    {
     "output_type": "display_data",
     "data": {
      "application/javascript": "(function(root) {\n  function embed_document(root) {\n    \n  var docs_json = {\"c8cc675a-8a6c-49cd-95f3-175b10169246\":{\"roots\":{\"references\":[{\"attributes\":{\"children\":[{\"id\":\"7413\"},{\"id\":\"7445\"}]},\"id\":\"7447\",\"type\":\"Column\"},{\"attributes\":{\"fill_alpha\":{\"value\":0.1},\"fill_color\":{\"field\":\"Team\",\"transform\":{\"id\":\"7439\"}},\"line_alpha\":{\"value\":0.1},\"line_color\":{\"value\":null},\"size\":{\"units\":\"screen\",\"value\":20},\"x\":{\"field\":\"Team\"},\"y\":{\"field\":\"Cmp\"}},\"id\":\"7442\",\"type\":\"Circle\"},{\"attributes\":{\"end\":1,\"format\":\"0[.]00\",\"js_property_callbacks\":{\"change:value\":[{\"id\":\"7446\"}]},\"start\":0.25,\"step\":0.01,\"value\":0.2},\"id\":\"7445\",\"type\":\"Slider\"},{\"attributes\":{},\"id\":\"7682\",\"type\":\"BasicTickFormatter\"},{\"attributes\":{},\"id\":\"7422\",\"type\":\"LinearScale\"},{\"attributes\":{\"args\":{\"other\":{\"id\":\"7441\"}},\"code\":\"other.radius = this.value\"},\"id\":\"7446\",\"type\":\"CustomJS\"},{\"attributes\":{},\"id\":\"7431\",\"type\":\"SaveTool\"},{\"attributes\":{},\"id\":\"7425\",\"type\":\"CategoricalTicker\"},{\"attributes\":{},\"id\":\"7420\",\"type\":\"CategoricalScale\"},{\"attributes\":{},\"id\":\"7685\",\"type\":\"Selection\"},{\"attributes\":{},\"id\":\"7418\",\"type\":\"DataRange1d\"},{\"attributes\":{},\"id\":\"7428\",\"type\":\"BasicTicker\"},{\"attributes\":{\"data_source\":{\"id\":\"7411\"},\"glyph\":{\"id\":\"7441\"},\"hover_glyph\":null,\"muted_glyph\":null,\"nonselection_glyph\":{\"id\":\"7442\"},\"selection_glyph\":null,\"view\":{\"id\":\"7444\"}},\"id\":\"7443\",\"type\":\"GlyphRenderer\"},{\"attributes\":{\"factors\":[\"ATL\",\"NOR\",\"LAR\",\"LAC\",\"PHI\",\"DAL\",\"CAR\",\"TAM\",\"NWE\",\"KAN\",\"NYG\",\"CHI\",\"MIA\",\"OAK\",\"JAX\",\"CIN\",\"GNB\",\"ARI\",\"HOU\",\"DET\",\"SEA\",\"SFO\",\"NYJ\",\"MIN\",\"CLE\",\"PIT\",\"DEN\",\"IND\",\"BUF\",\"WAS\",\"TEN\",\"BAL\"]},\"id\":\"7416\",\"type\":\"FactorRange\"},{\"attributes\":{\"axis\":{\"id\":\"7427\"},\"dimension\":1,\"ticker\":null},\"id\":\"7430\",\"type\":\"Grid\"},{\"attributes\":{\"active_drag\":\"auto\",\"active_inspect\":\"auto\",\"active_multi\":null,\"active_scroll\":\"auto\",\"active_tap\":\"auto\",\"tools\":[{\"id\":\"7412\"},{\"id\":\"7431\"},{\"id\":\"7432\"},{\"id\":\"7433\"}]},\"id\":\"7434\",\"type\":\"Toolbar\"},{\"attributes\":{\"source\":{\"id\":\"7411\"}},\"id\":\"7444\",\"type\":\"CDSView\"},{\"attributes\":{\"align\":\"center\",\"text\":\"TEAMS COMPLETION\",\"text_color\":{\"value\":\"#2e3333\"},\"text_font_size\":{\"value\":\"28px\"}},\"id\":\"7414\",\"type\":\"Title\"},{\"attributes\":{\"callback\":null,\"tooltips\":[[\"Team\",\"@Team\"],[\"Completion\",\"@Cmp\"]]},\"id\":\"7412\",\"type\":\"HoverTool\"},{\"attributes\":{\"factors\":[\"ATL\",\"NOR\",\"LAR\",\"LAC\",\"PHI\",\"DAL\",\"CAR\",\"TAM\",\"NWE\",\"KAN\",\"NYG\",\"CHI\",\"MIA\",\"OAK\",\"JAX\",\"CIN\",\"GNB\",\"ARI\",\"HOU\",\"DET\",\"SEA\",\"SFO\",\"NYJ\",\"MIN\",\"CLE\",\"PIT\",\"DEN\",\"IND\",\"BUF\",\"WAS\",\"TEN\",\"BAL\"],\"palette\":[\"#440154\",\"#482374\",\"#472777\",\"#472C7B\",\"#45347F\",\"#433C84\",\"#433C84\",\"#404387\",\"#3B508A\",\"#39558B\",\"#365A8C\",\"#3F4788\",\"#345E8D\",\"#2C728E\",\"#267F8E\",\"#228B8D\",\"#208F8C\",\"#29788E\",\"#277D8E\",\"#25838D\",\"#228B8D\",\"#22A784\",\"#1E988A\",\"#39B976\",\"#42BE71\",\"#79D151\",\"#81D34C\",\"#9FD938\",\"#BADE27\",\"#C5DF21\",\"#C7E01F\",\"#FDE724\"]},\"id\":\"7439\",\"type\":\"CategoricalColorMapper\"},{\"attributes\":{\"axis_label\":\"Completion\",\"formatter\":{\"id\":\"7682\"},\"ticker\":{\"id\":\"7428\"}},\"id\":\"7427\",\"type\":\"LinearAxis\"},{\"attributes\":{},\"id\":\"7684\",\"type\":\"UnionRenderers\"},{\"attributes\":{},\"id\":\"7433\",\"type\":\"WheelZoomTool\"},{\"attributes\":{\"data\":{\"Cmp\":{\"__ndarray__\":\"AAAAAACwfEAAAAAAACB6QAAAAAAA0HhAAAAAAACgeEAAAAAAAHB4QAAAAAAAQHhAAAAAAADgd0AAAAAAAOB3QAAAAAAAoHdAAAAAAACgd0AAAAAAAIB3QAAAAAAAMHdAAAAAAAAwd0AAAAAAAPB2QAAAAAAAwHZAAAAAAABAdkAAAAAAAEB2QAAAAAAAMHZAAAAAAAAwdkAAAAAAAIB1QAAAAAAAUHVAAAAAAACwdEAAAAAAADB0QAAAAAAA8HNAAAAAAADgc0AAAAAAALBzQAAAAAAAgHNAAAAAAAAwc0AAAAAAALByQAAAAAAAoHJAAAAAAACQckAAAAAAABByQA==\",\"dtype\":\"float64\",\"order\":\"little\",\"shape\":[32]},\"Team\":[\"ATL\",\"NOR\",\"LAR\",\"LAC\",\"PHI\",\"DAL\",\"CAR\",\"TAM\",\"NWE\",\"KAN\",\"NYG\",\"CHI\",\"MIA\",\"OAK\",\"JAX\",\"CIN\",\"GNB\",\"ARI\",\"HOU\",\"DET\",\"SEA\",\"SFO\",\"NYJ\",\"MIN\",\"CLE\",\"PIT\",\"DEN\",\"IND\",\"BUF\",\"WAS\",\"TEN\",\"BAL\"]},\"selected\":{\"id\":\"7685\"},\"selection_policy\":{\"id\":\"7684\"}},\"id\":\"7411\",\"type\":\"ColumnDataSource\"},{\"attributes\":{\"formatter\":{\"id\":\"7680\"},\"ticker\":{\"id\":\"7425\"}},\"id\":\"7424\",\"type\":\"CategoricalAxis\"},{\"attributes\":{},\"id\":\"7432\",\"type\":\"ResetTool\"},{\"attributes\":{\"fill_alpha\":{\"value\":0.8},\"fill_color\":{\"field\":\"Team\",\"transform\":{\"id\":\"7439\"}},\"line_alpha\":{\"value\":0.8},\"line_color\":{\"value\":null},\"size\":{\"units\":\"screen\",\"value\":20},\"x\":{\"field\":\"Team\"},\"y\":{\"field\":\"Cmp\"}},\"id\":\"7441\",\"type\":\"Circle\"},{\"attributes\":{\"below\":[{\"id\":\"7424\"}],\"center\":[{\"id\":\"7426\"},{\"id\":\"7430\"}],\"left\":[{\"id\":\"7427\"}],\"plot_height\":500,\"plot_width\":1080,\"renderers\":[{\"id\":\"7443\"}],\"title\":{\"id\":\"7414\"},\"toolbar\":{\"id\":\"7434\"},\"x_range\":{\"id\":\"7416\"},\"x_scale\":{\"id\":\"7420\"},\"y_range\":{\"id\":\"7418\"},\"y_scale\":{\"id\":\"7422\"}},\"id\":\"7413\",\"subtype\":\"Figure\",\"type\":\"Plot\"},{\"attributes\":{\"axis\":{\"id\":\"7424\"},\"ticker\":null},\"id\":\"7426\",\"type\":\"Grid\"},{\"attributes\":{},\"id\":\"7680\",\"type\":\"CategoricalTickFormatter\"}],\"root_ids\":[\"7447\"]},\"title\":\"Bokeh Application\",\"version\":\"2.1.1\"}};\n  var render_items = [{\"docid\":\"c8cc675a-8a6c-49cd-95f3-175b10169246\",\"root_ids\":[\"7447\"],\"roots\":{\"7447\":\"cc75e0e4-cbf2-4533-a060-2bf1bf0c3092\"}}];\n  root.Bokeh.embed.embed_items_notebook(docs_json, render_items);\n\n  }\n  if (root.Bokeh !== undefined) {\n    embed_document(root);\n  } else {\n    var attempts = 0;\n    var timer = setInterval(function(root) {\n      if (root.Bokeh !== undefined) {\n        clearInterval(timer);\n        embed_document(root);\n      } else {\n        attempts++;\n        if (attempts > 100) {\n          clearInterval(timer);\n          console.log(\"Bokeh: ERROR: Unable to run BokehJS code because BokehJS library is missing\");\n        }\n      }\n    }, 10, root)\n  }\n})(window);",
      "application/vnd.bokehjs_exec.v0+json": ""
     },
     "metadata": {
      "application/vnd.bokehjs_exec.v0+json": {
       "id": "7447"
      }
     }
    }
   ],
   "source": [
    "# Plot - Teams Completion\n",
    "\n",
    "teams_completion = pd.DataFrame(teams_completion)\n",
    "source = ColumnDataSource(teams_completion)\n",
    "\n",
    "hover = HoverTool(tooltips = [(\"Team\", \"@Team\"), (\"Completion\", \"@Cmp\")])\n",
    "\n",
    "teams_list = source.data['Team'].tolist()\n",
    "\n",
    "p_teams = figure(\n",
    "       x_range = teams_list,\n",
    "       title='TEAMS COMPLETION',\n",
    "       x_axis_label = '',\n",
    "       y_axis_label = 'Completion',\n",
    "       plot_height=500,\n",
    "       plot_width=1080,\n",
    "       tools=[hover,'save', 'reset', 'wheel_zoom']\n",
    ")\n",
    "\n",
    "s = p_teams.circle(\n",
    "    x='Team', \n",
    "    y='Cmp',\n",
    "    size=20, \n",
    "    fill_color=factor_cmap(\n",
    "        'Team',\n",
    "        palette=('#440154', '#482374', '#472777', '#472C7B', '#45347F', '#433C84', '#433C84', '#404387', '#3B508A', '#39558B', '#365A8C', '#3F4788','#345E8D', '#2C728E', '#267F8E', '#228B8D','#208F8C', '#29788E', '#277D8E', '#25838D', '#228B8D', '#22A784', '#1E988A', '#39B976', '#42BE71', '#79D151', '#81D34C', '#9FD938', '#BADE27', '#C5DF21', '#C7E01F','#FDE724'),\n",
    "        factors=teams_list\n",
    "       ),\n",
    "    alpha=0.8,\n",
    "    line_color=None,\n",
    "    source=source)\n",
    "\n",
    "p_teams.title.text_font_size='28px'\n",
    "p_teams.title.align='center'\n",
    "p_teams.title.text_color='#2e3333'\n",
    "\n",
    "slider = Slider(start=0.25, end=1, step=0.01, value=0.2)\n",
    "slider.js_link('value', s.glyph, 'radius')\n",
    "\n",
    "show(column(p_teams, slider))"
   ]
  },
  {
   "cell_type": "code",
   "execution_count": 22,
   "metadata": {},
   "outputs": [
    {
     "output_type": "execute_result",
     "data": {
      "text/plain": [
       "      PassingYds  PassingTD       Int  PassingAtt       Cmp  RushingAtt  \\\n",
       "Team                                                                      \n",
       "ARI    24.339744   0.128205  0.076923    3.551282  2.275641    2.538462   \n",
       "ATL    31.754717   0.182390  0.094340    4.301887  2.886792    2.276730   \n",
       "BAL    18.926554   0.209040  0.045198    2.485876  1.632768    3.367232   \n",
       "BUF    25.007194   0.151079  0.086331    3.690647  2.151079    3.345324   \n",
       "CAR    30.622222   0.125926  0.155556    4.688889  2.829630    2.859259   \n",
       "CHI    24.812500   0.138889  0.083333    4.027778  2.576389    2.743056   \n",
       "CIN    28.528571   0.128571  0.114286    4.400000  2.542857    2.750000   \n",
       "CLE    29.821705   0.170543  0.162791    4.178295  2.465116    3.046512   \n",
       "DAL    36.311111   0.222222  0.081481    4.422222  2.874074    3.325926   \n",
       "DEN    23.136054   0.108844  0.068027    3.428571  2.122449    2.782313   \n",
       "DET    26.168750   0.175000  0.093750    3.568750  2.150000    2.543750   \n",
       "GNB    26.602649   0.172185  0.026490    3.794702  2.357616    2.721854   \n",
       "HOU    29.374101   0.194245  0.100719    3.841727  2.553957    3.122302   \n",
       "IND    21.243590   0.141026  0.064103    3.288462  1.967949    3.019231   \n",
       "JAX    28.330986   0.169014  0.056338    4.147887  2.563380    2.739437   \n",
       "KAN    29.872611   0.191083  0.031847    3.668790  2.407643    2.388535   \n",
       "LAC    33.927007   0.175182  0.145985    4.357664  2.875912    2.671533   \n",
       "LAR    32.880282   0.154930  0.119718    4.450704  2.795775    2.823944   \n",
       "MIA    25.413580   0.135802  0.111111    3.796296  2.290123    2.154321   \n",
       "MIN    24.214286   0.168831  0.051948    3.025974  2.071429    3.090909   \n",
       "NOR    28.403846   0.230769  0.038462    3.724359  2.679487    2.596154   \n",
       "NWE    26.452229   0.159236  0.057325    3.949045  2.407643    2.847134   \n",
       "NYG    29.492754   0.217391  0.123188    4.398551  2.724638    2.623188   \n",
       "NYJ    23.909722   0.131944  0.111111    3.618056  2.243056    2.659722   \n",
       "OAK    24.610778   0.131737  0.047904    3.131737  2.197605    2.616766   \n",
       "PHI    30.096296   0.200000  0.059259    4.540741  2.896296    3.362963   \n",
       "PIT    20.471338   0.114650  0.121019    3.248408  2.006369    2.515924   \n",
       "SEA    28.541667   0.215278  0.041667    3.590278  2.368056    3.340278   \n",
       "SFO    25.662420   0.178344  0.082803    3.044586  2.108280    3.171975   \n",
       "TAM    32.656051   0.210191  0.191083    4.012739  2.433121    2.605096   \n",
       "TEN    25.037975   0.183544  0.050633    2.835443  1.879747    2.816456   \n",
       "WAS    21.655405   0.121622  0.087838    3.236486  2.013514    2.405405   \n",
       "\n",
       "      RushingYds  RushingTD       Rec       Tgt  ReceivingYds  ReceivingTD  \\\n",
       "Team                                                                         \n",
       "ARI    12.756410   0.115385  2.275641  3.230769     24.339744     0.128205   \n",
       "ATL     8.559748   0.062893  2.886792  4.018868     31.754717     0.182390   \n",
       "BAL    18.570621   0.118644  1.632768  2.271186     18.926554     0.209040   \n",
       "BUF    14.776978   0.093525  2.151079  3.302158     25.007194     0.151079   \n",
       "CAR    13.474074   0.148148  2.829630  4.362963     30.622222     0.125926   \n",
       "CHI    10.125000   0.055556  2.576389  3.819444     24.812500     0.138889   \n",
       "CIN    10.835714   0.064286  2.542857  4.114286     28.528571     0.128571   \n",
       "CLE    14.736434   0.116279  2.465116  3.790698     29.821705     0.170543   \n",
       "DAL    15.948148   0.133333  2.874074  4.155556     36.311111     0.222222   \n",
       "DEN    11.306122   0.074830  2.122449  3.197279     23.136054     0.108844   \n",
       "DET    10.306250   0.043750  2.150000  3.306250     26.168750     0.175000   \n",
       "GNB    11.887417   0.119205  2.357616  3.430464     26.602649     0.172185   \n",
       "HOU    14.453237   0.122302  2.553957  3.661871     29.374101     0.194245   \n",
       "IND    13.653846   0.108974  1.967949  3.019231     21.243590     0.141026   \n",
       "JAX    12.028169   0.021127  2.563380  3.866197     28.330986     0.169014   \n",
       "KAN     9.993631   0.101911  2.407643  3.433121     29.872611     0.191083   \n",
       "LAC    10.605839   0.087591  2.875912  4.036496     33.927007     0.175182   \n",
       "LAR    10.556338   0.140845  2.795775  4.056338     32.880282     0.154930   \n",
       "MIA     7.111111   0.061728  2.290123  3.592593     25.413580     0.135802   \n",
       "MIN    13.850649   0.123377  2.071429  2.740260     24.214286     0.168831   \n",
       "NOR    11.141026   0.076923  2.679487  3.506410     28.403846     0.230769   \n",
       "NWE    10.847134   0.108280  2.407643  3.681529     26.452229     0.159236   \n",
       "NYG    12.210145   0.079710  2.724638  4.202899     29.492754     0.217391   \n",
       "NYJ     8.729167   0.041667  2.243056  3.340278     23.909722     0.131944   \n",
       "OAK    11.335329   0.077844  2.197605  2.892216     24.610778     0.131737   \n",
       "PHI    14.362963   0.118519  2.896296  4.333333     30.096296     0.200000   \n",
       "PIT     9.216561   0.044586  2.006369  2.955414     20.445860     0.114650   \n",
       "SEA    15.277778   0.104167  2.368056  3.333333     28.541667     0.215278   \n",
       "SFO    14.681529   0.146497  2.108280  2.866242     25.662420     0.178344   \n",
       "TAM     9.687898   0.095541  2.433121  3.675159     32.656051     0.210191   \n",
       "TEN    14.069620   0.132911  1.879747  2.588608     25.037975     0.183544   \n",
       "WAS    10.695946   0.060811  2.013514  3.054054     21.655405     0.121622   \n",
       "\n",
       "            FL  PPRFantasyPoints  StandardFantasyPoints  HalfPPRFantasyPoints  \\\n",
       "Team                                                                            \n",
       "ARI   0.038462          8.702436               6.426795              7.564615   \n",
       "ATL   0.062893         10.075220               7.188428              8.631824   \n",
       "BAL   0.039548          8.772316               7.139548              7.955932   \n",
       "BUF   0.050360          8.928345               6.777266              7.852806   \n",
       "CAR   0.103704         10.093778               7.264148              8.678963   \n",
       "CHI   0.048611          8.520972               5.944583              7.232778   \n",
       "CIN   0.100000          8.863286               6.320429              7.591857   \n",
       "CLE   0.054264         10.082791               7.617674              8.850233   \n",
       "DAL   0.051852         12.308000               9.433926             10.870963   \n",
       "DEN   0.040816          7.811837               5.689388              6.750612   \n",
       "DET   0.050000          8.569250               6.419250              7.494250   \n",
       "GNB   0.059603          9.535629               7.178013              8.356821   \n",
       "HOU   0.057554         10.471367               7.917410              9.194388   \n",
       "IND   0.070513          8.102308               6.134359              7.118333   \n",
       "JAX   0.084507          9.267746               6.704366              7.986056   \n",
       "KAN   0.063694          9.920382               7.512739              8.716561   \n",
       "LAC   0.080292         10.511095               7.635182              9.073139   \n",
       "LAR   0.049296         10.510986               7.715211              9.113099   \n",
       "MIA   0.049383          7.966543               5.676420              6.821481   \n",
       "MIN   0.077922          9.015325               6.943896              7.979610   \n",
       "NOR   0.012821         10.436795               7.757308              9.097051   \n",
       "NWE   0.038217          9.246624               6.838981              8.042803   \n",
       "NYG   0.115942         10.248551               7.523913              8.886232   \n",
       "NYJ   0.062500          7.685556               5.442500              6.564028   \n",
       "OAK   0.053892          8.357485               6.159880              7.258683   \n",
       "PHI   0.111111         10.916444               8.020148              9.468296   \n",
       "PIT   0.070064          6.823312               4.816943              5.820127   \n",
       "SEA   0.097222         10.391667               8.023611              9.207639   \n",
       "SFO   0.063694          9.538599               7.430318              8.484459   \n",
       "TAM   0.070064         10.126624               7.693503              8.910064   \n",
       "TEN   0.056962          9.209747               7.330000              8.269873   \n",
       "WAS   0.054054          7.412162               5.398649              6.405405   \n",
       "\n",
       "          Week    Year  \n",
       "Team                    \n",
       "ARI   8.871795  2019.0  \n",
       "ATL   9.270440  2019.0  \n",
       "BAL   8.988701  2019.0  \n",
       "BUF   8.877698  2019.0  \n",
       "CAR   9.651852  2019.0  \n",
       "CHI   9.020833  2019.0  \n",
       "CIN   8.878571  2019.0  \n",
       "CLE   9.255814  2019.0  \n",
       "DAL   9.029630  2019.0  \n",
       "DEN   9.387755  2019.0  \n",
       "DET   8.968750  2019.0  \n",
       "GNB   9.125828  2019.0  \n",
       "HOU   8.920863  2019.0  \n",
       "IND   9.217949  2019.0  \n",
       "JAX   9.190141  2019.0  \n",
       "KAN   8.732484  2019.0  \n",
       "LAC   8.562044  2019.0  \n",
       "LAR   9.169014  2019.0  \n",
       "MIA   9.135802  2019.0  \n",
       "MIN   9.032468  2019.0  \n",
       "NOR   9.294872  2019.0  \n",
       "NWE   8.949045  2019.0  \n",
       "NYG   8.615942  2019.0  \n",
       "NYJ   9.493056  2019.0  \n",
       "OAK   9.125749  2019.0  \n",
       "PHI   8.585185  2019.0  \n",
       "PIT   9.426752  2019.0  \n",
       "SEA   9.020833  2019.0  \n",
       "SFO   9.006369  2019.0  \n",
       "TAM   9.503185  2019.0  \n",
       "TEN   9.113924  2019.0  \n",
       "WAS   8.777027  2019.0  "
      ],
      "text/html": "<div>\n<style scoped>\n    .dataframe tbody tr th:only-of-type {\n        vertical-align: middle;\n    }\n\n    .dataframe tbody tr th {\n        vertical-align: top;\n    }\n\n    .dataframe thead th {\n        text-align: right;\n    }\n</style>\n<table border=\"1\" class=\"dataframe\">\n  <thead>\n    <tr style=\"text-align: right;\">\n      <th></th>\n      <th>PassingYds</th>\n      <th>PassingTD</th>\n      <th>Int</th>\n      <th>PassingAtt</th>\n      <th>Cmp</th>\n      <th>RushingAtt</th>\n      <th>RushingYds</th>\n      <th>RushingTD</th>\n      <th>Rec</th>\n      <th>Tgt</th>\n      <th>ReceivingYds</th>\n      <th>ReceivingTD</th>\n      <th>FL</th>\n      <th>PPRFantasyPoints</th>\n      <th>StandardFantasyPoints</th>\n      <th>HalfPPRFantasyPoints</th>\n      <th>Week</th>\n      <th>Year</th>\n    </tr>\n    <tr>\n      <th>Team</th>\n      <th></th>\n      <th></th>\n      <th></th>\n      <th></th>\n      <th></th>\n      <th></th>\n      <th></th>\n      <th></th>\n      <th></th>\n      <th></th>\n      <th></th>\n      <th></th>\n      <th></th>\n      <th></th>\n      <th></th>\n      <th></th>\n      <th></th>\n      <th></th>\n    </tr>\n  </thead>\n  <tbody>\n    <tr>\n      <th>ARI</th>\n      <td>24.339744</td>\n      <td>0.128205</td>\n      <td>0.076923</td>\n      <td>3.551282</td>\n      <td>2.275641</td>\n      <td>2.538462</td>\n      <td>12.756410</td>\n      <td>0.115385</td>\n      <td>2.275641</td>\n      <td>3.230769</td>\n      <td>24.339744</td>\n      <td>0.128205</td>\n      <td>0.038462</td>\n      <td>8.702436</td>\n      <td>6.426795</td>\n      <td>7.564615</td>\n      <td>8.871795</td>\n      <td>2019.0</td>\n    </tr>\n    <tr>\n      <th>ATL</th>\n      <td>31.754717</td>\n      <td>0.182390</td>\n      <td>0.094340</td>\n      <td>4.301887</td>\n      <td>2.886792</td>\n      <td>2.276730</td>\n      <td>8.559748</td>\n      <td>0.062893</td>\n      <td>2.886792</td>\n      <td>4.018868</td>\n      <td>31.754717</td>\n      <td>0.182390</td>\n      <td>0.062893</td>\n      <td>10.075220</td>\n      <td>7.188428</td>\n      <td>8.631824</td>\n      <td>9.270440</td>\n      <td>2019.0</td>\n    </tr>\n    <tr>\n      <th>BAL</th>\n      <td>18.926554</td>\n      <td>0.209040</td>\n      <td>0.045198</td>\n      <td>2.485876</td>\n      <td>1.632768</td>\n      <td>3.367232</td>\n      <td>18.570621</td>\n      <td>0.118644</td>\n      <td>1.632768</td>\n      <td>2.271186</td>\n      <td>18.926554</td>\n      <td>0.209040</td>\n      <td>0.039548</td>\n      <td>8.772316</td>\n      <td>7.139548</td>\n      <td>7.955932</td>\n      <td>8.988701</td>\n      <td>2019.0</td>\n    </tr>\n    <tr>\n      <th>BUF</th>\n      <td>25.007194</td>\n      <td>0.151079</td>\n      <td>0.086331</td>\n      <td>3.690647</td>\n      <td>2.151079</td>\n      <td>3.345324</td>\n      <td>14.776978</td>\n      <td>0.093525</td>\n      <td>2.151079</td>\n      <td>3.302158</td>\n      <td>25.007194</td>\n      <td>0.151079</td>\n      <td>0.050360</td>\n      <td>8.928345</td>\n      <td>6.777266</td>\n      <td>7.852806</td>\n      <td>8.877698</td>\n      <td>2019.0</td>\n    </tr>\n    <tr>\n      <th>CAR</th>\n      <td>30.622222</td>\n      <td>0.125926</td>\n      <td>0.155556</td>\n      <td>4.688889</td>\n      <td>2.829630</td>\n      <td>2.859259</td>\n      <td>13.474074</td>\n      <td>0.148148</td>\n      <td>2.829630</td>\n      <td>4.362963</td>\n      <td>30.622222</td>\n      <td>0.125926</td>\n      <td>0.103704</td>\n      <td>10.093778</td>\n      <td>7.264148</td>\n      <td>8.678963</td>\n      <td>9.651852</td>\n      <td>2019.0</td>\n    </tr>\n    <tr>\n      <th>CHI</th>\n      <td>24.812500</td>\n      <td>0.138889</td>\n      <td>0.083333</td>\n      <td>4.027778</td>\n      <td>2.576389</td>\n      <td>2.743056</td>\n      <td>10.125000</td>\n      <td>0.055556</td>\n      <td>2.576389</td>\n      <td>3.819444</td>\n      <td>24.812500</td>\n      <td>0.138889</td>\n      <td>0.048611</td>\n      <td>8.520972</td>\n      <td>5.944583</td>\n      <td>7.232778</td>\n      <td>9.020833</td>\n      <td>2019.0</td>\n    </tr>\n    <tr>\n      <th>CIN</th>\n      <td>28.528571</td>\n      <td>0.128571</td>\n      <td>0.114286</td>\n      <td>4.400000</td>\n      <td>2.542857</td>\n      <td>2.750000</td>\n      <td>10.835714</td>\n      <td>0.064286</td>\n      <td>2.542857</td>\n      <td>4.114286</td>\n      <td>28.528571</td>\n      <td>0.128571</td>\n      <td>0.100000</td>\n      <td>8.863286</td>\n      <td>6.320429</td>\n      <td>7.591857</td>\n      <td>8.878571</td>\n      <td>2019.0</td>\n    </tr>\n    <tr>\n      <th>CLE</th>\n      <td>29.821705</td>\n      <td>0.170543</td>\n      <td>0.162791</td>\n      <td>4.178295</td>\n      <td>2.465116</td>\n      <td>3.046512</td>\n      <td>14.736434</td>\n      <td>0.116279</td>\n      <td>2.465116</td>\n      <td>3.790698</td>\n      <td>29.821705</td>\n      <td>0.170543</td>\n      <td>0.054264</td>\n      <td>10.082791</td>\n      <td>7.617674</td>\n      <td>8.850233</td>\n      <td>9.255814</td>\n      <td>2019.0</td>\n    </tr>\n    <tr>\n      <th>DAL</th>\n      <td>36.311111</td>\n      <td>0.222222</td>\n      <td>0.081481</td>\n      <td>4.422222</td>\n      <td>2.874074</td>\n      <td>3.325926</td>\n      <td>15.948148</td>\n      <td>0.133333</td>\n      <td>2.874074</td>\n      <td>4.155556</td>\n      <td>36.311111</td>\n      <td>0.222222</td>\n      <td>0.051852</td>\n      <td>12.308000</td>\n      <td>9.433926</td>\n      <td>10.870963</td>\n      <td>9.029630</td>\n      <td>2019.0</td>\n    </tr>\n    <tr>\n      <th>DEN</th>\n      <td>23.136054</td>\n      <td>0.108844</td>\n      <td>0.068027</td>\n      <td>3.428571</td>\n      <td>2.122449</td>\n      <td>2.782313</td>\n      <td>11.306122</td>\n      <td>0.074830</td>\n      <td>2.122449</td>\n      <td>3.197279</td>\n      <td>23.136054</td>\n      <td>0.108844</td>\n      <td>0.040816</td>\n      <td>7.811837</td>\n      <td>5.689388</td>\n      <td>6.750612</td>\n      <td>9.387755</td>\n      <td>2019.0</td>\n    </tr>\n    <tr>\n      <th>DET</th>\n      <td>26.168750</td>\n      <td>0.175000</td>\n      <td>0.093750</td>\n      <td>3.568750</td>\n      <td>2.150000</td>\n      <td>2.543750</td>\n      <td>10.306250</td>\n      <td>0.043750</td>\n      <td>2.150000</td>\n      <td>3.306250</td>\n      <td>26.168750</td>\n      <td>0.175000</td>\n      <td>0.050000</td>\n      <td>8.569250</td>\n      <td>6.419250</td>\n      <td>7.494250</td>\n      <td>8.968750</td>\n      <td>2019.0</td>\n    </tr>\n    <tr>\n      <th>GNB</th>\n      <td>26.602649</td>\n      <td>0.172185</td>\n      <td>0.026490</td>\n      <td>3.794702</td>\n      <td>2.357616</td>\n      <td>2.721854</td>\n      <td>11.887417</td>\n      <td>0.119205</td>\n      <td>2.357616</td>\n      <td>3.430464</td>\n      <td>26.602649</td>\n      <td>0.172185</td>\n      <td>0.059603</td>\n      <td>9.535629</td>\n      <td>7.178013</td>\n      <td>8.356821</td>\n      <td>9.125828</td>\n      <td>2019.0</td>\n    </tr>\n    <tr>\n      <th>HOU</th>\n      <td>29.374101</td>\n      <td>0.194245</td>\n      <td>0.100719</td>\n      <td>3.841727</td>\n      <td>2.553957</td>\n      <td>3.122302</td>\n      <td>14.453237</td>\n      <td>0.122302</td>\n      <td>2.553957</td>\n      <td>3.661871</td>\n      <td>29.374101</td>\n      <td>0.194245</td>\n      <td>0.057554</td>\n      <td>10.471367</td>\n      <td>7.917410</td>\n      <td>9.194388</td>\n      <td>8.920863</td>\n      <td>2019.0</td>\n    </tr>\n    <tr>\n      <th>IND</th>\n      <td>21.243590</td>\n      <td>0.141026</td>\n      <td>0.064103</td>\n      <td>3.288462</td>\n      <td>1.967949</td>\n      <td>3.019231</td>\n      <td>13.653846</td>\n      <td>0.108974</td>\n      <td>1.967949</td>\n      <td>3.019231</td>\n      <td>21.243590</td>\n      <td>0.141026</td>\n      <td>0.070513</td>\n      <td>8.102308</td>\n      <td>6.134359</td>\n      <td>7.118333</td>\n      <td>9.217949</td>\n      <td>2019.0</td>\n    </tr>\n    <tr>\n      <th>JAX</th>\n      <td>28.330986</td>\n      <td>0.169014</td>\n      <td>0.056338</td>\n      <td>4.147887</td>\n      <td>2.563380</td>\n      <td>2.739437</td>\n      <td>12.028169</td>\n      <td>0.021127</td>\n      <td>2.563380</td>\n      <td>3.866197</td>\n      <td>28.330986</td>\n      <td>0.169014</td>\n      <td>0.084507</td>\n      <td>9.267746</td>\n      <td>6.704366</td>\n      <td>7.986056</td>\n      <td>9.190141</td>\n      <td>2019.0</td>\n    </tr>\n    <tr>\n      <th>KAN</th>\n      <td>29.872611</td>\n      <td>0.191083</td>\n      <td>0.031847</td>\n      <td>3.668790</td>\n      <td>2.407643</td>\n      <td>2.388535</td>\n      <td>9.993631</td>\n      <td>0.101911</td>\n      <td>2.407643</td>\n      <td>3.433121</td>\n      <td>29.872611</td>\n      <td>0.191083</td>\n      <td>0.063694</td>\n      <td>9.920382</td>\n      <td>7.512739</td>\n      <td>8.716561</td>\n      <td>8.732484</td>\n      <td>2019.0</td>\n    </tr>\n    <tr>\n      <th>LAC</th>\n      <td>33.927007</td>\n      <td>0.175182</td>\n      <td>0.145985</td>\n      <td>4.357664</td>\n      <td>2.875912</td>\n      <td>2.671533</td>\n      <td>10.605839</td>\n      <td>0.087591</td>\n      <td>2.875912</td>\n      <td>4.036496</td>\n      <td>33.927007</td>\n      <td>0.175182</td>\n      <td>0.080292</td>\n      <td>10.511095</td>\n      <td>7.635182</td>\n      <td>9.073139</td>\n      <td>8.562044</td>\n      <td>2019.0</td>\n    </tr>\n    <tr>\n      <th>LAR</th>\n      <td>32.880282</td>\n      <td>0.154930</td>\n      <td>0.119718</td>\n      <td>4.450704</td>\n      <td>2.795775</td>\n      <td>2.823944</td>\n      <td>10.556338</td>\n      <td>0.140845</td>\n      <td>2.795775</td>\n      <td>4.056338</td>\n      <td>32.880282</td>\n      <td>0.154930</td>\n      <td>0.049296</td>\n      <td>10.510986</td>\n      <td>7.715211</td>\n      <td>9.113099</td>\n      <td>9.169014</td>\n      <td>2019.0</td>\n    </tr>\n    <tr>\n      <th>MIA</th>\n      <td>25.413580</td>\n      <td>0.135802</td>\n      <td>0.111111</td>\n      <td>3.796296</td>\n      <td>2.290123</td>\n      <td>2.154321</td>\n      <td>7.111111</td>\n      <td>0.061728</td>\n      <td>2.290123</td>\n      <td>3.592593</td>\n      <td>25.413580</td>\n      <td>0.135802</td>\n      <td>0.049383</td>\n      <td>7.966543</td>\n      <td>5.676420</td>\n      <td>6.821481</td>\n      <td>9.135802</td>\n      <td>2019.0</td>\n    </tr>\n    <tr>\n      <th>MIN</th>\n      <td>24.214286</td>\n      <td>0.168831</td>\n      <td>0.051948</td>\n      <td>3.025974</td>\n      <td>2.071429</td>\n      <td>3.090909</td>\n      <td>13.850649</td>\n      <td>0.123377</td>\n      <td>2.071429</td>\n      <td>2.740260</td>\n      <td>24.214286</td>\n      <td>0.168831</td>\n      <td>0.077922</td>\n      <td>9.015325</td>\n      <td>6.943896</td>\n      <td>7.979610</td>\n      <td>9.032468</td>\n      <td>2019.0</td>\n    </tr>\n    <tr>\n      <th>NOR</th>\n      <td>28.403846</td>\n      <td>0.230769</td>\n      <td>0.038462</td>\n      <td>3.724359</td>\n      <td>2.679487</td>\n      <td>2.596154</td>\n      <td>11.141026</td>\n      <td>0.076923</td>\n      <td>2.679487</td>\n      <td>3.506410</td>\n      <td>28.403846</td>\n      <td>0.230769</td>\n      <td>0.012821</td>\n      <td>10.436795</td>\n      <td>7.757308</td>\n      <td>9.097051</td>\n      <td>9.294872</td>\n      <td>2019.0</td>\n    </tr>\n    <tr>\n      <th>NWE</th>\n      <td>26.452229</td>\n      <td>0.159236</td>\n      <td>0.057325</td>\n      <td>3.949045</td>\n      <td>2.407643</td>\n      <td>2.847134</td>\n      <td>10.847134</td>\n      <td>0.108280</td>\n      <td>2.407643</td>\n      <td>3.681529</td>\n      <td>26.452229</td>\n      <td>0.159236</td>\n      <td>0.038217</td>\n      <td>9.246624</td>\n      <td>6.838981</td>\n      <td>8.042803</td>\n      <td>8.949045</td>\n      <td>2019.0</td>\n    </tr>\n    <tr>\n      <th>NYG</th>\n      <td>29.492754</td>\n      <td>0.217391</td>\n      <td>0.123188</td>\n      <td>4.398551</td>\n      <td>2.724638</td>\n      <td>2.623188</td>\n      <td>12.210145</td>\n      <td>0.079710</td>\n      <td>2.724638</td>\n      <td>4.202899</td>\n      <td>29.492754</td>\n      <td>0.217391</td>\n      <td>0.115942</td>\n      <td>10.248551</td>\n      <td>7.523913</td>\n      <td>8.886232</td>\n      <td>8.615942</td>\n      <td>2019.0</td>\n    </tr>\n    <tr>\n      <th>NYJ</th>\n      <td>23.909722</td>\n      <td>0.131944</td>\n      <td>0.111111</td>\n      <td>3.618056</td>\n      <td>2.243056</td>\n      <td>2.659722</td>\n      <td>8.729167</td>\n      <td>0.041667</td>\n      <td>2.243056</td>\n      <td>3.340278</td>\n      <td>23.909722</td>\n      <td>0.131944</td>\n      <td>0.062500</td>\n      <td>7.685556</td>\n      <td>5.442500</td>\n      <td>6.564028</td>\n      <td>9.493056</td>\n      <td>2019.0</td>\n    </tr>\n    <tr>\n      <th>OAK</th>\n      <td>24.610778</td>\n      <td>0.131737</td>\n      <td>0.047904</td>\n      <td>3.131737</td>\n      <td>2.197605</td>\n      <td>2.616766</td>\n      <td>11.335329</td>\n      <td>0.077844</td>\n      <td>2.197605</td>\n      <td>2.892216</td>\n      <td>24.610778</td>\n      <td>0.131737</td>\n      <td>0.053892</td>\n      <td>8.357485</td>\n      <td>6.159880</td>\n      <td>7.258683</td>\n      <td>9.125749</td>\n      <td>2019.0</td>\n    </tr>\n    <tr>\n      <th>PHI</th>\n      <td>30.096296</td>\n      <td>0.200000</td>\n      <td>0.059259</td>\n      <td>4.540741</td>\n      <td>2.896296</td>\n      <td>3.362963</td>\n      <td>14.362963</td>\n      <td>0.118519</td>\n      <td>2.896296</td>\n      <td>4.333333</td>\n      <td>30.096296</td>\n      <td>0.200000</td>\n      <td>0.111111</td>\n      <td>10.916444</td>\n      <td>8.020148</td>\n      <td>9.468296</td>\n      <td>8.585185</td>\n      <td>2019.0</td>\n    </tr>\n    <tr>\n      <th>PIT</th>\n      <td>20.471338</td>\n      <td>0.114650</td>\n      <td>0.121019</td>\n      <td>3.248408</td>\n      <td>2.006369</td>\n      <td>2.515924</td>\n      <td>9.216561</td>\n      <td>0.044586</td>\n      <td>2.006369</td>\n      <td>2.955414</td>\n      <td>20.445860</td>\n      <td>0.114650</td>\n      <td>0.070064</td>\n      <td>6.823312</td>\n      <td>4.816943</td>\n      <td>5.820127</td>\n      <td>9.426752</td>\n      <td>2019.0</td>\n    </tr>\n    <tr>\n      <th>SEA</th>\n      <td>28.541667</td>\n      <td>0.215278</td>\n      <td>0.041667</td>\n      <td>3.590278</td>\n      <td>2.368056</td>\n      <td>3.340278</td>\n      <td>15.277778</td>\n      <td>0.104167</td>\n      <td>2.368056</td>\n      <td>3.333333</td>\n      <td>28.541667</td>\n      <td>0.215278</td>\n      <td>0.097222</td>\n      <td>10.391667</td>\n      <td>8.023611</td>\n      <td>9.207639</td>\n      <td>9.020833</td>\n      <td>2019.0</td>\n    </tr>\n    <tr>\n      <th>SFO</th>\n      <td>25.662420</td>\n      <td>0.178344</td>\n      <td>0.082803</td>\n      <td>3.044586</td>\n      <td>2.108280</td>\n      <td>3.171975</td>\n      <td>14.681529</td>\n      <td>0.146497</td>\n      <td>2.108280</td>\n      <td>2.866242</td>\n      <td>25.662420</td>\n      <td>0.178344</td>\n      <td>0.063694</td>\n      <td>9.538599</td>\n      <td>7.430318</td>\n      <td>8.484459</td>\n      <td>9.006369</td>\n      <td>2019.0</td>\n    </tr>\n    <tr>\n      <th>TAM</th>\n      <td>32.656051</td>\n      <td>0.210191</td>\n      <td>0.191083</td>\n      <td>4.012739</td>\n      <td>2.433121</td>\n      <td>2.605096</td>\n      <td>9.687898</td>\n      <td>0.095541</td>\n      <td>2.433121</td>\n      <td>3.675159</td>\n      <td>32.656051</td>\n      <td>0.210191</td>\n      <td>0.070064</td>\n      <td>10.126624</td>\n      <td>7.693503</td>\n      <td>8.910064</td>\n      <td>9.503185</td>\n      <td>2019.0</td>\n    </tr>\n    <tr>\n      <th>TEN</th>\n      <td>25.037975</td>\n      <td>0.183544</td>\n      <td>0.050633</td>\n      <td>2.835443</td>\n      <td>1.879747</td>\n      <td>2.816456</td>\n      <td>14.069620</td>\n      <td>0.132911</td>\n      <td>1.879747</td>\n      <td>2.588608</td>\n      <td>25.037975</td>\n      <td>0.183544</td>\n      <td>0.056962</td>\n      <td>9.209747</td>\n      <td>7.330000</td>\n      <td>8.269873</td>\n      <td>9.113924</td>\n      <td>2019.0</td>\n    </tr>\n    <tr>\n      <th>WAS</th>\n      <td>21.655405</td>\n      <td>0.121622</td>\n      <td>0.087838</td>\n      <td>3.236486</td>\n      <td>2.013514</td>\n      <td>2.405405</td>\n      <td>10.695946</td>\n      <td>0.060811</td>\n      <td>2.013514</td>\n      <td>3.054054</td>\n      <td>21.655405</td>\n      <td>0.121622</td>\n      <td>0.054054</td>\n      <td>7.412162</td>\n      <td>5.398649</td>\n      <td>6.405405</td>\n      <td>8.777027</td>\n      <td>2019.0</td>\n    </tr>\n  </tbody>\n</table>\n</div>"
     },
     "metadata": {},
     "execution_count": 22
    }
   ],
   "source": [
    "# AVGS by Team \n",
    "avg_teams = df.groupby('Team').mean()\n",
    "avg_teams"
   ]
  },
  {
   "cell_type": "code",
   "execution_count": 23,
   "metadata": {},
   "outputs": [
    {
     "output_type": "display_data",
     "data": {
      "text/html": "\n\n\n\n\n\n  <div class=\"bk-root\" id=\"cdb2f4c4-7c1c-4ee3-ab8b-8e9d152e1538\" data-root-id=\"1348\"></div>\n"
     },
     "metadata": {}
    },
    {
     "output_type": "display_data",
     "data": {
      "application/javascript": "(function(root) {\n  function embed_document(root) {\n    \n  var docs_json = {\"2661da84-7faf-43c2-a066-c5f7a6498e86\":{\"roots\":{\"references\":[{\"attributes\":{\"tabs\":[{\"id\":\"1345\"},{\"id\":\"1346\"},{\"id\":\"1347\"}]},\"id\":\"1348\",\"type\":\"Tabs\"},{\"attributes\":{\"axis_label\":\"Interceptions\",\"formatter\":{\"id\":\"1115\"},\"ticker\":{\"id\":\"1091\"}},\"id\":\"1090\",\"type\":\"LinearAxis\"},{\"attributes\":{},\"id\":\"1164\",\"type\":\"DataRange1d\"},{\"attributes\":{},\"id\":\"1020\",\"type\":\"CategoricalTicker\"},{\"attributes\":{\"axis_label\":\"Fumbles\",\"formatter\":{\"id\":\"1204\"},\"ticker\":{\"id\":\"1173\"}},\"id\":\"1172\",\"type\":\"LinearAxis\"},{\"attributes\":{\"source\":{\"id\":\"1078\"}},\"id\":\"1103\",\"type\":\"CDSView\"},{\"attributes\":{\"factors\":[\"Jameis Winston\",\"Baker Mayfield\",\"Philip Rivers\",\"Jared Goff\",\"Kyle Allen\"]},\"id\":\"1084\",\"type\":\"FactorRange\"},{\"attributes\":{},\"id\":\"1177\",\"type\":\"CategoricalTicker\"},{\"attributes\":{},\"id\":\"1170\",\"type\":\"CategoricalScale\"},{\"attributes\":{\"child\":{\"id\":\"1004\"},\"title\":\"Top 5 Passers\"},\"id\":\"1345\",\"type\":\"Panel\"},{\"attributes\":{\"data_source\":{\"id\":\"1003\"},\"glyph\":{\"id\":\"1025\"},\"hover_glyph\":null,\"muted_glyph\":null,\"nonselection_glyph\":{\"id\":\"1026\"},\"selection_glyph\":null,\"view\":{\"id\":\"1028\"}},\"id\":\"1027\",\"type\":\"GlyphRenderer\"},{\"attributes\":{\"formatter\":{\"id\":\"1113\"},\"ticker\":{\"id\":\"1095\"}},\"id\":\"1094\",\"type\":\"CategoricalAxis\"},{\"attributes\":{\"formatter\":{\"id\":\"1202\"},\"ticker\":{\"id\":\"1177\"}},\"id\":\"1176\",\"type\":\"CategoricalAxis\"},{\"attributes\":{},\"id\":\"1115\",\"type\":\"BasicTickFormatter\"},{\"attributes\":{\"data_source\":{\"id\":\"1078\"},\"glyph\":{\"id\":\"1100\"},\"hover_glyph\":null,\"muted_glyph\":null,\"nonselection_glyph\":{\"id\":\"1101\"},\"selection_glyph\":null,\"view\":{\"id\":\"1103\"}},\"id\":\"1102\",\"type\":\"GlyphRenderer\"},{\"attributes\":{},\"id\":\"1168\",\"type\":\"LinearScale\"},{\"attributes\":{\"data\":{\"FL\":{\"__ndarray__\":\"AAAAAAAAJkAAAAAAAAAcQAAAAAAAABxAAAAAAAAAHEAAAAAAAAAUQA==\",\"dtype\":\"float64\",\"order\":\"little\",\"shape\":[5]},\"Player\":[\"Daniel Jones\",\"Kyle Allen\",\"Carson Wentz\",\"Gardner Minshew\",\"Jameis Winston\"]},\"selected\":{\"id\":\"1206\"},\"selection_policy\":{\"id\":\"1205\"}},\"id\":\"1160\",\"type\":\"ColumnDataSource\"},{\"attributes\":{\"axis_label\":\"Passing TouchDowns\",\"formatter\":{\"id\":\"1033\"},\"ticker\":{\"id\":\"1016\"}},\"id\":\"1015\",\"type\":\"LinearAxis\"},{\"attributes\":{},\"id\":\"1034\",\"type\":\"UnionRenderers\"},{\"attributes\":{},\"id\":\"1035\",\"type\":\"Selection\"},{\"attributes\":{\"factors\":[\"Lamar Jackson\",\"Jameis Winston\",\"Russell Wilson\",\"Dak Prescott\",\"Jimmy Garoppolo\"]},\"id\":\"1009\",\"type\":\"FactorRange\"},{\"attributes\":{\"factors\":[\"Daniel Jones\",\"Kyle Allen\",\"Carson Wentz\",\"Gardner Minshew\",\"Jameis Winston\"]},\"id\":\"1166\",\"type\":\"FactorRange\"},{\"attributes\":{\"data\":{\"Int\":{\"__ndarray__\":\"AAAAAAAAPkAAAAAAAAA1QAAAAAAAADRAAAAAAAAAMEAAAAAAAAAwQA==\",\"dtype\":\"float64\",\"order\":\"little\",\"shape\":[5]},\"Player\":[\"Jameis Winston\",\"Baker Mayfield\",\"Philip Rivers\",\"Jared Goff\",\"Kyle Allen\"]},\"selected\":{\"id\":\"1117\"},\"selection_policy\":{\"id\":\"1116\"}},\"id\":\"1078\",\"type\":\"ColumnDataSource\"},{\"attributes\":{\"axis\":{\"id\":\"1090\"},\"ticker\":null},\"id\":\"1093\",\"type\":\"Grid\"},{\"attributes\":{},\"id\":\"1173\",\"type\":\"BasicTicker\"},{\"attributes\":{\"axis\":{\"id\":\"1172\"},\"ticker\":null},\"id\":\"1175\",\"type\":\"Grid\"},{\"attributes\":{\"fill_alpha\":{\"value\":0.8},\"fill_color\":{\"field\":\"Player\",\"transform\":{\"id\":\"1023\"}},\"height\":{\"value\":0.4},\"line_alpha\":{\"value\":0.8},\"line_color\":{\"value\":\"#1f77b4\"},\"right\":{\"field\":\"PassingTD\"},\"y\":{\"field\":\"Player\"}},\"id\":\"1025\",\"type\":\"HBar\"},{\"attributes\":{},\"id\":\"1016\",\"type\":\"BasicTicker\"},{\"attributes\":{\"formatter\":{\"id\":\"1031\"},\"ticker\":{\"id\":\"1020\"}},\"id\":\"1019\",\"type\":\"CategoricalAxis\"},{\"attributes\":{},\"id\":\"1116\",\"type\":\"UnionRenderers\"},{\"attributes\":{\"factors\":[\"Daniel Jones\",\"Kyle Allen\",\"Carson Wentz\",\"Gardner Minshew\",\"Jameis Winston\"],\"palette\":[\"#440154\",\"#3B518A\",\"#208F8C\",\"#5BC862\",\"#FDE724\"]},\"id\":\"1180\",\"type\":\"CategoricalColorMapper\"},{\"attributes\":{},\"id\":\"1117\",\"type\":\"Selection\"},{\"attributes\":{\"align\":\"center\",\"text\":\"TOP 5 PASSERS\",\"text_color\":{\"value\":\"#2e3333\"},\"text_font_size\":{\"value\":\"28px\"}},\"id\":\"1005\",\"type\":\"Title\"},{\"attributes\":{\"axis\":{\"id\":\"1176\"},\"dimension\":1,\"ticker\":null},\"id\":\"1178\",\"type\":\"Grid\"},{\"attributes\":{},\"id\":\"1007\",\"type\":\"DataRange1d\"},{\"attributes\":{\"align\":\"center\",\"text\":\"TOP 5 INTERCEPTORS\",\"text_color\":{\"value\":\"#2e3333\"},\"text_font_size\":{\"value\":\"28px\"}},\"id\":\"1080\",\"type\":\"Title\"},{\"attributes\":{},\"id\":\"1013\",\"type\":\"CategoricalScale\"},{\"attributes\":{\"below\":[{\"id\":\"1090\"}],\"center\":[{\"id\":\"1093\"},{\"id\":\"1096\"}],\"left\":[{\"id\":\"1094\"}],\"plot_height\":500,\"renderers\":[{\"id\":\"1102\"}],\"sizing_mode\":\"stretch_width\",\"title\":{\"id\":\"1080\"},\"toolbar\":{\"id\":\"1097\"},\"x_range\":{\"id\":\"1082\"},\"x_scale\":{\"id\":\"1086\"},\"y_range\":{\"id\":\"1084\"},\"y_scale\":{\"id\":\"1088\"}},\"id\":\"1079\",\"subtype\":\"Figure\",\"type\":\"Plot\"},{\"attributes\":{},\"id\":\"1086\",\"type\":\"LinearScale\"},{\"attributes\":{\"align\":\"center\",\"text\":\"TOP 5 FUMBLES\",\"text_color\":{\"value\":\"#2e3333\"},\"text_font_size\":{\"value\":\"28px\"}},\"id\":\"1162\",\"type\":\"Title\"},{\"attributes\":{\"active_drag\":\"auto\",\"active_inspect\":\"auto\",\"active_multi\":null,\"active_scroll\":\"auto\",\"active_tap\":\"auto\"},\"id\":\"1179\",\"type\":\"Toolbar\"},{\"attributes\":{\"fill_alpha\":{\"value\":0.1},\"fill_color\":{\"field\":\"Player\",\"transform\":{\"id\":\"1098\"}},\"height\":{\"value\":0.4},\"line_alpha\":{\"value\":0.1},\"line_color\":{\"value\":\"#1f77b4\"},\"right\":{\"field\":\"Int\"},\"y\":{\"field\":\"Player\"}},\"id\":\"1101\",\"type\":\"HBar\"},{\"attributes\":{\"axis\":{\"id\":\"1015\"},\"ticker\":null},\"id\":\"1018\",\"type\":\"Grid\"},{\"attributes\":{\"fill_alpha\":{\"value\":0.8},\"fill_color\":{\"field\":\"Player\",\"transform\":{\"id\":\"1098\"}},\"height\":{\"value\":0.4},\"line_alpha\":{\"value\":0.8},\"line_color\":{\"value\":\"#1f77b4\"},\"right\":{\"field\":\"Int\"},\"y\":{\"field\":\"Player\"}},\"id\":\"1100\",\"type\":\"HBar\"},{\"attributes\":{},\"id\":\"1202\",\"type\":\"CategoricalTickFormatter\"},{\"attributes\":{},\"id\":\"1011\",\"type\":\"LinearScale\"},{\"attributes\":{},\"id\":\"1113\",\"type\":\"CategoricalTickFormatter\"},{\"attributes\":{},\"id\":\"1031\",\"type\":\"CategoricalTickFormatter\"},{\"attributes\":{},\"id\":\"1206\",\"type\":\"Selection\"},{\"attributes\":{\"axis\":{\"id\":\"1019\"},\"dimension\":1,\"ticker\":null},\"id\":\"1021\",\"type\":\"Grid\"},{\"attributes\":{\"data\":{\"PassingTD\":{\"__ndarray__\":\"AAAAAAAAQkAAAAAAAIBAQAAAAAAAAD9AAAAAAAAAPkAAAAAAAAA7QA==\",\"dtype\":\"float64\",\"order\":\"little\",\"shape\":[5]},\"Player\":[\"Lamar Jackson\",\"Jameis Winston\",\"Russell Wilson\",\"Dak Prescott\",\"Jimmy Garoppolo\"]},\"selected\":{\"id\":\"1035\"},\"selection_policy\":{\"id\":\"1034\"}},\"id\":\"1003\",\"type\":\"ColumnDataSource\"},{\"attributes\":{\"factors\":[\"Jameis Winston\",\"Baker Mayfield\",\"Philip Rivers\",\"Jared Goff\",\"Kyle Allen\"],\"palette\":[\"#440154\",\"#3B518A\",\"#208F8C\",\"#5BC862\",\"#FDE724\"]},\"id\":\"1098\",\"type\":\"CategoricalColorMapper\"},{\"attributes\":{\"below\":[{\"id\":\"1172\"}],\"center\":[{\"id\":\"1175\"},{\"id\":\"1178\"}],\"left\":[{\"id\":\"1176\"}],\"plot_height\":500,\"renderers\":[{\"id\":\"1184\"}],\"sizing_mode\":\"stretch_width\",\"title\":{\"id\":\"1162\"},\"toolbar\":{\"id\":\"1179\"},\"x_range\":{\"id\":\"1164\"},\"x_scale\":{\"id\":\"1168\"},\"y_range\":{\"id\":\"1166\"},\"y_scale\":{\"id\":\"1170\"}},\"id\":\"1161\",\"subtype\":\"Figure\",\"type\":\"Plot\"},{\"attributes\":{\"axis\":{\"id\":\"1094\"},\"dimension\":1,\"ticker\":null},\"id\":\"1096\",\"type\":\"Grid\"},{\"attributes\":{},\"id\":\"1204\",\"type\":\"BasicTickFormatter\"},{\"attributes\":{},\"id\":\"1091\",\"type\":\"BasicTicker\"},{\"attributes\":{},\"id\":\"1205\",\"type\":\"UnionRenderers\"},{\"attributes\":{\"fill_alpha\":{\"value\":0.1},\"fill_color\":{\"field\":\"Player\",\"transform\":{\"id\":\"1180\"}},\"height\":{\"value\":0.4},\"line_alpha\":{\"value\":0.1},\"line_color\":{\"value\":\"#1f77b4\"},\"right\":{\"field\":\"FL\"},\"y\":{\"field\":\"Player\"}},\"id\":\"1183\",\"type\":\"HBar\"},{\"attributes\":{\"active_drag\":\"auto\",\"active_inspect\":\"auto\",\"active_multi\":null,\"active_scroll\":\"auto\",\"active_tap\":\"auto\"},\"id\":\"1022\",\"type\":\"Toolbar\"},{\"attributes\":{},\"id\":\"1095\",\"type\":\"CategoricalTicker\"},{\"attributes\":{\"fill_alpha\":{\"value\":0.8},\"fill_color\":{\"field\":\"Player\",\"transform\":{\"id\":\"1180\"}},\"height\":{\"value\":0.4},\"line_alpha\":{\"value\":0.8},\"line_color\":{\"value\":\"#1f77b4\"},\"right\":{\"field\":\"FL\"},\"y\":{\"field\":\"Player\"}},\"id\":\"1182\",\"type\":\"HBar\"},{\"attributes\":{\"source\":{\"id\":\"1160\"}},\"id\":\"1185\",\"type\":\"CDSView\"},{\"attributes\":{\"active_drag\":\"auto\",\"active_inspect\":\"auto\",\"active_multi\":null,\"active_scroll\":\"auto\",\"active_tap\":\"auto\"},\"id\":\"1097\",\"type\":\"Toolbar\"},{\"attributes\":{},\"id\":\"1088\",\"type\":\"CategoricalScale\"},{\"attributes\":{\"factors\":[\"Lamar Jackson\",\"Jameis Winston\",\"Russell Wilson\",\"Dak Prescott\",\"Jimmy Garoppolo\"],\"palette\":[\"#440154\",\"#3B518A\",\"#208F8C\",\"#5BC862\",\"#FDE724\"]},\"id\":\"1023\",\"type\":\"CategoricalColorMapper\"},{\"attributes\":{\"fill_alpha\":{\"value\":0.1},\"fill_color\":{\"field\":\"Player\",\"transform\":{\"id\":\"1023\"}},\"height\":{\"value\":0.4},\"line_alpha\":{\"value\":0.1},\"line_color\":{\"value\":\"#1f77b4\"},\"right\":{\"field\":\"PassingTD\"},\"y\":{\"field\":\"Player\"}},\"id\":\"1026\",\"type\":\"HBar\"},{\"attributes\":{\"child\":{\"id\":\"1161\"},\"title\":\"Top 5 Fumbles\"},\"id\":\"1347\",\"type\":\"Panel\"},{\"attributes\":{\"source\":{\"id\":\"1003\"}},\"id\":\"1028\",\"type\":\"CDSView\"},{\"attributes\":{\"below\":[{\"id\":\"1015\"}],\"center\":[{\"id\":\"1018\"},{\"id\":\"1021\"}],\"left\":[{\"id\":\"1019\"}],\"plot_height\":500,\"renderers\":[{\"id\":\"1027\"}],\"sizing_mode\":\"stretch_width\",\"title\":{\"id\":\"1005\"},\"toolbar\":{\"id\":\"1022\"},\"x_range\":{\"id\":\"1007\"},\"x_scale\":{\"id\":\"1011\"},\"y_range\":{\"id\":\"1009\"},\"y_scale\":{\"id\":\"1013\"}},\"id\":\"1004\",\"subtype\":\"Figure\",\"type\":\"Plot\"},{\"attributes\":{\"data_source\":{\"id\":\"1160\"},\"glyph\":{\"id\":\"1182\"},\"hover_glyph\":null,\"muted_glyph\":null,\"nonselection_glyph\":{\"id\":\"1183\"},\"selection_glyph\":null,\"view\":{\"id\":\"1185\"}},\"id\":\"1184\",\"type\":\"GlyphRenderer\"},{\"attributes\":{},\"id\":\"1082\",\"type\":\"DataRange1d\"},{\"attributes\":{},\"id\":\"1033\",\"type\":\"BasicTickFormatter\"},{\"attributes\":{\"child\":{\"id\":\"1079\"},\"title\":\"Top 5  Interceptors\"},\"id\":\"1346\",\"type\":\"Panel\"}],\"root_ids\":[\"1348\"]},\"title\":\"Bokeh Application\",\"version\":\"2.1.1\"}};\n  var render_items = [{\"docid\":\"2661da84-7faf-43c2-a066-c5f7a6498e86\",\"root_ids\":[\"1348\"],\"roots\":{\"1348\":\"cdb2f4c4-7c1c-4ee3-ab8b-8e9d152e1538\"}}];\n  root.Bokeh.embed.embed_items_notebook(docs_json, render_items);\n\n  }\n  if (root.Bokeh !== undefined) {\n    embed_document(root);\n  } else {\n    var attempts = 0;\n    var timer = setInterval(function(root) {\n      if (root.Bokeh !== undefined) {\n        clearInterval(timer);\n        embed_document(root);\n      } else {\n        attempts++;\n        if (attempts > 100) {\n          clearInterval(timer);\n          console.log(\"Bokeh: ERROR: Unable to run BokehJS code because BokehJS library is missing\");\n        }\n      }\n    }, 10, root)\n  }\n})(window);",
      "application/vnd.bokehjs_exec.v0+json": ""
     },
     "metadata": {
      "application/vnd.bokehjs_exec.v0+json": {
       "id": "1348"
      }
     }
    }
   ],
   "source": [
    "# Creating Panel\n",
    "\n",
    "tab1 = Panel(child=p1, title=\"Top 5 Passers\")\n",
    "tab2 = Panel(child=p2, title=\"Top 5  Interceptors\")\n",
    "tab3 = Panel(child=p3, title=\"Top 5 Fumbles\")\n",
    "\n",
    "show(Tabs(tabs=[tab1, tab2, tab3]))"
   ]
  },
  {
   "cell_type": "code",
   "execution_count": null,
   "metadata": {},
   "outputs": [],
   "source": []
  }
 ]
}