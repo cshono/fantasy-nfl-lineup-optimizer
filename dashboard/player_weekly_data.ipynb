{
 "metadata": {
  "language_info": {
   "codemirror_mode": {
    "name": "ipython",
    "version": 3
   },
   "file_extension": ".py",
   "mimetype": "text/x-python",
   "name": "python",
   "nbconvert_exporter": "python",
   "pygments_lexer": "ipython3",
   "version": "3.8.3-final"
  },
  "orig_nbformat": 2,
  "kernelspec": {
   "name": "Python 3.8.3 64-bit ('base': conda)",
   "display_name": "Python 3.8.3 64-bit ('base': conda)",
   "metadata": {
    "interpreter": {
     "hash": "a4841eeb86f7d837670793275e227623a560700939cb6e34c015832bd2c85e9e"
    }
   }
  }
 },
 "nbformat": 4,
 "nbformat_minor": 2,
 "cells": [
  {
   "cell_type": "code",
   "execution_count": 2,
   "metadata": {},
   "outputs": [],
   "source": [
    "# Data handling\n",
    "import pandas as pd\n",
    "import numpy as np\n",
    "import matplotlib.pyplot as plt"
   ]
  },
  {
   "cell_type": "code",
   "execution_count": 3,
   "metadata": {},
   "outputs": [
    {
     "output_type": "execute_result",
     "data": {
      "text/plain": [
       "           Name Team Pos  Wk  Opp  Year Status  TeamScore  OppScore  PassYds  \\\n",
       "0   Aaron Jones   GB  RB   2  DET  2020      0         42        21        0   \n",
       "1  Dak Prescott  DAL  QB   2  ATL  2020      0         40        39      450   \n",
       "2  Alvin Kamara   NO  RB   2   LV  2020      0         24        34        0   \n",
       "3    Cam Newton   NE  QB   2  SEA  2020      0         30        35      397   \n",
       "4    Josh Allen  BUF  QB   2  MIA  2020      0         31        28      415   \n",
       "\n",
       "   ...  PassingAtt  Cmp  RushingAtt  RushingYds  RushingTD  Rec  Tgs  \\\n",
       "0  ...           0    0          18         168          2    4    8   \n",
       "1  ...          47   34           5          18          3    0    0   \n",
       "2  ...           0    0          13          79          2    9    9   \n",
       "3  ...          44   30          11          47          2    0    0   \n",
       "4  ...          35   24           4          19          0    0    0   \n",
       "\n",
       "   ReceivingYds  ReceivingTD  FL  \n",
       "0            68            1   0  \n",
       "1             0            0   1  \n",
       "2            95            0   0  \n",
       "3             0            0   0  \n",
       "4             0            0   0  \n",
       "\n",
       "[5 rows x 22 columns]"
      ],
      "text/html": "<div>\n<style scoped>\n    .dataframe tbody tr th:only-of-type {\n        vertical-align: middle;\n    }\n\n    .dataframe tbody tr th {\n        vertical-align: top;\n    }\n\n    .dataframe thead th {\n        text-align: right;\n    }\n</style>\n<table border=\"1\" class=\"dataframe\">\n  <thead>\n    <tr style=\"text-align: right;\">\n      <th></th>\n      <th>Name</th>\n      <th>Team</th>\n      <th>Pos</th>\n      <th>Wk</th>\n      <th>Opp</th>\n      <th>Year</th>\n      <th>Status</th>\n      <th>TeamScore</th>\n      <th>OppScore</th>\n      <th>PassYds</th>\n      <th>...</th>\n      <th>PassingAtt</th>\n      <th>Cmp</th>\n      <th>RushingAtt</th>\n      <th>RushingYds</th>\n      <th>RushingTD</th>\n      <th>Rec</th>\n      <th>Tgs</th>\n      <th>ReceivingYds</th>\n      <th>ReceivingTD</th>\n      <th>FL</th>\n    </tr>\n  </thead>\n  <tbody>\n    <tr>\n      <th>0</th>\n      <td>Aaron Jones</td>\n      <td>GB</td>\n      <td>RB</td>\n      <td>2</td>\n      <td>DET</td>\n      <td>2020</td>\n      <td>0</td>\n      <td>42</td>\n      <td>21</td>\n      <td>0</td>\n      <td>...</td>\n      <td>0</td>\n      <td>0</td>\n      <td>18</td>\n      <td>168</td>\n      <td>2</td>\n      <td>4</td>\n      <td>8</td>\n      <td>68</td>\n      <td>1</td>\n      <td>0</td>\n    </tr>\n    <tr>\n      <th>1</th>\n      <td>Dak Prescott</td>\n      <td>DAL</td>\n      <td>QB</td>\n      <td>2</td>\n      <td>ATL</td>\n      <td>2020</td>\n      <td>0</td>\n      <td>40</td>\n      <td>39</td>\n      <td>450</td>\n      <td>...</td>\n      <td>47</td>\n      <td>34</td>\n      <td>5</td>\n      <td>18</td>\n      <td>3</td>\n      <td>0</td>\n      <td>0</td>\n      <td>0</td>\n      <td>0</td>\n      <td>1</td>\n    </tr>\n    <tr>\n      <th>2</th>\n      <td>Alvin Kamara</td>\n      <td>NO</td>\n      <td>RB</td>\n      <td>2</td>\n      <td>LV</td>\n      <td>2020</td>\n      <td>0</td>\n      <td>24</td>\n      <td>34</td>\n      <td>0</td>\n      <td>...</td>\n      <td>0</td>\n      <td>0</td>\n      <td>13</td>\n      <td>79</td>\n      <td>2</td>\n      <td>9</td>\n      <td>9</td>\n      <td>95</td>\n      <td>0</td>\n      <td>0</td>\n    </tr>\n    <tr>\n      <th>3</th>\n      <td>Cam Newton</td>\n      <td>NE</td>\n      <td>QB</td>\n      <td>2</td>\n      <td>SEA</td>\n      <td>2020</td>\n      <td>0</td>\n      <td>30</td>\n      <td>35</td>\n      <td>397</td>\n      <td>...</td>\n      <td>44</td>\n      <td>30</td>\n      <td>11</td>\n      <td>47</td>\n      <td>2</td>\n      <td>0</td>\n      <td>0</td>\n      <td>0</td>\n      <td>0</td>\n      <td>0</td>\n    </tr>\n    <tr>\n      <th>4</th>\n      <td>Josh Allen</td>\n      <td>BUF</td>\n      <td>QB</td>\n      <td>2</td>\n      <td>MIA</td>\n      <td>2020</td>\n      <td>0</td>\n      <td>31</td>\n      <td>28</td>\n      <td>415</td>\n      <td>...</td>\n      <td>35</td>\n      <td>24</td>\n      <td>4</td>\n      <td>19</td>\n      <td>0</td>\n      <td>0</td>\n      <td>0</td>\n      <td>0</td>\n      <td>0</td>\n      <td>0</td>\n    </tr>\n  </tbody>\n</table>\n<p>5 rows × 22 columns</p>\n</div>"
     },
     "metadata": {},
     "execution_count": 3
    }
   ],
   "source": [
    "# Reading data\n",
    "df = pd.read_csv('C:/Users/isabe/Documents/player_weekly_data.csv')\n",
    "df.head()"
   ]
  },
  {
   "cell_type": "code",
   "execution_count": null,
   "metadata": {},
   "outputs": [],
   "source": [
    "# Removing NaN \n",
    "df = df.dropna()"
   ]
  },
  {
   "cell_type": "code",
   "execution_count": 12,
   "metadata": {},
   "outputs": [
    {
     "output_type": "execute_result",
     "data": {
      "text/plain": [
       "                   Name Team Pos  Wk  Opp  Year Status  TeamScore  OppScore  \\\n",
       "5        Russell Wilson  SEA  QB   2   NE  2020      0         35        30   \n",
       "4            Josh Allen  BUF  QB   2  MIA  2020      0         31        28   \n",
       "9             Matt Ryan  ATL  QB   2  DAL  2020      0         39        40   \n",
       "15       Ryan Tannehill  TEN  QB   2  JAX  2020      0         33        30   \n",
       "35           Derek Carr   LV  QB   2   NO  2020      0         34        24   \n",
       "20           Joe Burrow  CIN  QB   2  CLE  2020      0         30        35   \n",
       "26           Jared Goff  LAR  QB   2  PHI  2020      0         37        19   \n",
       "27   Gardner Minshew II  JAX  QB   2  TEN  2020      0         30        33   \n",
       "83       Baker Mayfield  CLE  QB   2  CIN  2020      0         35        30   \n",
       "110   Mitchell Trubisky  CHI  QB   2  NYG  2020      0         17        13   \n",
       "\n",
       "     PassYds  ...  PassingAtt  Cmp  RushingAtt  RushingYds  RushingTD  Rec  \\\n",
       "5        288  ...          28   21           5          39          0    0   \n",
       "4        415  ...          35   24           4          19          0    0   \n",
       "9        273  ...          36   24           4          16          0    0   \n",
       "15       239  ...          24   18           4          12          0    0   \n",
       "35       284  ...          38   28           3           3          0    0   \n",
       "20       316  ...          61   37           7          19          0    0   \n",
       "26       267  ...          27   20           7          13          0    0   \n",
       "27       339  ...          45   30           4          19          0    0   \n",
       "83       219  ...          23   16           3           5          0    0   \n",
       "110      190  ...          28   18           4          16          0    0   \n",
       "\n",
       "     Tgs  ReceivingYds  ReceivingTD  FL  \n",
       "5      0             0            0   0  \n",
       "4      0             0            0   0  \n",
       "9      0             0            0   0  \n",
       "15     0             0            0   0  \n",
       "35     0             0            0   2  \n",
       "20     0             0            0   2  \n",
       "26     0             0            0   0  \n",
       "27     0             0            0   1  \n",
       "83     0             0            0   0  \n",
       "110    0             0            0   0  \n",
       "\n",
       "[10 rows x 22 columns]"
      ],
      "text/html": "<div>\n<style scoped>\n    .dataframe tbody tr th:only-of-type {\n        vertical-align: middle;\n    }\n\n    .dataframe tbody tr th {\n        vertical-align: top;\n    }\n\n    .dataframe thead th {\n        text-align: right;\n    }\n</style>\n<table border=\"1\" class=\"dataframe\">\n  <thead>\n    <tr style=\"text-align: right;\">\n      <th></th>\n      <th>Name</th>\n      <th>Team</th>\n      <th>Pos</th>\n      <th>Wk</th>\n      <th>Opp</th>\n      <th>Year</th>\n      <th>Status</th>\n      <th>TeamScore</th>\n      <th>OppScore</th>\n      <th>PassYds</th>\n      <th>...</th>\n      <th>PassingAtt</th>\n      <th>Cmp</th>\n      <th>RushingAtt</th>\n      <th>RushingYds</th>\n      <th>RushingTD</th>\n      <th>Rec</th>\n      <th>Tgs</th>\n      <th>ReceivingYds</th>\n      <th>ReceivingTD</th>\n      <th>FL</th>\n    </tr>\n  </thead>\n  <tbody>\n    <tr>\n      <th>5</th>\n      <td>Russell Wilson</td>\n      <td>SEA</td>\n      <td>QB</td>\n      <td>2</td>\n      <td>NE</td>\n      <td>2020</td>\n      <td>0</td>\n      <td>35</td>\n      <td>30</td>\n      <td>288</td>\n      <td>...</td>\n      <td>28</td>\n      <td>21</td>\n      <td>5</td>\n      <td>39</td>\n      <td>0</td>\n      <td>0</td>\n      <td>0</td>\n      <td>0</td>\n      <td>0</td>\n      <td>0</td>\n    </tr>\n    <tr>\n      <th>4</th>\n      <td>Josh Allen</td>\n      <td>BUF</td>\n      <td>QB</td>\n      <td>2</td>\n      <td>MIA</td>\n      <td>2020</td>\n      <td>0</td>\n      <td>31</td>\n      <td>28</td>\n      <td>415</td>\n      <td>...</td>\n      <td>35</td>\n      <td>24</td>\n      <td>4</td>\n      <td>19</td>\n      <td>0</td>\n      <td>0</td>\n      <td>0</td>\n      <td>0</td>\n      <td>0</td>\n      <td>0</td>\n    </tr>\n    <tr>\n      <th>9</th>\n      <td>Matt Ryan</td>\n      <td>ATL</td>\n      <td>QB</td>\n      <td>2</td>\n      <td>DAL</td>\n      <td>2020</td>\n      <td>0</td>\n      <td>39</td>\n      <td>40</td>\n      <td>273</td>\n      <td>...</td>\n      <td>36</td>\n      <td>24</td>\n      <td>4</td>\n      <td>16</td>\n      <td>0</td>\n      <td>0</td>\n      <td>0</td>\n      <td>0</td>\n      <td>0</td>\n      <td>0</td>\n    </tr>\n    <tr>\n      <th>15</th>\n      <td>Ryan Tannehill</td>\n      <td>TEN</td>\n      <td>QB</td>\n      <td>2</td>\n      <td>JAX</td>\n      <td>2020</td>\n      <td>0</td>\n      <td>33</td>\n      <td>30</td>\n      <td>239</td>\n      <td>...</td>\n      <td>24</td>\n      <td>18</td>\n      <td>4</td>\n      <td>12</td>\n      <td>0</td>\n      <td>0</td>\n      <td>0</td>\n      <td>0</td>\n      <td>0</td>\n      <td>0</td>\n    </tr>\n    <tr>\n      <th>35</th>\n      <td>Derek Carr</td>\n      <td>LV</td>\n      <td>QB</td>\n      <td>2</td>\n      <td>NO</td>\n      <td>2020</td>\n      <td>0</td>\n      <td>34</td>\n      <td>24</td>\n      <td>284</td>\n      <td>...</td>\n      <td>38</td>\n      <td>28</td>\n      <td>3</td>\n      <td>3</td>\n      <td>0</td>\n      <td>0</td>\n      <td>0</td>\n      <td>0</td>\n      <td>0</td>\n      <td>2</td>\n    </tr>\n    <tr>\n      <th>20</th>\n      <td>Joe Burrow</td>\n      <td>CIN</td>\n      <td>QB</td>\n      <td>2</td>\n      <td>CLE</td>\n      <td>2020</td>\n      <td>0</td>\n      <td>30</td>\n      <td>35</td>\n      <td>316</td>\n      <td>...</td>\n      <td>61</td>\n      <td>37</td>\n      <td>7</td>\n      <td>19</td>\n      <td>0</td>\n      <td>0</td>\n      <td>0</td>\n      <td>0</td>\n      <td>0</td>\n      <td>2</td>\n    </tr>\n    <tr>\n      <th>26</th>\n      <td>Jared Goff</td>\n      <td>LAR</td>\n      <td>QB</td>\n      <td>2</td>\n      <td>PHI</td>\n      <td>2020</td>\n      <td>0</td>\n      <td>37</td>\n      <td>19</td>\n      <td>267</td>\n      <td>...</td>\n      <td>27</td>\n      <td>20</td>\n      <td>7</td>\n      <td>13</td>\n      <td>0</td>\n      <td>0</td>\n      <td>0</td>\n      <td>0</td>\n      <td>0</td>\n      <td>0</td>\n    </tr>\n    <tr>\n      <th>27</th>\n      <td>Gardner Minshew II</td>\n      <td>JAX</td>\n      <td>QB</td>\n      <td>2</td>\n      <td>TEN</td>\n      <td>2020</td>\n      <td>0</td>\n      <td>30</td>\n      <td>33</td>\n      <td>339</td>\n      <td>...</td>\n      <td>45</td>\n      <td>30</td>\n      <td>4</td>\n      <td>19</td>\n      <td>0</td>\n      <td>0</td>\n      <td>0</td>\n      <td>0</td>\n      <td>0</td>\n      <td>1</td>\n    </tr>\n    <tr>\n      <th>83</th>\n      <td>Baker Mayfield</td>\n      <td>CLE</td>\n      <td>QB</td>\n      <td>2</td>\n      <td>CIN</td>\n      <td>2020</td>\n      <td>0</td>\n      <td>35</td>\n      <td>30</td>\n      <td>219</td>\n      <td>...</td>\n      <td>23</td>\n      <td>16</td>\n      <td>3</td>\n      <td>5</td>\n      <td>0</td>\n      <td>0</td>\n      <td>0</td>\n      <td>0</td>\n      <td>0</td>\n      <td>0</td>\n    </tr>\n    <tr>\n      <th>110</th>\n      <td>Mitchell Trubisky</td>\n      <td>CHI</td>\n      <td>QB</td>\n      <td>2</td>\n      <td>NYG</td>\n      <td>2020</td>\n      <td>0</td>\n      <td>17</td>\n      <td>13</td>\n      <td>190</td>\n      <td>...</td>\n      <td>28</td>\n      <td>18</td>\n      <td>4</td>\n      <td>16</td>\n      <td>0</td>\n      <td>0</td>\n      <td>0</td>\n      <td>0</td>\n      <td>0</td>\n      <td>0</td>\n    </tr>\n  </tbody>\n</table>\n<p>10 rows × 22 columns</p>\n</div>"
     },
     "metadata": {},
     "execution_count": 12
    }
   ],
   "source": [
    "# Top 10 Players with the most Passing TD in one week\n",
    "top_10_assists = df.sort_values(by='PassingTD', ascending=False).head(10)\n",
    "top_10_assists.head(10)"
   ]
  },
  {
   "cell_type": "code",
   "execution_count": 17,
   "metadata": {},
   "outputs": [
    {
     "output_type": "execute_result",
     "data": {
      "text/plain": [
       "Name\n",
       "Russell Wilson        5\n",
       "Matt Ryan             4\n",
       "Josh Allen            4\n",
       "Ryan Tannehill        4\n",
       "Gardner Minshew II    3\n",
       "Derek Carr            3\n",
       "Joe Burrow            3\n",
       "Jared Goff            3\n",
       "Mitchell Trubisky     2\n",
       "Baker Mayfield        2\n",
       "Name: PassingTD, dtype: int64"
      ]
     },
     "metadata": {},
     "execution_count": 17
    }
   ],
   "source": [
    "# Top 10 Players with the most Passing TD (all weeks combined)\n",
    "top_10_assists_overall = df.groupby('Name')['PassingTD'].sum()\n",
    "top_10_assists_overall = top_10_assists_overall.sort_values(ascending=False).head(10)\n",
    "top_10_assists_overall"
   ]
  },
  {
   "cell_type": "code",
   "execution_count": 22,
   "metadata": {},
   "outputs": [
    {
     "output_type": "execute_result",
     "data": {
      "text/plain": [
       "Team\n",
       "CIN    37\n",
       "DAL    34\n",
       "CAR    33\n",
       "MIA    31\n",
       "NE     30\n",
       "JAX    30\n",
       "PIT    29\n",
       "LV     28\n",
       "KC     27\n",
       "ARI    26\n",
       "NO     26\n",
       "PHI    26\n",
       "NYG    25\n",
       "HOU    25\n",
       "ATL    24\n",
       "BUF    24\n",
       "TB     23\n",
       "LAC    22\n",
       "SF     22\n",
       "SEA    21\n",
       "NYJ    21\n",
       "DET    20\n",
       "LAR    20\n",
       "DEN    19\n",
       "IND    19\n",
       "WAS    19\n",
       "GB     18\n",
       "CHI    18\n",
       "TEN    18\n",
       "BAL    18\n",
       "CLE    16\n",
       "MIN    11\n",
       "Name: Cmp, dtype: int64"
      ]
     },
     "metadata": {},
     "execution_count": 22
    }
   ],
   "source": [
    "# Teams with the most pass completion \n",
    "teams_completion = df.groupby('Team').Cmp.sum()\n",
    "teams_completion = teams_completion.sort_values(ascending=False)\n",
    "teams_completion"
   ]
  },
  {
   "cell_type": "code",
   "execution_count": 5,
   "metadata": {},
   "outputs": [
    {
     "output_type": "execute_result",
     "data": {
      "text/plain": [
       "       Wk    Year  TeamScore  OppScore    PassYds  PassingTD       Int  \\\n",
       "Team                                                                     \n",
       "ARI   2.0  2020.0       30.0      15.0   7.150000   0.025000  0.000000   \n",
       "ATL   2.0  2020.0       39.0      40.0   7.000000   0.102564  0.000000   \n",
       "BAL   2.0  2020.0       33.0      16.0   5.230769   0.025641  0.051282   \n",
       "BUF   2.0  2020.0       31.0      28.0  10.641026   0.102564  0.000000   \n",
       "CAR   2.0  2020.0       17.0      31.0   9.410256   0.000000  0.051282   \n",
       "CHI   2.0  2020.0       17.0      13.0   4.871795   0.051282  0.051282   \n",
       "CIN   2.0  2020.0       30.0      35.0   8.315789   0.078947  0.052632   \n",
       "CLE   2.0  2020.0       35.0      30.0   5.763158   0.052632  0.000000   \n",
       "DAL   2.0  2020.0       40.0      39.0  11.538462   0.025641  0.000000   \n",
       "DEN   2.0  2020.0       21.0      26.0   6.900000   0.050000  0.050000   \n",
       "DET   2.0  2020.0       21.0      42.0   6.256410   0.051282  0.000000   \n",
       "GB    2.0  2020.0       42.0      21.0   6.153846   0.051282  0.051282   \n",
       "HOU   2.0  2020.0       16.0      33.0   7.051282   0.025641  0.000000   \n",
       "IND   2.0  2020.0       28.0      11.0   5.487179   0.025641  0.153846   \n",
       "JAX   2.0  2020.0       30.0      33.0   8.692308   0.076923  0.000000   \n",
       "KC    2.0  2020.0       23.0      20.0   8.162162   0.054054  0.054054   \n",
       "LAC   2.0  2020.0       20.0      23.0   7.974359   0.025641  0.000000   \n",
       "LAR   2.0  2020.0       37.0      19.0   6.846154   0.076923  0.102564   \n",
       "LV    2.0  2020.0       34.0      24.0   7.282051   0.076923  0.051282   \n",
       "MIA   2.0  2020.0       28.0      31.0   8.410256   0.051282  0.000000   \n",
       "MIN   2.0  2020.0       11.0      28.0   3.054054   0.000000  0.054054   \n",
       "NE    2.0  2020.0       30.0      35.0  10.179487   0.025641  0.051282   \n",
       "NO    2.0  2020.0       24.0      34.0   8.000000   0.025641  0.000000   \n",
       "NYG   2.0  2020.0       13.0      17.0   6.342105   0.000000  0.105263   \n",
       "NYJ   2.0  2020.0       13.0      31.0   4.589744   0.025641  0.051282   \n",
       "PHI   2.0  2020.0       19.0      37.0   6.050000   0.000000  0.000000   \n",
       "PIT   2.0  2020.0       26.0      21.0   8.184211   0.052632  0.052632   \n",
       "SEA   2.0  2020.0       35.0      30.0   7.578947   0.131579  0.052632   \n",
       "SF    2.0  2020.0       31.0      13.0   5.050000   0.050000  0.000000   \n",
       "TB    2.0  2020.0       31.0      17.0   5.564103   0.025641  0.102564   \n",
       "TEN   2.0  2020.0       33.0      30.0   6.289474   0.105263  0.105263   \n",
       "WAS   2.0  2020.0       15.0      30.0   5.868421   0.026316  0.052632   \n",
       "\n",
       "      PassingAtt       Cmp  RushingAtt  RushingYds  RushingTD       Rec  \\\n",
       "Team                                                                      \n",
       "ARI     0.950000  0.650000    0.800000    4.000000   0.050000  0.650000   \n",
       "ATL     0.948718  0.615385    0.871795    2.897436   0.000000  0.615385   \n",
       "BAL     0.615385  0.461538    0.948718    5.897436   0.025641  0.461538   \n",
       "BUF     0.897436  0.615385    0.589744    2.871795   0.000000  0.615385   \n",
       "CAR     1.076923  0.846154    0.615385    2.230769   0.051282  0.846154   \n",
       "CHI     0.717949  0.461538    0.820513    3.461538   0.000000  0.435897   \n",
       "CIN     1.605263  0.973684    0.631579    1.789474   0.000000  0.973684   \n",
       "CLE     0.605263  0.421053    0.921053    5.657895   0.078947  0.421053   \n",
       "DAL     1.230769  0.871795    0.794872    3.205128   0.102564  0.871795   \n",
       "DEN     0.975000  0.475000    0.625000    2.600000   0.000000  0.475000   \n",
       "DET     0.846154  0.512821    0.538462    2.282051   0.025641  0.512821   \n",
       "GB      0.769231  0.461538    0.897436    6.641026   0.051282  0.461538   \n",
       "HOU     0.923077  0.641026    0.435897    1.307692   0.000000  0.641026   \n",
       "IND     0.641026  0.487179    1.025641    3.871795   0.025641  0.487179   \n",
       "JAX     1.153846  0.769231    0.692308    4.230769   0.025641  0.769231   \n",
       "KC      1.270270  0.729730    0.594595    3.378378   0.000000  0.729730   \n",
       "LAC     0.846154  0.564103    1.128205    4.692308   0.025641  0.564103   \n",
       "LAR     0.692308  0.512821    1.000000    4.897436   0.051282  0.512821   \n",
       "LV      0.974359  0.717949    0.897436    2.974359   0.025641  0.717949   \n",
       "MIA     1.205128  0.794872    0.564103    2.538462   0.025641  0.794872   \n",
       "MIN     0.702703  0.297297    0.486486    2.162162   0.027027  0.297297   \n",
       "NE      1.128205  0.769231    0.641026    1.717949   0.051282  0.769231   \n",
       "NO      0.974359  0.666667    0.487179    2.871795   0.051282  0.666667   \n",
       "NYG     1.052632  0.657895    0.473684    1.973684   0.026316  0.657895   \n",
       "NYJ     0.820513  0.538462    0.743590    2.666667   0.000000  0.538462   \n",
       "PHI     1.075000  0.650000    0.650000    3.025000   0.050000  0.650000   \n",
       "PIT     1.078947  0.763158    0.578947    2.868421   0.026316  0.763158   \n",
       "SEA     0.736842  0.552632    0.789474    4.052632   0.000000  0.552632   \n",
       "SF      0.675000  0.550000    0.725000    4.550000   0.050000  0.550000   \n",
       "TB      0.897436  0.589744    0.564103    3.128205   0.076923  0.589744   \n",
       "TEN     0.631579  0.473684    0.894737    3.236842   0.000000  0.473684   \n",
       "WAS     0.868421  0.500000    0.605263    3.078947   0.026316  0.500000   \n",
       "\n",
       "           Tgs  ReceivingYds  ReceivingTD        FL  \n",
       "Team                                                 \n",
       "ARI   0.850000      7.150000     0.025000  0.025000  \n",
       "ATL   0.923077      7.000000     0.102564  0.000000  \n",
       "BAL   0.589744      5.230769     0.025641  0.000000  \n",
       "BUF   0.897436     10.641026     0.102564  0.025641  \n",
       "CAR   1.025641      9.410256     0.000000  0.076923  \n",
       "CHI   0.692308      4.769231     0.051282  0.025641  \n",
       "CIN   1.552632      8.315789     0.078947  0.052632  \n",
       "CLE   0.552632      5.763158     0.052632  0.000000  \n",
       "DAL   1.205128     11.538462     0.025641  0.102564  \n",
       "DEN   0.950000      6.900000     0.050000  0.025000  \n",
       "DET   0.769231      6.256410     0.051282  0.000000  \n",
       "GB    0.769231      6.153846     0.051282  0.000000  \n",
       "HOU   0.871795      7.051282     0.025641  0.025641  \n",
       "IND   0.641026      5.487179     0.025641  0.025641  \n",
       "JAX   1.128205      8.692308     0.076923  0.051282  \n",
       "KC    1.216216      8.162162     0.054054  0.000000  \n",
       "LAC   0.769231      7.974359     0.025641  0.025641  \n",
       "LAR   0.666667      6.846154     0.076923  0.025641  \n",
       "LV    0.871795      7.282051     0.076923  0.051282  \n",
       "MIA   1.179487      8.410256     0.051282  0.025641  \n",
       "MIN   0.621622      3.054054     0.000000  0.000000  \n",
       "NE    1.102564     10.179487     0.025641  0.000000  \n",
       "NO    0.948718      8.000000     0.025641  0.000000  \n",
       "NYG   0.947368      6.342105     0.000000  0.026316  \n",
       "NYJ   0.820513      4.589744     0.025641  0.000000  \n",
       "PHI   1.025000      6.050000     0.000000  0.025000  \n",
       "PIT   1.078947      8.184211     0.052632  0.052632  \n",
       "SEA   0.657895      7.578947     0.131579  0.000000  \n",
       "SF    0.675000      5.050000     0.050000  0.050000  \n",
       "TB    0.897436      5.564103     0.025641  0.025641  \n",
       "TEN   0.631579      6.289474     0.105263  0.000000  \n",
       "WAS   0.894737      5.868421     0.026316  0.052632  "
      ],
      "text/html": "<div>\n<style scoped>\n    .dataframe tbody tr th:only-of-type {\n        vertical-align: middle;\n    }\n\n    .dataframe tbody tr th {\n        vertical-align: top;\n    }\n\n    .dataframe thead th {\n        text-align: right;\n    }\n</style>\n<table border=\"1\" class=\"dataframe\">\n  <thead>\n    <tr style=\"text-align: right;\">\n      <th></th>\n      <th>Wk</th>\n      <th>Year</th>\n      <th>TeamScore</th>\n      <th>OppScore</th>\n      <th>PassYds</th>\n      <th>PassingTD</th>\n      <th>Int</th>\n      <th>PassingAtt</th>\n      <th>Cmp</th>\n      <th>RushingAtt</th>\n      <th>RushingYds</th>\n      <th>RushingTD</th>\n      <th>Rec</th>\n      <th>Tgs</th>\n      <th>ReceivingYds</th>\n      <th>ReceivingTD</th>\n      <th>FL</th>\n    </tr>\n    <tr>\n      <th>Team</th>\n      <th></th>\n      <th></th>\n      <th></th>\n      <th></th>\n      <th></th>\n      <th></th>\n      <th></th>\n      <th></th>\n      <th></th>\n      <th></th>\n      <th></th>\n      <th></th>\n      <th></th>\n      <th></th>\n      <th></th>\n      <th></th>\n      <th></th>\n    </tr>\n  </thead>\n  <tbody>\n    <tr>\n      <th>ARI</th>\n      <td>2.0</td>\n      <td>2020.0</td>\n      <td>30.0</td>\n      <td>15.0</td>\n      <td>7.150000</td>\n      <td>0.025000</td>\n      <td>0.000000</td>\n      <td>0.950000</td>\n      <td>0.650000</td>\n      <td>0.800000</td>\n      <td>4.000000</td>\n      <td>0.050000</td>\n      <td>0.650000</td>\n      <td>0.850000</td>\n      <td>7.150000</td>\n      <td>0.025000</td>\n      <td>0.025000</td>\n    </tr>\n    <tr>\n      <th>ATL</th>\n      <td>2.0</td>\n      <td>2020.0</td>\n      <td>39.0</td>\n      <td>40.0</td>\n      <td>7.000000</td>\n      <td>0.102564</td>\n      <td>0.000000</td>\n      <td>0.948718</td>\n      <td>0.615385</td>\n      <td>0.871795</td>\n      <td>2.897436</td>\n      <td>0.000000</td>\n      <td>0.615385</td>\n      <td>0.923077</td>\n      <td>7.000000</td>\n      <td>0.102564</td>\n      <td>0.000000</td>\n    </tr>\n    <tr>\n      <th>BAL</th>\n      <td>2.0</td>\n      <td>2020.0</td>\n      <td>33.0</td>\n      <td>16.0</td>\n      <td>5.230769</td>\n      <td>0.025641</td>\n      <td>0.051282</td>\n      <td>0.615385</td>\n      <td>0.461538</td>\n      <td>0.948718</td>\n      <td>5.897436</td>\n      <td>0.025641</td>\n      <td>0.461538</td>\n      <td>0.589744</td>\n      <td>5.230769</td>\n      <td>0.025641</td>\n      <td>0.000000</td>\n    </tr>\n    <tr>\n      <th>BUF</th>\n      <td>2.0</td>\n      <td>2020.0</td>\n      <td>31.0</td>\n      <td>28.0</td>\n      <td>10.641026</td>\n      <td>0.102564</td>\n      <td>0.000000</td>\n      <td>0.897436</td>\n      <td>0.615385</td>\n      <td>0.589744</td>\n      <td>2.871795</td>\n      <td>0.000000</td>\n      <td>0.615385</td>\n      <td>0.897436</td>\n      <td>10.641026</td>\n      <td>0.102564</td>\n      <td>0.025641</td>\n    </tr>\n    <tr>\n      <th>CAR</th>\n      <td>2.0</td>\n      <td>2020.0</td>\n      <td>17.0</td>\n      <td>31.0</td>\n      <td>9.410256</td>\n      <td>0.000000</td>\n      <td>0.051282</td>\n      <td>1.076923</td>\n      <td>0.846154</td>\n      <td>0.615385</td>\n      <td>2.230769</td>\n      <td>0.051282</td>\n      <td>0.846154</td>\n      <td>1.025641</td>\n      <td>9.410256</td>\n      <td>0.000000</td>\n      <td>0.076923</td>\n    </tr>\n    <tr>\n      <th>CHI</th>\n      <td>2.0</td>\n      <td>2020.0</td>\n      <td>17.0</td>\n      <td>13.0</td>\n      <td>4.871795</td>\n      <td>0.051282</td>\n      <td>0.051282</td>\n      <td>0.717949</td>\n      <td>0.461538</td>\n      <td>0.820513</td>\n      <td>3.461538</td>\n      <td>0.000000</td>\n      <td>0.435897</td>\n      <td>0.692308</td>\n      <td>4.769231</td>\n      <td>0.051282</td>\n      <td>0.025641</td>\n    </tr>\n    <tr>\n      <th>CIN</th>\n      <td>2.0</td>\n      <td>2020.0</td>\n      <td>30.0</td>\n      <td>35.0</td>\n      <td>8.315789</td>\n      <td>0.078947</td>\n      <td>0.052632</td>\n      <td>1.605263</td>\n      <td>0.973684</td>\n      <td>0.631579</td>\n      <td>1.789474</td>\n      <td>0.000000</td>\n      <td>0.973684</td>\n      <td>1.552632</td>\n      <td>8.315789</td>\n      <td>0.078947</td>\n      <td>0.052632</td>\n    </tr>\n    <tr>\n      <th>CLE</th>\n      <td>2.0</td>\n      <td>2020.0</td>\n      <td>35.0</td>\n      <td>30.0</td>\n      <td>5.763158</td>\n      <td>0.052632</td>\n      <td>0.000000</td>\n      <td>0.605263</td>\n      <td>0.421053</td>\n      <td>0.921053</td>\n      <td>5.657895</td>\n      <td>0.078947</td>\n      <td>0.421053</td>\n      <td>0.552632</td>\n      <td>5.763158</td>\n      <td>0.052632</td>\n      <td>0.000000</td>\n    </tr>\n    <tr>\n      <th>DAL</th>\n      <td>2.0</td>\n      <td>2020.0</td>\n      <td>40.0</td>\n      <td>39.0</td>\n      <td>11.538462</td>\n      <td>0.025641</td>\n      <td>0.000000</td>\n      <td>1.230769</td>\n      <td>0.871795</td>\n      <td>0.794872</td>\n      <td>3.205128</td>\n      <td>0.102564</td>\n      <td>0.871795</td>\n      <td>1.205128</td>\n      <td>11.538462</td>\n      <td>0.025641</td>\n      <td>0.102564</td>\n    </tr>\n    <tr>\n      <th>DEN</th>\n      <td>2.0</td>\n      <td>2020.0</td>\n      <td>21.0</td>\n      <td>26.0</td>\n      <td>6.900000</td>\n      <td>0.050000</td>\n      <td>0.050000</td>\n      <td>0.975000</td>\n      <td>0.475000</td>\n      <td>0.625000</td>\n      <td>2.600000</td>\n      <td>0.000000</td>\n      <td>0.475000</td>\n      <td>0.950000</td>\n      <td>6.900000</td>\n      <td>0.050000</td>\n      <td>0.025000</td>\n    </tr>\n    <tr>\n      <th>DET</th>\n      <td>2.0</td>\n      <td>2020.0</td>\n      <td>21.0</td>\n      <td>42.0</td>\n      <td>6.256410</td>\n      <td>0.051282</td>\n      <td>0.000000</td>\n      <td>0.846154</td>\n      <td>0.512821</td>\n      <td>0.538462</td>\n      <td>2.282051</td>\n      <td>0.025641</td>\n      <td>0.512821</td>\n      <td>0.769231</td>\n      <td>6.256410</td>\n      <td>0.051282</td>\n      <td>0.000000</td>\n    </tr>\n    <tr>\n      <th>GB</th>\n      <td>2.0</td>\n      <td>2020.0</td>\n      <td>42.0</td>\n      <td>21.0</td>\n      <td>6.153846</td>\n      <td>0.051282</td>\n      <td>0.051282</td>\n      <td>0.769231</td>\n      <td>0.461538</td>\n      <td>0.897436</td>\n      <td>6.641026</td>\n      <td>0.051282</td>\n      <td>0.461538</td>\n      <td>0.769231</td>\n      <td>6.153846</td>\n      <td>0.051282</td>\n      <td>0.000000</td>\n    </tr>\n    <tr>\n      <th>HOU</th>\n      <td>2.0</td>\n      <td>2020.0</td>\n      <td>16.0</td>\n      <td>33.0</td>\n      <td>7.051282</td>\n      <td>0.025641</td>\n      <td>0.000000</td>\n      <td>0.923077</td>\n      <td>0.641026</td>\n      <td>0.435897</td>\n      <td>1.307692</td>\n      <td>0.000000</td>\n      <td>0.641026</td>\n      <td>0.871795</td>\n      <td>7.051282</td>\n      <td>0.025641</td>\n      <td>0.025641</td>\n    </tr>\n    <tr>\n      <th>IND</th>\n      <td>2.0</td>\n      <td>2020.0</td>\n      <td>28.0</td>\n      <td>11.0</td>\n      <td>5.487179</td>\n      <td>0.025641</td>\n      <td>0.153846</td>\n      <td>0.641026</td>\n      <td>0.487179</td>\n      <td>1.025641</td>\n      <td>3.871795</td>\n      <td>0.025641</td>\n      <td>0.487179</td>\n      <td>0.641026</td>\n      <td>5.487179</td>\n      <td>0.025641</td>\n      <td>0.025641</td>\n    </tr>\n    <tr>\n      <th>JAX</th>\n      <td>2.0</td>\n      <td>2020.0</td>\n      <td>30.0</td>\n      <td>33.0</td>\n      <td>8.692308</td>\n      <td>0.076923</td>\n      <td>0.000000</td>\n      <td>1.153846</td>\n      <td>0.769231</td>\n      <td>0.692308</td>\n      <td>4.230769</td>\n      <td>0.025641</td>\n      <td>0.769231</td>\n      <td>1.128205</td>\n      <td>8.692308</td>\n      <td>0.076923</td>\n      <td>0.051282</td>\n    </tr>\n    <tr>\n      <th>KC</th>\n      <td>2.0</td>\n      <td>2020.0</td>\n      <td>23.0</td>\n      <td>20.0</td>\n      <td>8.162162</td>\n      <td>0.054054</td>\n      <td>0.054054</td>\n      <td>1.270270</td>\n      <td>0.729730</td>\n      <td>0.594595</td>\n      <td>3.378378</td>\n      <td>0.000000</td>\n      <td>0.729730</td>\n      <td>1.216216</td>\n      <td>8.162162</td>\n      <td>0.054054</td>\n      <td>0.000000</td>\n    </tr>\n    <tr>\n      <th>LAC</th>\n      <td>2.0</td>\n      <td>2020.0</td>\n      <td>20.0</td>\n      <td>23.0</td>\n      <td>7.974359</td>\n      <td>0.025641</td>\n      <td>0.000000</td>\n      <td>0.846154</td>\n      <td>0.564103</td>\n      <td>1.128205</td>\n      <td>4.692308</td>\n      <td>0.025641</td>\n      <td>0.564103</td>\n      <td>0.769231</td>\n      <td>7.974359</td>\n      <td>0.025641</td>\n      <td>0.025641</td>\n    </tr>\n    <tr>\n      <th>LAR</th>\n      <td>2.0</td>\n      <td>2020.0</td>\n      <td>37.0</td>\n      <td>19.0</td>\n      <td>6.846154</td>\n      <td>0.076923</td>\n      <td>0.102564</td>\n      <td>0.692308</td>\n      <td>0.512821</td>\n      <td>1.000000</td>\n      <td>4.897436</td>\n      <td>0.051282</td>\n      <td>0.512821</td>\n      <td>0.666667</td>\n      <td>6.846154</td>\n      <td>0.076923</td>\n      <td>0.025641</td>\n    </tr>\n    <tr>\n      <th>LV</th>\n      <td>2.0</td>\n      <td>2020.0</td>\n      <td>34.0</td>\n      <td>24.0</td>\n      <td>7.282051</td>\n      <td>0.076923</td>\n      <td>0.051282</td>\n      <td>0.974359</td>\n      <td>0.717949</td>\n      <td>0.897436</td>\n      <td>2.974359</td>\n      <td>0.025641</td>\n      <td>0.717949</td>\n      <td>0.871795</td>\n      <td>7.282051</td>\n      <td>0.076923</td>\n      <td>0.051282</td>\n    </tr>\n    <tr>\n      <th>MIA</th>\n      <td>2.0</td>\n      <td>2020.0</td>\n      <td>28.0</td>\n      <td>31.0</td>\n      <td>8.410256</td>\n      <td>0.051282</td>\n      <td>0.000000</td>\n      <td>1.205128</td>\n      <td>0.794872</td>\n      <td>0.564103</td>\n      <td>2.538462</td>\n      <td>0.025641</td>\n      <td>0.794872</td>\n      <td>1.179487</td>\n      <td>8.410256</td>\n      <td>0.051282</td>\n      <td>0.025641</td>\n    </tr>\n    <tr>\n      <th>MIN</th>\n      <td>2.0</td>\n      <td>2020.0</td>\n      <td>11.0</td>\n      <td>28.0</td>\n      <td>3.054054</td>\n      <td>0.000000</td>\n      <td>0.054054</td>\n      <td>0.702703</td>\n      <td>0.297297</td>\n      <td>0.486486</td>\n      <td>2.162162</td>\n      <td>0.027027</td>\n      <td>0.297297</td>\n      <td>0.621622</td>\n      <td>3.054054</td>\n      <td>0.000000</td>\n      <td>0.000000</td>\n    </tr>\n    <tr>\n      <th>NE</th>\n      <td>2.0</td>\n      <td>2020.0</td>\n      <td>30.0</td>\n      <td>35.0</td>\n      <td>10.179487</td>\n      <td>0.025641</td>\n      <td>0.051282</td>\n      <td>1.128205</td>\n      <td>0.769231</td>\n      <td>0.641026</td>\n      <td>1.717949</td>\n      <td>0.051282</td>\n      <td>0.769231</td>\n      <td>1.102564</td>\n      <td>10.179487</td>\n      <td>0.025641</td>\n      <td>0.000000</td>\n    </tr>\n    <tr>\n      <th>NO</th>\n      <td>2.0</td>\n      <td>2020.0</td>\n      <td>24.0</td>\n      <td>34.0</td>\n      <td>8.000000</td>\n      <td>0.025641</td>\n      <td>0.000000</td>\n      <td>0.974359</td>\n      <td>0.666667</td>\n      <td>0.487179</td>\n      <td>2.871795</td>\n      <td>0.051282</td>\n      <td>0.666667</td>\n      <td>0.948718</td>\n      <td>8.000000</td>\n      <td>0.025641</td>\n      <td>0.000000</td>\n    </tr>\n    <tr>\n      <th>NYG</th>\n      <td>2.0</td>\n      <td>2020.0</td>\n      <td>13.0</td>\n      <td>17.0</td>\n      <td>6.342105</td>\n      <td>0.000000</td>\n      <td>0.105263</td>\n      <td>1.052632</td>\n      <td>0.657895</td>\n      <td>0.473684</td>\n      <td>1.973684</td>\n      <td>0.026316</td>\n      <td>0.657895</td>\n      <td>0.947368</td>\n      <td>6.342105</td>\n      <td>0.000000</td>\n      <td>0.026316</td>\n    </tr>\n    <tr>\n      <th>NYJ</th>\n      <td>2.0</td>\n      <td>2020.0</td>\n      <td>13.0</td>\n      <td>31.0</td>\n      <td>4.589744</td>\n      <td>0.025641</td>\n      <td>0.051282</td>\n      <td>0.820513</td>\n      <td>0.538462</td>\n      <td>0.743590</td>\n      <td>2.666667</td>\n      <td>0.000000</td>\n      <td>0.538462</td>\n      <td>0.820513</td>\n      <td>4.589744</td>\n      <td>0.025641</td>\n      <td>0.000000</td>\n    </tr>\n    <tr>\n      <th>PHI</th>\n      <td>2.0</td>\n      <td>2020.0</td>\n      <td>19.0</td>\n      <td>37.0</td>\n      <td>6.050000</td>\n      <td>0.000000</td>\n      <td>0.000000</td>\n      <td>1.075000</td>\n      <td>0.650000</td>\n      <td>0.650000</td>\n      <td>3.025000</td>\n      <td>0.050000</td>\n      <td>0.650000</td>\n      <td>1.025000</td>\n      <td>6.050000</td>\n      <td>0.000000</td>\n      <td>0.025000</td>\n    </tr>\n    <tr>\n      <th>PIT</th>\n      <td>2.0</td>\n      <td>2020.0</td>\n      <td>26.0</td>\n      <td>21.0</td>\n      <td>8.184211</td>\n      <td>0.052632</td>\n      <td>0.052632</td>\n      <td>1.078947</td>\n      <td>0.763158</td>\n      <td>0.578947</td>\n      <td>2.868421</td>\n      <td>0.026316</td>\n      <td>0.763158</td>\n      <td>1.078947</td>\n      <td>8.184211</td>\n      <td>0.052632</td>\n      <td>0.052632</td>\n    </tr>\n    <tr>\n      <th>SEA</th>\n      <td>2.0</td>\n      <td>2020.0</td>\n      <td>35.0</td>\n      <td>30.0</td>\n      <td>7.578947</td>\n      <td>0.131579</td>\n      <td>0.052632</td>\n      <td>0.736842</td>\n      <td>0.552632</td>\n      <td>0.789474</td>\n      <td>4.052632</td>\n      <td>0.000000</td>\n      <td>0.552632</td>\n      <td>0.657895</td>\n      <td>7.578947</td>\n      <td>0.131579</td>\n      <td>0.000000</td>\n    </tr>\n    <tr>\n      <th>SF</th>\n      <td>2.0</td>\n      <td>2020.0</td>\n      <td>31.0</td>\n      <td>13.0</td>\n      <td>5.050000</td>\n      <td>0.050000</td>\n      <td>0.000000</td>\n      <td>0.675000</td>\n      <td>0.550000</td>\n      <td>0.725000</td>\n      <td>4.550000</td>\n      <td>0.050000</td>\n      <td>0.550000</td>\n      <td>0.675000</td>\n      <td>5.050000</td>\n      <td>0.050000</td>\n      <td>0.050000</td>\n    </tr>\n    <tr>\n      <th>TB</th>\n      <td>2.0</td>\n      <td>2020.0</td>\n      <td>31.0</td>\n      <td>17.0</td>\n      <td>5.564103</td>\n      <td>0.025641</td>\n      <td>0.102564</td>\n      <td>0.897436</td>\n      <td>0.589744</td>\n      <td>0.564103</td>\n      <td>3.128205</td>\n      <td>0.076923</td>\n      <td>0.589744</td>\n      <td>0.897436</td>\n      <td>5.564103</td>\n      <td>0.025641</td>\n      <td>0.025641</td>\n    </tr>\n    <tr>\n      <th>TEN</th>\n      <td>2.0</td>\n      <td>2020.0</td>\n      <td>33.0</td>\n      <td>30.0</td>\n      <td>6.289474</td>\n      <td>0.105263</td>\n      <td>0.105263</td>\n      <td>0.631579</td>\n      <td>0.473684</td>\n      <td>0.894737</td>\n      <td>3.236842</td>\n      <td>0.000000</td>\n      <td>0.473684</td>\n      <td>0.631579</td>\n      <td>6.289474</td>\n      <td>0.105263</td>\n      <td>0.000000</td>\n    </tr>\n    <tr>\n      <th>WAS</th>\n      <td>2.0</td>\n      <td>2020.0</td>\n      <td>15.0</td>\n      <td>30.0</td>\n      <td>5.868421</td>\n      <td>0.026316</td>\n      <td>0.052632</td>\n      <td>0.868421</td>\n      <td>0.500000</td>\n      <td>0.605263</td>\n      <td>3.078947</td>\n      <td>0.026316</td>\n      <td>0.500000</td>\n      <td>0.894737</td>\n      <td>5.868421</td>\n      <td>0.026316</td>\n      <td>0.052632</td>\n    </tr>\n  </tbody>\n</table>\n</div>"
     },
     "metadata": {},
     "execution_count": 5
    }
   ],
   "source": [
    "# AVGS by Team \n",
    "df.groupby('Team').mean()  "
   ]
  }
 ]
}