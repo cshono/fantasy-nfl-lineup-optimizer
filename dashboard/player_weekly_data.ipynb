{
 "metadata": {
  "language_info": {
   "codemirror_mode": {
    "name": "ipython",
    "version": 3
   },
   "file_extension": ".py",
   "mimetype": "text/x-python",
   "name": "python",
   "nbconvert_exporter": "python",
   "pygments_lexer": "ipython3",
   "version": "3.8.3-final"
  },
  "orig_nbformat": 2,
  "kernelspec": {
   "name": "Python 3.8.3 64-bit ('base': conda)",
   "display_name": "Python 3.8.3 64-bit ('base': conda)",
   "metadata": {
    "interpreter": {
     "hash": "a4841eeb86f7d837670793275e227623a560700939cb6e34c015832bd2c85e9e"
    }
   }
  }
 },
 "nbformat": 4,
 "nbformat_minor": 2,
 "cells": [
  {
   "cell_type": "code",
   "execution_count": 25,
   "metadata": {},
   "outputs": [],
   "source": [
    "# Data handling\n",
    "import pandas as pd\n",
    "import numpy as np\n",
    "import matplotlib.pyplot as plt"
   ]
  },
  {
   "cell_type": "code",
   "execution_count": 3,
   "metadata": {},
   "outputs": [],
   "source": [
    "# Bokeh libraries\n",
    "from bokeh.io import output_file, output_notebook\n",
    "from bokeh.plotting import figure, show\n",
    "from bokeh.models import ColumnDataSource\n",
    "from bokeh.layouts import row, column, gridplot\n",
    "from bokeh.models.widgets import Tabs, Panel\n",
    "from bokeh.models import ColumnDataSource, HoverTool, CategoricalColorMapper, LinearColorMapper, ColorBar\n",
    "from bokeh.palettes import Spectral5, Magma, Inferno, Plasma, Viridis, Cividis \n",
    "from bokeh.transform import factor_cmap, transform"
   ]
  },
  {
   "cell_type": "code",
   "execution_count": 27,
   "metadata": {},
   "outputs": [
    {
     "output_type": "execute_result",
     "data": {
      "text/plain": [
       "           Name Team Pos  Wk  Opp  Year Status  TeamScore  OppScore  PassYds  \\\n",
       "0   Aaron Jones   GB  RB   2  DET  2020      0         42        21        0   \n",
       "1  Dak Prescott  DAL  QB   2  ATL  2020      0         40        39      450   \n",
       "2  Alvin Kamara   NO  RB   2   LV  2020      0         24        34        0   \n",
       "3    Cam Newton   NE  QB   2  SEA  2020      0         30        35      397   \n",
       "4    Josh Allen  BUF  QB   2  MIA  2020      0         31        28      415   \n",
       "\n",
       "   ...  PassingAtt  Cmp  RushingAtt  RushingYds  RushingTD  Rec  Tgs  \\\n",
       "0  ...           0    0          18         168          2    4    8   \n",
       "1  ...          47   34           5          18          3    0    0   \n",
       "2  ...           0    0          13          79          2    9    9   \n",
       "3  ...          44   30          11          47          2    0    0   \n",
       "4  ...          35   24           4          19          0    0    0   \n",
       "\n",
       "   ReceivingYds  ReceivingTD  FL  \n",
       "0            68            1   0  \n",
       "1             0            0   1  \n",
       "2            95            0   0  \n",
       "3             0            0   0  \n",
       "4             0            0   0  \n",
       "\n",
       "[5 rows x 22 columns]"
      ],
      "text/html": "<div>\n<style scoped>\n    .dataframe tbody tr th:only-of-type {\n        vertical-align: middle;\n    }\n\n    .dataframe tbody tr th {\n        vertical-align: top;\n    }\n\n    .dataframe thead th {\n        text-align: right;\n    }\n</style>\n<table border=\"1\" class=\"dataframe\">\n  <thead>\n    <tr style=\"text-align: right;\">\n      <th></th>\n      <th>Name</th>\n      <th>Team</th>\n      <th>Pos</th>\n      <th>Wk</th>\n      <th>Opp</th>\n      <th>Year</th>\n      <th>Status</th>\n      <th>TeamScore</th>\n      <th>OppScore</th>\n      <th>PassYds</th>\n      <th>...</th>\n      <th>PassingAtt</th>\n      <th>Cmp</th>\n      <th>RushingAtt</th>\n      <th>RushingYds</th>\n      <th>RushingTD</th>\n      <th>Rec</th>\n      <th>Tgs</th>\n      <th>ReceivingYds</th>\n      <th>ReceivingTD</th>\n      <th>FL</th>\n    </tr>\n  </thead>\n  <tbody>\n    <tr>\n      <th>0</th>\n      <td>Aaron Jones</td>\n      <td>GB</td>\n      <td>RB</td>\n      <td>2</td>\n      <td>DET</td>\n      <td>2020</td>\n      <td>0</td>\n      <td>42</td>\n      <td>21</td>\n      <td>0</td>\n      <td>...</td>\n      <td>0</td>\n      <td>0</td>\n      <td>18</td>\n      <td>168</td>\n      <td>2</td>\n      <td>4</td>\n      <td>8</td>\n      <td>68</td>\n      <td>1</td>\n      <td>0</td>\n    </tr>\n    <tr>\n      <th>1</th>\n      <td>Dak Prescott</td>\n      <td>DAL</td>\n      <td>QB</td>\n      <td>2</td>\n      <td>ATL</td>\n      <td>2020</td>\n      <td>0</td>\n      <td>40</td>\n      <td>39</td>\n      <td>450</td>\n      <td>...</td>\n      <td>47</td>\n      <td>34</td>\n      <td>5</td>\n      <td>18</td>\n      <td>3</td>\n      <td>0</td>\n      <td>0</td>\n      <td>0</td>\n      <td>0</td>\n      <td>1</td>\n    </tr>\n    <tr>\n      <th>2</th>\n      <td>Alvin Kamara</td>\n      <td>NO</td>\n      <td>RB</td>\n      <td>2</td>\n      <td>LV</td>\n      <td>2020</td>\n      <td>0</td>\n      <td>24</td>\n      <td>34</td>\n      <td>0</td>\n      <td>...</td>\n      <td>0</td>\n      <td>0</td>\n      <td>13</td>\n      <td>79</td>\n      <td>2</td>\n      <td>9</td>\n      <td>9</td>\n      <td>95</td>\n      <td>0</td>\n      <td>0</td>\n    </tr>\n    <tr>\n      <th>3</th>\n      <td>Cam Newton</td>\n      <td>NE</td>\n      <td>QB</td>\n      <td>2</td>\n      <td>SEA</td>\n      <td>2020</td>\n      <td>0</td>\n      <td>30</td>\n      <td>35</td>\n      <td>397</td>\n      <td>...</td>\n      <td>44</td>\n      <td>30</td>\n      <td>11</td>\n      <td>47</td>\n      <td>2</td>\n      <td>0</td>\n      <td>0</td>\n      <td>0</td>\n      <td>0</td>\n      <td>0</td>\n    </tr>\n    <tr>\n      <th>4</th>\n      <td>Josh Allen</td>\n      <td>BUF</td>\n      <td>QB</td>\n      <td>2</td>\n      <td>MIA</td>\n      <td>2020</td>\n      <td>0</td>\n      <td>31</td>\n      <td>28</td>\n      <td>415</td>\n      <td>...</td>\n      <td>35</td>\n      <td>24</td>\n      <td>4</td>\n      <td>19</td>\n      <td>0</td>\n      <td>0</td>\n      <td>0</td>\n      <td>0</td>\n      <td>0</td>\n      <td>0</td>\n    </tr>\n  </tbody>\n</table>\n<p>5 rows × 22 columns</p>\n</div>"
     },
     "metadata": {},
     "execution_count": 27
    }
   ],
   "source": [
    "# Reading data\n",
    "df = pd.read_csv('C:/Users/isabe/Documents/player_weekly_data.csv')\n",
    "df.head()"
   ]
  },
  {
   "cell_type": "code",
   "execution_count": 28,
   "metadata": {},
   "outputs": [],
   "source": [
    "# Removing NaN \n",
    "df = df.dropna()"
   ]
  },
  {
   "cell_type": "code",
   "execution_count": 29,
   "metadata": {},
   "outputs": [
    {
     "output_type": "execute_result",
     "data": {
      "text/plain": [
       "           Wk    Year    TeamScore     OppScore      PassYds    PassingTD  \\\n",
       "count  1237.0  1237.0  1237.000000  1237.000000  1237.000000  1237.000000   \n",
       "mean      2.0  2020.0    26.663703    26.660469     7.084883     0.046888   \n",
       "std       0.0     0.0     8.455963     8.496687    44.687535     0.352155   \n",
       "min       2.0  2020.0    11.000000    11.000000     0.000000     0.000000   \n",
       "25%       2.0  2020.0    20.000000    19.000000     0.000000     0.000000   \n",
       "50%       2.0  2020.0    28.000000    28.000000     0.000000     0.000000   \n",
       "75%       2.0  2020.0    33.000000    33.000000     0.000000     0.000000   \n",
       "max       2.0  2020.0    42.000000    42.000000   450.000000     5.000000   \n",
       "\n",
       "               Int   PassingAtt          Cmp   RushingAtt   RushingYds  \\\n",
       "count  1237.000000  1237.000000  1237.000000  1237.000000  1237.000000   \n",
       "mean      0.036378     0.927243     0.614390     0.722716     3.350040   \n",
       "std       0.207783     5.797517     3.854878     2.977245    14.498171   \n",
       "min       0.000000     0.000000     0.000000     0.000000    -5.000000   \n",
       "25%       0.000000     0.000000     0.000000     0.000000     0.000000   \n",
       "50%       0.000000     0.000000     0.000000     0.000000     0.000000   \n",
       "75%       0.000000     0.000000     0.000000     0.000000     0.000000   \n",
       "max       3.000000    61.000000    37.000000    27.000000   168.000000   \n",
       "\n",
       "         RushingTD          Rec          Tgs  ReceivingYds  ReceivingTD  \\\n",
       "count  1237.000000  1237.000000  1237.000000   1237.000000  1237.000000   \n",
       "mean      0.029911     0.613581     0.890865      7.081649     0.046888   \n",
       "std       0.212653     1.576858     2.223780     20.075318     0.233311   \n",
       "min       0.000000     0.000000     0.000000     -6.000000     0.000000   \n",
       "25%       0.000000     0.000000     0.000000      0.000000     0.000000   \n",
       "50%       0.000000     0.000000     0.000000      0.000000     0.000000   \n",
       "75%       0.000000     0.000000     0.000000      0.000000     0.000000   \n",
       "max       3.000000    12.000000    16.000000    179.000000     3.000000   \n",
       "\n",
       "                FL  \n",
       "count  1237.000000  \n",
       "mean      0.025061  \n",
       "std       0.175855  \n",
       "min       0.000000  \n",
       "25%       0.000000  \n",
       "50%       0.000000  \n",
       "75%       0.000000  \n",
       "max       2.000000  "
      ],
      "text/html": "<div>\n<style scoped>\n    .dataframe tbody tr th:only-of-type {\n        vertical-align: middle;\n    }\n\n    .dataframe tbody tr th {\n        vertical-align: top;\n    }\n\n    .dataframe thead th {\n        text-align: right;\n    }\n</style>\n<table border=\"1\" class=\"dataframe\">\n  <thead>\n    <tr style=\"text-align: right;\">\n      <th></th>\n      <th>Wk</th>\n      <th>Year</th>\n      <th>TeamScore</th>\n      <th>OppScore</th>\n      <th>PassYds</th>\n      <th>PassingTD</th>\n      <th>Int</th>\n      <th>PassingAtt</th>\n      <th>Cmp</th>\n      <th>RushingAtt</th>\n      <th>RushingYds</th>\n      <th>RushingTD</th>\n      <th>Rec</th>\n      <th>Tgs</th>\n      <th>ReceivingYds</th>\n      <th>ReceivingTD</th>\n      <th>FL</th>\n    </tr>\n  </thead>\n  <tbody>\n    <tr>\n      <th>count</th>\n      <td>1237.0</td>\n      <td>1237.0</td>\n      <td>1237.000000</td>\n      <td>1237.000000</td>\n      <td>1237.000000</td>\n      <td>1237.000000</td>\n      <td>1237.000000</td>\n      <td>1237.000000</td>\n      <td>1237.000000</td>\n      <td>1237.000000</td>\n      <td>1237.000000</td>\n      <td>1237.000000</td>\n      <td>1237.000000</td>\n      <td>1237.000000</td>\n      <td>1237.000000</td>\n      <td>1237.000000</td>\n      <td>1237.000000</td>\n    </tr>\n    <tr>\n      <th>mean</th>\n      <td>2.0</td>\n      <td>2020.0</td>\n      <td>26.663703</td>\n      <td>26.660469</td>\n      <td>7.084883</td>\n      <td>0.046888</td>\n      <td>0.036378</td>\n      <td>0.927243</td>\n      <td>0.614390</td>\n      <td>0.722716</td>\n      <td>3.350040</td>\n      <td>0.029911</td>\n      <td>0.613581</td>\n      <td>0.890865</td>\n      <td>7.081649</td>\n      <td>0.046888</td>\n      <td>0.025061</td>\n    </tr>\n    <tr>\n      <th>std</th>\n      <td>0.0</td>\n      <td>0.0</td>\n      <td>8.455963</td>\n      <td>8.496687</td>\n      <td>44.687535</td>\n      <td>0.352155</td>\n      <td>0.207783</td>\n      <td>5.797517</td>\n      <td>3.854878</td>\n      <td>2.977245</td>\n      <td>14.498171</td>\n      <td>0.212653</td>\n      <td>1.576858</td>\n      <td>2.223780</td>\n      <td>20.075318</td>\n      <td>0.233311</td>\n      <td>0.175855</td>\n    </tr>\n    <tr>\n      <th>min</th>\n      <td>2.0</td>\n      <td>2020.0</td>\n      <td>11.000000</td>\n      <td>11.000000</td>\n      <td>0.000000</td>\n      <td>0.000000</td>\n      <td>0.000000</td>\n      <td>0.000000</td>\n      <td>0.000000</td>\n      <td>0.000000</td>\n      <td>-5.000000</td>\n      <td>0.000000</td>\n      <td>0.000000</td>\n      <td>0.000000</td>\n      <td>-6.000000</td>\n      <td>0.000000</td>\n      <td>0.000000</td>\n    </tr>\n    <tr>\n      <th>25%</th>\n      <td>2.0</td>\n      <td>2020.0</td>\n      <td>20.000000</td>\n      <td>19.000000</td>\n      <td>0.000000</td>\n      <td>0.000000</td>\n      <td>0.000000</td>\n      <td>0.000000</td>\n      <td>0.000000</td>\n      <td>0.000000</td>\n      <td>0.000000</td>\n      <td>0.000000</td>\n      <td>0.000000</td>\n      <td>0.000000</td>\n      <td>0.000000</td>\n      <td>0.000000</td>\n      <td>0.000000</td>\n    </tr>\n    <tr>\n      <th>50%</th>\n      <td>2.0</td>\n      <td>2020.0</td>\n      <td>28.000000</td>\n      <td>28.000000</td>\n      <td>0.000000</td>\n      <td>0.000000</td>\n      <td>0.000000</td>\n      <td>0.000000</td>\n      <td>0.000000</td>\n      <td>0.000000</td>\n      <td>0.000000</td>\n      <td>0.000000</td>\n      <td>0.000000</td>\n      <td>0.000000</td>\n      <td>0.000000</td>\n      <td>0.000000</td>\n      <td>0.000000</td>\n    </tr>\n    <tr>\n      <th>75%</th>\n      <td>2.0</td>\n      <td>2020.0</td>\n      <td>33.000000</td>\n      <td>33.000000</td>\n      <td>0.000000</td>\n      <td>0.000000</td>\n      <td>0.000000</td>\n      <td>0.000000</td>\n      <td>0.000000</td>\n      <td>0.000000</td>\n      <td>0.000000</td>\n      <td>0.000000</td>\n      <td>0.000000</td>\n      <td>0.000000</td>\n      <td>0.000000</td>\n      <td>0.000000</td>\n      <td>0.000000</td>\n    </tr>\n    <tr>\n      <th>max</th>\n      <td>2.0</td>\n      <td>2020.0</td>\n      <td>42.000000</td>\n      <td>42.000000</td>\n      <td>450.000000</td>\n      <td>5.000000</td>\n      <td>3.000000</td>\n      <td>61.000000</td>\n      <td>37.000000</td>\n      <td>27.000000</td>\n      <td>168.000000</td>\n      <td>3.000000</td>\n      <td>12.000000</td>\n      <td>16.000000</td>\n      <td>179.000000</td>\n      <td>3.000000</td>\n      <td>2.000000</td>\n    </tr>\n  </tbody>\n</table>\n</div>"
     },
     "metadata": {},
     "execution_count": 29
    }
   ],
   "source": [
    "df.describe()"
   ]
  },
  {
   "cell_type": "code",
   "execution_count": 30,
   "metadata": {},
   "outputs": [
    {
     "output_type": "execute_result",
     "data": {
      "text/plain": [
       "                PassingTD\n",
       "Name                     \n",
       "Russell Wilson          5\n",
       "Ryan Tannehill          4\n",
       "Josh Allen              4\n",
       "Matt Ryan               4\n",
       "Derek Carr              3"
      ],
      "text/html": "<div>\n<style scoped>\n    .dataframe tbody tr th:only-of-type {\n        vertical-align: middle;\n    }\n\n    .dataframe tbody tr th {\n        vertical-align: top;\n    }\n\n    .dataframe thead th {\n        text-align: right;\n    }\n</style>\n<table border=\"1\" class=\"dataframe\">\n  <thead>\n    <tr style=\"text-align: right;\">\n      <th></th>\n      <th>PassingTD</th>\n    </tr>\n    <tr>\n      <th>Name</th>\n      <th></th>\n    </tr>\n  </thead>\n  <tbody>\n    <tr>\n      <th>Russell Wilson</th>\n      <td>5</td>\n    </tr>\n    <tr>\n      <th>Ryan Tannehill</th>\n      <td>4</td>\n    </tr>\n    <tr>\n      <th>Josh Allen</th>\n      <td>4</td>\n    </tr>\n    <tr>\n      <th>Matt Ryan</th>\n      <td>4</td>\n    </tr>\n    <tr>\n      <th>Derek Carr</th>\n      <td>3</td>\n    </tr>\n  </tbody>\n</table>\n</div>"
     },
     "metadata": {},
     "execution_count": 30
    }
   ],
   "source": [
    "# Top 5 Players with the most Passing TD in one week\n",
    "top_5_assists  = df.groupby('Name')[['PassingTD']].max()\n",
    "top_5_assists = top_5_assists.sort_values(by='PassingTD', ascending=False).head(5)\n",
    "top_5_assists"
   ]
  },
  {
   "cell_type": "code",
   "execution_count": 31,
   "metadata": {},
   "outputs": [
    {
     "output_type": "execute_result",
     "data": {
      "text/plain": [
       "                PassingTD\n",
       "Name                     \n",
       "Russell Wilson          5\n",
       "Ryan Tannehill          4\n",
       "Josh Allen              4\n",
       "Matt Ryan               4\n",
       "Derek Carr              3"
      ],
      "text/html": "<div>\n<style scoped>\n    .dataframe tbody tr th:only-of-type {\n        vertical-align: middle;\n    }\n\n    .dataframe tbody tr th {\n        vertical-align: top;\n    }\n\n    .dataframe thead th {\n        text-align: right;\n    }\n</style>\n<table border=\"1\" class=\"dataframe\">\n  <thead>\n    <tr style=\"text-align: right;\">\n      <th></th>\n      <th>PassingTD</th>\n    </tr>\n    <tr>\n      <th>Name</th>\n      <th></th>\n    </tr>\n  </thead>\n  <tbody>\n    <tr>\n      <th>Russell Wilson</th>\n      <td>5</td>\n    </tr>\n    <tr>\n      <th>Ryan Tannehill</th>\n      <td>4</td>\n    </tr>\n    <tr>\n      <th>Josh Allen</th>\n      <td>4</td>\n    </tr>\n    <tr>\n      <th>Matt Ryan</th>\n      <td>4</td>\n    </tr>\n    <tr>\n      <th>Derek Carr</th>\n      <td>3</td>\n    </tr>\n  </tbody>\n</table>\n</div>"
     },
     "metadata": {},
     "execution_count": 31
    }
   ],
   "source": [
    "# Top 5 Players with the most Passing TD (all weeks combined)\n",
    "top_5_assists_overall = df.groupby('Name')[['PassingTD']].sum()\n",
    "top_5_assists_overall = top_5_assists_overall.sort_values(by='PassingTD', ascending=False).head(5)\n",
    "top_5_assists_overall"
   ]
  },
  {
   "cell_type": "code",
   "execution_count": 32,
   "metadata": {},
   "outputs": [
    {
     "output_type": "execute_result",
     "data": {
      "text/plain": [
       "                    Int\n",
       "Name                   \n",
       "Indianapolis Colts    3\n",
       "New York Giants       2\n",
       "Los Angeles Rams      2\n",
       "James Bradberry       1\n",
       "Justin Simmons        1"
      ],
      "text/html": "<div>\n<style scoped>\n    .dataframe tbody tr th:only-of-type {\n        vertical-align: middle;\n    }\n\n    .dataframe tbody tr th {\n        vertical-align: top;\n    }\n\n    .dataframe thead th {\n        text-align: right;\n    }\n</style>\n<table border=\"1\" class=\"dataframe\">\n  <thead>\n    <tr style=\"text-align: right;\">\n      <th></th>\n      <th>Int</th>\n    </tr>\n    <tr>\n      <th>Name</th>\n      <th></th>\n    </tr>\n  </thead>\n  <tbody>\n    <tr>\n      <th>Indianapolis Colts</th>\n      <td>3</td>\n    </tr>\n    <tr>\n      <th>New York Giants</th>\n      <td>2</td>\n    </tr>\n    <tr>\n      <th>Los Angeles Rams</th>\n      <td>2</td>\n    </tr>\n    <tr>\n      <th>James Bradberry</th>\n      <td>1</td>\n    </tr>\n    <tr>\n      <th>Justin Simmons</th>\n      <td>1</td>\n    </tr>\n  </tbody>\n</table>\n</div>"
     },
     "metadata": {},
     "execution_count": 32
    }
   ],
   "source": [
    "# Top 5 Players With Most Interceptions (all weeks combined)\n",
    "top_5_interceptions = df.groupby('Name')[['Int']].sum()\n",
    "top_5_interceptions = top_5_interceptions.sort_values(by='Int', ascending=False).head(5)\n",
    "top_5_interceptions"
   ]
  },
  {
   "cell_type": "code",
   "execution_count": 33,
   "metadata": {},
   "outputs": [
    {
     "output_type": "execute_result",
     "data": {
      "text/plain": [
       "                    FL\n",
       "Name                  \n",
       "Ezekiel Elliott      2\n",
       "Derek Carr           2\n",
       "Nick Mullens         2\n",
       "Joe Burrow           2\n",
       "Dwayne Haskins Jr.   1"
      ],
      "text/html": "<div>\n<style scoped>\n    .dataframe tbody tr th:only-of-type {\n        vertical-align: middle;\n    }\n\n    .dataframe tbody tr th {\n        vertical-align: top;\n    }\n\n    .dataframe thead th {\n        text-align: right;\n    }\n</style>\n<table border=\"1\" class=\"dataframe\">\n  <thead>\n    <tr style=\"text-align: right;\">\n      <th></th>\n      <th>FL</th>\n    </tr>\n    <tr>\n      <th>Name</th>\n      <th></th>\n    </tr>\n  </thead>\n  <tbody>\n    <tr>\n      <th>Ezekiel Elliott</th>\n      <td>2</td>\n    </tr>\n    <tr>\n      <th>Derek Carr</th>\n      <td>2</td>\n    </tr>\n    <tr>\n      <th>Nick Mullens</th>\n      <td>2</td>\n    </tr>\n    <tr>\n      <th>Joe Burrow</th>\n      <td>2</td>\n    </tr>\n    <tr>\n      <th>Dwayne Haskins Jr.</th>\n      <td>1</td>\n    </tr>\n  </tbody>\n</table>\n</div>"
     },
     "metadata": {},
     "execution_count": 33
    }
   ],
   "source": [
    "# Top 5 Players With Most Fumbles (all weeks combined)\n",
    "top_5_fumbles = df.groupby('Name')[['FL']].sum()\n",
    "top_5_fumbles = top_5_fumbles.sort_values(by='FL', ascending=False).head(5)\n",
    "top_5_fumbles"
   ]
  },
  {
   "cell_type": "code",
   "execution_count": 34,
   "metadata": {},
   "outputs": [
    {
     "output_type": "execute_result",
     "data": {
      "text/plain": [
       "Team\n",
       "CIN    37\n",
       "DAL    34\n",
       "CAR    33\n",
       "MIA    31\n",
       "NE     30\n",
       "JAX    30\n",
       "PIT    29\n",
       "LV     28\n",
       "KC     27\n",
       "ARI    26\n",
       "NO     26\n",
       "PHI    26\n",
       "NYG    25\n",
       "HOU    25\n",
       "ATL    24\n",
       "BUF    24\n",
       "TB     23\n",
       "LAC    22\n",
       "SF     22\n",
       "SEA    21\n",
       "NYJ    21\n",
       "DET    20\n",
       "LAR    20\n",
       "DEN    19\n",
       "IND    19\n",
       "WAS    19\n",
       "GB     18\n",
       "CHI    18\n",
       "TEN    18\n",
       "BAL    18\n",
       "CLE    16\n",
       "MIN    11\n",
       "Name: Cmp, dtype: int64"
      ]
     },
     "metadata": {},
     "execution_count": 34
    }
   ],
   "source": [
    "# Teams ith the most pass completion \n",
    "teams_completion = df.groupby('Team').Cmp.sum()\n",
    "teams_completion = teams_completion.sort_values(ascending=False)\n",
    "teams_completion"
   ]
  },
  {
   "cell_type": "code",
   "execution_count": 35,
   "metadata": {},
   "outputs": [
    {
     "output_type": "execute_result",
     "data": {
      "text/plain": [
       "       Wk    Year  TeamScore  OppScore    PassYds  PassingTD       Int  \\\n",
       "Team                                                                     \n",
       "ARI   2.0  2020.0       30.0      15.0   7.150000   0.025000  0.000000   \n",
       "ATL   2.0  2020.0       39.0      40.0   7.000000   0.102564  0.000000   \n",
       "BAL   2.0  2020.0       33.0      16.0   5.230769   0.025641  0.051282   \n",
       "BUF   2.0  2020.0       31.0      28.0  10.641026   0.102564  0.000000   \n",
       "CAR   2.0  2020.0       17.0      31.0   9.410256   0.000000  0.051282   \n",
       "CHI   2.0  2020.0       17.0      13.0   4.871795   0.051282  0.051282   \n",
       "CIN   2.0  2020.0       30.0      35.0   8.315789   0.078947  0.052632   \n",
       "CLE   2.0  2020.0       35.0      30.0   5.763158   0.052632  0.000000   \n",
       "DAL   2.0  2020.0       40.0      39.0  11.538462   0.025641  0.000000   \n",
       "DEN   2.0  2020.0       21.0      26.0   6.900000   0.050000  0.050000   \n",
       "DET   2.0  2020.0       21.0      42.0   6.256410   0.051282  0.000000   \n",
       "GB    2.0  2020.0       42.0      21.0   6.153846   0.051282  0.051282   \n",
       "HOU   2.0  2020.0       16.0      33.0   7.051282   0.025641  0.000000   \n",
       "IND   2.0  2020.0       28.0      11.0   5.487179   0.025641  0.153846   \n",
       "JAX   2.0  2020.0       30.0      33.0   8.692308   0.076923  0.000000   \n",
       "KC    2.0  2020.0       23.0      20.0   8.162162   0.054054  0.054054   \n",
       "LAC   2.0  2020.0       20.0      23.0   7.974359   0.025641  0.000000   \n",
       "LAR   2.0  2020.0       37.0      19.0   6.846154   0.076923  0.102564   \n",
       "LV    2.0  2020.0       34.0      24.0   7.282051   0.076923  0.051282   \n",
       "MIA   2.0  2020.0       28.0      31.0   8.410256   0.051282  0.000000   \n",
       "MIN   2.0  2020.0       11.0      28.0   3.054054   0.000000  0.054054   \n",
       "NE    2.0  2020.0       30.0      35.0  10.179487   0.025641  0.051282   \n",
       "NO    2.0  2020.0       24.0      34.0   8.000000   0.025641  0.000000   \n",
       "NYG   2.0  2020.0       13.0      17.0   6.342105   0.000000  0.105263   \n",
       "NYJ   2.0  2020.0       13.0      31.0   4.589744   0.025641  0.051282   \n",
       "PHI   2.0  2020.0       19.0      37.0   6.050000   0.000000  0.000000   \n",
       "PIT   2.0  2020.0       26.0      21.0   8.184211   0.052632  0.052632   \n",
       "SEA   2.0  2020.0       35.0      30.0   7.783784   0.135135  0.027027   \n",
       "SF    2.0  2020.0       31.0      13.0   5.179487   0.051282  0.000000   \n",
       "TB    2.0  2020.0       31.0      17.0   5.710526   0.026316  0.052632   \n",
       "TEN   2.0  2020.0       33.0      30.0   6.459459   0.108108  0.054054   \n",
       "WAS   2.0  2020.0       15.0      30.0   5.868421   0.026316  0.052632   \n",
       "\n",
       "      PassingAtt       Cmp  RushingAtt  RushingYds  RushingTD       Rec  \\\n",
       "Team                                                                      \n",
       "ARI     0.950000  0.650000    0.800000    4.000000   0.050000  0.650000   \n",
       "ATL     0.948718  0.615385    0.871795    2.897436   0.000000  0.615385   \n",
       "BAL     0.615385  0.461538    0.948718    5.897436   0.025641  0.461538   \n",
       "BUF     0.897436  0.615385    0.589744    2.871795   0.000000  0.615385   \n",
       "CAR     1.076923  0.846154    0.615385    2.230769   0.051282  0.846154   \n",
       "CHI     0.717949  0.461538    0.820513    3.461538   0.000000  0.435897   \n",
       "CIN     1.605263  0.973684    0.631579    1.789474   0.000000  0.973684   \n",
       "CLE     0.605263  0.421053    0.921053    5.657895   0.078947  0.421053   \n",
       "DAL     1.230769  0.871795    0.794872    3.205128   0.102564  0.871795   \n",
       "DEN     0.975000  0.475000    0.625000    2.600000   0.000000  0.475000   \n",
       "DET     0.846154  0.512821    0.538462    2.282051   0.025641  0.512821   \n",
       "GB      0.769231  0.461538    0.897436    6.641026   0.051282  0.461538   \n",
       "HOU     0.923077  0.641026    0.435897    1.307692   0.000000  0.641026   \n",
       "IND     0.641026  0.487179    1.025641    3.871795   0.025641  0.487179   \n",
       "JAX     1.153846  0.769231    0.692308    4.230769   0.025641  0.769231   \n",
       "KC      1.270270  0.729730    0.594595    3.378378   0.000000  0.729730   \n",
       "LAC     0.846154  0.564103    1.128205    4.692308   0.025641  0.564103   \n",
       "LAR     0.692308  0.512821    1.000000    4.897436   0.051282  0.512821   \n",
       "LV      0.974359  0.717949    0.897436    2.974359   0.025641  0.717949   \n",
       "MIA     1.205128  0.794872    0.564103    2.538462   0.025641  0.794872   \n",
       "MIN     0.702703  0.297297    0.486486    2.162162   0.027027  0.297297   \n",
       "NE      1.128205  0.769231    0.641026    1.717949   0.051282  0.769231   \n",
       "NO      0.974359  0.666667    0.487179    2.871795   0.051282  0.666667   \n",
       "NYG     1.052632  0.657895    0.473684    1.973684   0.026316  0.657895   \n",
       "NYJ     0.820513  0.538462    0.743590    2.666667   0.000000  0.538462   \n",
       "PHI     1.075000  0.650000    0.650000    3.025000   0.050000  0.650000   \n",
       "PIT     1.078947  0.763158    0.578947    2.868421   0.026316  0.763158   \n",
       "SEA     0.756757  0.567568    0.810811    4.162162   0.000000  0.567568   \n",
       "SF      0.692308  0.564103    0.743590    4.666667   0.051282  0.564103   \n",
       "TB      0.921053  0.605263    0.578947    3.210526   0.078947  0.605263   \n",
       "TEN     0.648649  0.486486    0.918919    3.324324   0.000000  0.486486   \n",
       "WAS     0.868421  0.500000    0.605263    3.078947   0.026316  0.500000   \n",
       "\n",
       "           Tgs  ReceivingYds  ReceivingTD        FL  \n",
       "Team                                                 \n",
       "ARI   0.850000      7.150000     0.025000  0.025000  \n",
       "ATL   0.923077      7.000000     0.102564  0.000000  \n",
       "BAL   0.589744      5.230769     0.025641  0.000000  \n",
       "BUF   0.897436     10.641026     0.102564  0.025641  \n",
       "CAR   1.025641      9.410256     0.000000  0.076923  \n",
       "CHI   0.692308      4.769231     0.051282  0.025641  \n",
       "CIN   1.552632      8.315789     0.078947  0.052632  \n",
       "CLE   0.552632      5.763158     0.052632  0.000000  \n",
       "DAL   1.205128     11.538462     0.025641  0.102564  \n",
       "DEN   0.950000      6.900000     0.050000  0.025000  \n",
       "DET   0.769231      6.256410     0.051282  0.000000  \n",
       "GB    0.769231      6.153846     0.051282  0.000000  \n",
       "HOU   0.871795      7.051282     0.025641  0.025641  \n",
       "IND   0.641026      5.487179     0.025641  0.025641  \n",
       "JAX   1.128205      8.692308     0.076923  0.051282  \n",
       "KC    1.216216      8.162162     0.054054  0.000000  \n",
       "LAC   0.769231      7.974359     0.025641  0.025641  \n",
       "LAR   0.666667      6.846154     0.076923  0.025641  \n",
       "LV    0.871795      7.282051     0.076923  0.051282  \n",
       "MIA   1.179487      8.410256     0.051282  0.025641  \n",
       "MIN   0.621622      3.054054     0.000000  0.000000  \n",
       "NE    1.102564     10.179487     0.025641  0.000000  \n",
       "NO    0.948718      8.000000     0.025641  0.000000  \n",
       "NYG   0.947368      6.342105     0.000000  0.026316  \n",
       "NYJ   0.820513      4.589744     0.025641  0.000000  \n",
       "PHI   1.025000      6.050000     0.000000  0.025000  \n",
       "PIT   1.078947      8.184211     0.052632  0.052632  \n",
       "SEA   0.675676      7.783784     0.135135  0.000000  \n",
       "SF    0.692308      5.179487     0.051282  0.051282  \n",
       "TB    0.921053      5.710526     0.026316  0.026316  \n",
       "TEN   0.648649      6.459459     0.108108  0.000000  \n",
       "WAS   0.894737      5.868421     0.026316  0.052632  "
      ],
      "text/html": "<div>\n<style scoped>\n    .dataframe tbody tr th:only-of-type {\n        vertical-align: middle;\n    }\n\n    .dataframe tbody tr th {\n        vertical-align: top;\n    }\n\n    .dataframe thead th {\n        text-align: right;\n    }\n</style>\n<table border=\"1\" class=\"dataframe\">\n  <thead>\n    <tr style=\"text-align: right;\">\n      <th></th>\n      <th>Wk</th>\n      <th>Year</th>\n      <th>TeamScore</th>\n      <th>OppScore</th>\n      <th>PassYds</th>\n      <th>PassingTD</th>\n      <th>Int</th>\n      <th>PassingAtt</th>\n      <th>Cmp</th>\n      <th>RushingAtt</th>\n      <th>RushingYds</th>\n      <th>RushingTD</th>\n      <th>Rec</th>\n      <th>Tgs</th>\n      <th>ReceivingYds</th>\n      <th>ReceivingTD</th>\n      <th>FL</th>\n    </tr>\n    <tr>\n      <th>Team</th>\n      <th></th>\n      <th></th>\n      <th></th>\n      <th></th>\n      <th></th>\n      <th></th>\n      <th></th>\n      <th></th>\n      <th></th>\n      <th></th>\n      <th></th>\n      <th></th>\n      <th></th>\n      <th></th>\n      <th></th>\n      <th></th>\n      <th></th>\n    </tr>\n  </thead>\n  <tbody>\n    <tr>\n      <th>ARI</th>\n      <td>2.0</td>\n      <td>2020.0</td>\n      <td>30.0</td>\n      <td>15.0</td>\n      <td>7.150000</td>\n      <td>0.025000</td>\n      <td>0.000000</td>\n      <td>0.950000</td>\n      <td>0.650000</td>\n      <td>0.800000</td>\n      <td>4.000000</td>\n      <td>0.050000</td>\n      <td>0.650000</td>\n      <td>0.850000</td>\n      <td>7.150000</td>\n      <td>0.025000</td>\n      <td>0.025000</td>\n    </tr>\n    <tr>\n      <th>ATL</th>\n      <td>2.0</td>\n      <td>2020.0</td>\n      <td>39.0</td>\n      <td>40.0</td>\n      <td>7.000000</td>\n      <td>0.102564</td>\n      <td>0.000000</td>\n      <td>0.948718</td>\n      <td>0.615385</td>\n      <td>0.871795</td>\n      <td>2.897436</td>\n      <td>0.000000</td>\n      <td>0.615385</td>\n      <td>0.923077</td>\n      <td>7.000000</td>\n      <td>0.102564</td>\n      <td>0.000000</td>\n    </tr>\n    <tr>\n      <th>BAL</th>\n      <td>2.0</td>\n      <td>2020.0</td>\n      <td>33.0</td>\n      <td>16.0</td>\n      <td>5.230769</td>\n      <td>0.025641</td>\n      <td>0.051282</td>\n      <td>0.615385</td>\n      <td>0.461538</td>\n      <td>0.948718</td>\n      <td>5.897436</td>\n      <td>0.025641</td>\n      <td>0.461538</td>\n      <td>0.589744</td>\n      <td>5.230769</td>\n      <td>0.025641</td>\n      <td>0.000000</td>\n    </tr>\n    <tr>\n      <th>BUF</th>\n      <td>2.0</td>\n      <td>2020.0</td>\n      <td>31.0</td>\n      <td>28.0</td>\n      <td>10.641026</td>\n      <td>0.102564</td>\n      <td>0.000000</td>\n      <td>0.897436</td>\n      <td>0.615385</td>\n      <td>0.589744</td>\n      <td>2.871795</td>\n      <td>0.000000</td>\n      <td>0.615385</td>\n      <td>0.897436</td>\n      <td>10.641026</td>\n      <td>0.102564</td>\n      <td>0.025641</td>\n    </tr>\n    <tr>\n      <th>CAR</th>\n      <td>2.0</td>\n      <td>2020.0</td>\n      <td>17.0</td>\n      <td>31.0</td>\n      <td>9.410256</td>\n      <td>0.000000</td>\n      <td>0.051282</td>\n      <td>1.076923</td>\n      <td>0.846154</td>\n      <td>0.615385</td>\n      <td>2.230769</td>\n      <td>0.051282</td>\n      <td>0.846154</td>\n      <td>1.025641</td>\n      <td>9.410256</td>\n      <td>0.000000</td>\n      <td>0.076923</td>\n    </tr>\n    <tr>\n      <th>CHI</th>\n      <td>2.0</td>\n      <td>2020.0</td>\n      <td>17.0</td>\n      <td>13.0</td>\n      <td>4.871795</td>\n      <td>0.051282</td>\n      <td>0.051282</td>\n      <td>0.717949</td>\n      <td>0.461538</td>\n      <td>0.820513</td>\n      <td>3.461538</td>\n      <td>0.000000</td>\n      <td>0.435897</td>\n      <td>0.692308</td>\n      <td>4.769231</td>\n      <td>0.051282</td>\n      <td>0.025641</td>\n    </tr>\n    <tr>\n      <th>CIN</th>\n      <td>2.0</td>\n      <td>2020.0</td>\n      <td>30.0</td>\n      <td>35.0</td>\n      <td>8.315789</td>\n      <td>0.078947</td>\n      <td>0.052632</td>\n      <td>1.605263</td>\n      <td>0.973684</td>\n      <td>0.631579</td>\n      <td>1.789474</td>\n      <td>0.000000</td>\n      <td>0.973684</td>\n      <td>1.552632</td>\n      <td>8.315789</td>\n      <td>0.078947</td>\n      <td>0.052632</td>\n    </tr>\n    <tr>\n      <th>CLE</th>\n      <td>2.0</td>\n      <td>2020.0</td>\n      <td>35.0</td>\n      <td>30.0</td>\n      <td>5.763158</td>\n      <td>0.052632</td>\n      <td>0.000000</td>\n      <td>0.605263</td>\n      <td>0.421053</td>\n      <td>0.921053</td>\n      <td>5.657895</td>\n      <td>0.078947</td>\n      <td>0.421053</td>\n      <td>0.552632</td>\n      <td>5.763158</td>\n      <td>0.052632</td>\n      <td>0.000000</td>\n    </tr>\n    <tr>\n      <th>DAL</th>\n      <td>2.0</td>\n      <td>2020.0</td>\n      <td>40.0</td>\n      <td>39.0</td>\n      <td>11.538462</td>\n      <td>0.025641</td>\n      <td>0.000000</td>\n      <td>1.230769</td>\n      <td>0.871795</td>\n      <td>0.794872</td>\n      <td>3.205128</td>\n      <td>0.102564</td>\n      <td>0.871795</td>\n      <td>1.205128</td>\n      <td>11.538462</td>\n      <td>0.025641</td>\n      <td>0.102564</td>\n    </tr>\n    <tr>\n      <th>DEN</th>\n      <td>2.0</td>\n      <td>2020.0</td>\n      <td>21.0</td>\n      <td>26.0</td>\n      <td>6.900000</td>\n      <td>0.050000</td>\n      <td>0.050000</td>\n      <td>0.975000</td>\n      <td>0.475000</td>\n      <td>0.625000</td>\n      <td>2.600000</td>\n      <td>0.000000</td>\n      <td>0.475000</td>\n      <td>0.950000</td>\n      <td>6.900000</td>\n      <td>0.050000</td>\n      <td>0.025000</td>\n    </tr>\n    <tr>\n      <th>DET</th>\n      <td>2.0</td>\n      <td>2020.0</td>\n      <td>21.0</td>\n      <td>42.0</td>\n      <td>6.256410</td>\n      <td>0.051282</td>\n      <td>0.000000</td>\n      <td>0.846154</td>\n      <td>0.512821</td>\n      <td>0.538462</td>\n      <td>2.282051</td>\n      <td>0.025641</td>\n      <td>0.512821</td>\n      <td>0.769231</td>\n      <td>6.256410</td>\n      <td>0.051282</td>\n      <td>0.000000</td>\n    </tr>\n    <tr>\n      <th>GB</th>\n      <td>2.0</td>\n      <td>2020.0</td>\n      <td>42.0</td>\n      <td>21.0</td>\n      <td>6.153846</td>\n      <td>0.051282</td>\n      <td>0.051282</td>\n      <td>0.769231</td>\n      <td>0.461538</td>\n      <td>0.897436</td>\n      <td>6.641026</td>\n      <td>0.051282</td>\n      <td>0.461538</td>\n      <td>0.769231</td>\n      <td>6.153846</td>\n      <td>0.051282</td>\n      <td>0.000000</td>\n    </tr>\n    <tr>\n      <th>HOU</th>\n      <td>2.0</td>\n      <td>2020.0</td>\n      <td>16.0</td>\n      <td>33.0</td>\n      <td>7.051282</td>\n      <td>0.025641</td>\n      <td>0.000000</td>\n      <td>0.923077</td>\n      <td>0.641026</td>\n      <td>0.435897</td>\n      <td>1.307692</td>\n      <td>0.000000</td>\n      <td>0.641026</td>\n      <td>0.871795</td>\n      <td>7.051282</td>\n      <td>0.025641</td>\n      <td>0.025641</td>\n    </tr>\n    <tr>\n      <th>IND</th>\n      <td>2.0</td>\n      <td>2020.0</td>\n      <td>28.0</td>\n      <td>11.0</td>\n      <td>5.487179</td>\n      <td>0.025641</td>\n      <td>0.153846</td>\n      <td>0.641026</td>\n      <td>0.487179</td>\n      <td>1.025641</td>\n      <td>3.871795</td>\n      <td>0.025641</td>\n      <td>0.487179</td>\n      <td>0.641026</td>\n      <td>5.487179</td>\n      <td>0.025641</td>\n      <td>0.025641</td>\n    </tr>\n    <tr>\n      <th>JAX</th>\n      <td>2.0</td>\n      <td>2020.0</td>\n      <td>30.0</td>\n      <td>33.0</td>\n      <td>8.692308</td>\n      <td>0.076923</td>\n      <td>0.000000</td>\n      <td>1.153846</td>\n      <td>0.769231</td>\n      <td>0.692308</td>\n      <td>4.230769</td>\n      <td>0.025641</td>\n      <td>0.769231</td>\n      <td>1.128205</td>\n      <td>8.692308</td>\n      <td>0.076923</td>\n      <td>0.051282</td>\n    </tr>\n    <tr>\n      <th>KC</th>\n      <td>2.0</td>\n      <td>2020.0</td>\n      <td>23.0</td>\n      <td>20.0</td>\n      <td>8.162162</td>\n      <td>0.054054</td>\n      <td>0.054054</td>\n      <td>1.270270</td>\n      <td>0.729730</td>\n      <td>0.594595</td>\n      <td>3.378378</td>\n      <td>0.000000</td>\n      <td>0.729730</td>\n      <td>1.216216</td>\n      <td>8.162162</td>\n      <td>0.054054</td>\n      <td>0.000000</td>\n    </tr>\n    <tr>\n      <th>LAC</th>\n      <td>2.0</td>\n      <td>2020.0</td>\n      <td>20.0</td>\n      <td>23.0</td>\n      <td>7.974359</td>\n      <td>0.025641</td>\n      <td>0.000000</td>\n      <td>0.846154</td>\n      <td>0.564103</td>\n      <td>1.128205</td>\n      <td>4.692308</td>\n      <td>0.025641</td>\n      <td>0.564103</td>\n      <td>0.769231</td>\n      <td>7.974359</td>\n      <td>0.025641</td>\n      <td>0.025641</td>\n    </tr>\n    <tr>\n      <th>LAR</th>\n      <td>2.0</td>\n      <td>2020.0</td>\n      <td>37.0</td>\n      <td>19.0</td>\n      <td>6.846154</td>\n      <td>0.076923</td>\n      <td>0.102564</td>\n      <td>0.692308</td>\n      <td>0.512821</td>\n      <td>1.000000</td>\n      <td>4.897436</td>\n      <td>0.051282</td>\n      <td>0.512821</td>\n      <td>0.666667</td>\n      <td>6.846154</td>\n      <td>0.076923</td>\n      <td>0.025641</td>\n    </tr>\n    <tr>\n      <th>LV</th>\n      <td>2.0</td>\n      <td>2020.0</td>\n      <td>34.0</td>\n      <td>24.0</td>\n      <td>7.282051</td>\n      <td>0.076923</td>\n      <td>0.051282</td>\n      <td>0.974359</td>\n      <td>0.717949</td>\n      <td>0.897436</td>\n      <td>2.974359</td>\n      <td>0.025641</td>\n      <td>0.717949</td>\n      <td>0.871795</td>\n      <td>7.282051</td>\n      <td>0.076923</td>\n      <td>0.051282</td>\n    </tr>\n    <tr>\n      <th>MIA</th>\n      <td>2.0</td>\n      <td>2020.0</td>\n      <td>28.0</td>\n      <td>31.0</td>\n      <td>8.410256</td>\n      <td>0.051282</td>\n      <td>0.000000</td>\n      <td>1.205128</td>\n      <td>0.794872</td>\n      <td>0.564103</td>\n      <td>2.538462</td>\n      <td>0.025641</td>\n      <td>0.794872</td>\n      <td>1.179487</td>\n      <td>8.410256</td>\n      <td>0.051282</td>\n      <td>0.025641</td>\n    </tr>\n    <tr>\n      <th>MIN</th>\n      <td>2.0</td>\n      <td>2020.0</td>\n      <td>11.0</td>\n      <td>28.0</td>\n      <td>3.054054</td>\n      <td>0.000000</td>\n      <td>0.054054</td>\n      <td>0.702703</td>\n      <td>0.297297</td>\n      <td>0.486486</td>\n      <td>2.162162</td>\n      <td>0.027027</td>\n      <td>0.297297</td>\n      <td>0.621622</td>\n      <td>3.054054</td>\n      <td>0.000000</td>\n      <td>0.000000</td>\n    </tr>\n    <tr>\n      <th>NE</th>\n      <td>2.0</td>\n      <td>2020.0</td>\n      <td>30.0</td>\n      <td>35.0</td>\n      <td>10.179487</td>\n      <td>0.025641</td>\n      <td>0.051282</td>\n      <td>1.128205</td>\n      <td>0.769231</td>\n      <td>0.641026</td>\n      <td>1.717949</td>\n      <td>0.051282</td>\n      <td>0.769231</td>\n      <td>1.102564</td>\n      <td>10.179487</td>\n      <td>0.025641</td>\n      <td>0.000000</td>\n    </tr>\n    <tr>\n      <th>NO</th>\n      <td>2.0</td>\n      <td>2020.0</td>\n      <td>24.0</td>\n      <td>34.0</td>\n      <td>8.000000</td>\n      <td>0.025641</td>\n      <td>0.000000</td>\n      <td>0.974359</td>\n      <td>0.666667</td>\n      <td>0.487179</td>\n      <td>2.871795</td>\n      <td>0.051282</td>\n      <td>0.666667</td>\n      <td>0.948718</td>\n      <td>8.000000</td>\n      <td>0.025641</td>\n      <td>0.000000</td>\n    </tr>\n    <tr>\n      <th>NYG</th>\n      <td>2.0</td>\n      <td>2020.0</td>\n      <td>13.0</td>\n      <td>17.0</td>\n      <td>6.342105</td>\n      <td>0.000000</td>\n      <td>0.105263</td>\n      <td>1.052632</td>\n      <td>0.657895</td>\n      <td>0.473684</td>\n      <td>1.973684</td>\n      <td>0.026316</td>\n      <td>0.657895</td>\n      <td>0.947368</td>\n      <td>6.342105</td>\n      <td>0.000000</td>\n      <td>0.026316</td>\n    </tr>\n    <tr>\n      <th>NYJ</th>\n      <td>2.0</td>\n      <td>2020.0</td>\n      <td>13.0</td>\n      <td>31.0</td>\n      <td>4.589744</td>\n      <td>0.025641</td>\n      <td>0.051282</td>\n      <td>0.820513</td>\n      <td>0.538462</td>\n      <td>0.743590</td>\n      <td>2.666667</td>\n      <td>0.000000</td>\n      <td>0.538462</td>\n      <td>0.820513</td>\n      <td>4.589744</td>\n      <td>0.025641</td>\n      <td>0.000000</td>\n    </tr>\n    <tr>\n      <th>PHI</th>\n      <td>2.0</td>\n      <td>2020.0</td>\n      <td>19.0</td>\n      <td>37.0</td>\n      <td>6.050000</td>\n      <td>0.000000</td>\n      <td>0.000000</td>\n      <td>1.075000</td>\n      <td>0.650000</td>\n      <td>0.650000</td>\n      <td>3.025000</td>\n      <td>0.050000</td>\n      <td>0.650000</td>\n      <td>1.025000</td>\n      <td>6.050000</td>\n      <td>0.000000</td>\n      <td>0.025000</td>\n    </tr>\n    <tr>\n      <th>PIT</th>\n      <td>2.0</td>\n      <td>2020.0</td>\n      <td>26.0</td>\n      <td>21.0</td>\n      <td>8.184211</td>\n      <td>0.052632</td>\n      <td>0.052632</td>\n      <td>1.078947</td>\n      <td>0.763158</td>\n      <td>0.578947</td>\n      <td>2.868421</td>\n      <td>0.026316</td>\n      <td>0.763158</td>\n      <td>1.078947</td>\n      <td>8.184211</td>\n      <td>0.052632</td>\n      <td>0.052632</td>\n    </tr>\n    <tr>\n      <th>SEA</th>\n      <td>2.0</td>\n      <td>2020.0</td>\n      <td>35.0</td>\n      <td>30.0</td>\n      <td>7.783784</td>\n      <td>0.135135</td>\n      <td>0.027027</td>\n      <td>0.756757</td>\n      <td>0.567568</td>\n      <td>0.810811</td>\n      <td>4.162162</td>\n      <td>0.000000</td>\n      <td>0.567568</td>\n      <td>0.675676</td>\n      <td>7.783784</td>\n      <td>0.135135</td>\n      <td>0.000000</td>\n    </tr>\n    <tr>\n      <th>SF</th>\n      <td>2.0</td>\n      <td>2020.0</td>\n      <td>31.0</td>\n      <td>13.0</td>\n      <td>5.179487</td>\n      <td>0.051282</td>\n      <td>0.000000</td>\n      <td>0.692308</td>\n      <td>0.564103</td>\n      <td>0.743590</td>\n      <td>4.666667</td>\n      <td>0.051282</td>\n      <td>0.564103</td>\n      <td>0.692308</td>\n      <td>5.179487</td>\n      <td>0.051282</td>\n      <td>0.051282</td>\n    </tr>\n    <tr>\n      <th>TB</th>\n      <td>2.0</td>\n      <td>2020.0</td>\n      <td>31.0</td>\n      <td>17.0</td>\n      <td>5.710526</td>\n      <td>0.026316</td>\n      <td>0.052632</td>\n      <td>0.921053</td>\n      <td>0.605263</td>\n      <td>0.578947</td>\n      <td>3.210526</td>\n      <td>0.078947</td>\n      <td>0.605263</td>\n      <td>0.921053</td>\n      <td>5.710526</td>\n      <td>0.026316</td>\n      <td>0.026316</td>\n    </tr>\n    <tr>\n      <th>TEN</th>\n      <td>2.0</td>\n      <td>2020.0</td>\n      <td>33.0</td>\n      <td>30.0</td>\n      <td>6.459459</td>\n      <td>0.108108</td>\n      <td>0.054054</td>\n      <td>0.648649</td>\n      <td>0.486486</td>\n      <td>0.918919</td>\n      <td>3.324324</td>\n      <td>0.000000</td>\n      <td>0.486486</td>\n      <td>0.648649</td>\n      <td>6.459459</td>\n      <td>0.108108</td>\n      <td>0.000000</td>\n    </tr>\n    <tr>\n      <th>WAS</th>\n      <td>2.0</td>\n      <td>2020.0</td>\n      <td>15.0</td>\n      <td>30.0</td>\n      <td>5.868421</td>\n      <td>0.026316</td>\n      <td>0.052632</td>\n      <td>0.868421</td>\n      <td>0.500000</td>\n      <td>0.605263</td>\n      <td>3.078947</td>\n      <td>0.026316</td>\n      <td>0.500000</td>\n      <td>0.894737</td>\n      <td>5.868421</td>\n      <td>0.026316</td>\n      <td>0.052632</td>\n    </tr>\n  </tbody>\n</table>\n</div>"
     },
     "metadata": {},
     "execution_count": 35
    }
   ],
   "source": [
    "# AVGS by Team \n",
    "avg_teams = df.groupby('Team').mean()\n",
    "avg_teams"
   ]
  },
  {
   "cell_type": "code",
   "execution_count": 60,
   "metadata": {},
   "outputs": [
    {
     "output_type": "display_data",
     "data": {
      "text/html": "\n    <div class=\"bk-root\">\n        <a href=\"https://bokeh.org\" target=\"_blank\" class=\"bk-logo bk-logo-small bk-logo-notebook\"></a>\n        <span id=\"5665\">Loading BokehJS ...</span>\n    </div>"
     },
     "metadata": {}
    },
    {
     "output_type": "display_data",
     "data": {
      "application/javascript": "\n(function(root) {\n  function now() {\n    return new Date();\n  }\n\n  var force = true;\n\n  if (typeof root._bokeh_onload_callbacks === \"undefined\" || force === true) {\n    root._bokeh_onload_callbacks = [];\n    root._bokeh_is_loading = undefined;\n  }\n\n  var JS_MIME_TYPE = 'application/javascript';\n  var HTML_MIME_TYPE = 'text/html';\n  var EXEC_MIME_TYPE = 'application/vnd.bokehjs_exec.v0+json';\n  var CLASS_NAME = 'output_bokeh rendered_html';\n\n  /**\n   * Render data to the DOM node\n   */\n  function render(props, node) {\n    var script = document.createElement(\"script\");\n    node.appendChild(script);\n  }\n\n  /**\n   * Handle when an output is cleared or removed\n   */\n  function handleClearOutput(event, handle) {\n    var cell = handle.cell;\n\n    var id = cell.output_area._bokeh_element_id;\n    var server_id = cell.output_area._bokeh_server_id;\n    // Clean up Bokeh references\n    if (id != null && id in Bokeh.index) {\n      Bokeh.index[id].model.document.clear();\n      delete Bokeh.index[id];\n    }\n\n    if (server_id !== undefined) {\n      // Clean up Bokeh references\n      var cmd = \"from bokeh.io.state import curstate; print(curstate().uuid_to_server['\" + server_id + \"'].get_sessions()[0].document.roots[0]._id)\";\n      cell.notebook.kernel.execute(cmd, {\n        iopub: {\n          output: function(msg) {\n            var id = msg.content.text.trim();\n            if (id in Bokeh.index) {\n              Bokeh.index[id].model.document.clear();\n              delete Bokeh.index[id];\n            }\n          }\n        }\n      });\n      // Destroy server and session\n      var cmd = \"import bokeh.io.notebook as ion; ion.destroy_server('\" + server_id + \"')\";\n      cell.notebook.kernel.execute(cmd);\n    }\n  }\n\n  /**\n   * Handle when a new output is added\n   */\n  function handleAddOutput(event, handle) {\n    var output_area = handle.output_area;\n    var output = handle.output;\n\n    // limit handleAddOutput to display_data with EXEC_MIME_TYPE content only\n    if ((output.output_type != \"display_data\") || (!output.data.hasOwnProperty(EXEC_MIME_TYPE))) {\n      return\n    }\n\n    var toinsert = output_area.element.find(\".\" + CLASS_NAME.split(' ')[0]);\n\n    if (output.metadata[EXEC_MIME_TYPE][\"id\"] !== undefined) {\n      toinsert[toinsert.length - 1].firstChild.textContent = output.data[JS_MIME_TYPE];\n      // store reference to embed id on output_area\n      output_area._bokeh_element_id = output.metadata[EXEC_MIME_TYPE][\"id\"];\n    }\n    if (output.metadata[EXEC_MIME_TYPE][\"server_id\"] !== undefined) {\n      var bk_div = document.createElement(\"div\");\n      bk_div.innerHTML = output.data[HTML_MIME_TYPE];\n      var script_attrs = bk_div.children[0].attributes;\n      for (var i = 0; i < script_attrs.length; i++) {\n        toinsert[toinsert.length - 1].firstChild.setAttribute(script_attrs[i].name, script_attrs[i].value);\n        toinsert[toinsert.length - 1].firstChild.textContent = bk_div.children[0].textContent\n      }\n      // store reference to server id on output_area\n      output_area._bokeh_server_id = output.metadata[EXEC_MIME_TYPE][\"server_id\"];\n    }\n  }\n\n  function register_renderer(events, OutputArea) {\n\n    function append_mime(data, metadata, element) {\n      // create a DOM node to render to\n      var toinsert = this.create_output_subarea(\n        metadata,\n        CLASS_NAME,\n        EXEC_MIME_TYPE\n      );\n      this.keyboard_manager.register_events(toinsert);\n      // Render to node\n      var props = {data: data, metadata: metadata[EXEC_MIME_TYPE]};\n      render(props, toinsert[toinsert.length - 1]);\n      element.append(toinsert);\n      return toinsert\n    }\n\n    /* Handle when an output is cleared or removed */\n    events.on('clear_output.CodeCell', handleClearOutput);\n    events.on('delete.Cell', handleClearOutput);\n\n    /* Handle when a new output is added */\n    events.on('output_added.OutputArea', handleAddOutput);\n\n    /**\n     * Register the mime type and append_mime function with output_area\n     */\n    OutputArea.prototype.register_mime_type(EXEC_MIME_TYPE, append_mime, {\n      /* Is output safe? */\n      safe: true,\n      /* Index of renderer in `output_area.display_order` */\n      index: 0\n    });\n  }\n\n  // register the mime type if in Jupyter Notebook environment and previously unregistered\n  if (root.Jupyter !== undefined) {\n    var events = require('base/js/events');\n    var OutputArea = require('notebook/js/outputarea').OutputArea;\n\n    if (OutputArea.prototype.mime_types().indexOf(EXEC_MIME_TYPE) == -1) {\n      register_renderer(events, OutputArea);\n    }\n  }\n\n  \n  if (typeof (root._bokeh_timeout) === \"undefined\" || force === true) {\n    root._bokeh_timeout = Date.now() + 5000;\n    root._bokeh_failed_load = false;\n  }\n\n  var NB_LOAD_WARNING = {'data': {'text/html':\n     \"<div style='background-color: #fdd'>\\n\"+\n     \"<p>\\n\"+\n     \"BokehJS does not appear to have successfully loaded. If loading BokehJS from CDN, this \\n\"+\n     \"may be due to a slow or bad network connection. Possible fixes:\\n\"+\n     \"</p>\\n\"+\n     \"<ul>\\n\"+\n     \"<li>re-rerun `output_notebook()` to attempt to load from CDN again, or</li>\\n\"+\n     \"<li>use INLINE resources instead, as so:</li>\\n\"+\n     \"</ul>\\n\"+\n     \"<code>\\n\"+\n     \"from bokeh.resources import INLINE\\n\"+\n     \"output_notebook(resources=INLINE)\\n\"+\n     \"</code>\\n\"+\n     \"</div>\"}};\n\n  function display_loaded() {\n    var el = document.getElementById(\"5665\");\n    if (el != null) {\n      el.textContent = \"BokehJS is loading...\";\n    }\n    if (root.Bokeh !== undefined) {\n      if (el != null) {\n        el.textContent = \"BokehJS \" + root.Bokeh.version + \" successfully loaded.\";\n      }\n    } else if (Date.now() < root._bokeh_timeout) {\n      setTimeout(display_loaded, 100)\n    }\n  }\n\n\n  function run_callbacks() {\n    try {\n      root._bokeh_onload_callbacks.forEach(function(callback) {\n        if (callback != null)\n          callback();\n      });\n    } finally {\n      delete root._bokeh_onload_callbacks\n    }\n    console.debug(\"Bokeh: all callbacks have finished\");\n  }\n\n  function load_libs(css_urls, js_urls, callback) {\n    if (css_urls == null) css_urls = [];\n    if (js_urls == null) js_urls = [];\n\n    root._bokeh_onload_callbacks.push(callback);\n    if (root._bokeh_is_loading > 0) {\n      console.debug(\"Bokeh: BokehJS is being loaded, scheduling callback at\", now());\n      return null;\n    }\n    if (js_urls == null || js_urls.length === 0) {\n      run_callbacks();\n      return null;\n    }\n    console.debug(\"Bokeh: BokehJS not loaded, scheduling load and callback at\", now());\n    root._bokeh_is_loading = css_urls.length + js_urls.length;\n\n    function on_load() {\n      root._bokeh_is_loading--;\n      if (root._bokeh_is_loading === 0) {\n        console.debug(\"Bokeh: all BokehJS libraries/stylesheets loaded\");\n        run_callbacks()\n      }\n    }\n\n    function on_error() {\n      console.error(\"failed to load \" + url);\n    }\n\n    for (var i = 0; i < css_urls.length; i++) {\n      var url = css_urls[i];\n      const element = document.createElement(\"link\");\n      element.onload = on_load;\n      element.onerror = on_error;\n      element.rel = \"stylesheet\";\n      element.type = \"text/css\";\n      element.href = url;\n      console.debug(\"Bokeh: injecting link tag for BokehJS stylesheet: \", url);\n      document.body.appendChild(element);\n    }\n\n    const hashes = {\"https://cdn.bokeh.org/bokeh/release/bokeh-2.1.1.min.js\": \"kLr4fYcqcSpbuI95brIH3vnnYCquzzSxHPU6XGQCIkQRGJwhg0StNbj1eegrHs12\", \"https://cdn.bokeh.org/bokeh/release/bokeh-widgets-2.1.1.min.js\": \"xIGPmVtaOm+z0BqfSOMn4lOR6ciex448GIKG4eE61LsAvmGj48XcMQZtKcE/UXZe\", \"https://cdn.bokeh.org/bokeh/release/bokeh-tables-2.1.1.min.js\": \"Dc9u1wF/0zApGIWoBbH77iWEHtdmkuYWG839Uzmv8y8yBLXebjO9ZnERsde5Ln/P\", \"https://cdn.bokeh.org/bokeh/release/bokeh-gl-2.1.1.min.js\": \"cT9JaBz7GiRXdENrJLZNSC6eMNF3nh3fa5fTF51Svp+ukxPdwcU5kGXGPBgDCa2j\"};\n\n    for (var i = 0; i < js_urls.length; i++) {\n      var url = js_urls[i];\n      var element = document.createElement('script');\n      element.onload = on_load;\n      element.onerror = on_error;\n      element.async = false;\n      element.src = url;\n      if (url in hashes) {\n        element.crossOrigin = \"anonymous\";\n        element.integrity = \"sha384-\" + hashes[url];\n      }\n      console.debug(\"Bokeh: injecting script tag for BokehJS library: \", url);\n      document.head.appendChild(element);\n    }\n  };\n\n  function inject_raw_css(css) {\n    const element = document.createElement(\"style\");\n    element.appendChild(document.createTextNode(css));\n    document.body.appendChild(element);\n  }\n\n  \n  var js_urls = [\"https://cdn.bokeh.org/bokeh/release/bokeh-2.1.1.min.js\", \"https://cdn.bokeh.org/bokeh/release/bokeh-widgets-2.1.1.min.js\", \"https://cdn.bokeh.org/bokeh/release/bokeh-tables-2.1.1.min.js\", \"https://cdn.bokeh.org/bokeh/release/bokeh-gl-2.1.1.min.js\"];\n  var css_urls = [];\n  \n\n  var inline_js = [\n    function(Bokeh) {\n      Bokeh.set_log_level(\"info\");\n    },\n    function(Bokeh) {\n    \n    \n    }\n  ];\n\n  function run_inline_js() {\n    \n    if (root.Bokeh !== undefined || force === true) {\n      \n    for (var i = 0; i < inline_js.length; i++) {\n      inline_js[i].call(root, root.Bokeh);\n    }\n    if (force === true) {\n        display_loaded();\n      }} else if (Date.now() < root._bokeh_timeout) {\n      setTimeout(run_inline_js, 100);\n    } else if (!root._bokeh_failed_load) {\n      console.log(\"Bokeh: BokehJS failed to load within specified timeout.\");\n      root._bokeh_failed_load = true;\n    } else if (force !== true) {\n      var cell = $(document.getElementById(\"5665\")).parents('.cell').data().cell;\n      cell.output_area.append_execute_result(NB_LOAD_WARNING)\n    }\n\n  }\n\n  if (root._bokeh_is_loading === 0) {\n    console.debug(\"Bokeh: BokehJS loaded, going straight to plotting\");\n    run_inline_js();\n  } else {\n    load_libs(css_urls, js_urls, function() {\n      console.debug(\"Bokeh: BokehJS plotting callback run at\", now());\n      run_inline_js();\n    });\n  }\n}(window));",
      "application/vnd.bokehjs_load.v0+json": "\n(function(root) {\n  function now() {\n    return new Date();\n  }\n\n  var force = true;\n\n  if (typeof root._bokeh_onload_callbacks === \"undefined\" || force === true) {\n    root._bokeh_onload_callbacks = [];\n    root._bokeh_is_loading = undefined;\n  }\n\n  \n\n  \n  if (typeof (root._bokeh_timeout) === \"undefined\" || force === true) {\n    root._bokeh_timeout = Date.now() + 5000;\n    root._bokeh_failed_load = false;\n  }\n\n  var NB_LOAD_WARNING = {'data': {'text/html':\n     \"<div style='background-color: #fdd'>\\n\"+\n     \"<p>\\n\"+\n     \"BokehJS does not appear to have successfully loaded. If loading BokehJS from CDN, this \\n\"+\n     \"may be due to a slow or bad network connection. Possible fixes:\\n\"+\n     \"</p>\\n\"+\n     \"<ul>\\n\"+\n     \"<li>re-rerun `output_notebook()` to attempt to load from CDN again, or</li>\\n\"+\n     \"<li>use INLINE resources instead, as so:</li>\\n\"+\n     \"</ul>\\n\"+\n     \"<code>\\n\"+\n     \"from bokeh.resources import INLINE\\n\"+\n     \"output_notebook(resources=INLINE)\\n\"+\n     \"</code>\\n\"+\n     \"</div>\"}};\n\n  function display_loaded() {\n    var el = document.getElementById(\"5665\");\n    if (el != null) {\n      el.textContent = \"BokehJS is loading...\";\n    }\n    if (root.Bokeh !== undefined) {\n      if (el != null) {\n        el.textContent = \"BokehJS \" + root.Bokeh.version + \" successfully loaded.\";\n      }\n    } else if (Date.now() < root._bokeh_timeout) {\n      setTimeout(display_loaded, 100)\n    }\n  }\n\n\n  function run_callbacks() {\n    try {\n      root._bokeh_onload_callbacks.forEach(function(callback) {\n        if (callback != null)\n          callback();\n      });\n    } finally {\n      delete root._bokeh_onload_callbacks\n    }\n    console.debug(\"Bokeh: all callbacks have finished\");\n  }\n\n  function load_libs(css_urls, js_urls, callback) {\n    if (css_urls == null) css_urls = [];\n    if (js_urls == null) js_urls = [];\n\n    root._bokeh_onload_callbacks.push(callback);\n    if (root._bokeh_is_loading > 0) {\n      console.debug(\"Bokeh: BokehJS is being loaded, scheduling callback at\", now());\n      return null;\n    }\n    if (js_urls == null || js_urls.length === 0) {\n      run_callbacks();\n      return null;\n    }\n    console.debug(\"Bokeh: BokehJS not loaded, scheduling load and callback at\", now());\n    root._bokeh_is_loading = css_urls.length + js_urls.length;\n\n    function on_load() {\n      root._bokeh_is_loading--;\n      if (root._bokeh_is_loading === 0) {\n        console.debug(\"Bokeh: all BokehJS libraries/stylesheets loaded\");\n        run_callbacks()\n      }\n    }\n\n    function on_error() {\n      console.error(\"failed to load \" + url);\n    }\n\n    for (var i = 0; i < css_urls.length; i++) {\n      var url = css_urls[i];\n      const element = document.createElement(\"link\");\n      element.onload = on_load;\n      element.onerror = on_error;\n      element.rel = \"stylesheet\";\n      element.type = \"text/css\";\n      element.href = url;\n      console.debug(\"Bokeh: injecting link tag for BokehJS stylesheet: \", url);\n      document.body.appendChild(element);\n    }\n\n    const hashes = {\"https://cdn.bokeh.org/bokeh/release/bokeh-2.1.1.min.js\": \"kLr4fYcqcSpbuI95brIH3vnnYCquzzSxHPU6XGQCIkQRGJwhg0StNbj1eegrHs12\", \"https://cdn.bokeh.org/bokeh/release/bokeh-widgets-2.1.1.min.js\": \"xIGPmVtaOm+z0BqfSOMn4lOR6ciex448GIKG4eE61LsAvmGj48XcMQZtKcE/UXZe\", \"https://cdn.bokeh.org/bokeh/release/bokeh-tables-2.1.1.min.js\": \"Dc9u1wF/0zApGIWoBbH77iWEHtdmkuYWG839Uzmv8y8yBLXebjO9ZnERsde5Ln/P\", \"https://cdn.bokeh.org/bokeh/release/bokeh-gl-2.1.1.min.js\": \"cT9JaBz7GiRXdENrJLZNSC6eMNF3nh3fa5fTF51Svp+ukxPdwcU5kGXGPBgDCa2j\"};\n\n    for (var i = 0; i < js_urls.length; i++) {\n      var url = js_urls[i];\n      var element = document.createElement('script');\n      element.onload = on_load;\n      element.onerror = on_error;\n      element.async = false;\n      element.src = url;\n      if (url in hashes) {\n        element.crossOrigin = \"anonymous\";\n        element.integrity = \"sha384-\" + hashes[url];\n      }\n      console.debug(\"Bokeh: injecting script tag for BokehJS library: \", url);\n      document.head.appendChild(element);\n    }\n  };\n\n  function inject_raw_css(css) {\n    const element = document.createElement(\"style\");\n    element.appendChild(document.createTextNode(css));\n    document.body.appendChild(element);\n  }\n\n  \n  var js_urls = [\"https://cdn.bokeh.org/bokeh/release/bokeh-2.1.1.min.js\", \"https://cdn.bokeh.org/bokeh/release/bokeh-widgets-2.1.1.min.js\", \"https://cdn.bokeh.org/bokeh/release/bokeh-tables-2.1.1.min.js\", \"https://cdn.bokeh.org/bokeh/release/bokeh-gl-2.1.1.min.js\"];\n  var css_urls = [];\n  \n\n  var inline_js = [\n    function(Bokeh) {\n      Bokeh.set_log_level(\"info\");\n    },\n    function(Bokeh) {\n    \n    \n    }\n  ];\n\n  function run_inline_js() {\n    \n    if (root.Bokeh !== undefined || force === true) {\n      \n    for (var i = 0; i < inline_js.length; i++) {\n      inline_js[i].call(root, root.Bokeh);\n    }\n    if (force === true) {\n        display_loaded();\n      }} else if (Date.now() < root._bokeh_timeout) {\n      setTimeout(run_inline_js, 100);\n    } else if (!root._bokeh_failed_load) {\n      console.log(\"Bokeh: BokehJS failed to load within specified timeout.\");\n      root._bokeh_failed_load = true;\n    } else if (force !== true) {\n      var cell = $(document.getElementById(\"5665\")).parents('.cell').data().cell;\n      cell.output_area.append_execute_result(NB_LOAD_WARNING)\n    }\n\n  }\n\n  if (root._bokeh_is_loading === 0) {\n    console.debug(\"Bokeh: BokehJS loaded, going straight to plotting\");\n    run_inline_js();\n  } else {\n    load_libs(css_urls, js_urls, function() {\n      console.debug(\"Bokeh: BokehJS plotting callback run at\", now());\n      run_inline_js();\n    });\n  }\n}(window));"
     },
     "metadata": {}
    }
   ],
   "source": [
    "# The figure will be rendered inline a my Jupyter Notebook\n",
    "output_notebook()"
   ]
  },
  {
   "cell_type": "code",
   "execution_count": 53,
   "metadata": {},
   "outputs": [
    {
     "output_type": "display_data",
     "data": {
      "text/html": "\n\n\n\n\n\n  <div class=\"bk-root\" id=\"8a377725-f54c-465a-859d-323549c6edbb\" data-root-id=\"4052\"></div>\n"
     },
     "metadata": {}
    },
    {
     "output_type": "display_data",
     "data": {
      "application/javascript": "(function(root) {\n  function embed_document(root) {\n    \n  var docs_json = {\"eba7b890-0a2a-4a10-b581-c857d1e52853\":{\"roots\":{\"references\":[{\"attributes\":{\"below\":[{\"id\":\"4063\"}],\"center\":[{\"id\":\"4066\"},{\"id\":\"4069\"}],\"left\":[{\"id\":\"4067\"}],\"plot_height\":500,\"renderers\":[{\"id\":\"4075\"}],\"sizing_mode\":\"stretch_width\",\"title\":{\"id\":\"4053\"},\"toolbar\":{\"id\":\"4070\"},\"x_range\":{\"id\":\"4055\"},\"x_scale\":{\"id\":\"4059\"},\"y_range\":{\"id\":\"4057\"},\"y_scale\":{\"id\":\"4061\"}},\"id\":\"4052\",\"subtype\":\"Figure\",\"type\":\"Plot\"},{\"attributes\":{},\"id\":\"4061\",\"type\":\"CategoricalScale\"},{\"attributes\":{},\"id\":\"4064\",\"type\":\"BasicTicker\"},{\"attributes\":{},\"id\":\"4264\",\"type\":\"Selection\"},{\"attributes\":{\"align\":\"center\",\"text\":\"Top 5 Passers\",\"text_color\":{\"value\":\"#4D5656\"},\"text_font_size\":{\"value\":\"16px\"}},\"id\":\"4053\",\"type\":\"Title\"},{\"attributes\":{},\"id\":\"4059\",\"type\":\"LinearScale\"},{\"attributes\":{\"fill_alpha\":{\"value\":0.1},\"fill_color\":{\"field\":\"Name\",\"transform\":{\"id\":\"4071\"}},\"height\":{\"value\":0.4},\"line_alpha\":{\"value\":0.1},\"line_color\":{\"value\":\"#1f77b4\"},\"right\":{\"field\":\"PassingTD\"},\"y\":{\"field\":\"Name\"}},\"id\":\"4074\",\"type\":\"HBar\"},{\"attributes\":{\"formatter\":{\"id\":\"4263\"},\"ticker\":{\"id\":\"4068\"}},\"id\":\"4067\",\"type\":\"CategoricalAxis\"},{\"attributes\":{\"factors\":[\"Russell Wilson\",\"Ryan Tannehill\",\"Josh Allen\",\"Matt Ryan\",\"Derek Carr\"],\"palette\":[\"#440154\",\"#3B518A\",\"#208F8C\",\"#5BC862\",\"#FDE724\"]},\"id\":\"4071\",\"type\":\"CategoricalColorMapper\"},{\"attributes\":{\"active_drag\":\"auto\",\"active_inspect\":\"auto\",\"active_multi\":null,\"active_scroll\":\"auto\",\"active_tap\":\"auto\"},\"id\":\"4070\",\"type\":\"Toolbar\"},{\"attributes\":{\"fill_alpha\":{\"value\":0.8},\"fill_color\":{\"field\":\"Name\",\"transform\":{\"id\":\"4071\"}},\"height\":{\"value\":0.4},\"line_alpha\":{\"value\":0.8},\"line_color\":{\"value\":\"#1f77b4\"},\"right\":{\"field\":\"PassingTD\"},\"y\":{\"field\":\"Name\"}},\"id\":\"4073\",\"type\":\"HBar\"},{\"attributes\":{},\"id\":\"4261\",\"type\":\"BasicTickFormatter\"},{\"attributes\":{\"source\":{\"id\":\"4051\"}},\"id\":\"4076\",\"type\":\"CDSView\"},{\"attributes\":{\"axis_label\":\"Passing TouchDowns\",\"formatter\":{\"id\":\"4261\"},\"ticker\":{\"id\":\"4064\"}},\"id\":\"4063\",\"type\":\"LinearAxis\"},{\"attributes\":{\"factors\":[\"Russell Wilson\",\"Ryan Tannehill\",\"Josh Allen\",\"Matt Ryan\",\"Derek Carr\"]},\"id\":\"4057\",\"type\":\"FactorRange\"},{\"attributes\":{},\"id\":\"4055\",\"type\":\"DataRange1d\"},{\"attributes\":{\"axis\":{\"id\":\"4067\"},\"dimension\":1,\"ticker\":null},\"id\":\"4069\",\"type\":\"Grid\"},{\"attributes\":{},\"id\":\"4263\",\"type\":\"CategoricalTickFormatter\"},{\"attributes\":{},\"id\":\"4265\",\"type\":\"UnionRenderers\"},{\"attributes\":{},\"id\":\"4068\",\"type\":\"CategoricalTicker\"},{\"attributes\":{\"data_source\":{\"id\":\"4051\"},\"glyph\":{\"id\":\"4073\"},\"hover_glyph\":null,\"muted_glyph\":null,\"nonselection_glyph\":{\"id\":\"4074\"},\"selection_glyph\":null,\"view\":{\"id\":\"4076\"}},\"id\":\"4075\",\"type\":\"GlyphRenderer\"},{\"attributes\":{\"axis\":{\"id\":\"4063\"},\"ticker\":null},\"id\":\"4066\",\"type\":\"Grid\"},{\"attributes\":{\"data\":{\"Name\":[\"Russell Wilson\",\"Ryan Tannehill\",\"Josh Allen\",\"Matt Ryan\",\"Derek Carr\"],\"PassingTD\":[5,4,4,4,3]},\"selected\":{\"id\":\"4264\"},\"selection_policy\":{\"id\":\"4265\"}},\"id\":\"4051\",\"type\":\"ColumnDataSource\"}],\"root_ids\":[\"4052\"]},\"title\":\"Bokeh Application\",\"version\":\"2.1.1\"}};\n  var render_items = [{\"docid\":\"eba7b890-0a2a-4a10-b581-c857d1e52853\",\"root_ids\":[\"4052\"],\"roots\":{\"4052\":\"8a377725-f54c-465a-859d-323549c6edbb\"}}];\n  root.Bokeh.embed.embed_items_notebook(docs_json, render_items);\n\n  }\n  if (root.Bokeh !== undefined) {\n    embed_document(root);\n  } else {\n    var attempts = 0;\n    var timer = setInterval(function(root) {\n      if (root.Bokeh !== undefined) {\n        clearInterval(timer);\n        embed_document(root);\n      } else {\n        attempts++;\n        if (attempts > 100) {\n          clearInterval(timer);\n          console.log(\"Bokeh: ERROR: Unable to run BokehJS code because BokehJS library is missing\");\n        }\n      }\n    }, 10, root)\n  }\n})(window);",
      "application/vnd.bokehjs_exec.v0+json": ""
     },
     "metadata": {
      "application/vnd.bokehjs_exec.v0+json": {
       "id": "4052"
      }
     }
    }
   ],
   "source": [
    "# Plot - Top 5 Passers Overall \n",
    "\n",
    "top_5_assists_overall = pd.DataFrame(top_5_assists_overall)\n",
    "source = ColumnDataSource(top_5_assists_overall)\n",
    "\n",
    "names_list = source.data['Name'].tolist()\n",
    "p1 = figure(\n",
    "       y_range = names_list,\n",
    "       title='Top 5 Passers',\n",
    "       x_axis_label = 'Passing TouchDowns',\n",
    "       y_axis_label = '',\n",
    "       plot_height=500,\n",
    "       sizing_mode=\"stretch_width\",\n",
    "       tools=\"\"\n",
    ")\n",
    "\n",
    "p1.hbar(y='Name', \n",
    "       right='PassingTD', \n",
    "       height=0.4, \n",
    "       fill_color=factor_cmap(\n",
    "              'Name',\n",
    "              palette=Viridis[5],\n",
    "              factors=names_list\n",
    "       ),\n",
    "       alpha=0.8,\n",
    "       source=source\n",
    ")\n",
    "\n",
    "p1.title.text_font_size='16px'\n",
    "p1.title.align='center'\n",
    "p1.title.text_color='#4D5656'\n",
    "\n",
    "show(p1)"
   ]
  },
  {
   "cell_type": "code",
   "execution_count": 51,
   "metadata": {},
   "outputs": [
    {
     "output_type": "display_data",
     "data": {
      "text/html": "\n\n\n\n\n\n  <div class=\"bk-root\" id=\"02f5536c-1329-4b00-8dfe-68ac8f3156cd\" data-root-id=\"3511\"></div>\n"
     },
     "metadata": {}
    },
    {
     "output_type": "display_data",
     "data": {
      "application/javascript": "(function(root) {\n  function embed_document(root) {\n    \n  var docs_json = {\"2e85ec60-a6c4-4890-8a93-43e43264cccd\":{\"roots\":{\"references\":[{\"attributes\":{\"below\":[{\"id\":\"3522\"}],\"center\":[{\"id\":\"3525\"},{\"id\":\"3528\"}],\"left\":[{\"id\":\"3526\"}],\"plot_height\":500,\"renderers\":[{\"id\":\"3534\"}],\"sizing_mode\":\"stretch_width\",\"title\":{\"id\":\"3512\"},\"toolbar\":{\"id\":\"3529\"},\"x_range\":{\"id\":\"3514\"},\"x_scale\":{\"id\":\"3518\"},\"y_range\":{\"id\":\"3516\"},\"y_scale\":{\"id\":\"3520\"}},\"id\":\"3511\",\"subtype\":\"Figure\",\"type\":\"Plot\"},{\"attributes\":{\"source\":{\"id\":\"3510\"}},\"id\":\"3535\",\"type\":\"CDSView\"},{\"attributes\":{},\"id\":\"3696\",\"type\":\"UnionRenderers\"},{\"attributes\":{\"axis\":{\"id\":\"3526\"},\"dimension\":1,\"ticker\":null},\"id\":\"3528\",\"type\":\"Grid\"},{\"attributes\":{\"data\":{\"Int\":[3,2,2,1,1],\"Name\":[\"Indianapolis Colts\",\"New York Giants\",\"Los Angeles Rams\",\"James Bradberry\",\"Justin Simmons\"]},\"selected\":{\"id\":\"3695\"},\"selection_policy\":{\"id\":\"3696\"}},\"id\":\"3510\",\"type\":\"ColumnDataSource\"},{\"attributes\":{},\"id\":\"3694\",\"type\":\"CategoricalTickFormatter\"},{\"attributes\":{\"axis_label\":\"Interceptions\",\"formatter\":{\"id\":\"3692\"},\"ticker\":{\"id\":\"3523\"}},\"id\":\"3522\",\"type\":\"LinearAxis\"},{\"attributes\":{\"axis\":{\"id\":\"3522\"},\"ticker\":null},\"id\":\"3525\",\"type\":\"Grid\"},{\"attributes\":{\"formatter\":{\"id\":\"3694\"},\"ticker\":{\"id\":\"3527\"}},\"id\":\"3526\",\"type\":\"CategoricalAxis\"},{\"attributes\":{\"factors\":[\"Indianapolis Colts\",\"New York Giants\",\"Los Angeles Rams\",\"James Bradberry\",\"Justin Simmons\"],\"palette\":[\"#440154\",\"#3B518A\",\"#208F8C\",\"#5BC862\",\"#FDE724\"]},\"id\":\"3530\",\"type\":\"CategoricalColorMapper\"},{\"attributes\":{},\"id\":\"3695\",\"type\":\"Selection\"},{\"attributes\":{\"align\":\"center\",\"text\":\"Top 5 Interceptors\",\"text_color\":{\"value\":\"#4D5656\"},\"text_font_size\":{\"value\":\"16px\"}},\"id\":\"3512\",\"type\":\"Title\"},{\"attributes\":{\"factors\":[\"Indianapolis Colts\",\"New York Giants\",\"Los Angeles Rams\",\"James Bradberry\",\"Justin Simmons\"]},\"id\":\"3516\",\"type\":\"FactorRange\"},{\"attributes\":{},\"id\":\"3523\",\"type\":\"BasicTicker\"},{\"attributes\":{\"fill_alpha\":{\"value\":0.1},\"fill_color\":{\"field\":\"Name\",\"transform\":{\"id\":\"3530\"}},\"height\":{\"value\":0.4},\"line_alpha\":{\"value\":0.1},\"line_color\":{\"value\":\"#1f77b4\"},\"right\":{\"field\":\"Int\"},\"y\":{\"field\":\"Name\"}},\"id\":\"3533\",\"type\":\"HBar\"},{\"attributes\":{\"data_source\":{\"id\":\"3510\"},\"glyph\":{\"id\":\"3532\"},\"hover_glyph\":null,\"muted_glyph\":null,\"nonselection_glyph\":{\"id\":\"3533\"},\"selection_glyph\":null,\"view\":{\"id\":\"3535\"}},\"id\":\"3534\",\"type\":\"GlyphRenderer\"},{\"attributes\":{\"fill_alpha\":{\"value\":0.8},\"fill_color\":{\"field\":\"Name\",\"transform\":{\"id\":\"3530\"}},\"height\":{\"value\":0.4},\"line_alpha\":{\"value\":0.8},\"line_color\":{\"value\":\"#1f77b4\"},\"right\":{\"field\":\"Int\"},\"y\":{\"field\":\"Name\"}},\"id\":\"3532\",\"type\":\"HBar\"},{\"attributes\":{},\"id\":\"3692\",\"type\":\"BasicTickFormatter\"},{\"attributes\":{},\"id\":\"3518\",\"type\":\"LinearScale\"},{\"attributes\":{},\"id\":\"3520\",\"type\":\"CategoricalScale\"},{\"attributes\":{},\"id\":\"3514\",\"type\":\"DataRange1d\"},{\"attributes\":{\"active_drag\":\"auto\",\"active_inspect\":\"auto\",\"active_multi\":null,\"active_scroll\":\"auto\",\"active_tap\":\"auto\"},\"id\":\"3529\",\"type\":\"Toolbar\"},{\"attributes\":{},\"id\":\"3527\",\"type\":\"CategoricalTicker\"}],\"root_ids\":[\"3511\"]},\"title\":\"Bokeh Application\",\"version\":\"2.1.1\"}};\n  var render_items = [{\"docid\":\"2e85ec60-a6c4-4890-8a93-43e43264cccd\",\"root_ids\":[\"3511\"],\"roots\":{\"3511\":\"02f5536c-1329-4b00-8dfe-68ac8f3156cd\"}}];\n  root.Bokeh.embed.embed_items_notebook(docs_json, render_items);\n\n  }\n  if (root.Bokeh !== undefined) {\n    embed_document(root);\n  } else {\n    var attempts = 0;\n    var timer = setInterval(function(root) {\n      if (root.Bokeh !== undefined) {\n        clearInterval(timer);\n        embed_document(root);\n      } else {\n        attempts++;\n        if (attempts > 100) {\n          clearInterval(timer);\n          console.log(\"Bokeh: ERROR: Unable to run BokehJS code because BokehJS library is missing\");\n        }\n      }\n    }, 10, root)\n  }\n})(window);",
      "application/vnd.bokehjs_exec.v0+json": ""
     },
     "metadata": {
      "application/vnd.bokehjs_exec.v0+json": {
       "id": "3511"
      }
     }
    }
   ],
   "source": [
    "# Plot - Top 5 Passers Overall \n",
    "\n",
    "top_5_interceptions = pd.DataFrame(top_5_interceptions)\n",
    "source = ColumnDataSource(top_5_interceptions)\n",
    "\n",
    "names_list = source.data['Name'].tolist()\n",
    "p2 = figure(\n",
    "       y_range = names_list,\n",
    "       title='Top 5 Interceptors',\n",
    "       x_axis_label = 'Interceptions',\n",
    "       y_axis_label = '',\n",
    "       plot_height=500,\n",
    "       sizing_mode=\"stretch_width\",\n",
    "       tools=\"\"\n",
    ")\n",
    "\n",
    "p2.hbar(y='Name', \n",
    "       right='Int', \n",
    "       height=0.4, \n",
    "       fill_color=factor_cmap(\n",
    "              'Name',\n",
    "              palette=Viridis[5],\n",
    "              factors=names_list\n",
    "       ),\n",
    "       alpha=0.8,\n",
    "       source=source\n",
    ")\n",
    "\n",
    "p2.title.text_font_size='16px'\n",
    "p2.title.align='center'\n",
    "p2.title.text_color='#4D5656'\n",
    "\n",
    "show(p2)"
   ]
  },
  {
   "cell_type": "code",
   "execution_count": 49,
   "metadata": {},
   "outputs": [
    {
     "output_type": "display_data",
     "data": {
      "text/html": "\n\n\n\n\n\n  <div class=\"bk-root\" id=\"78a4b911-be70-4c3e-b6ac-b079dde4c916\" data-root-id=\"3026\"></div>\n"
     },
     "metadata": {}
    },
    {
     "output_type": "display_data",
     "data": {
      "application/javascript": "(function(root) {\n  function embed_document(root) {\n    \n  var docs_json = {\"04d3c055-3976-44d4-ae0d-c16eb97566d4\":{\"roots\":{\"references\":[{\"attributes\":{\"below\":[{\"id\":\"3037\"}],\"center\":[{\"id\":\"3040\"},{\"id\":\"3043\"}],\"left\":[{\"id\":\"3041\"}],\"plot_height\":500,\"renderers\":[{\"id\":\"3049\"}],\"sizing_mode\":\"stretch_width\",\"title\":{\"id\":\"3027\"},\"toolbar\":{\"id\":\"3044\"},\"x_range\":{\"id\":\"3029\"},\"x_scale\":{\"id\":\"3033\"},\"y_range\":{\"id\":\"3031\"},\"y_scale\":{\"id\":\"3035\"}},\"id\":\"3026\",\"subtype\":\"Figure\",\"type\":\"Plot\"},{\"attributes\":{\"data_source\":{\"id\":\"3025\"},\"glyph\":{\"id\":\"3047\"},\"hover_glyph\":null,\"muted_glyph\":null,\"nonselection_glyph\":{\"id\":\"3048\"},\"selection_glyph\":null,\"view\":{\"id\":\"3050\"}},\"id\":\"3049\",\"type\":\"GlyphRenderer\"},{\"attributes\":{},\"id\":\"3179\",\"type\":\"BasicTickFormatter\"},{\"attributes\":{\"source\":{\"id\":\"3025\"}},\"id\":\"3050\",\"type\":\"CDSView\"},{\"attributes\":{},\"id\":\"3181\",\"type\":\"CategoricalTickFormatter\"},{\"attributes\":{\"axis\":{\"id\":\"3041\"},\"dimension\":1,\"ticker\":null},\"id\":\"3043\",\"type\":\"Grid\"},{\"attributes\":{},\"id\":\"3033\",\"type\":\"LinearScale\"},{\"attributes\":{\"factors\":[\"Ezekiel Elliott\",\"Derek Carr\",\"Nick Mullens\",\"Joe Burrow\",\"Dwayne Haskins Jr.\"],\"palette\":[\"#440154\",\"#3B518A\",\"#208F8C\",\"#5BC862\",\"#FDE724\"]},\"id\":\"3045\",\"type\":\"CategoricalColorMapper\"},{\"attributes\":{},\"id\":\"3183\",\"type\":\"UnionRenderers\"},{\"attributes\":{},\"id\":\"3029\",\"type\":\"DataRange1d\"},{\"attributes\":{},\"id\":\"3038\",\"type\":\"BasicTicker\"},{\"attributes\":{\"data\":{\"FL\":[2,2,2,2,1],\"Name\":[\"Ezekiel Elliott\",\"Derek Carr\",\"Nick Mullens\",\"Joe Burrow\",\"Dwayne Haskins Jr.\"]},\"selected\":{\"id\":\"3182\"},\"selection_policy\":{\"id\":\"3183\"}},\"id\":\"3025\",\"type\":\"ColumnDataSource\"},{\"attributes\":{\"fill_alpha\":{\"value\":0.1},\"fill_color\":{\"field\":\"Name\",\"transform\":{\"id\":\"3045\"}},\"height\":{\"value\":0.4},\"line_alpha\":{\"value\":0.1},\"line_color\":{\"value\":\"#1f77b4\"},\"right\":{\"field\":\"FL\"},\"y\":{\"field\":\"Name\"}},\"id\":\"3048\",\"type\":\"HBar\"},{\"attributes\":{},\"id\":\"3035\",\"type\":\"CategoricalScale\"},{\"attributes\":{\"axis\":{\"id\":\"3037\"},\"ticker\":null},\"id\":\"3040\",\"type\":\"Grid\"},{\"attributes\":{\"align\":\"center\",\"text\":\"Top 5 Fumbles\",\"text_color\":{\"value\":\"#4D5656\"},\"text_font_size\":{\"value\":\"16px\"}},\"id\":\"3027\",\"type\":\"Title\"},{\"attributes\":{},\"id\":\"3182\",\"type\":\"Selection\"},{\"attributes\":{\"formatter\":{\"id\":\"3181\"},\"ticker\":{\"id\":\"3042\"}},\"id\":\"3041\",\"type\":\"CategoricalAxis\"},{\"attributes\":{\"axis_label\":\"Fumbles\",\"formatter\":{\"id\":\"3179\"},\"ticker\":{\"id\":\"3038\"}},\"id\":\"3037\",\"type\":\"LinearAxis\"},{\"attributes\":{\"active_drag\":\"auto\",\"active_inspect\":\"auto\",\"active_multi\":null,\"active_scroll\":\"auto\",\"active_tap\":\"auto\"},\"id\":\"3044\",\"type\":\"Toolbar\"},{\"attributes\":{},\"id\":\"3042\",\"type\":\"CategoricalTicker\"},{\"attributes\":{\"factors\":[\"Ezekiel Elliott\",\"Derek Carr\",\"Nick Mullens\",\"Joe Burrow\",\"Dwayne Haskins Jr.\"]},\"id\":\"3031\",\"type\":\"FactorRange\"},{\"attributes\":{\"fill_alpha\":{\"value\":0.8},\"fill_color\":{\"field\":\"Name\",\"transform\":{\"id\":\"3045\"}},\"height\":{\"value\":0.4},\"line_alpha\":{\"value\":0.8},\"line_color\":{\"value\":\"#1f77b4\"},\"right\":{\"field\":\"FL\"},\"y\":{\"field\":\"Name\"}},\"id\":\"3047\",\"type\":\"HBar\"}],\"root_ids\":[\"3026\"]},\"title\":\"Bokeh Application\",\"version\":\"2.1.1\"}};\n  var render_items = [{\"docid\":\"04d3c055-3976-44d4-ae0d-c16eb97566d4\",\"root_ids\":[\"3026\"],\"roots\":{\"3026\":\"78a4b911-be70-4c3e-b6ac-b079dde4c916\"}}];\n  root.Bokeh.embed.embed_items_notebook(docs_json, render_items);\n\n  }\n  if (root.Bokeh !== undefined) {\n    embed_document(root);\n  } else {\n    var attempts = 0;\n    var timer = setInterval(function(root) {\n      if (root.Bokeh !== undefined) {\n        clearInterval(timer);\n        embed_document(root);\n      } else {\n        attempts++;\n        if (attempts > 100) {\n          clearInterval(timer);\n          console.log(\"Bokeh: ERROR: Unable to run BokehJS code because BokehJS library is missing\");\n        }\n      }\n    }, 10, root)\n  }\n})(window);",
      "application/vnd.bokehjs_exec.v0+json": ""
     },
     "metadata": {
      "application/vnd.bokehjs_exec.v0+json": {
       "id": "3026"
      }
     }
    }
   ],
   "source": [
    "# Plot - Top 5 Fumbles\n",
    "\n",
    "top_5_fumbles = pd.DataFrame(top_5_fumbles)\n",
    "source = ColumnDataSource(top_5_fumbles)\n",
    "\n",
    "names_list = source.data['Name'].tolist()\n",
    "p3 = figure(\n",
    "       y_range = names_list,\n",
    "       title='Top 5 Fumbles',\n",
    "       x_axis_label = 'Fumbles',\n",
    "       y_axis_label = '',\n",
    "       plot_height=500,\n",
    "       sizing_mode=\"stretch_width\",\n",
    "       tools=\"\"\n",
    ")\n",
    "\n",
    "p3.hbar(y='Name', \n",
    "       right='FL', \n",
    "       height=0.4, \n",
    "       fill_color=factor_cmap(\n",
    "              'Name',\n",
    "              palette=Viridis[5],\n",
    "              factors=names_list\n",
    "       ),\n",
    "       alpha=0.8,\n",
    "       source=source\n",
    ")\n",
    "\n",
    "p3.title.text_font_size='16px'\n",
    "p3.title.align='center'\n",
    "p3.title.text_color='#4D5656'\n",
    "\n",
    "show(p3)"
   ]
  },
  {
   "cell_type": "code",
   "execution_count": 1,
   "metadata": {},
   "outputs": [
    {
     "output_type": "error",
     "ename": "NameError",
     "evalue": "name 'output_notebook' is not defined",
     "traceback": [
      "\u001b[1;31m---------------------------------------------------------------------------\u001b[0m",
      "\u001b[1;31mNameError\u001b[0m                                 Traceback (most recent call last)",
      "\u001b[1;32m<ipython-input-1-d38772bd8ee3>\u001b[0m in \u001b[0;36m<module>\u001b[1;34m\u001b[0m\n\u001b[0;32m      1\u001b[0m \u001b[1;31m# Creating Panel\u001b[0m\u001b[1;33m\u001b[0m\u001b[1;33m\u001b[0m\u001b[1;33m\u001b[0m\u001b[0m\n\u001b[0;32m      2\u001b[0m \u001b[1;33m\u001b[0m\u001b[0m\n\u001b[1;32m----> 3\u001b[1;33m \u001b[0moutput_notebook\u001b[0m\u001b[1;33m(\u001b[0m\u001b[1;33m)\u001b[0m\u001b[1;33m\u001b[0m\u001b[1;33m\u001b[0m\u001b[0m\n\u001b[0m\u001b[0;32m      4\u001b[0m \u001b[1;33m\u001b[0m\u001b[0m\n\u001b[0;32m      5\u001b[0m \u001b[0mtab1\u001b[0m \u001b[1;33m=\u001b[0m \u001b[0mPanel\u001b[0m\u001b[1;33m(\u001b[0m\u001b[0mchild\u001b[0m\u001b[1;33m=\u001b[0m\u001b[0mp1\u001b[0m\u001b[1;33m,\u001b[0m \u001b[0mtitle\u001b[0m\u001b[1;33m=\u001b[0m\u001b[1;34m\"Top 5 Passers\"\u001b[0m\u001b[1;33m)\u001b[0m\u001b[1;33m\u001b[0m\u001b[1;33m\u001b[0m\u001b[0m\n",
      "\u001b[1;31mNameError\u001b[0m: name 'output_notebook' is not defined"
     ]
    }
   ],
   "source": [
    "# Creating Panel\n",
    "\n",
    "tab1 = Panel(child=p1, title=\"Top 5 Passers\")\n",
    "tab2 = Panel(child=p2, title=\"Top 5  Interceptors\")\n",
    "tab3 = Panel(child=p3, title=\"Top 5 Fumbles\")\n",
    "\n",
    "show(Tabs(tabs=[tab1, tab2, tab3]))"
   ]
  },
  {
   "cell_type": "code",
   "execution_count": null,
   "metadata": {},
   "outputs": [],
   "source": []
  }
 ]
}