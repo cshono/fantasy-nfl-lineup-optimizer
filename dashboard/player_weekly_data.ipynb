{
 "metadata": {
  "language_info": {
   "codemirror_mode": {
    "name": "ipython",
    "version": 3
   },
   "file_extension": ".py",
   "mimetype": "text/x-python",
   "name": "python",
   "nbconvert_exporter": "python",
   "pygments_lexer": "ipython3",
   "version": "3.8.3-final"
  },
  "orig_nbformat": 2,
  "kernelspec": {
   "name": "Python 3.8.3 64-bit ('base': conda)",
   "display_name": "Python 3.8.3 64-bit ('base': conda)",
   "metadata": {
    "interpreter": {
     "hash": "a4841eeb86f7d837670793275e227623a560700939cb6e34c015832bd2c85e9e"
    }
   }
  }
 },
 "nbformat": 4,
 "nbformat_minor": 2,
 "cells": [
  {
   "cell_type": "code",
   "execution_count": 1,
   "metadata": {},
   "outputs": [],
   "source": [
    "# Data handling\n",
    "import pandas as pd\n",
    "import numpy as np\n",
    "import matplotlib.pyplot as plt"
   ]
  },
  {
   "cell_type": "code",
   "execution_count": 42,
   "metadata": {},
   "outputs": [],
   "source": [
    "# Bokeh libraries\n",
    "from bokeh.io import output_file, output_notebook\n",
    "from bokeh.plotting import figure, show\n",
    "from bokeh.models import ColumnDataSource\n",
    "from bokeh.layouts import row, column, gridplot\n",
    "from bokeh.models.widgets import Tabs, Panel\n",
    "from bokeh.models import ColumnDataSource, HoverTool, CategoricalColorMapper\n",
    "from bokeh.palettes import Spectral5, Magma, Inferno, Plasma, Viridis, Cividis \n",
    "from bokeh.transform import factor_cmap"
   ]
  },
  {
   "cell_type": "code",
   "execution_count": 2,
   "metadata": {},
   "outputs": [
    {
     "output_type": "execute_result",
     "data": {
      "text/plain": [
       "           Name Team Pos  Wk  Opp  Year Status  TeamScore  OppScore  PassYds  \\\n",
       "0   Aaron Jones   GB  RB   2  DET  2020      0         42        21        0   \n",
       "1  Dak Prescott  DAL  QB   2  ATL  2020      0         40        39      450   \n",
       "2  Alvin Kamara   NO  RB   2   LV  2020      0         24        34        0   \n",
       "3    Cam Newton   NE  QB   2  SEA  2020      0         30        35      397   \n",
       "4    Josh Allen  BUF  QB   2  MIA  2020      0         31        28      415   \n",
       "\n",
       "   ...  PassingAtt  Cmp  RushingAtt  RushingYds  RushingTD  Rec  Tgs  \\\n",
       "0  ...           0    0          18         168          2    4    8   \n",
       "1  ...          47   34           5          18          3    0    0   \n",
       "2  ...           0    0          13          79          2    9    9   \n",
       "3  ...          44   30          11          47          2    0    0   \n",
       "4  ...          35   24           4          19          0    0    0   \n",
       "\n",
       "   ReceivingYds  ReceivingTD  FL  \n",
       "0            68            1   0  \n",
       "1             0            0   1  \n",
       "2            95            0   0  \n",
       "3             0            0   0  \n",
       "4             0            0   0  \n",
       "\n",
       "[5 rows x 22 columns]"
      ],
      "text/html": "<div>\n<style scoped>\n    .dataframe tbody tr th:only-of-type {\n        vertical-align: middle;\n    }\n\n    .dataframe tbody tr th {\n        vertical-align: top;\n    }\n\n    .dataframe thead th {\n        text-align: right;\n    }\n</style>\n<table border=\"1\" class=\"dataframe\">\n  <thead>\n    <tr style=\"text-align: right;\">\n      <th></th>\n      <th>Name</th>\n      <th>Team</th>\n      <th>Pos</th>\n      <th>Wk</th>\n      <th>Opp</th>\n      <th>Year</th>\n      <th>Status</th>\n      <th>TeamScore</th>\n      <th>OppScore</th>\n      <th>PassYds</th>\n      <th>...</th>\n      <th>PassingAtt</th>\n      <th>Cmp</th>\n      <th>RushingAtt</th>\n      <th>RushingYds</th>\n      <th>RushingTD</th>\n      <th>Rec</th>\n      <th>Tgs</th>\n      <th>ReceivingYds</th>\n      <th>ReceivingTD</th>\n      <th>FL</th>\n    </tr>\n  </thead>\n  <tbody>\n    <tr>\n      <th>0</th>\n      <td>Aaron Jones</td>\n      <td>GB</td>\n      <td>RB</td>\n      <td>2</td>\n      <td>DET</td>\n      <td>2020</td>\n      <td>0</td>\n      <td>42</td>\n      <td>21</td>\n      <td>0</td>\n      <td>...</td>\n      <td>0</td>\n      <td>0</td>\n      <td>18</td>\n      <td>168</td>\n      <td>2</td>\n      <td>4</td>\n      <td>8</td>\n      <td>68</td>\n      <td>1</td>\n      <td>0</td>\n    </tr>\n    <tr>\n      <th>1</th>\n      <td>Dak Prescott</td>\n      <td>DAL</td>\n      <td>QB</td>\n      <td>2</td>\n      <td>ATL</td>\n      <td>2020</td>\n      <td>0</td>\n      <td>40</td>\n      <td>39</td>\n      <td>450</td>\n      <td>...</td>\n      <td>47</td>\n      <td>34</td>\n      <td>5</td>\n      <td>18</td>\n      <td>3</td>\n      <td>0</td>\n      <td>0</td>\n      <td>0</td>\n      <td>0</td>\n      <td>1</td>\n    </tr>\n    <tr>\n      <th>2</th>\n      <td>Alvin Kamara</td>\n      <td>NO</td>\n      <td>RB</td>\n      <td>2</td>\n      <td>LV</td>\n      <td>2020</td>\n      <td>0</td>\n      <td>24</td>\n      <td>34</td>\n      <td>0</td>\n      <td>...</td>\n      <td>0</td>\n      <td>0</td>\n      <td>13</td>\n      <td>79</td>\n      <td>2</td>\n      <td>9</td>\n      <td>9</td>\n      <td>95</td>\n      <td>0</td>\n      <td>0</td>\n    </tr>\n    <tr>\n      <th>3</th>\n      <td>Cam Newton</td>\n      <td>NE</td>\n      <td>QB</td>\n      <td>2</td>\n      <td>SEA</td>\n      <td>2020</td>\n      <td>0</td>\n      <td>30</td>\n      <td>35</td>\n      <td>397</td>\n      <td>...</td>\n      <td>44</td>\n      <td>30</td>\n      <td>11</td>\n      <td>47</td>\n      <td>2</td>\n      <td>0</td>\n      <td>0</td>\n      <td>0</td>\n      <td>0</td>\n      <td>0</td>\n    </tr>\n    <tr>\n      <th>4</th>\n      <td>Josh Allen</td>\n      <td>BUF</td>\n      <td>QB</td>\n      <td>2</td>\n      <td>MIA</td>\n      <td>2020</td>\n      <td>0</td>\n      <td>31</td>\n      <td>28</td>\n      <td>415</td>\n      <td>...</td>\n      <td>35</td>\n      <td>24</td>\n      <td>4</td>\n      <td>19</td>\n      <td>0</td>\n      <td>0</td>\n      <td>0</td>\n      <td>0</td>\n      <td>0</td>\n      <td>0</td>\n    </tr>\n  </tbody>\n</table>\n<p>5 rows × 22 columns</p>\n</div>"
     },
     "metadata": {},
     "execution_count": 2
    }
   ],
   "source": [
    "# Reading data\n",
    "df = pd.read_csv('C:/Users/isabe/Documents/player_weekly_data.csv')\n",
    "df.head()"
   ]
  },
  {
   "cell_type": "code",
   "execution_count": 3,
   "metadata": {},
   "outputs": [],
   "source": [
    "# Removing NaN \n",
    "df = df.dropna()"
   ]
  },
  {
   "cell_type": "code",
   "execution_count": 91,
   "metadata": {},
   "outputs": [
    {
     "output_type": "execute_result",
     "data": {
      "text/plain": [
       "                    PassingTD\n",
       "Name                         \n",
       "Russell Wilson              5\n",
       "Matt Ryan                   4\n",
       "Josh Allen                  4\n",
       "Ryan Tannehill              4\n",
       "Derek Carr                  3\n",
       "Gardner Minshew II          3\n",
       "Joe Burrow                  3\n",
       "Jared Goff                  3\n",
       "Mitchell Trubisky           2\n",
       "Jimmy Garoppolo             2"
      ],
      "text/html": "<div>\n<style scoped>\n    .dataframe tbody tr th:only-of-type {\n        vertical-align: middle;\n    }\n\n    .dataframe tbody tr th {\n        vertical-align: top;\n    }\n\n    .dataframe thead th {\n        text-align: right;\n    }\n</style>\n<table border=\"1\" class=\"dataframe\">\n  <thead>\n    <tr style=\"text-align: right;\">\n      <th></th>\n      <th>PassingTD</th>\n    </tr>\n    <tr>\n      <th>Name</th>\n      <th></th>\n    </tr>\n  </thead>\n  <tbody>\n    <tr>\n      <th>Russell Wilson</th>\n      <td>5</td>\n    </tr>\n    <tr>\n      <th>Matt Ryan</th>\n      <td>4</td>\n    </tr>\n    <tr>\n      <th>Josh Allen</th>\n      <td>4</td>\n    </tr>\n    <tr>\n      <th>Ryan Tannehill</th>\n      <td>4</td>\n    </tr>\n    <tr>\n      <th>Derek Carr</th>\n      <td>3</td>\n    </tr>\n    <tr>\n      <th>Gardner Minshew II</th>\n      <td>3</td>\n    </tr>\n    <tr>\n      <th>Joe Burrow</th>\n      <td>3</td>\n    </tr>\n    <tr>\n      <th>Jared Goff</th>\n      <td>3</td>\n    </tr>\n    <tr>\n      <th>Mitchell Trubisky</th>\n      <td>2</td>\n    </tr>\n    <tr>\n      <th>Jimmy Garoppolo</th>\n      <td>2</td>\n    </tr>\n  </tbody>\n</table>\n</div>"
     },
     "metadata": {},
     "execution_count": 91
    }
   ],
   "source": [
    "# Top 10 Players with the most Passing TD in one week\n",
    "top_10_assists  = df.groupby('Name')[['PassingTD']].max()\n",
    "top_10_assists = top_10_assists.sort_values(by='PassingTD', ascending=False).head(10)\n",
    "top_10_assists"
   ]
  },
  {
   "cell_type": "code",
   "execution_count": 87,
   "metadata": {},
   "outputs": [
    {
     "output_type": "execute_result",
     "data": {
      "text/plain": [
       "                    PassingTD\n",
       "Name                         \n",
       "Russell Wilson              5\n",
       "Matt Ryan                   4\n",
       "Josh Allen                  4\n",
       "Ryan Tannehill              4\n",
       "Derek Carr                  3\n",
       "Gardner Minshew II          3\n",
       "Joe Burrow                  3\n",
       "Jared Goff                  3\n",
       "Mitchell Trubisky           2\n",
       "Jimmy Garoppolo             2"
      ],
      "text/html": "<div>\n<style scoped>\n    .dataframe tbody tr th:only-of-type {\n        vertical-align: middle;\n    }\n\n    .dataframe tbody tr th {\n        vertical-align: top;\n    }\n\n    .dataframe thead th {\n        text-align: right;\n    }\n</style>\n<table border=\"1\" class=\"dataframe\">\n  <thead>\n    <tr style=\"text-align: right;\">\n      <th></th>\n      <th>PassingTD</th>\n    </tr>\n    <tr>\n      <th>Name</th>\n      <th></th>\n    </tr>\n  </thead>\n  <tbody>\n    <tr>\n      <th>Russell Wilson</th>\n      <td>5</td>\n    </tr>\n    <tr>\n      <th>Matt Ryan</th>\n      <td>4</td>\n    </tr>\n    <tr>\n      <th>Josh Allen</th>\n      <td>4</td>\n    </tr>\n    <tr>\n      <th>Ryan Tannehill</th>\n      <td>4</td>\n    </tr>\n    <tr>\n      <th>Derek Carr</th>\n      <td>3</td>\n    </tr>\n    <tr>\n      <th>Gardner Minshew II</th>\n      <td>3</td>\n    </tr>\n    <tr>\n      <th>Joe Burrow</th>\n      <td>3</td>\n    </tr>\n    <tr>\n      <th>Jared Goff</th>\n      <td>3</td>\n    </tr>\n    <tr>\n      <th>Mitchell Trubisky</th>\n      <td>2</td>\n    </tr>\n    <tr>\n      <th>Jimmy Garoppolo</th>\n      <td>2</td>\n    </tr>\n  </tbody>\n</table>\n</div>"
     },
     "metadata": {},
     "execution_count": 87
    }
   ],
   "source": [
    "# Top 10 Players with the most Passing TD (all weeks combined)\n",
    "top_10_assists_overall = df.groupby('Name')[['PassingTD']].sum()\n",
    "top_10_assists_overall = top_10_assists_overall.sort_values(by='PassingTD',ascending=False).head(10)\n",
    "top_10_assists_overall"
   ]
  },
  {
   "cell_type": "code",
   "execution_count": 90,
   "metadata": {},
   "outputs": [
    {
     "output_type": "execute_result",
     "data": {
      "text/plain": [
       "                          Int\n",
       "Name                         \n",
       "Indianapolis Colts          3\n",
       "New York Giants             2\n",
       "Tampa Bay Buccaneers        2\n",
       "Tennessee Titans            2\n",
       "Los Angeles Rams            2\n",
       "Landon Collins              1\n",
       "Pittsburgh Steelers         1\n",
       "Washington Football Team    1\n",
       "Minnesota Vikings           1\n",
       "Kristian Fulton             1"
      ],
      "text/html": "<div>\n<style scoped>\n    .dataframe tbody tr th:only-of-type {\n        vertical-align: middle;\n    }\n\n    .dataframe tbody tr th {\n        vertical-align: top;\n    }\n\n    .dataframe thead th {\n        text-align: right;\n    }\n</style>\n<table border=\"1\" class=\"dataframe\">\n  <thead>\n    <tr style=\"text-align: right;\">\n      <th></th>\n      <th>Int</th>\n    </tr>\n    <tr>\n      <th>Name</th>\n      <th></th>\n    </tr>\n  </thead>\n  <tbody>\n    <tr>\n      <th>Indianapolis Colts</th>\n      <td>3</td>\n    </tr>\n    <tr>\n      <th>New York Giants</th>\n      <td>2</td>\n    </tr>\n    <tr>\n      <th>Tampa Bay Buccaneers</th>\n      <td>2</td>\n    </tr>\n    <tr>\n      <th>Tennessee Titans</th>\n      <td>2</td>\n    </tr>\n    <tr>\n      <th>Los Angeles Rams</th>\n      <td>2</td>\n    </tr>\n    <tr>\n      <th>Landon Collins</th>\n      <td>1</td>\n    </tr>\n    <tr>\n      <th>Pittsburgh Steelers</th>\n      <td>1</td>\n    </tr>\n    <tr>\n      <th>Washington Football Team</th>\n      <td>1</td>\n    </tr>\n    <tr>\n      <th>Minnesota Vikings</th>\n      <td>1</td>\n    </tr>\n    <tr>\n      <th>Kristian Fulton</th>\n      <td>1</td>\n    </tr>\n  </tbody>\n</table>\n</div>"
     },
     "metadata": {},
     "execution_count": 90
    }
   ],
   "source": [
    "# Top 10 Players With Most Interceptions\n",
    "top_10_interceptions = df.groupby('Name')[['Int']].sum()\n",
    "top_10_interceptions = top_10_interceptions.sort_values(by='Int', ascending=False).head(10)\n",
    "top_10_interceptions.head(10)"
   ]
  },
  {
   "cell_type": "code",
   "execution_count": 6,
   "metadata": {},
   "outputs": [
    {
     "output_type": "execute_result",
     "data": {
      "text/plain": [
       "Team\n",
       "CIN    37\n",
       "DAL    34\n",
       "CAR    33\n",
       "MIA    31\n",
       "NE     30\n",
       "JAX    30\n",
       "PIT    29\n",
       "LV     28\n",
       "KC     27\n",
       "ARI    26\n",
       "NO     26\n",
       "PHI    26\n",
       "NYG    25\n",
       "HOU    25\n",
       "ATL    24\n",
       "BUF    24\n",
       "TB     23\n",
       "LAC    22\n",
       "SF     22\n",
       "SEA    21\n",
       "NYJ    21\n",
       "DET    20\n",
       "LAR    20\n",
       "DEN    19\n",
       "IND    19\n",
       "WAS    19\n",
       "GB     18\n",
       "CHI    18\n",
       "TEN    18\n",
       "BAL    18\n",
       "CLE    16\n",
       "MIN    11\n",
       "Name: Cmp, dtype: int64"
      ]
     },
     "metadata": {},
     "execution_count": 6
    }
   ],
   "source": [
    "# Teams with the most pass completion \n",
    "teams_completion = df.groupby('Team').Cmp.sum()\n",
    "teams_completion = teams_completion.sort_values(ascending=False)\n",
    "teams_completion"
   ]
  },
  {
   "cell_type": "code",
   "execution_count": 7,
   "metadata": {},
   "outputs": [
    {
     "output_type": "execute_result",
     "data": {
      "text/plain": [
       "       Wk    Year  TeamScore  OppScore    PassYds  PassingTD       Int  \\\n",
       "Team                                                                     \n",
       "ARI   2.0  2020.0       30.0      15.0   7.150000   0.025000  0.000000   \n",
       "ATL   2.0  2020.0       39.0      40.0   7.000000   0.102564  0.000000   \n",
       "BAL   2.0  2020.0       33.0      16.0   5.230769   0.025641  0.051282   \n",
       "BUF   2.0  2020.0       31.0      28.0  10.641026   0.102564  0.000000   \n",
       "CAR   2.0  2020.0       17.0      31.0   9.410256   0.000000  0.051282   \n",
       "CHI   2.0  2020.0       17.0      13.0   4.871795   0.051282  0.051282   \n",
       "CIN   2.0  2020.0       30.0      35.0   8.315789   0.078947  0.052632   \n",
       "CLE   2.0  2020.0       35.0      30.0   5.763158   0.052632  0.000000   \n",
       "DAL   2.0  2020.0       40.0      39.0  11.538462   0.025641  0.000000   \n",
       "DEN   2.0  2020.0       21.0      26.0   6.900000   0.050000  0.050000   \n",
       "DET   2.0  2020.0       21.0      42.0   6.256410   0.051282  0.000000   \n",
       "GB    2.0  2020.0       42.0      21.0   6.153846   0.051282  0.051282   \n",
       "HOU   2.0  2020.0       16.0      33.0   7.051282   0.025641  0.000000   \n",
       "IND   2.0  2020.0       28.0      11.0   5.487179   0.025641  0.153846   \n",
       "JAX   2.0  2020.0       30.0      33.0   8.692308   0.076923  0.000000   \n",
       "KC    2.0  2020.0       23.0      20.0   8.162162   0.054054  0.054054   \n",
       "LAC   2.0  2020.0       20.0      23.0   7.974359   0.025641  0.000000   \n",
       "LAR   2.0  2020.0       37.0      19.0   6.846154   0.076923  0.102564   \n",
       "LV    2.0  2020.0       34.0      24.0   7.282051   0.076923  0.051282   \n",
       "MIA   2.0  2020.0       28.0      31.0   8.410256   0.051282  0.000000   \n",
       "MIN   2.0  2020.0       11.0      28.0   3.054054   0.000000  0.054054   \n",
       "NE    2.0  2020.0       30.0      35.0  10.179487   0.025641  0.051282   \n",
       "NO    2.0  2020.0       24.0      34.0   8.000000   0.025641  0.000000   \n",
       "NYG   2.0  2020.0       13.0      17.0   6.342105   0.000000  0.105263   \n",
       "NYJ   2.0  2020.0       13.0      31.0   4.589744   0.025641  0.051282   \n",
       "PHI   2.0  2020.0       19.0      37.0   6.050000   0.000000  0.000000   \n",
       "PIT   2.0  2020.0       26.0      21.0   8.184211   0.052632  0.052632   \n",
       "SEA   2.0  2020.0       35.0      30.0   7.578947   0.131579  0.052632   \n",
       "SF    2.0  2020.0       31.0      13.0   5.050000   0.050000  0.000000   \n",
       "TB    2.0  2020.0       31.0      17.0   5.564103   0.025641  0.102564   \n",
       "TEN   2.0  2020.0       33.0      30.0   6.289474   0.105263  0.105263   \n",
       "WAS   2.0  2020.0       15.0      30.0   5.868421   0.026316  0.052632   \n",
       "\n",
       "      PassingAtt       Cmp  RushingAtt  RushingYds  RushingTD       Rec  \\\n",
       "Team                                                                      \n",
       "ARI     0.950000  0.650000    0.800000    4.000000   0.050000  0.650000   \n",
       "ATL     0.948718  0.615385    0.871795    2.897436   0.000000  0.615385   \n",
       "BAL     0.615385  0.461538    0.948718    5.897436   0.025641  0.461538   \n",
       "BUF     0.897436  0.615385    0.589744    2.871795   0.000000  0.615385   \n",
       "CAR     1.076923  0.846154    0.615385    2.230769   0.051282  0.846154   \n",
       "CHI     0.717949  0.461538    0.820513    3.461538   0.000000  0.435897   \n",
       "CIN     1.605263  0.973684    0.631579    1.789474   0.000000  0.973684   \n",
       "CLE     0.605263  0.421053    0.921053    5.657895   0.078947  0.421053   \n",
       "DAL     1.230769  0.871795    0.794872    3.205128   0.102564  0.871795   \n",
       "DEN     0.975000  0.475000    0.625000    2.600000   0.000000  0.475000   \n",
       "DET     0.846154  0.512821    0.538462    2.282051   0.025641  0.512821   \n",
       "GB      0.769231  0.461538    0.897436    6.641026   0.051282  0.461538   \n",
       "HOU     0.923077  0.641026    0.435897    1.307692   0.000000  0.641026   \n",
       "IND     0.641026  0.487179    1.025641    3.871795   0.025641  0.487179   \n",
       "JAX     1.153846  0.769231    0.692308    4.230769   0.025641  0.769231   \n",
       "KC      1.270270  0.729730    0.594595    3.378378   0.000000  0.729730   \n",
       "LAC     0.846154  0.564103    1.128205    4.692308   0.025641  0.564103   \n",
       "LAR     0.692308  0.512821    1.000000    4.897436   0.051282  0.512821   \n",
       "LV      0.974359  0.717949    0.897436    2.974359   0.025641  0.717949   \n",
       "MIA     1.205128  0.794872    0.564103    2.538462   0.025641  0.794872   \n",
       "MIN     0.702703  0.297297    0.486486    2.162162   0.027027  0.297297   \n",
       "NE      1.128205  0.769231    0.641026    1.717949   0.051282  0.769231   \n",
       "NO      0.974359  0.666667    0.487179    2.871795   0.051282  0.666667   \n",
       "NYG     1.052632  0.657895    0.473684    1.973684   0.026316  0.657895   \n",
       "NYJ     0.820513  0.538462    0.743590    2.666667   0.000000  0.538462   \n",
       "PHI     1.075000  0.650000    0.650000    3.025000   0.050000  0.650000   \n",
       "PIT     1.078947  0.763158    0.578947    2.868421   0.026316  0.763158   \n",
       "SEA     0.736842  0.552632    0.789474    4.052632   0.000000  0.552632   \n",
       "SF      0.675000  0.550000    0.725000    4.550000   0.050000  0.550000   \n",
       "TB      0.897436  0.589744    0.564103    3.128205   0.076923  0.589744   \n",
       "TEN     0.631579  0.473684    0.894737    3.236842   0.000000  0.473684   \n",
       "WAS     0.868421  0.500000    0.605263    3.078947   0.026316  0.500000   \n",
       "\n",
       "           Tgs  ReceivingYds  ReceivingTD        FL  \n",
       "Team                                                 \n",
       "ARI   0.850000      7.150000     0.025000  0.025000  \n",
       "ATL   0.923077      7.000000     0.102564  0.000000  \n",
       "BAL   0.589744      5.230769     0.025641  0.000000  \n",
       "BUF   0.897436     10.641026     0.102564  0.025641  \n",
       "CAR   1.025641      9.410256     0.000000  0.076923  \n",
       "CHI   0.692308      4.769231     0.051282  0.025641  \n",
       "CIN   1.552632      8.315789     0.078947  0.052632  \n",
       "CLE   0.552632      5.763158     0.052632  0.000000  \n",
       "DAL   1.205128     11.538462     0.025641  0.102564  \n",
       "DEN   0.950000      6.900000     0.050000  0.025000  \n",
       "DET   0.769231      6.256410     0.051282  0.000000  \n",
       "GB    0.769231      6.153846     0.051282  0.000000  \n",
       "HOU   0.871795      7.051282     0.025641  0.025641  \n",
       "IND   0.641026      5.487179     0.025641  0.025641  \n",
       "JAX   1.128205      8.692308     0.076923  0.051282  \n",
       "KC    1.216216      8.162162     0.054054  0.000000  \n",
       "LAC   0.769231      7.974359     0.025641  0.025641  \n",
       "LAR   0.666667      6.846154     0.076923  0.025641  \n",
       "LV    0.871795      7.282051     0.076923  0.051282  \n",
       "MIA   1.179487      8.410256     0.051282  0.025641  \n",
       "MIN   0.621622      3.054054     0.000000  0.000000  \n",
       "NE    1.102564     10.179487     0.025641  0.000000  \n",
       "NO    0.948718      8.000000     0.025641  0.000000  \n",
       "NYG   0.947368      6.342105     0.000000  0.026316  \n",
       "NYJ   0.820513      4.589744     0.025641  0.000000  \n",
       "PHI   1.025000      6.050000     0.000000  0.025000  \n",
       "PIT   1.078947      8.184211     0.052632  0.052632  \n",
       "SEA   0.657895      7.578947     0.131579  0.000000  \n",
       "SF    0.675000      5.050000     0.050000  0.050000  \n",
       "TB    0.897436      5.564103     0.025641  0.025641  \n",
       "TEN   0.631579      6.289474     0.105263  0.000000  \n",
       "WAS   0.894737      5.868421     0.026316  0.052632  "
      ],
      "text/html": "<div>\n<style scoped>\n    .dataframe tbody tr th:only-of-type {\n        vertical-align: middle;\n    }\n\n    .dataframe tbody tr th {\n        vertical-align: top;\n    }\n\n    .dataframe thead th {\n        text-align: right;\n    }\n</style>\n<table border=\"1\" class=\"dataframe\">\n  <thead>\n    <tr style=\"text-align: right;\">\n      <th></th>\n      <th>Wk</th>\n      <th>Year</th>\n      <th>TeamScore</th>\n      <th>OppScore</th>\n      <th>PassYds</th>\n      <th>PassingTD</th>\n      <th>Int</th>\n      <th>PassingAtt</th>\n      <th>Cmp</th>\n      <th>RushingAtt</th>\n      <th>RushingYds</th>\n      <th>RushingTD</th>\n      <th>Rec</th>\n      <th>Tgs</th>\n      <th>ReceivingYds</th>\n      <th>ReceivingTD</th>\n      <th>FL</th>\n    </tr>\n    <tr>\n      <th>Team</th>\n      <th></th>\n      <th></th>\n      <th></th>\n      <th></th>\n      <th></th>\n      <th></th>\n      <th></th>\n      <th></th>\n      <th></th>\n      <th></th>\n      <th></th>\n      <th></th>\n      <th></th>\n      <th></th>\n      <th></th>\n      <th></th>\n      <th></th>\n    </tr>\n  </thead>\n  <tbody>\n    <tr>\n      <th>ARI</th>\n      <td>2.0</td>\n      <td>2020.0</td>\n      <td>30.0</td>\n      <td>15.0</td>\n      <td>7.150000</td>\n      <td>0.025000</td>\n      <td>0.000000</td>\n      <td>0.950000</td>\n      <td>0.650000</td>\n      <td>0.800000</td>\n      <td>4.000000</td>\n      <td>0.050000</td>\n      <td>0.650000</td>\n      <td>0.850000</td>\n      <td>7.150000</td>\n      <td>0.025000</td>\n      <td>0.025000</td>\n    </tr>\n    <tr>\n      <th>ATL</th>\n      <td>2.0</td>\n      <td>2020.0</td>\n      <td>39.0</td>\n      <td>40.0</td>\n      <td>7.000000</td>\n      <td>0.102564</td>\n      <td>0.000000</td>\n      <td>0.948718</td>\n      <td>0.615385</td>\n      <td>0.871795</td>\n      <td>2.897436</td>\n      <td>0.000000</td>\n      <td>0.615385</td>\n      <td>0.923077</td>\n      <td>7.000000</td>\n      <td>0.102564</td>\n      <td>0.000000</td>\n    </tr>\n    <tr>\n      <th>BAL</th>\n      <td>2.0</td>\n      <td>2020.0</td>\n      <td>33.0</td>\n      <td>16.0</td>\n      <td>5.230769</td>\n      <td>0.025641</td>\n      <td>0.051282</td>\n      <td>0.615385</td>\n      <td>0.461538</td>\n      <td>0.948718</td>\n      <td>5.897436</td>\n      <td>0.025641</td>\n      <td>0.461538</td>\n      <td>0.589744</td>\n      <td>5.230769</td>\n      <td>0.025641</td>\n      <td>0.000000</td>\n    </tr>\n    <tr>\n      <th>BUF</th>\n      <td>2.0</td>\n      <td>2020.0</td>\n      <td>31.0</td>\n      <td>28.0</td>\n      <td>10.641026</td>\n      <td>0.102564</td>\n      <td>0.000000</td>\n      <td>0.897436</td>\n      <td>0.615385</td>\n      <td>0.589744</td>\n      <td>2.871795</td>\n      <td>0.000000</td>\n      <td>0.615385</td>\n      <td>0.897436</td>\n      <td>10.641026</td>\n      <td>0.102564</td>\n      <td>0.025641</td>\n    </tr>\n    <tr>\n      <th>CAR</th>\n      <td>2.0</td>\n      <td>2020.0</td>\n      <td>17.0</td>\n      <td>31.0</td>\n      <td>9.410256</td>\n      <td>0.000000</td>\n      <td>0.051282</td>\n      <td>1.076923</td>\n      <td>0.846154</td>\n      <td>0.615385</td>\n      <td>2.230769</td>\n      <td>0.051282</td>\n      <td>0.846154</td>\n      <td>1.025641</td>\n      <td>9.410256</td>\n      <td>0.000000</td>\n      <td>0.076923</td>\n    </tr>\n    <tr>\n      <th>CHI</th>\n      <td>2.0</td>\n      <td>2020.0</td>\n      <td>17.0</td>\n      <td>13.0</td>\n      <td>4.871795</td>\n      <td>0.051282</td>\n      <td>0.051282</td>\n      <td>0.717949</td>\n      <td>0.461538</td>\n      <td>0.820513</td>\n      <td>3.461538</td>\n      <td>0.000000</td>\n      <td>0.435897</td>\n      <td>0.692308</td>\n      <td>4.769231</td>\n      <td>0.051282</td>\n      <td>0.025641</td>\n    </tr>\n    <tr>\n      <th>CIN</th>\n      <td>2.0</td>\n      <td>2020.0</td>\n      <td>30.0</td>\n      <td>35.0</td>\n      <td>8.315789</td>\n      <td>0.078947</td>\n      <td>0.052632</td>\n      <td>1.605263</td>\n      <td>0.973684</td>\n      <td>0.631579</td>\n      <td>1.789474</td>\n      <td>0.000000</td>\n      <td>0.973684</td>\n      <td>1.552632</td>\n      <td>8.315789</td>\n      <td>0.078947</td>\n      <td>0.052632</td>\n    </tr>\n    <tr>\n      <th>CLE</th>\n      <td>2.0</td>\n      <td>2020.0</td>\n      <td>35.0</td>\n      <td>30.0</td>\n      <td>5.763158</td>\n      <td>0.052632</td>\n      <td>0.000000</td>\n      <td>0.605263</td>\n      <td>0.421053</td>\n      <td>0.921053</td>\n      <td>5.657895</td>\n      <td>0.078947</td>\n      <td>0.421053</td>\n      <td>0.552632</td>\n      <td>5.763158</td>\n      <td>0.052632</td>\n      <td>0.000000</td>\n    </tr>\n    <tr>\n      <th>DAL</th>\n      <td>2.0</td>\n      <td>2020.0</td>\n      <td>40.0</td>\n      <td>39.0</td>\n      <td>11.538462</td>\n      <td>0.025641</td>\n      <td>0.000000</td>\n      <td>1.230769</td>\n      <td>0.871795</td>\n      <td>0.794872</td>\n      <td>3.205128</td>\n      <td>0.102564</td>\n      <td>0.871795</td>\n      <td>1.205128</td>\n      <td>11.538462</td>\n      <td>0.025641</td>\n      <td>0.102564</td>\n    </tr>\n    <tr>\n      <th>DEN</th>\n      <td>2.0</td>\n      <td>2020.0</td>\n      <td>21.0</td>\n      <td>26.0</td>\n      <td>6.900000</td>\n      <td>0.050000</td>\n      <td>0.050000</td>\n      <td>0.975000</td>\n      <td>0.475000</td>\n      <td>0.625000</td>\n      <td>2.600000</td>\n      <td>0.000000</td>\n      <td>0.475000</td>\n      <td>0.950000</td>\n      <td>6.900000</td>\n      <td>0.050000</td>\n      <td>0.025000</td>\n    </tr>\n    <tr>\n      <th>DET</th>\n      <td>2.0</td>\n      <td>2020.0</td>\n      <td>21.0</td>\n      <td>42.0</td>\n      <td>6.256410</td>\n      <td>0.051282</td>\n      <td>0.000000</td>\n      <td>0.846154</td>\n      <td>0.512821</td>\n      <td>0.538462</td>\n      <td>2.282051</td>\n      <td>0.025641</td>\n      <td>0.512821</td>\n      <td>0.769231</td>\n      <td>6.256410</td>\n      <td>0.051282</td>\n      <td>0.000000</td>\n    </tr>\n    <tr>\n      <th>GB</th>\n      <td>2.0</td>\n      <td>2020.0</td>\n      <td>42.0</td>\n      <td>21.0</td>\n      <td>6.153846</td>\n      <td>0.051282</td>\n      <td>0.051282</td>\n      <td>0.769231</td>\n      <td>0.461538</td>\n      <td>0.897436</td>\n      <td>6.641026</td>\n      <td>0.051282</td>\n      <td>0.461538</td>\n      <td>0.769231</td>\n      <td>6.153846</td>\n      <td>0.051282</td>\n      <td>0.000000</td>\n    </tr>\n    <tr>\n      <th>HOU</th>\n      <td>2.0</td>\n      <td>2020.0</td>\n      <td>16.0</td>\n      <td>33.0</td>\n      <td>7.051282</td>\n      <td>0.025641</td>\n      <td>0.000000</td>\n      <td>0.923077</td>\n      <td>0.641026</td>\n      <td>0.435897</td>\n      <td>1.307692</td>\n      <td>0.000000</td>\n      <td>0.641026</td>\n      <td>0.871795</td>\n      <td>7.051282</td>\n      <td>0.025641</td>\n      <td>0.025641</td>\n    </tr>\n    <tr>\n      <th>IND</th>\n      <td>2.0</td>\n      <td>2020.0</td>\n      <td>28.0</td>\n      <td>11.0</td>\n      <td>5.487179</td>\n      <td>0.025641</td>\n      <td>0.153846</td>\n      <td>0.641026</td>\n      <td>0.487179</td>\n      <td>1.025641</td>\n      <td>3.871795</td>\n      <td>0.025641</td>\n      <td>0.487179</td>\n      <td>0.641026</td>\n      <td>5.487179</td>\n      <td>0.025641</td>\n      <td>0.025641</td>\n    </tr>\n    <tr>\n      <th>JAX</th>\n      <td>2.0</td>\n      <td>2020.0</td>\n      <td>30.0</td>\n      <td>33.0</td>\n      <td>8.692308</td>\n      <td>0.076923</td>\n      <td>0.000000</td>\n      <td>1.153846</td>\n      <td>0.769231</td>\n      <td>0.692308</td>\n      <td>4.230769</td>\n      <td>0.025641</td>\n      <td>0.769231</td>\n      <td>1.128205</td>\n      <td>8.692308</td>\n      <td>0.076923</td>\n      <td>0.051282</td>\n    </tr>\n    <tr>\n      <th>KC</th>\n      <td>2.0</td>\n      <td>2020.0</td>\n      <td>23.0</td>\n      <td>20.0</td>\n      <td>8.162162</td>\n      <td>0.054054</td>\n      <td>0.054054</td>\n      <td>1.270270</td>\n      <td>0.729730</td>\n      <td>0.594595</td>\n      <td>3.378378</td>\n      <td>0.000000</td>\n      <td>0.729730</td>\n      <td>1.216216</td>\n      <td>8.162162</td>\n      <td>0.054054</td>\n      <td>0.000000</td>\n    </tr>\n    <tr>\n      <th>LAC</th>\n      <td>2.0</td>\n      <td>2020.0</td>\n      <td>20.0</td>\n      <td>23.0</td>\n      <td>7.974359</td>\n      <td>0.025641</td>\n      <td>0.000000</td>\n      <td>0.846154</td>\n      <td>0.564103</td>\n      <td>1.128205</td>\n      <td>4.692308</td>\n      <td>0.025641</td>\n      <td>0.564103</td>\n      <td>0.769231</td>\n      <td>7.974359</td>\n      <td>0.025641</td>\n      <td>0.025641</td>\n    </tr>\n    <tr>\n      <th>LAR</th>\n      <td>2.0</td>\n      <td>2020.0</td>\n      <td>37.0</td>\n      <td>19.0</td>\n      <td>6.846154</td>\n      <td>0.076923</td>\n      <td>0.102564</td>\n      <td>0.692308</td>\n      <td>0.512821</td>\n      <td>1.000000</td>\n      <td>4.897436</td>\n      <td>0.051282</td>\n      <td>0.512821</td>\n      <td>0.666667</td>\n      <td>6.846154</td>\n      <td>0.076923</td>\n      <td>0.025641</td>\n    </tr>\n    <tr>\n      <th>LV</th>\n      <td>2.0</td>\n      <td>2020.0</td>\n      <td>34.0</td>\n      <td>24.0</td>\n      <td>7.282051</td>\n      <td>0.076923</td>\n      <td>0.051282</td>\n      <td>0.974359</td>\n      <td>0.717949</td>\n      <td>0.897436</td>\n      <td>2.974359</td>\n      <td>0.025641</td>\n      <td>0.717949</td>\n      <td>0.871795</td>\n      <td>7.282051</td>\n      <td>0.076923</td>\n      <td>0.051282</td>\n    </tr>\n    <tr>\n      <th>MIA</th>\n      <td>2.0</td>\n      <td>2020.0</td>\n      <td>28.0</td>\n      <td>31.0</td>\n      <td>8.410256</td>\n      <td>0.051282</td>\n      <td>0.000000</td>\n      <td>1.205128</td>\n      <td>0.794872</td>\n      <td>0.564103</td>\n      <td>2.538462</td>\n      <td>0.025641</td>\n      <td>0.794872</td>\n      <td>1.179487</td>\n      <td>8.410256</td>\n      <td>0.051282</td>\n      <td>0.025641</td>\n    </tr>\n    <tr>\n      <th>MIN</th>\n      <td>2.0</td>\n      <td>2020.0</td>\n      <td>11.0</td>\n      <td>28.0</td>\n      <td>3.054054</td>\n      <td>0.000000</td>\n      <td>0.054054</td>\n      <td>0.702703</td>\n      <td>0.297297</td>\n      <td>0.486486</td>\n      <td>2.162162</td>\n      <td>0.027027</td>\n      <td>0.297297</td>\n      <td>0.621622</td>\n      <td>3.054054</td>\n      <td>0.000000</td>\n      <td>0.000000</td>\n    </tr>\n    <tr>\n      <th>NE</th>\n      <td>2.0</td>\n      <td>2020.0</td>\n      <td>30.0</td>\n      <td>35.0</td>\n      <td>10.179487</td>\n      <td>0.025641</td>\n      <td>0.051282</td>\n      <td>1.128205</td>\n      <td>0.769231</td>\n      <td>0.641026</td>\n      <td>1.717949</td>\n      <td>0.051282</td>\n      <td>0.769231</td>\n      <td>1.102564</td>\n      <td>10.179487</td>\n      <td>0.025641</td>\n      <td>0.000000</td>\n    </tr>\n    <tr>\n      <th>NO</th>\n      <td>2.0</td>\n      <td>2020.0</td>\n      <td>24.0</td>\n      <td>34.0</td>\n      <td>8.000000</td>\n      <td>0.025641</td>\n      <td>0.000000</td>\n      <td>0.974359</td>\n      <td>0.666667</td>\n      <td>0.487179</td>\n      <td>2.871795</td>\n      <td>0.051282</td>\n      <td>0.666667</td>\n      <td>0.948718</td>\n      <td>8.000000</td>\n      <td>0.025641</td>\n      <td>0.000000</td>\n    </tr>\n    <tr>\n      <th>NYG</th>\n      <td>2.0</td>\n      <td>2020.0</td>\n      <td>13.0</td>\n      <td>17.0</td>\n      <td>6.342105</td>\n      <td>0.000000</td>\n      <td>0.105263</td>\n      <td>1.052632</td>\n      <td>0.657895</td>\n      <td>0.473684</td>\n      <td>1.973684</td>\n      <td>0.026316</td>\n      <td>0.657895</td>\n      <td>0.947368</td>\n      <td>6.342105</td>\n      <td>0.000000</td>\n      <td>0.026316</td>\n    </tr>\n    <tr>\n      <th>NYJ</th>\n      <td>2.0</td>\n      <td>2020.0</td>\n      <td>13.0</td>\n      <td>31.0</td>\n      <td>4.589744</td>\n      <td>0.025641</td>\n      <td>0.051282</td>\n      <td>0.820513</td>\n      <td>0.538462</td>\n      <td>0.743590</td>\n      <td>2.666667</td>\n      <td>0.000000</td>\n      <td>0.538462</td>\n      <td>0.820513</td>\n      <td>4.589744</td>\n      <td>0.025641</td>\n      <td>0.000000</td>\n    </tr>\n    <tr>\n      <th>PHI</th>\n      <td>2.0</td>\n      <td>2020.0</td>\n      <td>19.0</td>\n      <td>37.0</td>\n      <td>6.050000</td>\n      <td>0.000000</td>\n      <td>0.000000</td>\n      <td>1.075000</td>\n      <td>0.650000</td>\n      <td>0.650000</td>\n      <td>3.025000</td>\n      <td>0.050000</td>\n      <td>0.650000</td>\n      <td>1.025000</td>\n      <td>6.050000</td>\n      <td>0.000000</td>\n      <td>0.025000</td>\n    </tr>\n    <tr>\n      <th>PIT</th>\n      <td>2.0</td>\n      <td>2020.0</td>\n      <td>26.0</td>\n      <td>21.0</td>\n      <td>8.184211</td>\n      <td>0.052632</td>\n      <td>0.052632</td>\n      <td>1.078947</td>\n      <td>0.763158</td>\n      <td>0.578947</td>\n      <td>2.868421</td>\n      <td>0.026316</td>\n      <td>0.763158</td>\n      <td>1.078947</td>\n      <td>8.184211</td>\n      <td>0.052632</td>\n      <td>0.052632</td>\n    </tr>\n    <tr>\n      <th>SEA</th>\n      <td>2.0</td>\n      <td>2020.0</td>\n      <td>35.0</td>\n      <td>30.0</td>\n      <td>7.578947</td>\n      <td>0.131579</td>\n      <td>0.052632</td>\n      <td>0.736842</td>\n      <td>0.552632</td>\n      <td>0.789474</td>\n      <td>4.052632</td>\n      <td>0.000000</td>\n      <td>0.552632</td>\n      <td>0.657895</td>\n      <td>7.578947</td>\n      <td>0.131579</td>\n      <td>0.000000</td>\n    </tr>\n    <tr>\n      <th>SF</th>\n      <td>2.0</td>\n      <td>2020.0</td>\n      <td>31.0</td>\n      <td>13.0</td>\n      <td>5.050000</td>\n      <td>0.050000</td>\n      <td>0.000000</td>\n      <td>0.675000</td>\n      <td>0.550000</td>\n      <td>0.725000</td>\n      <td>4.550000</td>\n      <td>0.050000</td>\n      <td>0.550000</td>\n      <td>0.675000</td>\n      <td>5.050000</td>\n      <td>0.050000</td>\n      <td>0.050000</td>\n    </tr>\n    <tr>\n      <th>TB</th>\n      <td>2.0</td>\n      <td>2020.0</td>\n      <td>31.0</td>\n      <td>17.0</td>\n      <td>5.564103</td>\n      <td>0.025641</td>\n      <td>0.102564</td>\n      <td>0.897436</td>\n      <td>0.589744</td>\n      <td>0.564103</td>\n      <td>3.128205</td>\n      <td>0.076923</td>\n      <td>0.589744</td>\n      <td>0.897436</td>\n      <td>5.564103</td>\n      <td>0.025641</td>\n      <td>0.025641</td>\n    </tr>\n    <tr>\n      <th>TEN</th>\n      <td>2.0</td>\n      <td>2020.0</td>\n      <td>33.0</td>\n      <td>30.0</td>\n      <td>6.289474</td>\n      <td>0.105263</td>\n      <td>0.105263</td>\n      <td>0.631579</td>\n      <td>0.473684</td>\n      <td>0.894737</td>\n      <td>3.236842</td>\n      <td>0.000000</td>\n      <td>0.473684</td>\n      <td>0.631579</td>\n      <td>6.289474</td>\n      <td>0.105263</td>\n      <td>0.000000</td>\n    </tr>\n    <tr>\n      <th>WAS</th>\n      <td>2.0</td>\n      <td>2020.0</td>\n      <td>15.0</td>\n      <td>30.0</td>\n      <td>5.868421</td>\n      <td>0.026316</td>\n      <td>0.052632</td>\n      <td>0.868421</td>\n      <td>0.500000</td>\n      <td>0.605263</td>\n      <td>3.078947</td>\n      <td>0.026316</td>\n      <td>0.500000</td>\n      <td>0.894737</td>\n      <td>5.868421</td>\n      <td>0.026316</td>\n      <td>0.052632</td>\n    </tr>\n  </tbody>\n</table>\n</div>"
     },
     "metadata": {},
     "execution_count": 7
    }
   ],
   "source": [
    "# AVGS by Team \n",
    "avg_teams = df.groupby('Team').mean()\n",
    "avg_teams"
   ]
  },
  {
   "cell_type": "code",
   "execution_count": 9,
   "metadata": {},
   "outputs": [
    {
     "output_type": "display_data",
     "data": {
      "text/html": "\n    <div class=\"bk-root\">\n        <a href=\"https://bokeh.org\" target=\"_blank\" class=\"bk-logo bk-logo-small bk-logo-notebook\"></a>\n        <span id=\"1001\">Loading BokehJS ...</span>\n    </div>"
     },
     "metadata": {}
    },
    {
     "output_type": "display_data",
     "data": {
      "application/javascript": "\n(function(root) {\n  function now() {\n    return new Date();\n  }\n\n  var force = true;\n\n  if (typeof root._bokeh_onload_callbacks === \"undefined\" || force === true) {\n    root._bokeh_onload_callbacks = [];\n    root._bokeh_is_loading = undefined;\n  }\n\n  var JS_MIME_TYPE = 'application/javascript';\n  var HTML_MIME_TYPE = 'text/html';\n  var EXEC_MIME_TYPE = 'application/vnd.bokehjs_exec.v0+json';\n  var CLASS_NAME = 'output_bokeh rendered_html';\n\n  /**\n   * Render data to the DOM node\n   */\n  function render(props, node) {\n    var script = document.createElement(\"script\");\n    node.appendChild(script);\n  }\n\n  /**\n   * Handle when an output is cleared or removed\n   */\n  function handleClearOutput(event, handle) {\n    var cell = handle.cell;\n\n    var id = cell.output_area._bokeh_element_id;\n    var server_id = cell.output_area._bokeh_server_id;\n    // Clean up Bokeh references\n    if (id != null && id in Bokeh.index) {\n      Bokeh.index[id].model.document.clear();\n      delete Bokeh.index[id];\n    }\n\n    if (server_id !== undefined) {\n      // Clean up Bokeh references\n      var cmd = \"from bokeh.io.state import curstate; print(curstate().uuid_to_server['\" + server_id + \"'].get_sessions()[0].document.roots[0]._id)\";\n      cell.notebook.kernel.execute(cmd, {\n        iopub: {\n          output: function(msg) {\n            var id = msg.content.text.trim();\n            if (id in Bokeh.index) {\n              Bokeh.index[id].model.document.clear();\n              delete Bokeh.index[id];\n            }\n          }\n        }\n      });\n      // Destroy server and session\n      var cmd = \"import bokeh.io.notebook as ion; ion.destroy_server('\" + server_id + \"')\";\n      cell.notebook.kernel.execute(cmd);\n    }\n  }\n\n  /**\n   * Handle when a new output is added\n   */\n  function handleAddOutput(event, handle) {\n    var output_area = handle.output_area;\n    var output = handle.output;\n\n    // limit handleAddOutput to display_data with EXEC_MIME_TYPE content only\n    if ((output.output_type != \"display_data\") || (!output.data.hasOwnProperty(EXEC_MIME_TYPE))) {\n      return\n    }\n\n    var toinsert = output_area.element.find(\".\" + CLASS_NAME.split(' ')[0]);\n\n    if (output.metadata[EXEC_MIME_TYPE][\"id\"] !== undefined) {\n      toinsert[toinsert.length - 1].firstChild.textContent = output.data[JS_MIME_TYPE];\n      // store reference to embed id on output_area\n      output_area._bokeh_element_id = output.metadata[EXEC_MIME_TYPE][\"id\"];\n    }\n    if (output.metadata[EXEC_MIME_TYPE][\"server_id\"] !== undefined) {\n      var bk_div = document.createElement(\"div\");\n      bk_div.innerHTML = output.data[HTML_MIME_TYPE];\n      var script_attrs = bk_div.children[0].attributes;\n      for (var i = 0; i < script_attrs.length; i++) {\n        toinsert[toinsert.length - 1].firstChild.setAttribute(script_attrs[i].name, script_attrs[i].value);\n        toinsert[toinsert.length - 1].firstChild.textContent = bk_div.children[0].textContent\n      }\n      // store reference to server id on output_area\n      output_area._bokeh_server_id = output.metadata[EXEC_MIME_TYPE][\"server_id\"];\n    }\n  }\n\n  function register_renderer(events, OutputArea) {\n\n    function append_mime(data, metadata, element) {\n      // create a DOM node to render to\n      var toinsert = this.create_output_subarea(\n        metadata,\n        CLASS_NAME,\n        EXEC_MIME_TYPE\n      );\n      this.keyboard_manager.register_events(toinsert);\n      // Render to node\n      var props = {data: data, metadata: metadata[EXEC_MIME_TYPE]};\n      render(props, toinsert[toinsert.length - 1]);\n      element.append(toinsert);\n      return toinsert\n    }\n\n    /* Handle when an output is cleared or removed */\n    events.on('clear_output.CodeCell', handleClearOutput);\n    events.on('delete.Cell', handleClearOutput);\n\n    /* Handle when a new output is added */\n    events.on('output_added.OutputArea', handleAddOutput);\n\n    /**\n     * Register the mime type and append_mime function with output_area\n     */\n    OutputArea.prototype.register_mime_type(EXEC_MIME_TYPE, append_mime, {\n      /* Is output safe? */\n      safe: true,\n      /* Index of renderer in `output_area.display_order` */\n      index: 0\n    });\n  }\n\n  // register the mime type if in Jupyter Notebook environment and previously unregistered\n  if (root.Jupyter !== undefined) {\n    var events = require('base/js/events');\n    var OutputArea = require('notebook/js/outputarea').OutputArea;\n\n    if (OutputArea.prototype.mime_types().indexOf(EXEC_MIME_TYPE) == -1) {\n      register_renderer(events, OutputArea);\n    }\n  }\n\n  \n  if (typeof (root._bokeh_timeout) === \"undefined\" || force === true) {\n    root._bokeh_timeout = Date.now() + 5000;\n    root._bokeh_failed_load = false;\n  }\n\n  var NB_LOAD_WARNING = {'data': {'text/html':\n     \"<div style='background-color: #fdd'>\\n\"+\n     \"<p>\\n\"+\n     \"BokehJS does not appear to have successfully loaded. If loading BokehJS from CDN, this \\n\"+\n     \"may be due to a slow or bad network connection. Possible fixes:\\n\"+\n     \"</p>\\n\"+\n     \"<ul>\\n\"+\n     \"<li>re-rerun `output_notebook()` to attempt to load from CDN again, or</li>\\n\"+\n     \"<li>use INLINE resources instead, as so:</li>\\n\"+\n     \"</ul>\\n\"+\n     \"<code>\\n\"+\n     \"from bokeh.resources import INLINE\\n\"+\n     \"output_notebook(resources=INLINE)\\n\"+\n     \"</code>\\n\"+\n     \"</div>\"}};\n\n  function display_loaded() {\n    var el = document.getElementById(\"1001\");\n    if (el != null) {\n      el.textContent = \"BokehJS is loading...\";\n    }\n    if (root.Bokeh !== undefined) {\n      if (el != null) {\n        el.textContent = \"BokehJS \" + root.Bokeh.version + \" successfully loaded.\";\n      }\n    } else if (Date.now() < root._bokeh_timeout) {\n      setTimeout(display_loaded, 100)\n    }\n  }\n\n\n  function run_callbacks() {\n    try {\n      root._bokeh_onload_callbacks.forEach(function(callback) {\n        if (callback != null)\n          callback();\n      });\n    } finally {\n      delete root._bokeh_onload_callbacks\n    }\n    console.debug(\"Bokeh: all callbacks have finished\");\n  }\n\n  function load_libs(css_urls, js_urls, callback) {\n    if (css_urls == null) css_urls = [];\n    if (js_urls == null) js_urls = [];\n\n    root._bokeh_onload_callbacks.push(callback);\n    if (root._bokeh_is_loading > 0) {\n      console.debug(\"Bokeh: BokehJS is being loaded, scheduling callback at\", now());\n      return null;\n    }\n    if (js_urls == null || js_urls.length === 0) {\n      run_callbacks();\n      return null;\n    }\n    console.debug(\"Bokeh: BokehJS not loaded, scheduling load and callback at\", now());\n    root._bokeh_is_loading = css_urls.length + js_urls.length;\n\n    function on_load() {\n      root._bokeh_is_loading--;\n      if (root._bokeh_is_loading === 0) {\n        console.debug(\"Bokeh: all BokehJS libraries/stylesheets loaded\");\n        run_callbacks()\n      }\n    }\n\n    function on_error() {\n      console.error(\"failed to load \" + url);\n    }\n\n    for (var i = 0; i < css_urls.length; i++) {\n      var url = css_urls[i];\n      const element = document.createElement(\"link\");\n      element.onload = on_load;\n      element.onerror = on_error;\n      element.rel = \"stylesheet\";\n      element.type = \"text/css\";\n      element.href = url;\n      console.debug(\"Bokeh: injecting link tag for BokehJS stylesheet: \", url);\n      document.body.appendChild(element);\n    }\n\n    const hashes = {\"https://cdn.bokeh.org/bokeh/release/bokeh-2.1.1.min.js\": \"kLr4fYcqcSpbuI95brIH3vnnYCquzzSxHPU6XGQCIkQRGJwhg0StNbj1eegrHs12\", \"https://cdn.bokeh.org/bokeh/release/bokeh-widgets-2.1.1.min.js\": \"xIGPmVtaOm+z0BqfSOMn4lOR6ciex448GIKG4eE61LsAvmGj48XcMQZtKcE/UXZe\", \"https://cdn.bokeh.org/bokeh/release/bokeh-tables-2.1.1.min.js\": \"Dc9u1wF/0zApGIWoBbH77iWEHtdmkuYWG839Uzmv8y8yBLXebjO9ZnERsde5Ln/P\", \"https://cdn.bokeh.org/bokeh/release/bokeh-gl-2.1.1.min.js\": \"cT9JaBz7GiRXdENrJLZNSC6eMNF3nh3fa5fTF51Svp+ukxPdwcU5kGXGPBgDCa2j\"};\n\n    for (var i = 0; i < js_urls.length; i++) {\n      var url = js_urls[i];\n      var element = document.createElement('script');\n      element.onload = on_load;\n      element.onerror = on_error;\n      element.async = false;\n      element.src = url;\n      if (url in hashes) {\n        element.crossOrigin = \"anonymous\";\n        element.integrity = \"sha384-\" + hashes[url];\n      }\n      console.debug(\"Bokeh: injecting script tag for BokehJS library: \", url);\n      document.head.appendChild(element);\n    }\n  };\n\n  function inject_raw_css(css) {\n    const element = document.createElement(\"style\");\n    element.appendChild(document.createTextNode(css));\n    document.body.appendChild(element);\n  }\n\n  \n  var js_urls = [\"https://cdn.bokeh.org/bokeh/release/bokeh-2.1.1.min.js\", \"https://cdn.bokeh.org/bokeh/release/bokeh-widgets-2.1.1.min.js\", \"https://cdn.bokeh.org/bokeh/release/bokeh-tables-2.1.1.min.js\", \"https://cdn.bokeh.org/bokeh/release/bokeh-gl-2.1.1.min.js\"];\n  var css_urls = [];\n  \n\n  var inline_js = [\n    function(Bokeh) {\n      Bokeh.set_log_level(\"info\");\n    },\n    function(Bokeh) {\n    \n    \n    }\n  ];\n\n  function run_inline_js() {\n    \n    if (root.Bokeh !== undefined || force === true) {\n      \n    for (var i = 0; i < inline_js.length; i++) {\n      inline_js[i].call(root, root.Bokeh);\n    }\n    if (force === true) {\n        display_loaded();\n      }} else if (Date.now() < root._bokeh_timeout) {\n      setTimeout(run_inline_js, 100);\n    } else if (!root._bokeh_failed_load) {\n      console.log(\"Bokeh: BokehJS failed to load within specified timeout.\");\n      root._bokeh_failed_load = true;\n    } else if (force !== true) {\n      var cell = $(document.getElementById(\"1001\")).parents('.cell').data().cell;\n      cell.output_area.append_execute_result(NB_LOAD_WARNING)\n    }\n\n  }\n\n  if (root._bokeh_is_loading === 0) {\n    console.debug(\"Bokeh: BokehJS loaded, going straight to plotting\");\n    run_inline_js();\n  } else {\n    load_libs(css_urls, js_urls, function() {\n      console.debug(\"Bokeh: BokehJS plotting callback run at\", now());\n      run_inline_js();\n    });\n  }\n}(window));",
      "application/vnd.bokehjs_load.v0+json": "\n(function(root) {\n  function now() {\n    return new Date();\n  }\n\n  var force = true;\n\n  if (typeof root._bokeh_onload_callbacks === \"undefined\" || force === true) {\n    root._bokeh_onload_callbacks = [];\n    root._bokeh_is_loading = undefined;\n  }\n\n  \n\n  \n  if (typeof (root._bokeh_timeout) === \"undefined\" || force === true) {\n    root._bokeh_timeout = Date.now() + 5000;\n    root._bokeh_failed_load = false;\n  }\n\n  var NB_LOAD_WARNING = {'data': {'text/html':\n     \"<div style='background-color: #fdd'>\\n\"+\n     \"<p>\\n\"+\n     \"BokehJS does not appear to have successfully loaded. If loading BokehJS from CDN, this \\n\"+\n     \"may be due to a slow or bad network connection. Possible fixes:\\n\"+\n     \"</p>\\n\"+\n     \"<ul>\\n\"+\n     \"<li>re-rerun `output_notebook()` to attempt to load from CDN again, or</li>\\n\"+\n     \"<li>use INLINE resources instead, as so:</li>\\n\"+\n     \"</ul>\\n\"+\n     \"<code>\\n\"+\n     \"from bokeh.resources import INLINE\\n\"+\n     \"output_notebook(resources=INLINE)\\n\"+\n     \"</code>\\n\"+\n     \"</div>\"}};\n\n  function display_loaded() {\n    var el = document.getElementById(\"1001\");\n    if (el != null) {\n      el.textContent = \"BokehJS is loading...\";\n    }\n    if (root.Bokeh !== undefined) {\n      if (el != null) {\n        el.textContent = \"BokehJS \" + root.Bokeh.version + \" successfully loaded.\";\n      }\n    } else if (Date.now() < root._bokeh_timeout) {\n      setTimeout(display_loaded, 100)\n    }\n  }\n\n\n  function run_callbacks() {\n    try {\n      root._bokeh_onload_callbacks.forEach(function(callback) {\n        if (callback != null)\n          callback();\n      });\n    } finally {\n      delete root._bokeh_onload_callbacks\n    }\n    console.debug(\"Bokeh: all callbacks have finished\");\n  }\n\n  function load_libs(css_urls, js_urls, callback) {\n    if (css_urls == null) css_urls = [];\n    if (js_urls == null) js_urls = [];\n\n    root._bokeh_onload_callbacks.push(callback);\n    if (root._bokeh_is_loading > 0) {\n      console.debug(\"Bokeh: BokehJS is being loaded, scheduling callback at\", now());\n      return null;\n    }\n    if (js_urls == null || js_urls.length === 0) {\n      run_callbacks();\n      return null;\n    }\n    console.debug(\"Bokeh: BokehJS not loaded, scheduling load and callback at\", now());\n    root._bokeh_is_loading = css_urls.length + js_urls.length;\n\n    function on_load() {\n      root._bokeh_is_loading--;\n      if (root._bokeh_is_loading === 0) {\n        console.debug(\"Bokeh: all BokehJS libraries/stylesheets loaded\");\n        run_callbacks()\n      }\n    }\n\n    function on_error() {\n      console.error(\"failed to load \" + url);\n    }\n\n    for (var i = 0; i < css_urls.length; i++) {\n      var url = css_urls[i];\n      const element = document.createElement(\"link\");\n      element.onload = on_load;\n      element.onerror = on_error;\n      element.rel = \"stylesheet\";\n      element.type = \"text/css\";\n      element.href = url;\n      console.debug(\"Bokeh: injecting link tag for BokehJS stylesheet: \", url);\n      document.body.appendChild(element);\n    }\n\n    const hashes = {\"https://cdn.bokeh.org/bokeh/release/bokeh-2.1.1.min.js\": \"kLr4fYcqcSpbuI95brIH3vnnYCquzzSxHPU6XGQCIkQRGJwhg0StNbj1eegrHs12\", \"https://cdn.bokeh.org/bokeh/release/bokeh-widgets-2.1.1.min.js\": \"xIGPmVtaOm+z0BqfSOMn4lOR6ciex448GIKG4eE61LsAvmGj48XcMQZtKcE/UXZe\", \"https://cdn.bokeh.org/bokeh/release/bokeh-tables-2.1.1.min.js\": \"Dc9u1wF/0zApGIWoBbH77iWEHtdmkuYWG839Uzmv8y8yBLXebjO9ZnERsde5Ln/P\", \"https://cdn.bokeh.org/bokeh/release/bokeh-gl-2.1.1.min.js\": \"cT9JaBz7GiRXdENrJLZNSC6eMNF3nh3fa5fTF51Svp+ukxPdwcU5kGXGPBgDCa2j\"};\n\n    for (var i = 0; i < js_urls.length; i++) {\n      var url = js_urls[i];\n      var element = document.createElement('script');\n      element.onload = on_load;\n      element.onerror = on_error;\n      element.async = false;\n      element.src = url;\n      if (url in hashes) {\n        element.crossOrigin = \"anonymous\";\n        element.integrity = \"sha384-\" + hashes[url];\n      }\n      console.debug(\"Bokeh: injecting script tag for BokehJS library: \", url);\n      document.head.appendChild(element);\n    }\n  };\n\n  function inject_raw_css(css) {\n    const element = document.createElement(\"style\");\n    element.appendChild(document.createTextNode(css));\n    document.body.appendChild(element);\n  }\n\n  \n  var js_urls = [\"https://cdn.bokeh.org/bokeh/release/bokeh-2.1.1.min.js\", \"https://cdn.bokeh.org/bokeh/release/bokeh-widgets-2.1.1.min.js\", \"https://cdn.bokeh.org/bokeh/release/bokeh-tables-2.1.1.min.js\", \"https://cdn.bokeh.org/bokeh/release/bokeh-gl-2.1.1.min.js\"];\n  var css_urls = [];\n  \n\n  var inline_js = [\n    function(Bokeh) {\n      Bokeh.set_log_level(\"info\");\n    },\n    function(Bokeh) {\n    \n    \n    }\n  ];\n\n  function run_inline_js() {\n    \n    if (root.Bokeh !== undefined || force === true) {\n      \n    for (var i = 0; i < inline_js.length; i++) {\n      inline_js[i].call(root, root.Bokeh);\n    }\n    if (force === true) {\n        display_loaded();\n      }} else if (Date.now() < root._bokeh_timeout) {\n      setTimeout(run_inline_js, 100);\n    } else if (!root._bokeh_failed_load) {\n      console.log(\"Bokeh: BokehJS failed to load within specified timeout.\");\n      root._bokeh_failed_load = true;\n    } else if (force !== true) {\n      var cell = $(document.getElementById(\"1001\")).parents('.cell').data().cell;\n      cell.output_area.append_execute_result(NB_LOAD_WARNING)\n    }\n\n  }\n\n  if (root._bokeh_is_loading === 0) {\n    console.debug(\"Bokeh: BokehJS loaded, going straight to plotting\");\n    run_inline_js();\n  } else {\n    load_libs(css_urls, js_urls, function() {\n      console.debug(\"Bokeh: BokehJS plotting callback run at\", now());\n      run_inline_js();\n    });\n  }\n}(window));"
     },
     "metadata": {}
    }
   ],
   "source": [
    "# The figure will be rendered inline a my Jupyter Notebook\n",
    "output_notebook()"
   ]
  },
  {
   "cell_type": "code",
   "execution_count": 59,
   "metadata": {},
   "outputs": [
    {
     "output_type": "display_data",
     "data": {
      "text/html": "\n\n\n\n\n\n  <div class=\"bk-root\" id=\"2491086d-55f7-4b27-b115-f80c633c1ae4\" data-root-id=\"4982\"></div>\n"
     },
     "metadata": {}
    },
    {
     "output_type": "display_data",
     "data": {
      "application/javascript": "(function(root) {\n  function embed_document(root) {\n    \n  var docs_json = {\"93ea1583-cbe1-4d7d-8e43-92c086d7a544\":{\"roots\":{\"references\":[{\"attributes\":{\"below\":[{\"id\":\"4993\"}],\"center\":[{\"id\":\"4996\"},{\"id\":\"4999\"}],\"left\":[{\"id\":\"4997\"}],\"renderers\":[{\"id\":\"5017\"}],\"title\":{\"id\":\"4983\"},\"toolbar\":{\"id\":\"5007\"},\"x_range\":{\"id\":\"4985\"},\"x_scale\":{\"id\":\"4989\"},\"y_range\":{\"id\":\"4987\"},\"y_scale\":{\"id\":\"4991\"}},\"id\":\"4982\",\"subtype\":\"Figure\",\"type\":\"Plot\"},{\"attributes\":{\"source\":{\"id\":\"4981\"}},\"id\":\"5018\",\"type\":\"CDSView\"},{\"attributes\":{},\"id\":\"4985\",\"type\":\"DataRange1d\"},{\"attributes\":{},\"id\":\"5187\",\"type\":\"BasicTickFormatter\"},{\"attributes\":{\"overlay\":{\"id\":\"5006\"}},\"id\":\"5002\",\"type\":\"BoxZoomTool\"},{\"attributes\":{\"factors\":[\"Russell Wilson\",\"Matt Ryan\",\"Josh Allen\",\"Ryan Tannehill\",\"Derek Carr\",\"Gardner Minshew II\",\"Joe Burrow\",\"Jared Goff\",\"Mitchell Trubisky\",\"Jimmy Garoppolo\"]},\"id\":\"4987\",\"type\":\"FactorRange\"},{\"attributes\":{},\"id\":\"5003\",\"type\":\"SaveTool\"},{\"attributes\":{\"text\":\"Top 10 Passers\"},\"id\":\"4983\",\"type\":\"Title\"},{\"attributes\":{},\"id\":\"4991\",\"type\":\"CategoricalScale\"},{\"attributes\":{},\"id\":\"5001\",\"type\":\"WheelZoomTool\"},{\"attributes\":{\"axis\":{\"id\":\"4997\"},\"dimension\":1,\"ticker\":null},\"id\":\"4999\",\"type\":\"Grid\"},{\"attributes\":{},\"id\":\"5005\",\"type\":\"HelpTool\"},{\"attributes\":{},\"id\":\"5004\",\"type\":\"ResetTool\"},{\"attributes\":{\"fill_alpha\":{\"value\":0.8},\"fill_color\":{\"value\":\"darkolivegreen\"},\"height\":{\"value\":0.5},\"line_alpha\":{\"value\":0.8},\"line_color\":{\"value\":\"darkolivegreen\"},\"right\":{\"field\":\"PassingTD\"},\"y\":{\"field\":\"Name\"}},\"id\":\"5015\",\"type\":\"HBar\"},{\"attributes\":{},\"id\":\"5000\",\"type\":\"PanTool\"},{\"attributes\":{},\"id\":\"5190\",\"type\":\"UnionRenderers\"},{\"attributes\":{},\"id\":\"4989\",\"type\":\"LinearScale\"},{\"attributes\":{\"axis_label\":\"Passing TDs\",\"formatter\":{\"id\":\"5187\"},\"ticker\":{\"id\":\"4994\"}},\"id\":\"4993\",\"type\":\"LinearAxis\"},{\"attributes\":{\"fill_alpha\":{\"value\":0.1},\"fill_color\":{\"value\":\"darkolivegreen\"},\"height\":{\"value\":0.5},\"line_alpha\":{\"value\":0.1},\"line_color\":{\"value\":\"darkolivegreen\"},\"right\":{\"field\":\"PassingTD\"},\"y\":{\"field\":\"Name\"}},\"id\":\"5016\",\"type\":\"HBar\"},{\"attributes\":{},\"id\":\"5191\",\"type\":\"Selection\"},{\"attributes\":{\"formatter\":{\"id\":\"5189\"},\"ticker\":{\"id\":\"4998\"}},\"id\":\"4997\",\"type\":\"CategoricalAxis\"},{\"attributes\":{\"active_drag\":\"auto\",\"active_inspect\":\"auto\",\"active_multi\":null,\"active_scroll\":\"auto\",\"active_tap\":\"auto\",\"tools\":[{\"id\":\"5000\"},{\"id\":\"5001\"},{\"id\":\"5002\"},{\"id\":\"5003\"},{\"id\":\"5004\"},{\"id\":\"5005\"}]},\"id\":\"5007\",\"type\":\"Toolbar\"},{\"attributes\":{},\"id\":\"5189\",\"type\":\"CategoricalTickFormatter\"},{\"attributes\":{\"data\":{\"Name\":[\"Russell Wilson\",\"Matt Ryan\",\"Josh Allen\",\"Ryan Tannehill\",\"Derek Carr\",\"Gardner Minshew II\",\"Joe Burrow\",\"Jared Goff\",\"Mitchell Trubisky\",\"Jimmy Garoppolo\"],\"PassingTD\":[5,4,4,4,3,3,3,3,2,2]},\"selected\":{\"id\":\"5191\"},\"selection_policy\":{\"id\":\"5190\"}},\"id\":\"4981\",\"type\":\"ColumnDataSource\"},{\"attributes\":{\"data_source\":{\"id\":\"4981\"},\"glyph\":{\"id\":\"5015\"},\"hover_glyph\":null,\"muted_glyph\":null,\"nonselection_glyph\":{\"id\":\"5016\"},\"selection_glyph\":null,\"view\":{\"id\":\"5018\"}},\"id\":\"5017\",\"type\":\"GlyphRenderer\"},{\"attributes\":{},\"id\":\"4994\",\"type\":\"BasicTicker\"},{\"attributes\":{\"bottom_units\":\"screen\",\"fill_alpha\":0.5,\"fill_color\":\"lightgrey\",\"left_units\":\"screen\",\"level\":\"overlay\",\"line_alpha\":1.0,\"line_color\":\"black\",\"line_dash\":[4,4],\"line_width\":2,\"right_units\":\"screen\",\"top_units\":\"screen\"},\"id\":\"5006\",\"type\":\"BoxAnnotation\"},{\"attributes\":{},\"id\":\"4998\",\"type\":\"CategoricalTicker\"},{\"attributes\":{\"axis\":{\"id\":\"4993\"},\"ticker\":null},\"id\":\"4996\",\"type\":\"Grid\"}],\"root_ids\":[\"4982\"]},\"title\":\"Bokeh Application\",\"version\":\"2.1.1\"}};\n  var render_items = [{\"docid\":\"93ea1583-cbe1-4d7d-8e43-92c086d7a544\",\"root_ids\":[\"4982\"],\"roots\":{\"4982\":\"2491086d-55f7-4b27-b115-f80c633c1ae4\"}}];\n  root.Bokeh.embed.embed_items_notebook(docs_json, render_items);\n\n  }\n  if (root.Bokeh !== undefined) {\n    embed_document(root);\n  } else {\n    var attempts = 0;\n    var timer = setInterval(function(root) {\n      if (root.Bokeh !== undefined) {\n        clearInterval(timer);\n        embed_document(root);\n      } else {\n        attempts++;\n        if (attempts > 100) {\n          clearInterval(timer);\n          console.log(\"Bokeh: ERROR: Unable to run BokehJS code because BokehJS library is missing\");\n        }\n      }\n    }, 10, root)\n  }\n})(window);",
      "application/vnd.bokehjs_exec.v0+json": ""
     },
     "metadata": {
      "application/vnd.bokehjs_exec.v0+json": {
       "id": "4982"
      }
     }
    }
   ],
   "source": [
    "# Plot - Top 10 Assists Overall \n",
    "\n",
    "top_10_assists_overall = pd.DataFrame(top_10_assists_overall)\n",
    "source = ColumnDataSource(top_10_assists_overall)\n",
    "\n",
    "names = source.data['Name'].tolist()\n",
    "p = figure(\n",
    "       y_range = names,\n",
    "       title='Top 10 Passers',\n",
    "       x_axis_label = 'Passing TDs',\n",
    "       y_axis_label = '',\n",
    ")\n",
    "\n",
    "p.hbar(y='Name', \n",
    "       right='PassingTD', \n",
    "       height=0.5, \n",
    "       color=\"darkolivegreen\",\n",
    "       alpha=0.8,\n",
    "       source=source\n",
    ")\n",
    "\n",
    "show(p)"
   ]
  },
  {
   "cell_type": "code",
   "execution_count": null,
   "metadata": {},
   "outputs": [],
   "source": []
  }
 ]
}